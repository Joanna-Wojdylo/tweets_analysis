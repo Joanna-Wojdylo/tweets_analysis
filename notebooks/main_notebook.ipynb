{
 "cells": [
  {
   "cell_type": "markdown",
   "metadata": {},
   "source": [
    "## Loading the data and taking a first look at it"
   ]
  },
  {
   "cell_type": "code",
   "execution_count": 1,
   "metadata": {},
   "outputs": [],
   "source": [
    "import pandas as pd\n",
    "import regex as re"
   ]
  },
  {
   "cell_type": "code",
   "execution_count": 2,
   "metadata": {},
   "outputs": [
    {
     "name": "stdout",
     "output_type": "stream",
     "text": [
      "Current working directory set to:\n"
     ]
    },
    {
     "data": {
      "text/plain": [
       "'C:\\\\Users\\\\Asia\\\\Documents\\\\Projekty\\\\tweets-analysis'"
      ]
     },
     "execution_count": 2,
     "metadata": {},
     "output_type": "execute_result"
    }
   ],
   "source": [
    "import os\n",
    "from os.path import expanduser\n",
    "home = expanduser(\"~\")\n",
    "os.chdir(os.path.join(home, 'Documents', 'Projekty', 'tweets-analysis'))\n",
    "print('Current working directory set to:')\n",
    "os.getcwd()"
   ]
  },
  {
   "cell_type": "code",
   "execution_count": 3,
   "metadata": {},
   "outputs": [
    {
     "name": "stderr",
     "output_type": "stream",
     "text": [
      "C:\\ProgramData\\Anaconda3\\envs\\tweets-analysis\\lib\\site-packages\\tqdm\\auto.py:22: TqdmWarning: IProgress not found. Please update jupyter and ipywidgets. See https://ipywidgets.readthedocs.io/en/stable/user_install.html\n",
      "  from .autonotebook import tqdm as notebook_tqdm\n"
     ]
    },
    {
     "name": "stdout",
     "output_type": "stream",
     "text": [
      "Device:  cuda\n"
     ]
    }
   ],
   "source": [
    "import torch\n",
    "device = torch.device(\"cuda\" if torch.cuda.is_available() else \"cpu\")\n",
    "print(\"Device: \",device)"
   ]
  },
  {
   "cell_type": "code",
   "execution_count": 4,
   "metadata": {},
   "outputs": [],
   "source": [
    "RAW_DIR = os.path.join(os.getcwd(), 'data', 'raw')"
   ]
  },
  {
   "cell_type": "code",
   "execution_count": 5,
   "metadata": {},
   "outputs": [],
   "source": [
    "tweets = pd.read_csv(os.path.join(RAW_DIR, 'tweety_rekrutacja.csv'))"
   ]
  },
  {
   "cell_type": "code",
   "execution_count": 6,
   "metadata": {},
   "outputs": [
    {
     "data": {
      "text/html": [
       "<div>\n",
       "<style scoped>\n",
       "    .dataframe tbody tr th:only-of-type {\n",
       "        vertical-align: middle;\n",
       "    }\n",
       "\n",
       "    .dataframe tbody tr th {\n",
       "        vertical-align: top;\n",
       "    }\n",
       "\n",
       "    .dataframe thead th {\n",
       "        text-align: right;\n",
       "    }\n",
       "</style>\n",
       "<table border=\"1\" class=\"dataframe\">\n",
       "  <thead>\n",
       "    <tr style=\"text-align: right;\">\n",
       "      <th></th>\n",
       "      <th>id</th>\n",
       "      <th>id_str</th>\n",
       "      <th>in_reply_to_status_id</th>\n",
       "      <th>in_reply_to_status_id_str</th>\n",
       "      <th>in_reply_to_user_id</th>\n",
       "      <th>in_reply_to_user_id_str</th>\n",
       "      <th>geo</th>\n",
       "      <th>retweet_count</th>\n",
       "      <th>favorite_count</th>\n",
       "      <th>quoted_status_id</th>\n",
       "      <th>quoted_status_id_str</th>\n",
       "      <th>quote_count</th>\n",
       "      <th>reply_count</th>\n",
       "    </tr>\n",
       "  </thead>\n",
       "  <tbody>\n",
       "    <tr>\n",
       "      <th>count</th>\n",
       "      <td>9.263800e+04</td>\n",
       "      <td>9.263800e+04</td>\n",
       "      <td>3.447900e+04</td>\n",
       "      <td>3.447900e+04</td>\n",
       "      <td>3.465500e+04</td>\n",
       "      <td>3.465500e+04</td>\n",
       "      <td>0.0</td>\n",
       "      <td>92638.000000</td>\n",
       "      <td>92638.000000</td>\n",
       "      <td>6.867000e+03</td>\n",
       "      <td>6.867000e+03</td>\n",
       "      <td>0.0</td>\n",
       "      <td>0.0</td>\n",
       "    </tr>\n",
       "    <tr>\n",
       "      <th>mean</th>\n",
       "      <td>1.579679e+18</td>\n",
       "      <td>1.579679e+18</td>\n",
       "      <td>1.579132e+18</td>\n",
       "      <td>1.579132e+18</td>\n",
       "      <td>5.661875e+17</td>\n",
       "      <td>5.661875e+17</td>\n",
       "      <td>NaN</td>\n",
       "      <td>73.162633</td>\n",
       "      <td>34.634783</td>\n",
       "      <td>1.575022e+18</td>\n",
       "      <td>1.575022e+18</td>\n",
       "      <td>NaN</td>\n",
       "      <td>NaN</td>\n",
       "    </tr>\n",
       "    <tr>\n",
       "      <th>std</th>\n",
       "      <td>7.527990e+15</td>\n",
       "      <td>7.527990e+15</td>\n",
       "      <td>8.071696e+15</td>\n",
       "      <td>8.071696e+15</td>\n",
       "      <td>6.109383e+17</td>\n",
       "      <td>6.109383e+17</td>\n",
       "      <td>NaN</td>\n",
       "      <td>178.928928</td>\n",
       "      <td>202.122725</td>\n",
       "      <td>4.407537e+16</td>\n",
       "      <td>4.407537e+16</td>\n",
       "      <td>NaN</td>\n",
       "      <td>NaN</td>\n",
       "    </tr>\n",
       "    <tr>\n",
       "      <th>min</th>\n",
       "      <td>1.565128e+18</td>\n",
       "      <td>1.565128e+18</td>\n",
       "      <td>1.326850e+18</td>\n",
       "      <td>1.326850e+18</td>\n",
       "      <td>1.652541e+06</td>\n",
       "      <td>1.652541e+06</td>\n",
       "      <td>NaN</td>\n",
       "      <td>0.000000</td>\n",
       "      <td>0.000000</td>\n",
       "      <td>1.067044e+17</td>\n",
       "      <td>1.067044e+17</td>\n",
       "      <td>NaN</td>\n",
       "      <td>NaN</td>\n",
       "    </tr>\n",
       "    <tr>\n",
       "      <th>25%</th>\n",
       "      <td>1.573912e+18</td>\n",
       "      <td>1.573912e+18</td>\n",
       "      <td>1.573369e+18</td>\n",
       "      <td>1.573369e+18</td>\n",
       "      <td>5.898206e+08</td>\n",
       "      <td>5.898206e+08</td>\n",
       "      <td>NaN</td>\n",
       "      <td>0.000000</td>\n",
       "      <td>0.000000</td>\n",
       "      <td>1.572270e+18</td>\n",
       "      <td>1.572270e+18</td>\n",
       "      <td>NaN</td>\n",
       "      <td>NaN</td>\n",
       "    </tr>\n",
       "    <tr>\n",
       "      <th>50%</th>\n",
       "      <td>1.579398e+18</td>\n",
       "      <td>1.579398e+18</td>\n",
       "      <td>1.578717e+18</td>\n",
       "      <td>1.578717e+18</td>\n",
       "      <td>4.230791e+09</td>\n",
       "      <td>4.230791e+09</td>\n",
       "      <td>NaN</td>\n",
       "      <td>2.000000</td>\n",
       "      <td>0.000000</td>\n",
       "      <td>1.578083e+18</td>\n",
       "      <td>1.578083e+18</td>\n",
       "      <td>NaN</td>\n",
       "      <td>NaN</td>\n",
       "    </tr>\n",
       "    <tr>\n",
       "      <th>75%</th>\n",
       "      <td>1.585848e+18</td>\n",
       "      <td>1.585848e+18</td>\n",
       "      <td>1.584846e+18</td>\n",
       "      <td>1.584846e+18</td>\n",
       "      <td>1.165397e+18</td>\n",
       "      <td>1.165397e+18</td>\n",
       "      <td>NaN</td>\n",
       "      <td>48.000000</td>\n",
       "      <td>5.000000</td>\n",
       "      <td>1.584073e+18</td>\n",
       "      <td>1.584073e+18</td>\n",
       "      <td>NaN</td>\n",
       "      <td>NaN</td>\n",
       "    </tr>\n",
       "    <tr>\n",
       "      <th>max</th>\n",
       "      <td>1.595005e+18</td>\n",
       "      <td>1.595005e+18</td>\n",
       "      <td>1.594295e+18</td>\n",
       "      <td>1.594295e+18</td>\n",
       "      <td>1.591702e+18</td>\n",
       "      <td>1.591702e+18</td>\n",
       "      <td>NaN</td>\n",
       "      <td>1633.000000</td>\n",
       "      <td>16430.000000</td>\n",
       "      <td>1.594114e+18</td>\n",
       "      <td>1.594114e+18</td>\n",
       "      <td>NaN</td>\n",
       "      <td>NaN</td>\n",
       "    </tr>\n",
       "  </tbody>\n",
       "</table>\n",
       "</div>"
      ],
      "text/plain": [
       "                 id        id_str  in_reply_to_status_id  \\\n",
       "count  9.263800e+04  9.263800e+04           3.447900e+04   \n",
       "mean   1.579679e+18  1.579679e+18           1.579132e+18   \n",
       "std    7.527990e+15  7.527990e+15           8.071696e+15   \n",
       "min    1.565128e+18  1.565128e+18           1.326850e+18   \n",
       "25%    1.573912e+18  1.573912e+18           1.573369e+18   \n",
       "50%    1.579398e+18  1.579398e+18           1.578717e+18   \n",
       "75%    1.585848e+18  1.585848e+18           1.584846e+18   \n",
       "max    1.595005e+18  1.595005e+18           1.594295e+18   \n",
       "\n",
       "       in_reply_to_status_id_str  in_reply_to_user_id  \\\n",
       "count               3.447900e+04         3.465500e+04   \n",
       "mean                1.579132e+18         5.661875e+17   \n",
       "std                 8.071696e+15         6.109383e+17   \n",
       "min                 1.326850e+18         1.652541e+06   \n",
       "25%                 1.573369e+18         5.898206e+08   \n",
       "50%                 1.578717e+18         4.230791e+09   \n",
       "75%                 1.584846e+18         1.165397e+18   \n",
       "max                 1.594295e+18         1.591702e+18   \n",
       "\n",
       "       in_reply_to_user_id_str  geo  retweet_count  favorite_count  \\\n",
       "count             3.465500e+04  0.0   92638.000000    92638.000000   \n",
       "mean              5.661875e+17  NaN      73.162633       34.634783   \n",
       "std               6.109383e+17  NaN     178.928928      202.122725   \n",
       "min               1.652541e+06  NaN       0.000000        0.000000   \n",
       "25%               5.898206e+08  NaN       0.000000        0.000000   \n",
       "50%               4.230791e+09  NaN       2.000000        0.000000   \n",
       "75%               1.165397e+18  NaN      48.000000        5.000000   \n",
       "max               1.591702e+18  NaN    1633.000000    16430.000000   \n",
       "\n",
       "       quoted_status_id  quoted_status_id_str  quote_count  reply_count  \n",
       "count      6.867000e+03          6.867000e+03          0.0          0.0  \n",
       "mean       1.575022e+18          1.575022e+18          NaN          NaN  \n",
       "std        4.407537e+16          4.407537e+16          NaN          NaN  \n",
       "min        1.067044e+17          1.067044e+17          NaN          NaN  \n",
       "25%        1.572270e+18          1.572270e+18          NaN          NaN  \n",
       "50%        1.578083e+18          1.578083e+18          NaN          NaN  \n",
       "75%        1.584073e+18          1.584073e+18          NaN          NaN  \n",
       "max        1.594114e+18          1.594114e+18          NaN          NaN  "
      ]
     },
     "execution_count": 6,
     "metadata": {},
     "output_type": "execute_result"
    }
   ],
   "source": [
    "tweets.describe()"
   ]
  },
  {
   "cell_type": "code",
   "execution_count": 7,
   "metadata": {},
   "outputs": [
    {
     "data": {
      "text/html": [
       "<div>\n",
       "<style scoped>\n",
       "    .dataframe tbody tr th:only-of-type {\n",
       "        vertical-align: middle;\n",
       "    }\n",
       "\n",
       "    .dataframe tbody tr th {\n",
       "        vertical-align: top;\n",
       "    }\n",
       "\n",
       "    .dataframe thead th {\n",
       "        text-align: right;\n",
       "    }\n",
       "</style>\n",
       "<table border=\"1\" class=\"dataframe\">\n",
       "  <thead>\n",
       "    <tr style=\"text-align: right;\">\n",
       "      <th></th>\n",
       "      <th>name</th>\n",
       "      <th>created_at</th>\n",
       "      <th>id</th>\n",
       "      <th>id_str</th>\n",
       "      <th>full_text</th>\n",
       "      <th>in_reply_to_status_id</th>\n",
       "      <th>in_reply_to_status_id_str</th>\n",
       "      <th>in_reply_to_user_id</th>\n",
       "      <th>in_reply_to_user_id_str</th>\n",
       "      <th>in_reply_to_screen_name</th>\n",
       "      <th>geo</th>\n",
       "      <th>is_quote_status</th>\n",
       "      <th>retweet_count</th>\n",
       "      <th>favorite_count</th>\n",
       "      <th>possibly_sensitive</th>\n",
       "      <th>lang</th>\n",
       "      <th>quoted_status_id</th>\n",
       "      <th>quoted_status_id_str</th>\n",
       "      <th>quote_count</th>\n",
       "      <th>reply_count</th>\n",
       "    </tr>\n",
       "  </thead>\n",
       "  <tbody>\n",
       "    <tr>\n",
       "      <th>0</th>\n",
       "      <td>ZZurecki</td>\n",
       "      <td>2022-10-21 22:33:45</td>\n",
       "      <td>1583587372913942528</td>\n",
       "      <td>1583587372913942528</td>\n",
       "      <td>@agnieszkawolsk9 @prezydentpl Konflikt atomowy...</td>\n",
       "      <td>1.583492e+18</td>\n",
       "      <td>1.583492e+18</td>\n",
       "      <td>7.885019e+17</td>\n",
       "      <td>7.885019e+17</td>\n",
       "      <td>agnieszkawolsk9</td>\n",
       "      <td>NaN</td>\n",
       "      <td>False</td>\n",
       "      <td>0</td>\n",
       "      <td>0</td>\n",
       "      <td>False</td>\n",
       "      <td>pl</td>\n",
       "      <td>NaN</td>\n",
       "      <td>NaN</td>\n",
       "      <td>NaN</td>\n",
       "      <td>NaN</td>\n",
       "    </tr>\n",
       "    <tr>\n",
       "      <th>1</th>\n",
       "      <td>ZZurecki</td>\n",
       "      <td>2022-10-21 14:50:47</td>\n",
       "      <td>1583470861306122240</td>\n",
       "      <td>1583470861306122240</td>\n",
       "      <td>Rozpoczeto juz sledztwo kryminalne dot. zakupu...</td>\n",
       "      <td>NaN</td>\n",
       "      <td>NaN</td>\n",
       "      <td>NaN</td>\n",
       "      <td>NaN</td>\n",
       "      <td>NaN</td>\n",
       "      <td>NaN</td>\n",
       "      <td>False</td>\n",
       "      <td>0</td>\n",
       "      <td>0</td>\n",
       "      <td>False</td>\n",
       "      <td>pl</td>\n",
       "      <td>NaN</td>\n",
       "      <td>NaN</td>\n",
       "      <td>NaN</td>\n",
       "      <td>NaN</td>\n",
       "    </tr>\n",
       "    <tr>\n",
       "      <th>2</th>\n",
       "      <td>ZZurecki</td>\n",
       "      <td>2022-09-20 21:35:32</td>\n",
       "      <td>1572338694815875072</td>\n",
       "      <td>1572338694815875072</td>\n",
       "      <td>RT @M7A7G7X: Włochy. San Patrignano: rachunek ...</td>\n",
       "      <td>NaN</td>\n",
       "      <td>NaN</td>\n",
       "      <td>NaN</td>\n",
       "      <td>NaN</td>\n",
       "      <td>NaN</td>\n",
       "      <td>NaN</td>\n",
       "      <td>False</td>\n",
       "      <td>500</td>\n",
       "      <td>0</td>\n",
       "      <td>NaN</td>\n",
       "      <td>pl</td>\n",
       "      <td>NaN</td>\n",
       "      <td>NaN</td>\n",
       "      <td>NaN</td>\n",
       "      <td>NaN</td>\n",
       "    </tr>\n",
       "    <tr>\n",
       "      <th>3</th>\n",
       "      <td>ZZurecki</td>\n",
       "      <td>2022-09-20 19:07:01</td>\n",
       "      <td>1572301318961741824</td>\n",
       "      <td>1572301318961741824</td>\n",
       "      <td>RT @cyfralab: PO 1989  zachowano urzędową cenę...</td>\n",
       "      <td>NaN</td>\n",
       "      <td>NaN</td>\n",
       "      <td>NaN</td>\n",
       "      <td>NaN</td>\n",
       "      <td>NaN</td>\n",
       "      <td>NaN</td>\n",
       "      <td>False</td>\n",
       "      <td>117</td>\n",
       "      <td>0</td>\n",
       "      <td>NaN</td>\n",
       "      <td>pl</td>\n",
       "      <td>NaN</td>\n",
       "      <td>NaN</td>\n",
       "      <td>NaN</td>\n",
       "      <td>NaN</td>\n",
       "    </tr>\n",
       "    <tr>\n",
       "      <th>4</th>\n",
       "      <td>ZZurecki</td>\n",
       "      <td>2022-09-20 08:37:16</td>\n",
       "      <td>1572142838527463424</td>\n",
       "      <td>1572142838527463424</td>\n",
       "      <td>RT @cyfralab: Mafia POmagdalenkowa w latach 19...</td>\n",
       "      <td>NaN</td>\n",
       "      <td>NaN</td>\n",
       "      <td>NaN</td>\n",
       "      <td>NaN</td>\n",
       "      <td>NaN</td>\n",
       "      <td>NaN</td>\n",
       "      <td>False</td>\n",
       "      <td>186</td>\n",
       "      <td>0</td>\n",
       "      <td>NaN</td>\n",
       "      <td>pl</td>\n",
       "      <td>NaN</td>\n",
       "      <td>NaN</td>\n",
       "      <td>NaN</td>\n",
       "      <td>NaN</td>\n",
       "    </tr>\n",
       "  </tbody>\n",
       "</table>\n",
       "</div>"
      ],
      "text/plain": [
       "       name           created_at                   id               id_str  \\\n",
       "0  ZZurecki  2022-10-21 22:33:45  1583587372913942528  1583587372913942528   \n",
       "1  ZZurecki  2022-10-21 14:50:47  1583470861306122240  1583470861306122240   \n",
       "2  ZZurecki  2022-09-20 21:35:32  1572338694815875072  1572338694815875072   \n",
       "3  ZZurecki  2022-09-20 19:07:01  1572301318961741824  1572301318961741824   \n",
       "4  ZZurecki  2022-09-20 08:37:16  1572142838527463424  1572142838527463424   \n",
       "\n",
       "                                           full_text  in_reply_to_status_id  \\\n",
       "0  @agnieszkawolsk9 @prezydentpl Konflikt atomowy...           1.583492e+18   \n",
       "1  Rozpoczeto juz sledztwo kryminalne dot. zakupu...                    NaN   \n",
       "2  RT @M7A7G7X: Włochy. San Patrignano: rachunek ...                    NaN   \n",
       "3  RT @cyfralab: PO 1989  zachowano urzędową cenę...                    NaN   \n",
       "4  RT @cyfralab: Mafia POmagdalenkowa w latach 19...                    NaN   \n",
       "\n",
       "   in_reply_to_status_id_str  in_reply_to_user_id  in_reply_to_user_id_str  \\\n",
       "0               1.583492e+18         7.885019e+17             7.885019e+17   \n",
       "1                        NaN                  NaN                      NaN   \n",
       "2                        NaN                  NaN                      NaN   \n",
       "3                        NaN                  NaN                      NaN   \n",
       "4                        NaN                  NaN                      NaN   \n",
       "\n",
       "  in_reply_to_screen_name  geo  is_quote_status  retweet_count  \\\n",
       "0         agnieszkawolsk9  NaN            False              0   \n",
       "1                     NaN  NaN            False              0   \n",
       "2                     NaN  NaN            False            500   \n",
       "3                     NaN  NaN            False            117   \n",
       "4                     NaN  NaN            False            186   \n",
       "\n",
       "   favorite_count possibly_sensitive lang  quoted_status_id  \\\n",
       "0               0              False   pl               NaN   \n",
       "1               0              False   pl               NaN   \n",
       "2               0                NaN   pl               NaN   \n",
       "3               0                NaN   pl               NaN   \n",
       "4               0                NaN   pl               NaN   \n",
       "\n",
       "   quoted_status_id_str  quote_count  reply_count  \n",
       "0                   NaN          NaN          NaN  \n",
       "1                   NaN          NaN          NaN  \n",
       "2                   NaN          NaN          NaN  \n",
       "3                   NaN          NaN          NaN  \n",
       "4                   NaN          NaN          NaN  "
      ]
     },
     "execution_count": 7,
     "metadata": {},
     "output_type": "execute_result"
    }
   ],
   "source": [
    "tweets.head()"
   ]
  },
  {
   "cell_type": "markdown",
   "metadata": {},
   "source": [
    " ## 1. What topics can we see in the texts (what are people writing about)?"
   ]
  },
  {
   "cell_type": "markdown",
   "metadata": {},
   "source": [
    "I decided to use [BERTopic](https://github.com/MaartenGr/BERTopic) model based on [BERTopic: Neural topic modeling with a class-based TF-IDF procedure](https://arxiv.org/abs/2203.05794) work by Maarten Grootendorst. As the author says: BERTopic is a topic modeling technique that leverages BERT embeddings and a class-based TF-IDF to create dense clusters allowing for easily interpretable topics whilst keeping important words in the topic descriptions."
   ]
  },
  {
   "cell_type": "code",
   "execution_count": 8,
   "metadata": {},
   "outputs": [],
   "source": [
    "from bertopic import BERTopic"
   ]
  },
  {
   "cell_type": "markdown",
   "metadata": {},
   "source": [
    "We only remove URLs from tweets because the model author recommends not preprocessing the input data, as this would interfere with the pipelining of BERT embedding."
   ]
  },
  {
   "cell_type": "code",
   "execution_count": 9,
   "metadata": {},
   "outputs": [],
   "source": [
    "def remove_url_from_text(text:str) -> str:\n",
    "    '''\n",
    "    Cleans text from urls\n",
    "    '''\n",
    "    text = re.sub(r'http\\S+', '', text)\n",
    "    return text"
   ]
  },
  {
   "cell_type": "code",
   "execution_count": 10,
   "metadata": {},
   "outputs": [],
   "source": [
    "# Create a new column with url free tweets\n",
    "tweets['url_free_tweets'] = tweets['full_text'].apply(remove_url_from_text)"
   ]
  },
  {
   "cell_type": "markdown",
   "metadata": {},
   "source": [
    "Adding polish stopwords will improve keeping important words in topic descriptions instead of common, but not important words."
   ]
  },
  {
   "cell_type": "code",
   "execution_count": 26,
   "metadata": {},
   "outputs": [],
   "source": [
    "from sklearn.feature_extraction.text import CountVectorizer\n",
    "list_of_polish_stopwords =[\"rt\",\"na\", \"bo\", \"to\", \"do\", \"z\", \"w\", \"nie\", \"co\", \"ma\", \"się\", \"że\", \"jak\", \"za\", \"żeby\", \"ci\", \"cię\", \"ale\", \"po\"]\n",
    "vectorizer_model = CountVectorizer(stop_words=list_of_polish_stopwords, ngram_range=(1,1), min_df=5)"
   ]
  },
  {
   "cell_type": "markdown",
   "metadata": {},
   "source": [
    "BERTopic class takes list of strings as an input, let's get list of values of our URL-free tweets column."
   ]
  },
  {
   "cell_type": "code",
   "execution_count": 27,
   "metadata": {},
   "outputs": [],
   "source": [
    "docs = list(tweets['url_free_tweets'].values)"
   ]
  },
  {
   "cell_type": "markdown",
   "metadata": {},
   "source": [
    "Initialize BERTopic model for polish language and fit it to the data."
   ]
  },
  {
   "cell_type": "code",
   "execution_count": 28,
   "metadata": {},
   "outputs": [
    {
     "name": "stderr",
     "output_type": "stream",
     "text": [
      "Batches: 100%|█████████████████████████████████████████████████████████████████████████████████████████████████████████████████████████████████████| 2895/2895 [08:39<00:00,  5.58it/s]\n",
      "2023-01-24 18:38:59,825 - BERTopic - Transformed documents to Embeddings\n",
      "2023-01-24 18:41:50,345 - BERTopic - Reduced dimensionality\n",
      "2023-01-24 18:42:11,641 - BERTopic - Clustered reduced embeddings\n",
      "2023-01-24 18:42:40,865 - BERTopic - Reduced number of topics from 1567 to 37\n"
     ]
    }
   ],
   "source": [
    "model = BERTopic(language=\"polish\", calculate_probabilities=False, verbose=True, vectorizer_model=vectorizer_model, nr_topics=\"auto\")\n",
    "topics, probabilities = model.fit_transform(docs)"
   ]
  },
  {
   "cell_type": "markdown",
   "metadata": {},
   "source": [
    "Assign topics to a new column in the data."
   ]
  },
  {
   "cell_type": "code",
   "execution_count": 29,
   "metadata": {},
   "outputs": [],
   "source": [
    "# tweets[\"topic\"] = None\n",
    "tweets[\"topic\"]= topics"
   ]
  },
  {
   "cell_type": "markdown",
   "metadata": {},
   "source": [
    "### Let's take a look at the topics obtained and their counts\n",
    "We received X different subjects with different numbers of subjects.\n",
    "Topic -1  refers to all outliers which do not have a topic assigned (forcing documents in a topic could lead to poor performance), so we will ignore it in further analysis.\n"
   ]
  },
  {
   "cell_type": "code",
   "execution_count": 30,
   "metadata": {},
   "outputs": [
    {
     "data": {
      "text/html": [
       "<div>\n",
       "<style scoped>\n",
       "    .dataframe tbody tr th:only-of-type {\n",
       "        vertical-align: middle;\n",
       "    }\n",
       "\n",
       "    .dataframe tbody tr th {\n",
       "        vertical-align: top;\n",
       "    }\n",
       "\n",
       "    .dataframe thead th {\n",
       "        text-align: right;\n",
       "    }\n",
       "</style>\n",
       "<table border=\"1\" class=\"dataframe\">\n",
       "  <thead>\n",
       "    <tr style=\"text-align: right;\">\n",
       "      <th></th>\n",
       "      <th>Topic</th>\n",
       "      <th>Count</th>\n",
       "    </tr>\n",
       "  </thead>\n",
       "  <tbody>\n",
       "    <tr>\n",
       "      <th>0</th>\n",
       "      <td>0</td>\n",
       "      <td>47996</td>\n",
       "    </tr>\n",
       "    <tr>\n",
       "      <th>1</th>\n",
       "      <td>-1</td>\n",
       "      <td>42502</td>\n",
       "    </tr>\n",
       "    <tr>\n",
       "      <th>2</th>\n",
       "      <td>1</td>\n",
       "      <td>408</td>\n",
       "    </tr>\n",
       "    <tr>\n",
       "      <th>3</th>\n",
       "      <td>2</td>\n",
       "      <td>139</td>\n",
       "    </tr>\n",
       "    <tr>\n",
       "      <th>4</th>\n",
       "      <td>3</td>\n",
       "      <td>119</td>\n",
       "    </tr>\n",
       "    <tr>\n",
       "      <th>5</th>\n",
       "      <td>4</td>\n",
       "      <td>119</td>\n",
       "    </tr>\n",
       "    <tr>\n",
       "      <th>6</th>\n",
       "      <td>5</td>\n",
       "      <td>113</td>\n",
       "    </tr>\n",
       "    <tr>\n",
       "      <th>7</th>\n",
       "      <td>6</td>\n",
       "      <td>112</td>\n",
       "    </tr>\n",
       "    <tr>\n",
       "      <th>8</th>\n",
       "      <td>7</td>\n",
       "      <td>88</td>\n",
       "    </tr>\n",
       "    <tr>\n",
       "      <th>9</th>\n",
       "      <td>8</td>\n",
       "      <td>81</td>\n",
       "    </tr>\n",
       "    <tr>\n",
       "      <th>10</th>\n",
       "      <td>9</td>\n",
       "      <td>76</td>\n",
       "    </tr>\n",
       "    <tr>\n",
       "      <th>11</th>\n",
       "      <td>10</td>\n",
       "      <td>69</td>\n",
       "    </tr>\n",
       "    <tr>\n",
       "      <th>12</th>\n",
       "      <td>11</td>\n",
       "      <td>67</td>\n",
       "    </tr>\n",
       "    <tr>\n",
       "      <th>13</th>\n",
       "      <td>12</td>\n",
       "      <td>62</td>\n",
       "    </tr>\n",
       "    <tr>\n",
       "      <th>14</th>\n",
       "      <td>13</td>\n",
       "      <td>58</td>\n",
       "    </tr>\n",
       "    <tr>\n",
       "      <th>15</th>\n",
       "      <td>14</td>\n",
       "      <td>55</td>\n",
       "    </tr>\n",
       "    <tr>\n",
       "      <th>16</th>\n",
       "      <td>15</td>\n",
       "      <td>52</td>\n",
       "    </tr>\n",
       "    <tr>\n",
       "      <th>17</th>\n",
       "      <td>16</td>\n",
       "      <td>50</td>\n",
       "    </tr>\n",
       "    <tr>\n",
       "      <th>18</th>\n",
       "      <td>17</td>\n",
       "      <td>45</td>\n",
       "    </tr>\n",
       "    <tr>\n",
       "      <th>19</th>\n",
       "      <td>18</td>\n",
       "      <td>38</td>\n",
       "    </tr>\n",
       "    <tr>\n",
       "      <th>20</th>\n",
       "      <td>19</td>\n",
       "      <td>38</td>\n",
       "    </tr>\n",
       "    <tr>\n",
       "      <th>21</th>\n",
       "      <td>20</td>\n",
       "      <td>36</td>\n",
       "    </tr>\n",
       "    <tr>\n",
       "      <th>22</th>\n",
       "      <td>21</td>\n",
       "      <td>31</td>\n",
       "    </tr>\n",
       "    <tr>\n",
       "      <th>23</th>\n",
       "      <td>22</td>\n",
       "      <td>30</td>\n",
       "    </tr>\n",
       "    <tr>\n",
       "      <th>24</th>\n",
       "      <td>23</td>\n",
       "      <td>28</td>\n",
       "    </tr>\n",
       "    <tr>\n",
       "      <th>25</th>\n",
       "      <td>24</td>\n",
       "      <td>27</td>\n",
       "    </tr>\n",
       "    <tr>\n",
       "      <th>26</th>\n",
       "      <td>25</td>\n",
       "      <td>26</td>\n",
       "    </tr>\n",
       "    <tr>\n",
       "      <th>27</th>\n",
       "      <td>26</td>\n",
       "      <td>25</td>\n",
       "    </tr>\n",
       "    <tr>\n",
       "      <th>28</th>\n",
       "      <td>27</td>\n",
       "      <td>23</td>\n",
       "    </tr>\n",
       "    <tr>\n",
       "      <th>29</th>\n",
       "      <td>28</td>\n",
       "      <td>22</td>\n",
       "    </tr>\n",
       "    <tr>\n",
       "      <th>30</th>\n",
       "      <td>29</td>\n",
       "      <td>19</td>\n",
       "    </tr>\n",
       "    <tr>\n",
       "      <th>31</th>\n",
       "      <td>30</td>\n",
       "      <td>18</td>\n",
       "    </tr>\n",
       "    <tr>\n",
       "      <th>32</th>\n",
       "      <td>31</td>\n",
       "      <td>15</td>\n",
       "    </tr>\n",
       "    <tr>\n",
       "      <th>33</th>\n",
       "      <td>32</td>\n",
       "      <td>15</td>\n",
       "    </tr>\n",
       "    <tr>\n",
       "      <th>34</th>\n",
       "      <td>33</td>\n",
       "      <td>13</td>\n",
       "    </tr>\n",
       "    <tr>\n",
       "      <th>35</th>\n",
       "      <td>34</td>\n",
       "      <td>12</td>\n",
       "    </tr>\n",
       "    <tr>\n",
       "      <th>36</th>\n",
       "      <td>35</td>\n",
       "      <td>11</td>\n",
       "    </tr>\n",
       "  </tbody>\n",
       "</table>\n",
       "</div>"
      ],
      "text/plain": [
       "    Topic  Count\n",
       "0       0  47996\n",
       "1      -1  42502\n",
       "2       1    408\n",
       "3       2    139\n",
       "4       3    119\n",
       "5       4    119\n",
       "6       5    113\n",
       "7       6    112\n",
       "8       7     88\n",
       "9       8     81\n",
       "10      9     76\n",
       "11     10     69\n",
       "12     11     67\n",
       "13     12     62\n",
       "14     13     58\n",
       "15     14     55\n",
       "16     15     52\n",
       "17     16     50\n",
       "18     17     45\n",
       "19     18     38\n",
       "20     19     38\n",
       "21     20     36\n",
       "22     21     31\n",
       "23     22     30\n",
       "24     23     28\n",
       "25     24     27\n",
       "26     25     26\n",
       "27     26     25\n",
       "28     27     23\n",
       "29     28     22\n",
       "30     29     19\n",
       "31     30     18\n",
       "32     31     15\n",
       "33     32     15\n",
       "34     33     13\n",
       "35     34     12\n",
       "36     35     11"
      ]
     },
     "execution_count": 30,
     "metadata": {},
     "output_type": "execute_result"
    }
   ],
   "source": [
    "model.get_topic_freq()"
   ]
  },
  {
   "cell_type": "markdown",
   "metadata": {},
   "source": [
    "A closer look on the words describing most popular group."
   ]
  },
  {
   "cell_type": "code",
   "execution_count": 31,
   "metadata": {},
   "outputs": [
    {
     "data": {
      "text/plain": [
       "[('węgla', 0.019248160656274396),\n",
       " ('pis', 0.018057810036926053),\n",
       " ('jest', 0.016832226472532227),\n",
       " ('węgiel', 0.015731737297177046),\n",
       " ('dla', 0.015364439214188709),\n",
       " ('inflacja', 0.015285331316183445),\n",
       " ('ceny', 0.015027468125025163),\n",
       " ('gazu', 0.015020151262549417),\n",
       " ('od', 0.013958075631508178),\n",
       " ('cen', 0.013681599394084906)]"
      ]
     },
     "execution_count": 31,
     "metadata": {},
     "output_type": "execute_result"
    }
   ],
   "source": [
    "model.get_topic(0)"
   ]
  },
  {
   "cell_type": "markdown",
   "metadata": {},
   "source": [
    "### Visualize topics, their sizes, and their corresponding words\n",
    "\n",
    "This visualization is highly inspired by LDAvis, a great visualization technique typically reserved for LDA."
   ]
  },
  {
   "cell_type": "code",
   "execution_count": 32,
   "metadata": {},
   "outputs": [
    {
     "data": {
      "application/vnd.plotly.v1+json": {
       "config": {
        "plotlyServerURL": "https://plot.ly"
       },
       "data": [
        {
         "customdata": [
          [
           0,
           "węgla | pis | jest | węgiel | dla",
           47996
          ],
          [
           1,
           "zimę | zimy | węgla | będzie | zimą",
           408
          ],
          [
           2,
           "podatek | podatków | podatki | inflacji | inflacja",
           139
          ],
          [
           3,
           "turcji | 80 | inflacja | ekonomiczne | październiku",
           119
          ],
          [
           4,
           "bezrobocie | inflację | 17 | inflacji | johnsmiths74",
           119
          ],
          [
           5,
           "ropy | opec | usa | naftowej | wydobycia",
           113
          ],
          [
           6,
           "obligacje | inflacji | inflacją | kredyt | banki",
           112
          ],
          [
           7,
           "małe | mefistofelleess | mini | rafalhubert | duże",
           88
          ],
          [
           8,
           "tvp_info | tvp | inflacji | inflacja | inflację",
           81
          ],
          [
           9,
           "podnieść | ceny | cena | jesteśmy | slawomirmentzen",
           76
          ],
          [
           10,
           "fishing_fever69 | zabraknie | żywność | niego | stać",
           69
          ],
          [
           11,
           "turcji | gazu | europy | gaz | centrum",
           67
          ],
          [
           12,
           "kosmos | ceny | cena | teraz | ta",
           62
          ],
          [
           13,
           "drewna | drewno | ceny | przeciwko | rosną",
           58
          ],
          [
           14,
           "setki | galopująca | socjal | ukrainy | wojna",
           55
          ],
          [
           15,
           "chiny | chin | chinach | ropy | są",
           52
          ],
          [
           16,
           "cukru | cukier | cena | 50 | wzrosła",
           50
          ],
          [
           17,
           "dzieci | kobiety | węglowy | inflacja | broń",
           45
          ],
          [
           18,
           "ceny | cen | cena | telewizja | tanich",
           38
          ],
          [
           19,
           "masła | albo | cena | sklepie | miroka30045644",
           38
          ],
          [
           20,
           "ropy | ropę | kraje | rosja | chin",
           36
          ],
          [
           21,
           "piechocinski | cena | ceny | rynek | kg",
           31
          ],
          [
           22,
           "recesji | recesję | kwartałów | budżetowe | budżetu",
           30
          ],
          [
           23,
           "węglowy | śladu | jaki | węglowego | szczyt",
           28
          ],
          [
           24,
           "glapiński | spadnie | inflacja | wakacje | spadać",
           27
          ],
          [
           25,
           "ceny | gus | zdrożało | średnia | rosną",
           26
          ],
          [
           26,
           "inflacja | poprzednio | proc | wynosi | prognoza",
           25
          ],
          [
           27,
           "prąd | miał | jaka | między | końca",
           23
          ],
          [
           28,
           "koszty | ceny | no | stosuje | razy",
           22
          ],
          [
           29,
           "powodem | 20 | ludzi | energii | ceny",
           19
          ],
          [
           30,
           "największą | podwyżkę | temu | znacznie | przy",
           18
          ],
          [
           31,
           "coolfonpl | robi | inflacja | pieniądza | bardziej",
           15
          ],
          [
           32,
           "cena | latach | nowego | 30 | koszt",
           15
          ],
          [
           33,
           "groszy | ceny | kg | skupu | tańsze",
           13
          ],
          [
           34,
           "czy | już | węgiel | jest | weekend",
           12
          ],
          [
           35,
           "kobiety | czasy | węgla |  | ",
           11
          ]
         ],
         "hovertemplate": "<b>Topic %{customdata[0]}</b><br>Words: %{customdata[1]}<br>Size: %{customdata[2]}",
         "legendgroup": "",
         "marker": {
          "color": "#ffcc99",
          "line": {
           "color": "#cc6600",
           "width": 2
          },
          "size": [
           47996,
           408,
           139,
           119,
           119,
           113,
           112,
           88,
           81,
           76,
           69,
           67,
           62,
           58,
           55,
           52,
           50,
           45,
           38,
           38,
           36,
           31,
           30,
           28,
           27,
           26,
           25,
           23,
           22,
           19,
           18,
           15,
           15,
           13,
           12,
           11
          ],
          "sizemode": "area",
          "sizeref": 29.9975,
          "symbol": "circle"
         },
         "mode": "markers",
         "name": "",
         "orientation": "v",
         "showlegend": false,
         "type": "scatter",
         "x": [
          4.549820899963379,
          5.178508281707764,
          6.0497145652771,
          5.309366703033447,
          6.1126604080200195,
          3.9852144718170166,
          4.950716495513916,
          5.330931186676025,
          5.055996894836426,
          4.011765480041504,
          5.961517810821533,
          6.406883716583252,
          5.735091686248779,
          6.632428169250488,
          4.741971969604492,
          4.655141353607178,
          4.655465126037598,
          5.350675106048584,
          5.678746223449707,
          4.9141693115234375,
          3.8501687049865723,
          4.705350875854492,
          4.31935977935791,
          5.319522380828857,
          5.978448867797852,
          4.752795696258545,
          6.3039021492004395,
          1.7048271894454956,
          4.93524169921875,
          4.947343349456787,
          5.494755744934082,
          6.073801040649414,
          4.960845470428467,
          4.57837438583374,
          1.6161127090454102,
          5.1703901290893555
         ],
         "xaxis": "x",
         "y": [
          4.576964378356934,
          2.9286270141601562,
          3.1429991722106934,
          3.845156669616699,
          3.6357991695404053,
          5.616402626037598,
          5.478124141693115,
          5.007302761077881,
          4.321549415588379,
          3.3542256355285645,
          5.514638423919678,
          4.766098499298096,
          4.714208602905273,
          3.8706462383270264,
          3.317779779434204,
          3.6726465225219727,
          4.07952880859375,
          4.274934768676758,
          2.97633957862854,
          4.755593776702881,
          5.5759687423706055,
          2.7243480682373047,
          4.3860344886779785,
          3.3151063919067383,
          1.0060968399047852,
          10.119153022766113,
          4.290473937988281,
          3.5853075981140137,
          10.636696815490723,
          10.699392318725586,
          3.767756223678589,
          0.885807454586029,
          3.8640220165252686,
          9.96293830871582,
          3.5274078845977783,
          10.895099639892578
         ],
         "yaxis": "y"
        }
       ],
       "layout": {
        "annotations": [
         {
          "showarrow": false,
          "text": "D1",
          "x": 1.3736958026885986,
          "y": 6.641150461137295,
          "yshift": 10
         },
         {
          "showarrow": false,
          "text": "D2",
          "x": 4.50049409866333,
          "xshift": 10,
          "y": 12.529364585876465
         }
        ],
        "height": 650,
        "hoverlabel": {
         "bgcolor": "white",
         "font": {
          "family": "Rockwell",
          "size": 16
         }
        },
        "legend": {
         "itemsizing": "constant",
         "tracegroupgap": 0
        },
        "margin": {
         "t": 60
        },
        "shapes": [
         {
          "line": {
           "color": "#CFD8DC",
           "width": 2
          },
          "type": "line",
          "x0": 4.50049409866333,
          "x1": 4.50049409866333,
          "y0": 0.7529363363981247,
          "y1": 12.529364585876465
         },
         {
          "line": {
           "color": "#9E9E9E",
           "width": 2
          },
          "type": "line",
          "x0": 1.3736958026885986,
          "x1": 7.6272923946380615,
          "y0": 6.641150461137295,
          "y1": 6.641150461137295
         }
        ],
        "sliders": [
         {
          "active": 0,
          "pad": {
           "t": 50
          },
          "steps": [
           {
            "args": [
             {
              "marker.color": [
               [
                "#cc6600",
                "#ffcc99",
                "#ffcc99",
                "#ffcc99",
                "#ffcc99",
                "#ffcc99",
                "#ffcc99",
                "#ffcc99",
                "#ffcc99",
                "#ffcc99",
                "#ffcc99",
                "#ffcc99",
                "#ffcc99",
                "#ffcc99",
                "#ffcc99",
                "#ffcc99",
                "#ffcc99",
                "#ffcc99",
                "#ffcc99",
                "#ffcc99",
                "#ffcc99",
                "#ffcc99",
                "#ffcc99",
                "#ffcc99",
                "#ffcc99",
                "#ffcc99",
                "#ffcc99",
                "#ffcc99",
                "#ffcc99",
                "#ffcc99",
                "#ffcc99",
                "#ffcc99",
                "#ffcc99",
                "#ffcc99",
                "#ffcc99",
                "#ffcc99"
               ]
              ]
             }
            ],
            "label": "Topic 0",
            "method": "update"
           },
           {
            "args": [
             {
              "marker.color": [
               [
                "#ffcc99",
                "#cc6600",
                "#ffcc99",
                "#ffcc99",
                "#ffcc99",
                "#ffcc99",
                "#ffcc99",
                "#ffcc99",
                "#ffcc99",
                "#ffcc99",
                "#ffcc99",
                "#ffcc99",
                "#ffcc99",
                "#ffcc99",
                "#ffcc99",
                "#ffcc99",
                "#ffcc99",
                "#ffcc99",
                "#ffcc99",
                "#ffcc99",
                "#ffcc99",
                "#ffcc99",
                "#ffcc99",
                "#ffcc99",
                "#ffcc99",
                "#ffcc99",
                "#ffcc99",
                "#ffcc99",
                "#ffcc99",
                "#ffcc99",
                "#ffcc99",
                "#ffcc99",
                "#ffcc99",
                "#ffcc99",
                "#ffcc99",
                "#ffcc99"
               ]
              ]
             }
            ],
            "label": "Topic 1",
            "method": "update"
           },
           {
            "args": [
             {
              "marker.color": [
               [
                "#ffcc99",
                "#ffcc99",
                "#cc6600",
                "#ffcc99",
                "#ffcc99",
                "#ffcc99",
                "#ffcc99",
                "#ffcc99",
                "#ffcc99",
                "#ffcc99",
                "#ffcc99",
                "#ffcc99",
                "#ffcc99",
                "#ffcc99",
                "#ffcc99",
                "#ffcc99",
                "#ffcc99",
                "#ffcc99",
                "#ffcc99",
                "#ffcc99",
                "#ffcc99",
                "#ffcc99",
                "#ffcc99",
                "#ffcc99",
                "#ffcc99",
                "#ffcc99",
                "#ffcc99",
                "#ffcc99",
                "#ffcc99",
                "#ffcc99",
                "#ffcc99",
                "#ffcc99",
                "#ffcc99",
                "#ffcc99",
                "#ffcc99",
                "#ffcc99"
               ]
              ]
             }
            ],
            "label": "Topic 2",
            "method": "update"
           },
           {
            "args": [
             {
              "marker.color": [
               [
                "#ffcc99",
                "#ffcc99",
                "#ffcc99",
                "#cc6600",
                "#ffcc99",
                "#ffcc99",
                "#ffcc99",
                "#ffcc99",
                "#ffcc99",
                "#ffcc99",
                "#ffcc99",
                "#ffcc99",
                "#ffcc99",
                "#ffcc99",
                "#ffcc99",
                "#ffcc99",
                "#ffcc99",
                "#ffcc99",
                "#ffcc99",
                "#ffcc99",
                "#ffcc99",
                "#ffcc99",
                "#ffcc99",
                "#ffcc99",
                "#ffcc99",
                "#ffcc99",
                "#ffcc99",
                "#ffcc99",
                "#ffcc99",
                "#ffcc99",
                "#ffcc99",
                "#ffcc99",
                "#ffcc99",
                "#ffcc99",
                "#ffcc99",
                "#ffcc99"
               ]
              ]
             }
            ],
            "label": "Topic 3",
            "method": "update"
           },
           {
            "args": [
             {
              "marker.color": [
               [
                "#ffcc99",
                "#ffcc99",
                "#ffcc99",
                "#ffcc99",
                "#cc6600",
                "#ffcc99",
                "#ffcc99",
                "#ffcc99",
                "#ffcc99",
                "#ffcc99",
                "#ffcc99",
                "#ffcc99",
                "#ffcc99",
                "#ffcc99",
                "#ffcc99",
                "#ffcc99",
                "#ffcc99",
                "#ffcc99",
                "#ffcc99",
                "#ffcc99",
                "#ffcc99",
                "#ffcc99",
                "#ffcc99",
                "#ffcc99",
                "#ffcc99",
                "#ffcc99",
                "#ffcc99",
                "#ffcc99",
                "#ffcc99",
                "#ffcc99",
                "#ffcc99",
                "#ffcc99",
                "#ffcc99",
                "#ffcc99",
                "#ffcc99",
                "#ffcc99"
               ]
              ]
             }
            ],
            "label": "Topic 4",
            "method": "update"
           },
           {
            "args": [
             {
              "marker.color": [
               [
                "#ffcc99",
                "#ffcc99",
                "#ffcc99",
                "#ffcc99",
                "#ffcc99",
                "#cc6600",
                "#ffcc99",
                "#ffcc99",
                "#ffcc99",
                "#ffcc99",
                "#ffcc99",
                "#ffcc99",
                "#ffcc99",
                "#ffcc99",
                "#ffcc99",
                "#ffcc99",
                "#ffcc99",
                "#ffcc99",
                "#ffcc99",
                "#ffcc99",
                "#ffcc99",
                "#ffcc99",
                "#ffcc99",
                "#ffcc99",
                "#ffcc99",
                "#ffcc99",
                "#ffcc99",
                "#ffcc99",
                "#ffcc99",
                "#ffcc99",
                "#ffcc99",
                "#ffcc99",
                "#ffcc99",
                "#ffcc99",
                "#ffcc99",
                "#ffcc99"
               ]
              ]
             }
            ],
            "label": "Topic 5",
            "method": "update"
           },
           {
            "args": [
             {
              "marker.color": [
               [
                "#ffcc99",
                "#ffcc99",
                "#ffcc99",
                "#ffcc99",
                "#ffcc99",
                "#ffcc99",
                "#cc6600",
                "#ffcc99",
                "#ffcc99",
                "#ffcc99",
                "#ffcc99",
                "#ffcc99",
                "#ffcc99",
                "#ffcc99",
                "#ffcc99",
                "#ffcc99",
                "#ffcc99",
                "#ffcc99",
                "#ffcc99",
                "#ffcc99",
                "#ffcc99",
                "#ffcc99",
                "#ffcc99",
                "#ffcc99",
                "#ffcc99",
                "#ffcc99",
                "#ffcc99",
                "#ffcc99",
                "#ffcc99",
                "#ffcc99",
                "#ffcc99",
                "#ffcc99",
                "#ffcc99",
                "#ffcc99",
                "#ffcc99",
                "#ffcc99"
               ]
              ]
             }
            ],
            "label": "Topic 6",
            "method": "update"
           },
           {
            "args": [
             {
              "marker.color": [
               [
                "#ffcc99",
                "#ffcc99",
                "#ffcc99",
                "#ffcc99",
                "#ffcc99",
                "#ffcc99",
                "#ffcc99",
                "#cc6600",
                "#ffcc99",
                "#ffcc99",
                "#ffcc99",
                "#ffcc99",
                "#ffcc99",
                "#ffcc99",
                "#ffcc99",
                "#ffcc99",
                "#ffcc99",
                "#ffcc99",
                "#ffcc99",
                "#ffcc99",
                "#ffcc99",
                "#ffcc99",
                "#ffcc99",
                "#ffcc99",
                "#ffcc99",
                "#ffcc99",
                "#ffcc99",
                "#ffcc99",
                "#ffcc99",
                "#ffcc99",
                "#ffcc99",
                "#ffcc99",
                "#ffcc99",
                "#ffcc99",
                "#ffcc99",
                "#ffcc99"
               ]
              ]
             }
            ],
            "label": "Topic 7",
            "method": "update"
           },
           {
            "args": [
             {
              "marker.color": [
               [
                "#ffcc99",
                "#ffcc99",
                "#ffcc99",
                "#ffcc99",
                "#ffcc99",
                "#ffcc99",
                "#ffcc99",
                "#ffcc99",
                "#cc6600",
                "#ffcc99",
                "#ffcc99",
                "#ffcc99",
                "#ffcc99",
                "#ffcc99",
                "#ffcc99",
                "#ffcc99",
                "#ffcc99",
                "#ffcc99",
                "#ffcc99",
                "#ffcc99",
                "#ffcc99",
                "#ffcc99",
                "#ffcc99",
                "#ffcc99",
                "#ffcc99",
                "#ffcc99",
                "#ffcc99",
                "#ffcc99",
                "#ffcc99",
                "#ffcc99",
                "#ffcc99",
                "#ffcc99",
                "#ffcc99",
                "#ffcc99",
                "#ffcc99",
                "#ffcc99"
               ]
              ]
             }
            ],
            "label": "Topic 8",
            "method": "update"
           },
           {
            "args": [
             {
              "marker.color": [
               [
                "#ffcc99",
                "#ffcc99",
                "#ffcc99",
                "#ffcc99",
                "#ffcc99",
                "#ffcc99",
                "#ffcc99",
                "#ffcc99",
                "#ffcc99",
                "#cc6600",
                "#ffcc99",
                "#ffcc99",
                "#ffcc99",
                "#ffcc99",
                "#ffcc99",
                "#ffcc99",
                "#ffcc99",
                "#ffcc99",
                "#ffcc99",
                "#ffcc99",
                "#ffcc99",
                "#ffcc99",
                "#ffcc99",
                "#ffcc99",
                "#ffcc99",
                "#ffcc99",
                "#ffcc99",
                "#ffcc99",
                "#ffcc99",
                "#ffcc99",
                "#ffcc99",
                "#ffcc99",
                "#ffcc99",
                "#ffcc99",
                "#ffcc99",
                "#ffcc99"
               ]
              ]
             }
            ],
            "label": "Topic 9",
            "method": "update"
           },
           {
            "args": [
             {
              "marker.color": [
               [
                "#ffcc99",
                "#ffcc99",
                "#ffcc99",
                "#ffcc99",
                "#ffcc99",
                "#ffcc99",
                "#ffcc99",
                "#ffcc99",
                "#ffcc99",
                "#ffcc99",
                "#cc6600",
                "#ffcc99",
                "#ffcc99",
                "#ffcc99",
                "#ffcc99",
                "#ffcc99",
                "#ffcc99",
                "#ffcc99",
                "#ffcc99",
                "#ffcc99",
                "#ffcc99",
                "#ffcc99",
                "#ffcc99",
                "#ffcc99",
                "#ffcc99",
                "#ffcc99",
                "#ffcc99",
                "#ffcc99",
                "#ffcc99",
                "#ffcc99",
                "#ffcc99",
                "#ffcc99",
                "#ffcc99",
                "#ffcc99",
                "#ffcc99",
                "#ffcc99"
               ]
              ]
             }
            ],
            "label": "Topic 10",
            "method": "update"
           },
           {
            "args": [
             {
              "marker.color": [
               [
                "#ffcc99",
                "#ffcc99",
                "#ffcc99",
                "#ffcc99",
                "#ffcc99",
                "#ffcc99",
                "#ffcc99",
                "#ffcc99",
                "#ffcc99",
                "#ffcc99",
                "#ffcc99",
                "#cc6600",
                "#ffcc99",
                "#ffcc99",
                "#ffcc99",
                "#ffcc99",
                "#ffcc99",
                "#ffcc99",
                "#ffcc99",
                "#ffcc99",
                "#ffcc99",
                "#ffcc99",
                "#ffcc99",
                "#ffcc99",
                "#ffcc99",
                "#ffcc99",
                "#ffcc99",
                "#ffcc99",
                "#ffcc99",
                "#ffcc99",
                "#ffcc99",
                "#ffcc99",
                "#ffcc99",
                "#ffcc99",
                "#ffcc99",
                "#ffcc99"
               ]
              ]
             }
            ],
            "label": "Topic 11",
            "method": "update"
           },
           {
            "args": [
             {
              "marker.color": [
               [
                "#ffcc99",
                "#ffcc99",
                "#ffcc99",
                "#ffcc99",
                "#ffcc99",
                "#ffcc99",
                "#ffcc99",
                "#ffcc99",
                "#ffcc99",
                "#ffcc99",
                "#ffcc99",
                "#ffcc99",
                "#cc6600",
                "#ffcc99",
                "#ffcc99",
                "#ffcc99",
                "#ffcc99",
                "#ffcc99",
                "#ffcc99",
                "#ffcc99",
                "#ffcc99",
                "#ffcc99",
                "#ffcc99",
                "#ffcc99",
                "#ffcc99",
                "#ffcc99",
                "#ffcc99",
                "#ffcc99",
                "#ffcc99",
                "#ffcc99",
                "#ffcc99",
                "#ffcc99",
                "#ffcc99",
                "#ffcc99",
                "#ffcc99",
                "#ffcc99"
               ]
              ]
             }
            ],
            "label": "Topic 12",
            "method": "update"
           },
           {
            "args": [
             {
              "marker.color": [
               [
                "#ffcc99",
                "#ffcc99",
                "#ffcc99",
                "#ffcc99",
                "#ffcc99",
                "#ffcc99",
                "#ffcc99",
                "#ffcc99",
                "#ffcc99",
                "#ffcc99",
                "#ffcc99",
                "#ffcc99",
                "#ffcc99",
                "#cc6600",
                "#ffcc99",
                "#ffcc99",
                "#ffcc99",
                "#ffcc99",
                "#ffcc99",
                "#ffcc99",
                "#ffcc99",
                "#ffcc99",
                "#ffcc99",
                "#ffcc99",
                "#ffcc99",
                "#ffcc99",
                "#ffcc99",
                "#ffcc99",
                "#ffcc99",
                "#ffcc99",
                "#ffcc99",
                "#ffcc99",
                "#ffcc99",
                "#ffcc99",
                "#ffcc99",
                "#ffcc99"
               ]
              ]
             }
            ],
            "label": "Topic 13",
            "method": "update"
           },
           {
            "args": [
             {
              "marker.color": [
               [
                "#ffcc99",
                "#ffcc99",
                "#ffcc99",
                "#ffcc99",
                "#ffcc99",
                "#ffcc99",
                "#ffcc99",
                "#ffcc99",
                "#ffcc99",
                "#ffcc99",
                "#ffcc99",
                "#ffcc99",
                "#ffcc99",
                "#ffcc99",
                "#cc6600",
                "#ffcc99",
                "#ffcc99",
                "#ffcc99",
                "#ffcc99",
                "#ffcc99",
                "#ffcc99",
                "#ffcc99",
                "#ffcc99",
                "#ffcc99",
                "#ffcc99",
                "#ffcc99",
                "#ffcc99",
                "#ffcc99",
                "#ffcc99",
                "#ffcc99",
                "#ffcc99",
                "#ffcc99",
                "#ffcc99",
                "#ffcc99",
                "#ffcc99",
                "#ffcc99"
               ]
              ]
             }
            ],
            "label": "Topic 14",
            "method": "update"
           },
           {
            "args": [
             {
              "marker.color": [
               [
                "#ffcc99",
                "#ffcc99",
                "#ffcc99",
                "#ffcc99",
                "#ffcc99",
                "#ffcc99",
                "#ffcc99",
                "#ffcc99",
                "#ffcc99",
                "#ffcc99",
                "#ffcc99",
                "#ffcc99",
                "#ffcc99",
                "#ffcc99",
                "#ffcc99",
                "#cc6600",
                "#ffcc99",
                "#ffcc99",
                "#ffcc99",
                "#ffcc99",
                "#ffcc99",
                "#ffcc99",
                "#ffcc99",
                "#ffcc99",
                "#ffcc99",
                "#ffcc99",
                "#ffcc99",
                "#ffcc99",
                "#ffcc99",
                "#ffcc99",
                "#ffcc99",
                "#ffcc99",
                "#ffcc99",
                "#ffcc99",
                "#ffcc99",
                "#ffcc99"
               ]
              ]
             }
            ],
            "label": "Topic 15",
            "method": "update"
           },
           {
            "args": [
             {
              "marker.color": [
               [
                "#ffcc99",
                "#ffcc99",
                "#ffcc99",
                "#ffcc99",
                "#ffcc99",
                "#ffcc99",
                "#ffcc99",
                "#ffcc99",
                "#ffcc99",
                "#ffcc99",
                "#ffcc99",
                "#ffcc99",
                "#ffcc99",
                "#ffcc99",
                "#ffcc99",
                "#ffcc99",
                "#cc6600",
                "#ffcc99",
                "#ffcc99",
                "#ffcc99",
                "#ffcc99",
                "#ffcc99",
                "#ffcc99",
                "#ffcc99",
                "#ffcc99",
                "#ffcc99",
                "#ffcc99",
                "#ffcc99",
                "#ffcc99",
                "#ffcc99",
                "#ffcc99",
                "#ffcc99",
                "#ffcc99",
                "#ffcc99",
                "#ffcc99",
                "#ffcc99"
               ]
              ]
             }
            ],
            "label": "Topic 16",
            "method": "update"
           },
           {
            "args": [
             {
              "marker.color": [
               [
                "#ffcc99",
                "#ffcc99",
                "#ffcc99",
                "#ffcc99",
                "#ffcc99",
                "#ffcc99",
                "#ffcc99",
                "#ffcc99",
                "#ffcc99",
                "#ffcc99",
                "#ffcc99",
                "#ffcc99",
                "#ffcc99",
                "#ffcc99",
                "#ffcc99",
                "#ffcc99",
                "#ffcc99",
                "#cc6600",
                "#ffcc99",
                "#ffcc99",
                "#ffcc99",
                "#ffcc99",
                "#ffcc99",
                "#ffcc99",
                "#ffcc99",
                "#ffcc99",
                "#ffcc99",
                "#ffcc99",
                "#ffcc99",
                "#ffcc99",
                "#ffcc99",
                "#ffcc99",
                "#ffcc99",
                "#ffcc99",
                "#ffcc99",
                "#ffcc99"
               ]
              ]
             }
            ],
            "label": "Topic 17",
            "method": "update"
           },
           {
            "args": [
             {
              "marker.color": [
               [
                "#ffcc99",
                "#ffcc99",
                "#ffcc99",
                "#ffcc99",
                "#ffcc99",
                "#ffcc99",
                "#ffcc99",
                "#ffcc99",
                "#ffcc99",
                "#ffcc99",
                "#ffcc99",
                "#ffcc99",
                "#ffcc99",
                "#ffcc99",
                "#ffcc99",
                "#ffcc99",
                "#ffcc99",
                "#ffcc99",
                "#cc6600",
                "#ffcc99",
                "#ffcc99",
                "#ffcc99",
                "#ffcc99",
                "#ffcc99",
                "#ffcc99",
                "#ffcc99",
                "#ffcc99",
                "#ffcc99",
                "#ffcc99",
                "#ffcc99",
                "#ffcc99",
                "#ffcc99",
                "#ffcc99",
                "#ffcc99",
                "#ffcc99",
                "#ffcc99"
               ]
              ]
             }
            ],
            "label": "Topic 18",
            "method": "update"
           },
           {
            "args": [
             {
              "marker.color": [
               [
                "#ffcc99",
                "#ffcc99",
                "#ffcc99",
                "#ffcc99",
                "#ffcc99",
                "#ffcc99",
                "#ffcc99",
                "#ffcc99",
                "#ffcc99",
                "#ffcc99",
                "#ffcc99",
                "#ffcc99",
                "#ffcc99",
                "#ffcc99",
                "#ffcc99",
                "#ffcc99",
                "#ffcc99",
                "#ffcc99",
                "#ffcc99",
                "#cc6600",
                "#ffcc99",
                "#ffcc99",
                "#ffcc99",
                "#ffcc99",
                "#ffcc99",
                "#ffcc99",
                "#ffcc99",
                "#ffcc99",
                "#ffcc99",
                "#ffcc99",
                "#ffcc99",
                "#ffcc99",
                "#ffcc99",
                "#ffcc99",
                "#ffcc99",
                "#ffcc99"
               ]
              ]
             }
            ],
            "label": "Topic 19",
            "method": "update"
           },
           {
            "args": [
             {
              "marker.color": [
               [
                "#ffcc99",
                "#ffcc99",
                "#ffcc99",
                "#ffcc99",
                "#ffcc99",
                "#ffcc99",
                "#ffcc99",
                "#ffcc99",
                "#ffcc99",
                "#ffcc99",
                "#ffcc99",
                "#ffcc99",
                "#ffcc99",
                "#ffcc99",
                "#ffcc99",
                "#ffcc99",
                "#ffcc99",
                "#ffcc99",
                "#ffcc99",
                "#ffcc99",
                "#cc6600",
                "#ffcc99",
                "#ffcc99",
                "#ffcc99",
                "#ffcc99",
                "#ffcc99",
                "#ffcc99",
                "#ffcc99",
                "#ffcc99",
                "#ffcc99",
                "#ffcc99",
                "#ffcc99",
                "#ffcc99",
                "#ffcc99",
                "#ffcc99",
                "#ffcc99"
               ]
              ]
             }
            ],
            "label": "Topic 20",
            "method": "update"
           },
           {
            "args": [
             {
              "marker.color": [
               [
                "#ffcc99",
                "#ffcc99",
                "#ffcc99",
                "#ffcc99",
                "#ffcc99",
                "#ffcc99",
                "#ffcc99",
                "#ffcc99",
                "#ffcc99",
                "#ffcc99",
                "#ffcc99",
                "#ffcc99",
                "#ffcc99",
                "#ffcc99",
                "#ffcc99",
                "#ffcc99",
                "#ffcc99",
                "#ffcc99",
                "#ffcc99",
                "#ffcc99",
                "#ffcc99",
                "#cc6600",
                "#ffcc99",
                "#ffcc99",
                "#ffcc99",
                "#ffcc99",
                "#ffcc99",
                "#ffcc99",
                "#ffcc99",
                "#ffcc99",
                "#ffcc99",
                "#ffcc99",
                "#ffcc99",
                "#ffcc99",
                "#ffcc99",
                "#ffcc99"
               ]
              ]
             }
            ],
            "label": "Topic 21",
            "method": "update"
           },
           {
            "args": [
             {
              "marker.color": [
               [
                "#ffcc99",
                "#ffcc99",
                "#ffcc99",
                "#ffcc99",
                "#ffcc99",
                "#ffcc99",
                "#ffcc99",
                "#ffcc99",
                "#ffcc99",
                "#ffcc99",
                "#ffcc99",
                "#ffcc99",
                "#ffcc99",
                "#ffcc99",
                "#ffcc99",
                "#ffcc99",
                "#ffcc99",
                "#ffcc99",
                "#ffcc99",
                "#ffcc99",
                "#ffcc99",
                "#ffcc99",
                "#cc6600",
                "#ffcc99",
                "#ffcc99",
                "#ffcc99",
                "#ffcc99",
                "#ffcc99",
                "#ffcc99",
                "#ffcc99",
                "#ffcc99",
                "#ffcc99",
                "#ffcc99",
                "#ffcc99",
                "#ffcc99",
                "#ffcc99"
               ]
              ]
             }
            ],
            "label": "Topic 22",
            "method": "update"
           },
           {
            "args": [
             {
              "marker.color": [
               [
                "#ffcc99",
                "#ffcc99",
                "#ffcc99",
                "#ffcc99",
                "#ffcc99",
                "#ffcc99",
                "#ffcc99",
                "#ffcc99",
                "#ffcc99",
                "#ffcc99",
                "#ffcc99",
                "#ffcc99",
                "#ffcc99",
                "#ffcc99",
                "#ffcc99",
                "#ffcc99",
                "#ffcc99",
                "#ffcc99",
                "#ffcc99",
                "#ffcc99",
                "#ffcc99",
                "#ffcc99",
                "#ffcc99",
                "#cc6600",
                "#ffcc99",
                "#ffcc99",
                "#ffcc99",
                "#ffcc99",
                "#ffcc99",
                "#ffcc99",
                "#ffcc99",
                "#ffcc99",
                "#ffcc99",
                "#ffcc99",
                "#ffcc99",
                "#ffcc99"
               ]
              ]
             }
            ],
            "label": "Topic 23",
            "method": "update"
           },
           {
            "args": [
             {
              "marker.color": [
               [
                "#ffcc99",
                "#ffcc99",
                "#ffcc99",
                "#ffcc99",
                "#ffcc99",
                "#ffcc99",
                "#ffcc99",
                "#ffcc99",
                "#ffcc99",
                "#ffcc99",
                "#ffcc99",
                "#ffcc99",
                "#ffcc99",
                "#ffcc99",
                "#ffcc99",
                "#ffcc99",
                "#ffcc99",
                "#ffcc99",
                "#ffcc99",
                "#ffcc99",
                "#ffcc99",
                "#ffcc99",
                "#ffcc99",
                "#ffcc99",
                "#cc6600",
                "#ffcc99",
                "#ffcc99",
                "#ffcc99",
                "#ffcc99",
                "#ffcc99",
                "#ffcc99",
                "#ffcc99",
                "#ffcc99",
                "#ffcc99",
                "#ffcc99",
                "#ffcc99"
               ]
              ]
             }
            ],
            "label": "Topic 24",
            "method": "update"
           },
           {
            "args": [
             {
              "marker.color": [
               [
                "#ffcc99",
                "#ffcc99",
                "#ffcc99",
                "#ffcc99",
                "#ffcc99",
                "#ffcc99",
                "#ffcc99",
                "#ffcc99",
                "#ffcc99",
                "#ffcc99",
                "#ffcc99",
                "#ffcc99",
                "#ffcc99",
                "#ffcc99",
                "#ffcc99",
                "#ffcc99",
                "#ffcc99",
                "#ffcc99",
                "#ffcc99",
                "#ffcc99",
                "#ffcc99",
                "#ffcc99",
                "#ffcc99",
                "#ffcc99",
                "#ffcc99",
                "#cc6600",
                "#ffcc99",
                "#ffcc99",
                "#ffcc99",
                "#ffcc99",
                "#ffcc99",
                "#ffcc99",
                "#ffcc99",
                "#ffcc99",
                "#ffcc99",
                "#ffcc99"
               ]
              ]
             }
            ],
            "label": "Topic 25",
            "method": "update"
           },
           {
            "args": [
             {
              "marker.color": [
               [
                "#ffcc99",
                "#ffcc99",
                "#ffcc99",
                "#ffcc99",
                "#ffcc99",
                "#ffcc99",
                "#ffcc99",
                "#ffcc99",
                "#ffcc99",
                "#ffcc99",
                "#ffcc99",
                "#ffcc99",
                "#ffcc99",
                "#ffcc99",
                "#ffcc99",
                "#ffcc99",
                "#ffcc99",
                "#ffcc99",
                "#ffcc99",
                "#ffcc99",
                "#ffcc99",
                "#ffcc99",
                "#ffcc99",
                "#ffcc99",
                "#ffcc99",
                "#ffcc99",
                "#cc6600",
                "#ffcc99",
                "#ffcc99",
                "#ffcc99",
                "#ffcc99",
                "#ffcc99",
                "#ffcc99",
                "#ffcc99",
                "#ffcc99",
                "#ffcc99"
               ]
              ]
             }
            ],
            "label": "Topic 26",
            "method": "update"
           },
           {
            "args": [
             {
              "marker.color": [
               [
                "#ffcc99",
                "#ffcc99",
                "#ffcc99",
                "#ffcc99",
                "#ffcc99",
                "#ffcc99",
                "#ffcc99",
                "#ffcc99",
                "#ffcc99",
                "#ffcc99",
                "#ffcc99",
                "#ffcc99",
                "#ffcc99",
                "#ffcc99",
                "#ffcc99",
                "#ffcc99",
                "#ffcc99",
                "#ffcc99",
                "#ffcc99",
                "#ffcc99",
                "#ffcc99",
                "#ffcc99",
                "#ffcc99",
                "#ffcc99",
                "#ffcc99",
                "#ffcc99",
                "#ffcc99",
                "#cc6600",
                "#ffcc99",
                "#ffcc99",
                "#ffcc99",
                "#ffcc99",
                "#ffcc99",
                "#ffcc99",
                "#ffcc99",
                "#ffcc99"
               ]
              ]
             }
            ],
            "label": "Topic 27",
            "method": "update"
           },
           {
            "args": [
             {
              "marker.color": [
               [
                "#ffcc99",
                "#ffcc99",
                "#ffcc99",
                "#ffcc99",
                "#ffcc99",
                "#ffcc99",
                "#ffcc99",
                "#ffcc99",
                "#ffcc99",
                "#ffcc99",
                "#ffcc99",
                "#ffcc99",
                "#ffcc99",
                "#ffcc99",
                "#ffcc99",
                "#ffcc99",
                "#ffcc99",
                "#ffcc99",
                "#ffcc99",
                "#ffcc99",
                "#ffcc99",
                "#ffcc99",
                "#ffcc99",
                "#ffcc99",
                "#ffcc99",
                "#ffcc99",
                "#ffcc99",
                "#ffcc99",
                "#cc6600",
                "#ffcc99",
                "#ffcc99",
                "#ffcc99",
                "#ffcc99",
                "#ffcc99",
                "#ffcc99",
                "#ffcc99"
               ]
              ]
             }
            ],
            "label": "Topic 28",
            "method": "update"
           },
           {
            "args": [
             {
              "marker.color": [
               [
                "#ffcc99",
                "#ffcc99",
                "#ffcc99",
                "#ffcc99",
                "#ffcc99",
                "#ffcc99",
                "#ffcc99",
                "#ffcc99",
                "#ffcc99",
                "#ffcc99",
                "#ffcc99",
                "#ffcc99",
                "#ffcc99",
                "#ffcc99",
                "#ffcc99",
                "#ffcc99",
                "#ffcc99",
                "#ffcc99",
                "#ffcc99",
                "#ffcc99",
                "#ffcc99",
                "#ffcc99",
                "#ffcc99",
                "#ffcc99",
                "#ffcc99",
                "#ffcc99",
                "#ffcc99",
                "#ffcc99",
                "#ffcc99",
                "#cc6600",
                "#ffcc99",
                "#ffcc99",
                "#ffcc99",
                "#ffcc99",
                "#ffcc99",
                "#ffcc99"
               ]
              ]
             }
            ],
            "label": "Topic 29",
            "method": "update"
           },
           {
            "args": [
             {
              "marker.color": [
               [
                "#ffcc99",
                "#ffcc99",
                "#ffcc99",
                "#ffcc99",
                "#ffcc99",
                "#ffcc99",
                "#ffcc99",
                "#ffcc99",
                "#ffcc99",
                "#ffcc99",
                "#ffcc99",
                "#ffcc99",
                "#ffcc99",
                "#ffcc99",
                "#ffcc99",
                "#ffcc99",
                "#ffcc99",
                "#ffcc99",
                "#ffcc99",
                "#ffcc99",
                "#ffcc99",
                "#ffcc99",
                "#ffcc99",
                "#ffcc99",
                "#ffcc99",
                "#ffcc99",
                "#ffcc99",
                "#ffcc99",
                "#ffcc99",
                "#ffcc99",
                "#cc6600",
                "#ffcc99",
                "#ffcc99",
                "#ffcc99",
                "#ffcc99",
                "#ffcc99"
               ]
              ]
             }
            ],
            "label": "Topic 30",
            "method": "update"
           },
           {
            "args": [
             {
              "marker.color": [
               [
                "#ffcc99",
                "#ffcc99",
                "#ffcc99",
                "#ffcc99",
                "#ffcc99",
                "#ffcc99",
                "#ffcc99",
                "#ffcc99",
                "#ffcc99",
                "#ffcc99",
                "#ffcc99",
                "#ffcc99",
                "#ffcc99",
                "#ffcc99",
                "#ffcc99",
                "#ffcc99",
                "#ffcc99",
                "#ffcc99",
                "#ffcc99",
                "#ffcc99",
                "#ffcc99",
                "#ffcc99",
                "#ffcc99",
                "#ffcc99",
                "#ffcc99",
                "#ffcc99",
                "#ffcc99",
                "#ffcc99",
                "#ffcc99",
                "#ffcc99",
                "#ffcc99",
                "#cc6600",
                "#ffcc99",
                "#ffcc99",
                "#ffcc99",
                "#ffcc99"
               ]
              ]
             }
            ],
            "label": "Topic 31",
            "method": "update"
           },
           {
            "args": [
             {
              "marker.color": [
               [
                "#ffcc99",
                "#ffcc99",
                "#ffcc99",
                "#ffcc99",
                "#ffcc99",
                "#ffcc99",
                "#ffcc99",
                "#ffcc99",
                "#ffcc99",
                "#ffcc99",
                "#ffcc99",
                "#ffcc99",
                "#ffcc99",
                "#ffcc99",
                "#ffcc99",
                "#ffcc99",
                "#ffcc99",
                "#ffcc99",
                "#ffcc99",
                "#ffcc99",
                "#ffcc99",
                "#ffcc99",
                "#ffcc99",
                "#ffcc99",
                "#ffcc99",
                "#ffcc99",
                "#ffcc99",
                "#ffcc99",
                "#ffcc99",
                "#ffcc99",
                "#ffcc99",
                "#ffcc99",
                "#cc6600",
                "#ffcc99",
                "#ffcc99",
                "#ffcc99"
               ]
              ]
             }
            ],
            "label": "Topic 32",
            "method": "update"
           },
           {
            "args": [
             {
              "marker.color": [
               [
                "#ffcc99",
                "#ffcc99",
                "#ffcc99",
                "#ffcc99",
                "#ffcc99",
                "#ffcc99",
                "#ffcc99",
                "#ffcc99",
                "#ffcc99",
                "#ffcc99",
                "#ffcc99",
                "#ffcc99",
                "#ffcc99",
                "#ffcc99",
                "#ffcc99",
                "#ffcc99",
                "#ffcc99",
                "#ffcc99",
                "#ffcc99",
                "#ffcc99",
                "#ffcc99",
                "#ffcc99",
                "#ffcc99",
                "#ffcc99",
                "#ffcc99",
                "#ffcc99",
                "#ffcc99",
                "#ffcc99",
                "#ffcc99",
                "#ffcc99",
                "#ffcc99",
                "#ffcc99",
                "#ffcc99",
                "#cc6600",
                "#ffcc99",
                "#ffcc99"
               ]
              ]
             }
            ],
            "label": "Topic 33",
            "method": "update"
           },
           {
            "args": [
             {
              "marker.color": [
               [
                "#ffcc99",
                "#ffcc99",
                "#ffcc99",
                "#ffcc99",
                "#ffcc99",
                "#ffcc99",
                "#ffcc99",
                "#ffcc99",
                "#ffcc99",
                "#ffcc99",
                "#ffcc99",
                "#ffcc99",
                "#ffcc99",
                "#ffcc99",
                "#ffcc99",
                "#ffcc99",
                "#ffcc99",
                "#ffcc99",
                "#ffcc99",
                "#ffcc99",
                "#ffcc99",
                "#ffcc99",
                "#ffcc99",
                "#ffcc99",
                "#ffcc99",
                "#ffcc99",
                "#ffcc99",
                "#ffcc99",
                "#ffcc99",
                "#ffcc99",
                "#ffcc99",
                "#ffcc99",
                "#ffcc99",
                "#ffcc99",
                "#cc6600",
                "#ffcc99"
               ]
              ]
             }
            ],
            "label": "Topic 34",
            "method": "update"
           },
           {
            "args": [
             {
              "marker.color": [
               [
                "#ffcc99",
                "#ffcc99",
                "#ffcc99",
                "#ffcc99",
                "#ffcc99",
                "#ffcc99",
                "#ffcc99",
                "#ffcc99",
                "#ffcc99",
                "#ffcc99",
                "#ffcc99",
                "#ffcc99",
                "#ffcc99",
                "#ffcc99",
                "#ffcc99",
                "#ffcc99",
                "#ffcc99",
                "#ffcc99",
                "#ffcc99",
                "#ffcc99",
                "#ffcc99",
                "#ffcc99",
                "#ffcc99",
                "#ffcc99",
                "#ffcc99",
                "#ffcc99",
                "#ffcc99",
                "#ffcc99",
                "#ffcc99",
                "#ffcc99",
                "#ffcc99",
                "#ffcc99",
                "#ffcc99",
                "#ffcc99",
                "#ffcc99",
                "#cc6600"
               ]
              ]
             }
            ],
            "label": "Topic 35",
            "method": "update"
           }
          ]
         }
        ],
        "template": {
         "data": {
          "bar": [
           {
            "error_x": {
             "color": "rgb(36,36,36)"
            },
            "error_y": {
             "color": "rgb(36,36,36)"
            },
            "marker": {
             "line": {
              "color": "white",
              "width": 0.5
             },
             "pattern": {
              "fillmode": "overlay",
              "size": 10,
              "solidity": 0.2
             }
            },
            "type": "bar"
           }
          ],
          "barpolar": [
           {
            "marker": {
             "line": {
              "color": "white",
              "width": 0.5
             },
             "pattern": {
              "fillmode": "overlay",
              "size": 10,
              "solidity": 0.2
             }
            },
            "type": "barpolar"
           }
          ],
          "carpet": [
           {
            "aaxis": {
             "endlinecolor": "rgb(36,36,36)",
             "gridcolor": "white",
             "linecolor": "white",
             "minorgridcolor": "white",
             "startlinecolor": "rgb(36,36,36)"
            },
            "baxis": {
             "endlinecolor": "rgb(36,36,36)",
             "gridcolor": "white",
             "linecolor": "white",
             "minorgridcolor": "white",
             "startlinecolor": "rgb(36,36,36)"
            },
            "type": "carpet"
           }
          ],
          "choropleth": [
           {
            "colorbar": {
             "outlinewidth": 1,
             "tickcolor": "rgb(36,36,36)",
             "ticks": "outside"
            },
            "type": "choropleth"
           }
          ],
          "contour": [
           {
            "colorbar": {
             "outlinewidth": 1,
             "tickcolor": "rgb(36,36,36)",
             "ticks": "outside"
            },
            "colorscale": [
             [
              0,
              "#440154"
             ],
             [
              0.1111111111111111,
              "#482878"
             ],
             [
              0.2222222222222222,
              "#3e4989"
             ],
             [
              0.3333333333333333,
              "#31688e"
             ],
             [
              0.4444444444444444,
              "#26828e"
             ],
             [
              0.5555555555555556,
              "#1f9e89"
             ],
             [
              0.6666666666666666,
              "#35b779"
             ],
             [
              0.7777777777777778,
              "#6ece58"
             ],
             [
              0.8888888888888888,
              "#b5de2b"
             ],
             [
              1,
              "#fde725"
             ]
            ],
            "type": "contour"
           }
          ],
          "contourcarpet": [
           {
            "colorbar": {
             "outlinewidth": 1,
             "tickcolor": "rgb(36,36,36)",
             "ticks": "outside"
            },
            "type": "contourcarpet"
           }
          ],
          "heatmap": [
           {
            "colorbar": {
             "outlinewidth": 1,
             "tickcolor": "rgb(36,36,36)",
             "ticks": "outside"
            },
            "colorscale": [
             [
              0,
              "#440154"
             ],
             [
              0.1111111111111111,
              "#482878"
             ],
             [
              0.2222222222222222,
              "#3e4989"
             ],
             [
              0.3333333333333333,
              "#31688e"
             ],
             [
              0.4444444444444444,
              "#26828e"
             ],
             [
              0.5555555555555556,
              "#1f9e89"
             ],
             [
              0.6666666666666666,
              "#35b779"
             ],
             [
              0.7777777777777778,
              "#6ece58"
             ],
             [
              0.8888888888888888,
              "#b5de2b"
             ],
             [
              1,
              "#fde725"
             ]
            ],
            "type": "heatmap"
           }
          ],
          "heatmapgl": [
           {
            "colorbar": {
             "outlinewidth": 1,
             "tickcolor": "rgb(36,36,36)",
             "ticks": "outside"
            },
            "colorscale": [
             [
              0,
              "#440154"
             ],
             [
              0.1111111111111111,
              "#482878"
             ],
             [
              0.2222222222222222,
              "#3e4989"
             ],
             [
              0.3333333333333333,
              "#31688e"
             ],
             [
              0.4444444444444444,
              "#26828e"
             ],
             [
              0.5555555555555556,
              "#1f9e89"
             ],
             [
              0.6666666666666666,
              "#35b779"
             ],
             [
              0.7777777777777778,
              "#6ece58"
             ],
             [
              0.8888888888888888,
              "#b5de2b"
             ],
             [
              1,
              "#fde725"
             ]
            ],
            "type": "heatmapgl"
           }
          ],
          "histogram": [
           {
            "marker": {
             "line": {
              "color": "white",
              "width": 0.6
             }
            },
            "type": "histogram"
           }
          ],
          "histogram2d": [
           {
            "colorbar": {
             "outlinewidth": 1,
             "tickcolor": "rgb(36,36,36)",
             "ticks": "outside"
            },
            "colorscale": [
             [
              0,
              "#440154"
             ],
             [
              0.1111111111111111,
              "#482878"
             ],
             [
              0.2222222222222222,
              "#3e4989"
             ],
             [
              0.3333333333333333,
              "#31688e"
             ],
             [
              0.4444444444444444,
              "#26828e"
             ],
             [
              0.5555555555555556,
              "#1f9e89"
             ],
             [
              0.6666666666666666,
              "#35b779"
             ],
             [
              0.7777777777777778,
              "#6ece58"
             ],
             [
              0.8888888888888888,
              "#b5de2b"
             ],
             [
              1,
              "#fde725"
             ]
            ],
            "type": "histogram2d"
           }
          ],
          "histogram2dcontour": [
           {
            "colorbar": {
             "outlinewidth": 1,
             "tickcolor": "rgb(36,36,36)",
             "ticks": "outside"
            },
            "colorscale": [
             [
              0,
              "#440154"
             ],
             [
              0.1111111111111111,
              "#482878"
             ],
             [
              0.2222222222222222,
              "#3e4989"
             ],
             [
              0.3333333333333333,
              "#31688e"
             ],
             [
              0.4444444444444444,
              "#26828e"
             ],
             [
              0.5555555555555556,
              "#1f9e89"
             ],
             [
              0.6666666666666666,
              "#35b779"
             ],
             [
              0.7777777777777778,
              "#6ece58"
             ],
             [
              0.8888888888888888,
              "#b5de2b"
             ],
             [
              1,
              "#fde725"
             ]
            ],
            "type": "histogram2dcontour"
           }
          ],
          "mesh3d": [
           {
            "colorbar": {
             "outlinewidth": 1,
             "tickcolor": "rgb(36,36,36)",
             "ticks": "outside"
            },
            "type": "mesh3d"
           }
          ],
          "parcoords": [
           {
            "line": {
             "colorbar": {
              "outlinewidth": 1,
              "tickcolor": "rgb(36,36,36)",
              "ticks": "outside"
             }
            },
            "type": "parcoords"
           }
          ],
          "pie": [
           {
            "automargin": true,
            "type": "pie"
           }
          ],
          "scatter": [
           {
            "fillpattern": {
             "fillmode": "overlay",
             "size": 10,
             "solidity": 0.2
            },
            "type": "scatter"
           }
          ],
          "scatter3d": [
           {
            "line": {
             "colorbar": {
              "outlinewidth": 1,
              "tickcolor": "rgb(36,36,36)",
              "ticks": "outside"
             }
            },
            "marker": {
             "colorbar": {
              "outlinewidth": 1,
              "tickcolor": "rgb(36,36,36)",
              "ticks": "outside"
             }
            },
            "type": "scatter3d"
           }
          ],
          "scattercarpet": [
           {
            "marker": {
             "colorbar": {
              "outlinewidth": 1,
              "tickcolor": "rgb(36,36,36)",
              "ticks": "outside"
             }
            },
            "type": "scattercarpet"
           }
          ],
          "scattergeo": [
           {
            "marker": {
             "colorbar": {
              "outlinewidth": 1,
              "tickcolor": "rgb(36,36,36)",
              "ticks": "outside"
             }
            },
            "type": "scattergeo"
           }
          ],
          "scattergl": [
           {
            "marker": {
             "colorbar": {
              "outlinewidth": 1,
              "tickcolor": "rgb(36,36,36)",
              "ticks": "outside"
             }
            },
            "type": "scattergl"
           }
          ],
          "scattermapbox": [
           {
            "marker": {
             "colorbar": {
              "outlinewidth": 1,
              "tickcolor": "rgb(36,36,36)",
              "ticks": "outside"
             }
            },
            "type": "scattermapbox"
           }
          ],
          "scatterpolar": [
           {
            "marker": {
             "colorbar": {
              "outlinewidth": 1,
              "tickcolor": "rgb(36,36,36)",
              "ticks": "outside"
             }
            },
            "type": "scatterpolar"
           }
          ],
          "scatterpolargl": [
           {
            "marker": {
             "colorbar": {
              "outlinewidth": 1,
              "tickcolor": "rgb(36,36,36)",
              "ticks": "outside"
             }
            },
            "type": "scatterpolargl"
           }
          ],
          "scatterternary": [
           {
            "marker": {
             "colorbar": {
              "outlinewidth": 1,
              "tickcolor": "rgb(36,36,36)",
              "ticks": "outside"
             }
            },
            "type": "scatterternary"
           }
          ],
          "surface": [
           {
            "colorbar": {
             "outlinewidth": 1,
             "tickcolor": "rgb(36,36,36)",
             "ticks": "outside"
            },
            "colorscale": [
             [
              0,
              "#440154"
             ],
             [
              0.1111111111111111,
              "#482878"
             ],
             [
              0.2222222222222222,
              "#3e4989"
             ],
             [
              0.3333333333333333,
              "#31688e"
             ],
             [
              0.4444444444444444,
              "#26828e"
             ],
             [
              0.5555555555555556,
              "#1f9e89"
             ],
             [
              0.6666666666666666,
              "#35b779"
             ],
             [
              0.7777777777777778,
              "#6ece58"
             ],
             [
              0.8888888888888888,
              "#b5de2b"
             ],
             [
              1,
              "#fde725"
             ]
            ],
            "type": "surface"
           }
          ],
          "table": [
           {
            "cells": {
             "fill": {
              "color": "rgb(237,237,237)"
             },
             "line": {
              "color": "white"
             }
            },
            "header": {
             "fill": {
              "color": "rgb(217,217,217)"
             },
             "line": {
              "color": "white"
             }
            },
            "type": "table"
           }
          ]
         },
         "layout": {
          "annotationdefaults": {
           "arrowhead": 0,
           "arrowwidth": 1
          },
          "autotypenumbers": "strict",
          "coloraxis": {
           "colorbar": {
            "outlinewidth": 1,
            "tickcolor": "rgb(36,36,36)",
            "ticks": "outside"
           }
          },
          "colorscale": {
           "diverging": [
            [
             0,
             "rgb(103,0,31)"
            ],
            [
             0.1,
             "rgb(178,24,43)"
            ],
            [
             0.2,
             "rgb(214,96,77)"
            ],
            [
             0.3,
             "rgb(244,165,130)"
            ],
            [
             0.4,
             "rgb(253,219,199)"
            ],
            [
             0.5,
             "rgb(247,247,247)"
            ],
            [
             0.6,
             "rgb(209,229,240)"
            ],
            [
             0.7,
             "rgb(146,197,222)"
            ],
            [
             0.8,
             "rgb(67,147,195)"
            ],
            [
             0.9,
             "rgb(33,102,172)"
            ],
            [
             1,
             "rgb(5,48,97)"
            ]
           ],
           "sequential": [
            [
             0,
             "#440154"
            ],
            [
             0.1111111111111111,
             "#482878"
            ],
            [
             0.2222222222222222,
             "#3e4989"
            ],
            [
             0.3333333333333333,
             "#31688e"
            ],
            [
             0.4444444444444444,
             "#26828e"
            ],
            [
             0.5555555555555556,
             "#1f9e89"
            ],
            [
             0.6666666666666666,
             "#35b779"
            ],
            [
             0.7777777777777778,
             "#6ece58"
            ],
            [
             0.8888888888888888,
             "#b5de2b"
            ],
            [
             1,
             "#fde725"
            ]
           ],
           "sequentialminus": [
            [
             0,
             "#440154"
            ],
            [
             0.1111111111111111,
             "#482878"
            ],
            [
             0.2222222222222222,
             "#3e4989"
            ],
            [
             0.3333333333333333,
             "#31688e"
            ],
            [
             0.4444444444444444,
             "#26828e"
            ],
            [
             0.5555555555555556,
             "#1f9e89"
            ],
            [
             0.6666666666666666,
             "#35b779"
            ],
            [
             0.7777777777777778,
             "#6ece58"
            ],
            [
             0.8888888888888888,
             "#b5de2b"
            ],
            [
             1,
             "#fde725"
            ]
           ]
          },
          "colorway": [
           "#1F77B4",
           "#FF7F0E",
           "#2CA02C",
           "#D62728",
           "#9467BD",
           "#8C564B",
           "#E377C2",
           "#7F7F7F",
           "#BCBD22",
           "#17BECF"
          ],
          "font": {
           "color": "rgb(36,36,36)"
          },
          "geo": {
           "bgcolor": "white",
           "lakecolor": "white",
           "landcolor": "white",
           "showlakes": true,
           "showland": true,
           "subunitcolor": "white"
          },
          "hoverlabel": {
           "align": "left"
          },
          "hovermode": "closest",
          "mapbox": {
           "style": "light"
          },
          "paper_bgcolor": "white",
          "plot_bgcolor": "white",
          "polar": {
           "angularaxis": {
            "gridcolor": "rgb(232,232,232)",
            "linecolor": "rgb(36,36,36)",
            "showgrid": false,
            "showline": true,
            "ticks": "outside"
           },
           "bgcolor": "white",
           "radialaxis": {
            "gridcolor": "rgb(232,232,232)",
            "linecolor": "rgb(36,36,36)",
            "showgrid": false,
            "showline": true,
            "ticks": "outside"
           }
          },
          "scene": {
           "xaxis": {
            "backgroundcolor": "white",
            "gridcolor": "rgb(232,232,232)",
            "gridwidth": 2,
            "linecolor": "rgb(36,36,36)",
            "showbackground": true,
            "showgrid": false,
            "showline": true,
            "ticks": "outside",
            "zeroline": false,
            "zerolinecolor": "rgb(36,36,36)"
           },
           "yaxis": {
            "backgroundcolor": "white",
            "gridcolor": "rgb(232,232,232)",
            "gridwidth": 2,
            "linecolor": "rgb(36,36,36)",
            "showbackground": true,
            "showgrid": false,
            "showline": true,
            "ticks": "outside",
            "zeroline": false,
            "zerolinecolor": "rgb(36,36,36)"
           },
           "zaxis": {
            "backgroundcolor": "white",
            "gridcolor": "rgb(232,232,232)",
            "gridwidth": 2,
            "linecolor": "rgb(36,36,36)",
            "showbackground": true,
            "showgrid": false,
            "showline": true,
            "ticks": "outside",
            "zeroline": false,
            "zerolinecolor": "rgb(36,36,36)"
           }
          },
          "shapedefaults": {
           "fillcolor": "black",
           "line": {
            "width": 0
           },
           "opacity": 0.3
          },
          "ternary": {
           "aaxis": {
            "gridcolor": "rgb(232,232,232)",
            "linecolor": "rgb(36,36,36)",
            "showgrid": false,
            "showline": true,
            "ticks": "outside"
           },
           "baxis": {
            "gridcolor": "rgb(232,232,232)",
            "linecolor": "rgb(36,36,36)",
            "showgrid": false,
            "showline": true,
            "ticks": "outside"
           },
           "bgcolor": "white",
           "caxis": {
            "gridcolor": "rgb(232,232,232)",
            "linecolor": "rgb(36,36,36)",
            "showgrid": false,
            "showline": true,
            "ticks": "outside"
           }
          },
          "title": {
           "x": 0.05
          },
          "xaxis": {
           "automargin": true,
           "gridcolor": "rgb(232,232,232)",
           "linecolor": "rgb(36,36,36)",
           "showgrid": false,
           "showline": true,
           "ticks": "outside",
           "title": {
            "standoff": 15
           },
           "zeroline": false,
           "zerolinecolor": "rgb(36,36,36)"
          },
          "yaxis": {
           "automargin": true,
           "gridcolor": "rgb(232,232,232)",
           "linecolor": "rgb(36,36,36)",
           "showgrid": false,
           "showline": true,
           "ticks": "outside",
           "title": {
            "standoff": 15
           },
           "zeroline": false,
           "zerolinecolor": "rgb(36,36,36)"
          }
         }
        },
        "title": {
         "font": {
          "color": "Black",
          "size": 22
         },
         "text": "<b>Intertopic Distance Map",
         "x": 0.5,
         "xanchor": "center",
         "y": 0.95,
         "yanchor": "top"
        },
        "width": 650,
        "xaxis": {
         "anchor": "y",
         "domain": [
          0,
          1
         ],
         "range": [
          1.3736958026885986,
          7.6272923946380615
         ],
         "title": {
          "text": ""
         },
         "visible": false
        },
        "yaxis": {
         "anchor": "x",
         "domain": [
          0,
          1
         ],
         "range": [
          0.7529363363981247,
          12.529364585876465
         ],
         "title": {
          "text": ""
         },
         "visible": false
        }
       }
      },
      "text/html": [
       "<div>                            <div id=\"5f431a0b-7673-4060-b74c-18b1e43aad28\" class=\"plotly-graph-div\" style=\"height:650px; width:650px;\"></div>            <script type=\"text/javascript\">                require([\"plotly\"], function(Plotly) {                    window.PLOTLYENV=window.PLOTLYENV || {};                                    if (document.getElementById(\"5f431a0b-7673-4060-b74c-18b1e43aad28\")) {                    Plotly.newPlot(                        \"5f431a0b-7673-4060-b74c-18b1e43aad28\",                        [{\"customdata\":[[0,\"w\\u0119gla | pis | jest | w\\u0119giel | dla\",47996],[1,\"zim\\u0119 | zimy | w\\u0119gla | b\\u0119dzie | zim\\u0105\",408],[2,\"podatek | podatk\\u00f3w | podatki | inflacji | inflacja\",139],[3,\"turcji | 80 | inflacja | ekonomiczne | pa\\u017adzierniku\",119],[4,\"bezrobocie | inflacj\\u0119 | 17 | inflacji | johnsmiths74\",119],[5,\"ropy | opec | usa | naftowej | wydobycia\",113],[6,\"obligacje | inflacji | inflacj\\u0105 | kredyt | banki\",112],[7,\"ma\\u0142e | mefistofelleess | mini | rafalhubert | du\\u017ce\",88],[8,\"tvp_info | tvp | inflacji | inflacja | inflacj\\u0119\",81],[9,\"podnie\\u015b\\u0107 | ceny | cena | jeste\\u015bmy | slawomirmentzen\",76],[10,\"fishing_fever69 | zabraknie | \\u017cywno\\u015b\\u0107 | niego | sta\\u0107\",69],[11,\"turcji | gazu | europy | gaz | centrum\",67],[12,\"kosmos | ceny | cena | teraz | ta\",62],[13,\"drewna | drewno | ceny | przeciwko | rosn\\u0105\",58],[14,\"setki | galopuj\\u0105ca | socjal | ukrainy | wojna\",55],[15,\"chiny | chin | chinach | ropy | s\\u0105\",52],[16,\"cukru | cukier | cena | 50 | wzros\\u0142a\",50],[17,\"dzieci | kobiety | w\\u0119glowy | inflacja | bro\\u0144\",45],[18,\"ceny | cen | cena | telewizja | tanich\",38],[19,\"mas\\u0142a | albo | cena | sklepie | miroka30045644\",38],[20,\"ropy | rop\\u0119 | kraje | rosja | chin\",36],[21,\"piechocinski | cena | ceny | rynek | kg\",31],[22,\"recesji | recesj\\u0119 | kwarta\\u0142\\u00f3w | bud\\u017cetowe | bud\\u017cetu\",30],[23,\"w\\u0119glowy | \\u015bladu | jaki | w\\u0119glowego | szczyt\",28],[24,\"glapi\\u0144ski | spadnie | inflacja | wakacje | spada\\u0107\",27],[25,\"ceny | gus | zdro\\u017ca\\u0142o | \\u015brednia | rosn\\u0105\",26],[26,\"inflacja | poprzednio | proc | wynosi | prognoza\",25],[27,\"pr\\u0105d | mia\\u0142 | jaka | mi\\u0119dzy | ko\\u0144ca\",23],[28,\"koszty | ceny | no | stosuje | razy\",22],[29,\"powodem | 20 | ludzi | energii | ceny\",19],[30,\"najwi\\u0119ksz\\u0105 | podwy\\u017ck\\u0119 | temu | znacznie | przy\",18],[31,\"coolfonpl | robi | inflacja | pieni\\u0105dza | bardziej\",15],[32,\"cena | latach | nowego | 30 | koszt\",15],[33,\"groszy | ceny | kg | skupu | ta\\u0144sze\",13],[34,\"czy | ju\\u017c | w\\u0119giel | jest | weekend\",12],[35,\"kobiety | czasy | w\\u0119gla |  | \",11]],\"hovertemplate\":\"<b>Topic %{customdata[0]}</b><br>Words: %{customdata[1]}<br>Size: %{customdata[2]}\",\"legendgroup\":\"\",\"marker\":{\"color\":\"#ffcc99\",\"size\":[47996,408,139,119,119,113,112,88,81,76,69,67,62,58,55,52,50,45,38,38,36,31,30,28,27,26,25,23,22,19,18,15,15,13,12,11],\"sizemode\":\"area\",\"sizeref\":29.9975,\"symbol\":\"circle\",\"line\":{\"color\":\"#cc6600\",\"width\":2}},\"mode\":\"markers\",\"name\":\"\",\"orientation\":\"v\",\"showlegend\":false,\"x\":[4.549820899963379,5.178508281707764,6.0497145652771,5.309366703033447,6.1126604080200195,3.9852144718170166,4.950716495513916,5.330931186676025,5.055996894836426,4.011765480041504,5.961517810821533,6.406883716583252,5.735091686248779,6.632428169250488,4.741971969604492,4.655141353607178,4.655465126037598,5.350675106048584,5.678746223449707,4.9141693115234375,3.8501687049865723,4.705350875854492,4.31935977935791,5.319522380828857,5.978448867797852,4.752795696258545,6.3039021492004395,1.7048271894454956,4.93524169921875,4.947343349456787,5.494755744934082,6.073801040649414,4.960845470428467,4.57837438583374,1.6161127090454102,5.1703901290893555],\"xaxis\":\"x\",\"y\":[4.576964378356934,2.9286270141601562,3.1429991722106934,3.845156669616699,3.6357991695404053,5.616402626037598,5.478124141693115,5.007302761077881,4.321549415588379,3.3542256355285645,5.514638423919678,4.766098499298096,4.714208602905273,3.8706462383270264,3.317779779434204,3.6726465225219727,4.07952880859375,4.274934768676758,2.97633957862854,4.755593776702881,5.5759687423706055,2.7243480682373047,4.3860344886779785,3.3151063919067383,1.0060968399047852,10.119153022766113,4.290473937988281,3.5853075981140137,10.636696815490723,10.699392318725586,3.767756223678589,0.885807454586029,3.8640220165252686,9.96293830871582,3.5274078845977783,10.895099639892578],\"yaxis\":\"y\",\"type\":\"scatter\"}],                        {\"template\":{\"data\":{\"barpolar\":[{\"marker\":{\"line\":{\"color\":\"white\",\"width\":0.5},\"pattern\":{\"fillmode\":\"overlay\",\"size\":10,\"solidity\":0.2}},\"type\":\"barpolar\"}],\"bar\":[{\"error_x\":{\"color\":\"rgb(36,36,36)\"},\"error_y\":{\"color\":\"rgb(36,36,36)\"},\"marker\":{\"line\":{\"color\":\"white\",\"width\":0.5},\"pattern\":{\"fillmode\":\"overlay\",\"size\":10,\"solidity\":0.2}},\"type\":\"bar\"}],\"carpet\":[{\"aaxis\":{\"endlinecolor\":\"rgb(36,36,36)\",\"gridcolor\":\"white\",\"linecolor\":\"white\",\"minorgridcolor\":\"white\",\"startlinecolor\":\"rgb(36,36,36)\"},\"baxis\":{\"endlinecolor\":\"rgb(36,36,36)\",\"gridcolor\":\"white\",\"linecolor\":\"white\",\"minorgridcolor\":\"white\",\"startlinecolor\":\"rgb(36,36,36)\"},\"type\":\"carpet\"}],\"choropleth\":[{\"colorbar\":{\"outlinewidth\":1,\"tickcolor\":\"rgb(36,36,36)\",\"ticks\":\"outside\"},\"type\":\"choropleth\"}],\"contourcarpet\":[{\"colorbar\":{\"outlinewidth\":1,\"tickcolor\":\"rgb(36,36,36)\",\"ticks\":\"outside\"},\"type\":\"contourcarpet\"}],\"contour\":[{\"colorbar\":{\"outlinewidth\":1,\"tickcolor\":\"rgb(36,36,36)\",\"ticks\":\"outside\"},\"colorscale\":[[0.0,\"#440154\"],[0.1111111111111111,\"#482878\"],[0.2222222222222222,\"#3e4989\"],[0.3333333333333333,\"#31688e\"],[0.4444444444444444,\"#26828e\"],[0.5555555555555556,\"#1f9e89\"],[0.6666666666666666,\"#35b779\"],[0.7777777777777778,\"#6ece58\"],[0.8888888888888888,\"#b5de2b\"],[1.0,\"#fde725\"]],\"type\":\"contour\"}],\"heatmapgl\":[{\"colorbar\":{\"outlinewidth\":1,\"tickcolor\":\"rgb(36,36,36)\",\"ticks\":\"outside\"},\"colorscale\":[[0.0,\"#440154\"],[0.1111111111111111,\"#482878\"],[0.2222222222222222,\"#3e4989\"],[0.3333333333333333,\"#31688e\"],[0.4444444444444444,\"#26828e\"],[0.5555555555555556,\"#1f9e89\"],[0.6666666666666666,\"#35b779\"],[0.7777777777777778,\"#6ece58\"],[0.8888888888888888,\"#b5de2b\"],[1.0,\"#fde725\"]],\"type\":\"heatmapgl\"}],\"heatmap\":[{\"colorbar\":{\"outlinewidth\":1,\"tickcolor\":\"rgb(36,36,36)\",\"ticks\":\"outside\"},\"colorscale\":[[0.0,\"#440154\"],[0.1111111111111111,\"#482878\"],[0.2222222222222222,\"#3e4989\"],[0.3333333333333333,\"#31688e\"],[0.4444444444444444,\"#26828e\"],[0.5555555555555556,\"#1f9e89\"],[0.6666666666666666,\"#35b779\"],[0.7777777777777778,\"#6ece58\"],[0.8888888888888888,\"#b5de2b\"],[1.0,\"#fde725\"]],\"type\":\"heatmap\"}],\"histogram2dcontour\":[{\"colorbar\":{\"outlinewidth\":1,\"tickcolor\":\"rgb(36,36,36)\",\"ticks\":\"outside\"},\"colorscale\":[[0.0,\"#440154\"],[0.1111111111111111,\"#482878\"],[0.2222222222222222,\"#3e4989\"],[0.3333333333333333,\"#31688e\"],[0.4444444444444444,\"#26828e\"],[0.5555555555555556,\"#1f9e89\"],[0.6666666666666666,\"#35b779\"],[0.7777777777777778,\"#6ece58\"],[0.8888888888888888,\"#b5de2b\"],[1.0,\"#fde725\"]],\"type\":\"histogram2dcontour\"}],\"histogram2d\":[{\"colorbar\":{\"outlinewidth\":1,\"tickcolor\":\"rgb(36,36,36)\",\"ticks\":\"outside\"},\"colorscale\":[[0.0,\"#440154\"],[0.1111111111111111,\"#482878\"],[0.2222222222222222,\"#3e4989\"],[0.3333333333333333,\"#31688e\"],[0.4444444444444444,\"#26828e\"],[0.5555555555555556,\"#1f9e89\"],[0.6666666666666666,\"#35b779\"],[0.7777777777777778,\"#6ece58\"],[0.8888888888888888,\"#b5de2b\"],[1.0,\"#fde725\"]],\"type\":\"histogram2d\"}],\"histogram\":[{\"marker\":{\"line\":{\"color\":\"white\",\"width\":0.6}},\"type\":\"histogram\"}],\"mesh3d\":[{\"colorbar\":{\"outlinewidth\":1,\"tickcolor\":\"rgb(36,36,36)\",\"ticks\":\"outside\"},\"type\":\"mesh3d\"}],\"parcoords\":[{\"line\":{\"colorbar\":{\"outlinewidth\":1,\"tickcolor\":\"rgb(36,36,36)\",\"ticks\":\"outside\"}},\"type\":\"parcoords\"}],\"pie\":[{\"automargin\":true,\"type\":\"pie\"}],\"scatter3d\":[{\"line\":{\"colorbar\":{\"outlinewidth\":1,\"tickcolor\":\"rgb(36,36,36)\",\"ticks\":\"outside\"}},\"marker\":{\"colorbar\":{\"outlinewidth\":1,\"tickcolor\":\"rgb(36,36,36)\",\"ticks\":\"outside\"}},\"type\":\"scatter3d\"}],\"scattercarpet\":[{\"marker\":{\"colorbar\":{\"outlinewidth\":1,\"tickcolor\":\"rgb(36,36,36)\",\"ticks\":\"outside\"}},\"type\":\"scattercarpet\"}],\"scattergeo\":[{\"marker\":{\"colorbar\":{\"outlinewidth\":1,\"tickcolor\":\"rgb(36,36,36)\",\"ticks\":\"outside\"}},\"type\":\"scattergeo\"}],\"scattergl\":[{\"marker\":{\"colorbar\":{\"outlinewidth\":1,\"tickcolor\":\"rgb(36,36,36)\",\"ticks\":\"outside\"}},\"type\":\"scattergl\"}],\"scattermapbox\":[{\"marker\":{\"colorbar\":{\"outlinewidth\":1,\"tickcolor\":\"rgb(36,36,36)\",\"ticks\":\"outside\"}},\"type\":\"scattermapbox\"}],\"scatterpolargl\":[{\"marker\":{\"colorbar\":{\"outlinewidth\":1,\"tickcolor\":\"rgb(36,36,36)\",\"ticks\":\"outside\"}},\"type\":\"scatterpolargl\"}],\"scatterpolar\":[{\"marker\":{\"colorbar\":{\"outlinewidth\":1,\"tickcolor\":\"rgb(36,36,36)\",\"ticks\":\"outside\"}},\"type\":\"scatterpolar\"}],\"scatter\":[{\"fillpattern\":{\"fillmode\":\"overlay\",\"size\":10,\"solidity\":0.2},\"type\":\"scatter\"}],\"scatterternary\":[{\"marker\":{\"colorbar\":{\"outlinewidth\":1,\"tickcolor\":\"rgb(36,36,36)\",\"ticks\":\"outside\"}},\"type\":\"scatterternary\"}],\"surface\":[{\"colorbar\":{\"outlinewidth\":1,\"tickcolor\":\"rgb(36,36,36)\",\"ticks\":\"outside\"},\"colorscale\":[[0.0,\"#440154\"],[0.1111111111111111,\"#482878\"],[0.2222222222222222,\"#3e4989\"],[0.3333333333333333,\"#31688e\"],[0.4444444444444444,\"#26828e\"],[0.5555555555555556,\"#1f9e89\"],[0.6666666666666666,\"#35b779\"],[0.7777777777777778,\"#6ece58\"],[0.8888888888888888,\"#b5de2b\"],[1.0,\"#fde725\"]],\"type\":\"surface\"}],\"table\":[{\"cells\":{\"fill\":{\"color\":\"rgb(237,237,237)\"},\"line\":{\"color\":\"white\"}},\"header\":{\"fill\":{\"color\":\"rgb(217,217,217)\"},\"line\":{\"color\":\"white\"}},\"type\":\"table\"}]},\"layout\":{\"annotationdefaults\":{\"arrowhead\":0,\"arrowwidth\":1},\"autotypenumbers\":\"strict\",\"coloraxis\":{\"colorbar\":{\"outlinewidth\":1,\"tickcolor\":\"rgb(36,36,36)\",\"ticks\":\"outside\"}},\"colorscale\":{\"diverging\":[[0.0,\"rgb(103,0,31)\"],[0.1,\"rgb(178,24,43)\"],[0.2,\"rgb(214,96,77)\"],[0.3,\"rgb(244,165,130)\"],[0.4,\"rgb(253,219,199)\"],[0.5,\"rgb(247,247,247)\"],[0.6,\"rgb(209,229,240)\"],[0.7,\"rgb(146,197,222)\"],[0.8,\"rgb(67,147,195)\"],[0.9,\"rgb(33,102,172)\"],[1.0,\"rgb(5,48,97)\"]],\"sequential\":[[0.0,\"#440154\"],[0.1111111111111111,\"#482878\"],[0.2222222222222222,\"#3e4989\"],[0.3333333333333333,\"#31688e\"],[0.4444444444444444,\"#26828e\"],[0.5555555555555556,\"#1f9e89\"],[0.6666666666666666,\"#35b779\"],[0.7777777777777778,\"#6ece58\"],[0.8888888888888888,\"#b5de2b\"],[1.0,\"#fde725\"]],\"sequentialminus\":[[0.0,\"#440154\"],[0.1111111111111111,\"#482878\"],[0.2222222222222222,\"#3e4989\"],[0.3333333333333333,\"#31688e\"],[0.4444444444444444,\"#26828e\"],[0.5555555555555556,\"#1f9e89\"],[0.6666666666666666,\"#35b779\"],[0.7777777777777778,\"#6ece58\"],[0.8888888888888888,\"#b5de2b\"],[1.0,\"#fde725\"]]},\"colorway\":[\"#1F77B4\",\"#FF7F0E\",\"#2CA02C\",\"#D62728\",\"#9467BD\",\"#8C564B\",\"#E377C2\",\"#7F7F7F\",\"#BCBD22\",\"#17BECF\"],\"font\":{\"color\":\"rgb(36,36,36)\"},\"geo\":{\"bgcolor\":\"white\",\"lakecolor\":\"white\",\"landcolor\":\"white\",\"showlakes\":true,\"showland\":true,\"subunitcolor\":\"white\"},\"hoverlabel\":{\"align\":\"left\"},\"hovermode\":\"closest\",\"mapbox\":{\"style\":\"light\"},\"paper_bgcolor\":\"white\",\"plot_bgcolor\":\"white\",\"polar\":{\"angularaxis\":{\"gridcolor\":\"rgb(232,232,232)\",\"linecolor\":\"rgb(36,36,36)\",\"showgrid\":false,\"showline\":true,\"ticks\":\"outside\"},\"bgcolor\":\"white\",\"radialaxis\":{\"gridcolor\":\"rgb(232,232,232)\",\"linecolor\":\"rgb(36,36,36)\",\"showgrid\":false,\"showline\":true,\"ticks\":\"outside\"}},\"scene\":{\"xaxis\":{\"backgroundcolor\":\"white\",\"gridcolor\":\"rgb(232,232,232)\",\"gridwidth\":2,\"linecolor\":\"rgb(36,36,36)\",\"showbackground\":true,\"showgrid\":false,\"showline\":true,\"ticks\":\"outside\",\"zeroline\":false,\"zerolinecolor\":\"rgb(36,36,36)\"},\"yaxis\":{\"backgroundcolor\":\"white\",\"gridcolor\":\"rgb(232,232,232)\",\"gridwidth\":2,\"linecolor\":\"rgb(36,36,36)\",\"showbackground\":true,\"showgrid\":false,\"showline\":true,\"ticks\":\"outside\",\"zeroline\":false,\"zerolinecolor\":\"rgb(36,36,36)\"},\"zaxis\":{\"backgroundcolor\":\"white\",\"gridcolor\":\"rgb(232,232,232)\",\"gridwidth\":2,\"linecolor\":\"rgb(36,36,36)\",\"showbackground\":true,\"showgrid\":false,\"showline\":true,\"ticks\":\"outside\",\"zeroline\":false,\"zerolinecolor\":\"rgb(36,36,36)\"}},\"shapedefaults\":{\"fillcolor\":\"black\",\"line\":{\"width\":0},\"opacity\":0.3},\"ternary\":{\"aaxis\":{\"gridcolor\":\"rgb(232,232,232)\",\"linecolor\":\"rgb(36,36,36)\",\"showgrid\":false,\"showline\":true,\"ticks\":\"outside\"},\"baxis\":{\"gridcolor\":\"rgb(232,232,232)\",\"linecolor\":\"rgb(36,36,36)\",\"showgrid\":false,\"showline\":true,\"ticks\":\"outside\"},\"bgcolor\":\"white\",\"caxis\":{\"gridcolor\":\"rgb(232,232,232)\",\"linecolor\":\"rgb(36,36,36)\",\"showgrid\":false,\"showline\":true,\"ticks\":\"outside\"}},\"title\":{\"x\":0.05},\"xaxis\":{\"automargin\":true,\"gridcolor\":\"rgb(232,232,232)\",\"linecolor\":\"rgb(36,36,36)\",\"showgrid\":false,\"showline\":true,\"ticks\":\"outside\",\"title\":{\"standoff\":15},\"zeroline\":false,\"zerolinecolor\":\"rgb(36,36,36)\"},\"yaxis\":{\"automargin\":true,\"gridcolor\":\"rgb(232,232,232)\",\"linecolor\":\"rgb(36,36,36)\",\"showgrid\":false,\"showline\":true,\"ticks\":\"outside\",\"title\":{\"standoff\":15},\"zeroline\":false,\"zerolinecolor\":\"rgb(36,36,36)\"}}},\"xaxis\":{\"anchor\":\"y\",\"domain\":[0.0,1.0],\"title\":{\"text\":\"\"},\"visible\":false,\"range\":[1.3736958026885986,7.6272923946380615]},\"yaxis\":{\"anchor\":\"x\",\"domain\":[0.0,1.0],\"title\":{\"text\":\"\"},\"visible\":false,\"range\":[0.7529363363981247,12.529364585876465]},\"legend\":{\"tracegroupgap\":0,\"itemsizing\":\"constant\"},\"margin\":{\"t\":60},\"title\":{\"font\":{\"size\":22,\"color\":\"Black\"},\"text\":\"<b>Intertopic Distance Map\",\"y\":0.95,\"x\":0.5,\"xanchor\":\"center\",\"yanchor\":\"top\"},\"hoverlabel\":{\"font\":{\"size\":16,\"family\":\"Rockwell\"},\"bgcolor\":\"white\"},\"width\":650,\"height\":650,\"sliders\":[{\"active\":0,\"pad\":{\"t\":50},\"steps\":[{\"args\":[{\"marker.color\":[[\"#cc6600\",\"#ffcc99\",\"#ffcc99\",\"#ffcc99\",\"#ffcc99\",\"#ffcc99\",\"#ffcc99\",\"#ffcc99\",\"#ffcc99\",\"#ffcc99\",\"#ffcc99\",\"#ffcc99\",\"#ffcc99\",\"#ffcc99\",\"#ffcc99\",\"#ffcc99\",\"#ffcc99\",\"#ffcc99\",\"#ffcc99\",\"#ffcc99\",\"#ffcc99\",\"#ffcc99\",\"#ffcc99\",\"#ffcc99\",\"#ffcc99\",\"#ffcc99\",\"#ffcc99\",\"#ffcc99\",\"#ffcc99\",\"#ffcc99\",\"#ffcc99\",\"#ffcc99\",\"#ffcc99\",\"#ffcc99\",\"#ffcc99\",\"#ffcc99\"]]}],\"label\":\"Topic 0\",\"method\":\"update\"},{\"args\":[{\"marker.color\":[[\"#ffcc99\",\"#cc6600\",\"#ffcc99\",\"#ffcc99\",\"#ffcc99\",\"#ffcc99\",\"#ffcc99\",\"#ffcc99\",\"#ffcc99\",\"#ffcc99\",\"#ffcc99\",\"#ffcc99\",\"#ffcc99\",\"#ffcc99\",\"#ffcc99\",\"#ffcc99\",\"#ffcc99\",\"#ffcc99\",\"#ffcc99\",\"#ffcc99\",\"#ffcc99\",\"#ffcc99\",\"#ffcc99\",\"#ffcc99\",\"#ffcc99\",\"#ffcc99\",\"#ffcc99\",\"#ffcc99\",\"#ffcc99\",\"#ffcc99\",\"#ffcc99\",\"#ffcc99\",\"#ffcc99\",\"#ffcc99\",\"#ffcc99\",\"#ffcc99\"]]}],\"label\":\"Topic 1\",\"method\":\"update\"},{\"args\":[{\"marker.color\":[[\"#ffcc99\",\"#ffcc99\",\"#cc6600\",\"#ffcc99\",\"#ffcc99\",\"#ffcc99\",\"#ffcc99\",\"#ffcc99\",\"#ffcc99\",\"#ffcc99\",\"#ffcc99\",\"#ffcc99\",\"#ffcc99\",\"#ffcc99\",\"#ffcc99\",\"#ffcc99\",\"#ffcc99\",\"#ffcc99\",\"#ffcc99\",\"#ffcc99\",\"#ffcc99\",\"#ffcc99\",\"#ffcc99\",\"#ffcc99\",\"#ffcc99\",\"#ffcc99\",\"#ffcc99\",\"#ffcc99\",\"#ffcc99\",\"#ffcc99\",\"#ffcc99\",\"#ffcc99\",\"#ffcc99\",\"#ffcc99\",\"#ffcc99\",\"#ffcc99\"]]}],\"label\":\"Topic 2\",\"method\":\"update\"},{\"args\":[{\"marker.color\":[[\"#ffcc99\",\"#ffcc99\",\"#ffcc99\",\"#cc6600\",\"#ffcc99\",\"#ffcc99\",\"#ffcc99\",\"#ffcc99\",\"#ffcc99\",\"#ffcc99\",\"#ffcc99\",\"#ffcc99\",\"#ffcc99\",\"#ffcc99\",\"#ffcc99\",\"#ffcc99\",\"#ffcc99\",\"#ffcc99\",\"#ffcc99\",\"#ffcc99\",\"#ffcc99\",\"#ffcc99\",\"#ffcc99\",\"#ffcc99\",\"#ffcc99\",\"#ffcc99\",\"#ffcc99\",\"#ffcc99\",\"#ffcc99\",\"#ffcc99\",\"#ffcc99\",\"#ffcc99\",\"#ffcc99\",\"#ffcc99\",\"#ffcc99\",\"#ffcc99\"]]}],\"label\":\"Topic 3\",\"method\":\"update\"},{\"args\":[{\"marker.color\":[[\"#ffcc99\",\"#ffcc99\",\"#ffcc99\",\"#ffcc99\",\"#cc6600\",\"#ffcc99\",\"#ffcc99\",\"#ffcc99\",\"#ffcc99\",\"#ffcc99\",\"#ffcc99\",\"#ffcc99\",\"#ffcc99\",\"#ffcc99\",\"#ffcc99\",\"#ffcc99\",\"#ffcc99\",\"#ffcc99\",\"#ffcc99\",\"#ffcc99\",\"#ffcc99\",\"#ffcc99\",\"#ffcc99\",\"#ffcc99\",\"#ffcc99\",\"#ffcc99\",\"#ffcc99\",\"#ffcc99\",\"#ffcc99\",\"#ffcc99\",\"#ffcc99\",\"#ffcc99\",\"#ffcc99\",\"#ffcc99\",\"#ffcc99\",\"#ffcc99\"]]}],\"label\":\"Topic 4\",\"method\":\"update\"},{\"args\":[{\"marker.color\":[[\"#ffcc99\",\"#ffcc99\",\"#ffcc99\",\"#ffcc99\",\"#ffcc99\",\"#cc6600\",\"#ffcc99\",\"#ffcc99\",\"#ffcc99\",\"#ffcc99\",\"#ffcc99\",\"#ffcc99\",\"#ffcc99\",\"#ffcc99\",\"#ffcc99\",\"#ffcc99\",\"#ffcc99\",\"#ffcc99\",\"#ffcc99\",\"#ffcc99\",\"#ffcc99\",\"#ffcc99\",\"#ffcc99\",\"#ffcc99\",\"#ffcc99\",\"#ffcc99\",\"#ffcc99\",\"#ffcc99\",\"#ffcc99\",\"#ffcc99\",\"#ffcc99\",\"#ffcc99\",\"#ffcc99\",\"#ffcc99\",\"#ffcc99\",\"#ffcc99\"]]}],\"label\":\"Topic 5\",\"method\":\"update\"},{\"args\":[{\"marker.color\":[[\"#ffcc99\",\"#ffcc99\",\"#ffcc99\",\"#ffcc99\",\"#ffcc99\",\"#ffcc99\",\"#cc6600\",\"#ffcc99\",\"#ffcc99\",\"#ffcc99\",\"#ffcc99\",\"#ffcc99\",\"#ffcc99\",\"#ffcc99\",\"#ffcc99\",\"#ffcc99\",\"#ffcc99\",\"#ffcc99\",\"#ffcc99\",\"#ffcc99\",\"#ffcc99\",\"#ffcc99\",\"#ffcc99\",\"#ffcc99\",\"#ffcc99\",\"#ffcc99\",\"#ffcc99\",\"#ffcc99\",\"#ffcc99\",\"#ffcc99\",\"#ffcc99\",\"#ffcc99\",\"#ffcc99\",\"#ffcc99\",\"#ffcc99\",\"#ffcc99\"]]}],\"label\":\"Topic 6\",\"method\":\"update\"},{\"args\":[{\"marker.color\":[[\"#ffcc99\",\"#ffcc99\",\"#ffcc99\",\"#ffcc99\",\"#ffcc99\",\"#ffcc99\",\"#ffcc99\",\"#cc6600\",\"#ffcc99\",\"#ffcc99\",\"#ffcc99\",\"#ffcc99\",\"#ffcc99\",\"#ffcc99\",\"#ffcc99\",\"#ffcc99\",\"#ffcc99\",\"#ffcc99\",\"#ffcc99\",\"#ffcc99\",\"#ffcc99\",\"#ffcc99\",\"#ffcc99\",\"#ffcc99\",\"#ffcc99\",\"#ffcc99\",\"#ffcc99\",\"#ffcc99\",\"#ffcc99\",\"#ffcc99\",\"#ffcc99\",\"#ffcc99\",\"#ffcc99\",\"#ffcc99\",\"#ffcc99\",\"#ffcc99\"]]}],\"label\":\"Topic 7\",\"method\":\"update\"},{\"args\":[{\"marker.color\":[[\"#ffcc99\",\"#ffcc99\",\"#ffcc99\",\"#ffcc99\",\"#ffcc99\",\"#ffcc99\",\"#ffcc99\",\"#ffcc99\",\"#cc6600\",\"#ffcc99\",\"#ffcc99\",\"#ffcc99\",\"#ffcc99\",\"#ffcc99\",\"#ffcc99\",\"#ffcc99\",\"#ffcc99\",\"#ffcc99\",\"#ffcc99\",\"#ffcc99\",\"#ffcc99\",\"#ffcc99\",\"#ffcc99\",\"#ffcc99\",\"#ffcc99\",\"#ffcc99\",\"#ffcc99\",\"#ffcc99\",\"#ffcc99\",\"#ffcc99\",\"#ffcc99\",\"#ffcc99\",\"#ffcc99\",\"#ffcc99\",\"#ffcc99\",\"#ffcc99\"]]}],\"label\":\"Topic 8\",\"method\":\"update\"},{\"args\":[{\"marker.color\":[[\"#ffcc99\",\"#ffcc99\",\"#ffcc99\",\"#ffcc99\",\"#ffcc99\",\"#ffcc99\",\"#ffcc99\",\"#ffcc99\",\"#ffcc99\",\"#cc6600\",\"#ffcc99\",\"#ffcc99\",\"#ffcc99\",\"#ffcc99\",\"#ffcc99\",\"#ffcc99\",\"#ffcc99\",\"#ffcc99\",\"#ffcc99\",\"#ffcc99\",\"#ffcc99\",\"#ffcc99\",\"#ffcc99\",\"#ffcc99\",\"#ffcc99\",\"#ffcc99\",\"#ffcc99\",\"#ffcc99\",\"#ffcc99\",\"#ffcc99\",\"#ffcc99\",\"#ffcc99\",\"#ffcc99\",\"#ffcc99\",\"#ffcc99\",\"#ffcc99\"]]}],\"label\":\"Topic 9\",\"method\":\"update\"},{\"args\":[{\"marker.color\":[[\"#ffcc99\",\"#ffcc99\",\"#ffcc99\",\"#ffcc99\",\"#ffcc99\",\"#ffcc99\",\"#ffcc99\",\"#ffcc99\",\"#ffcc99\",\"#ffcc99\",\"#cc6600\",\"#ffcc99\",\"#ffcc99\",\"#ffcc99\",\"#ffcc99\",\"#ffcc99\",\"#ffcc99\",\"#ffcc99\",\"#ffcc99\",\"#ffcc99\",\"#ffcc99\",\"#ffcc99\",\"#ffcc99\",\"#ffcc99\",\"#ffcc99\",\"#ffcc99\",\"#ffcc99\",\"#ffcc99\",\"#ffcc99\",\"#ffcc99\",\"#ffcc99\",\"#ffcc99\",\"#ffcc99\",\"#ffcc99\",\"#ffcc99\",\"#ffcc99\"]]}],\"label\":\"Topic 10\",\"method\":\"update\"},{\"args\":[{\"marker.color\":[[\"#ffcc99\",\"#ffcc99\",\"#ffcc99\",\"#ffcc99\",\"#ffcc99\",\"#ffcc99\",\"#ffcc99\",\"#ffcc99\",\"#ffcc99\",\"#ffcc99\",\"#ffcc99\",\"#cc6600\",\"#ffcc99\",\"#ffcc99\",\"#ffcc99\",\"#ffcc99\",\"#ffcc99\",\"#ffcc99\",\"#ffcc99\",\"#ffcc99\",\"#ffcc99\",\"#ffcc99\",\"#ffcc99\",\"#ffcc99\",\"#ffcc99\",\"#ffcc99\",\"#ffcc99\",\"#ffcc99\",\"#ffcc99\",\"#ffcc99\",\"#ffcc99\",\"#ffcc99\",\"#ffcc99\",\"#ffcc99\",\"#ffcc99\",\"#ffcc99\"]]}],\"label\":\"Topic 11\",\"method\":\"update\"},{\"args\":[{\"marker.color\":[[\"#ffcc99\",\"#ffcc99\",\"#ffcc99\",\"#ffcc99\",\"#ffcc99\",\"#ffcc99\",\"#ffcc99\",\"#ffcc99\",\"#ffcc99\",\"#ffcc99\",\"#ffcc99\",\"#ffcc99\",\"#cc6600\",\"#ffcc99\",\"#ffcc99\",\"#ffcc99\",\"#ffcc99\",\"#ffcc99\",\"#ffcc99\",\"#ffcc99\",\"#ffcc99\",\"#ffcc99\",\"#ffcc99\",\"#ffcc99\",\"#ffcc99\",\"#ffcc99\",\"#ffcc99\",\"#ffcc99\",\"#ffcc99\",\"#ffcc99\",\"#ffcc99\",\"#ffcc99\",\"#ffcc99\",\"#ffcc99\",\"#ffcc99\",\"#ffcc99\"]]}],\"label\":\"Topic 12\",\"method\":\"update\"},{\"args\":[{\"marker.color\":[[\"#ffcc99\",\"#ffcc99\",\"#ffcc99\",\"#ffcc99\",\"#ffcc99\",\"#ffcc99\",\"#ffcc99\",\"#ffcc99\",\"#ffcc99\",\"#ffcc99\",\"#ffcc99\",\"#ffcc99\",\"#ffcc99\",\"#cc6600\",\"#ffcc99\",\"#ffcc99\",\"#ffcc99\",\"#ffcc99\",\"#ffcc99\",\"#ffcc99\",\"#ffcc99\",\"#ffcc99\",\"#ffcc99\",\"#ffcc99\",\"#ffcc99\",\"#ffcc99\",\"#ffcc99\",\"#ffcc99\",\"#ffcc99\",\"#ffcc99\",\"#ffcc99\",\"#ffcc99\",\"#ffcc99\",\"#ffcc99\",\"#ffcc99\",\"#ffcc99\"]]}],\"label\":\"Topic 13\",\"method\":\"update\"},{\"args\":[{\"marker.color\":[[\"#ffcc99\",\"#ffcc99\",\"#ffcc99\",\"#ffcc99\",\"#ffcc99\",\"#ffcc99\",\"#ffcc99\",\"#ffcc99\",\"#ffcc99\",\"#ffcc99\",\"#ffcc99\",\"#ffcc99\",\"#ffcc99\",\"#ffcc99\",\"#cc6600\",\"#ffcc99\",\"#ffcc99\",\"#ffcc99\",\"#ffcc99\",\"#ffcc99\",\"#ffcc99\",\"#ffcc99\",\"#ffcc99\",\"#ffcc99\",\"#ffcc99\",\"#ffcc99\",\"#ffcc99\",\"#ffcc99\",\"#ffcc99\",\"#ffcc99\",\"#ffcc99\",\"#ffcc99\",\"#ffcc99\",\"#ffcc99\",\"#ffcc99\",\"#ffcc99\"]]}],\"label\":\"Topic 14\",\"method\":\"update\"},{\"args\":[{\"marker.color\":[[\"#ffcc99\",\"#ffcc99\",\"#ffcc99\",\"#ffcc99\",\"#ffcc99\",\"#ffcc99\",\"#ffcc99\",\"#ffcc99\",\"#ffcc99\",\"#ffcc99\",\"#ffcc99\",\"#ffcc99\",\"#ffcc99\",\"#ffcc99\",\"#ffcc99\",\"#cc6600\",\"#ffcc99\",\"#ffcc99\",\"#ffcc99\",\"#ffcc99\",\"#ffcc99\",\"#ffcc99\",\"#ffcc99\",\"#ffcc99\",\"#ffcc99\",\"#ffcc99\",\"#ffcc99\",\"#ffcc99\",\"#ffcc99\",\"#ffcc99\",\"#ffcc99\",\"#ffcc99\",\"#ffcc99\",\"#ffcc99\",\"#ffcc99\",\"#ffcc99\"]]}],\"label\":\"Topic 15\",\"method\":\"update\"},{\"args\":[{\"marker.color\":[[\"#ffcc99\",\"#ffcc99\",\"#ffcc99\",\"#ffcc99\",\"#ffcc99\",\"#ffcc99\",\"#ffcc99\",\"#ffcc99\",\"#ffcc99\",\"#ffcc99\",\"#ffcc99\",\"#ffcc99\",\"#ffcc99\",\"#ffcc99\",\"#ffcc99\",\"#ffcc99\",\"#cc6600\",\"#ffcc99\",\"#ffcc99\",\"#ffcc99\",\"#ffcc99\",\"#ffcc99\",\"#ffcc99\",\"#ffcc99\",\"#ffcc99\",\"#ffcc99\",\"#ffcc99\",\"#ffcc99\",\"#ffcc99\",\"#ffcc99\",\"#ffcc99\",\"#ffcc99\",\"#ffcc99\",\"#ffcc99\",\"#ffcc99\",\"#ffcc99\"]]}],\"label\":\"Topic 16\",\"method\":\"update\"},{\"args\":[{\"marker.color\":[[\"#ffcc99\",\"#ffcc99\",\"#ffcc99\",\"#ffcc99\",\"#ffcc99\",\"#ffcc99\",\"#ffcc99\",\"#ffcc99\",\"#ffcc99\",\"#ffcc99\",\"#ffcc99\",\"#ffcc99\",\"#ffcc99\",\"#ffcc99\",\"#ffcc99\",\"#ffcc99\",\"#ffcc99\",\"#cc6600\",\"#ffcc99\",\"#ffcc99\",\"#ffcc99\",\"#ffcc99\",\"#ffcc99\",\"#ffcc99\",\"#ffcc99\",\"#ffcc99\",\"#ffcc99\",\"#ffcc99\",\"#ffcc99\",\"#ffcc99\",\"#ffcc99\",\"#ffcc99\",\"#ffcc99\",\"#ffcc99\",\"#ffcc99\",\"#ffcc99\"]]}],\"label\":\"Topic 17\",\"method\":\"update\"},{\"args\":[{\"marker.color\":[[\"#ffcc99\",\"#ffcc99\",\"#ffcc99\",\"#ffcc99\",\"#ffcc99\",\"#ffcc99\",\"#ffcc99\",\"#ffcc99\",\"#ffcc99\",\"#ffcc99\",\"#ffcc99\",\"#ffcc99\",\"#ffcc99\",\"#ffcc99\",\"#ffcc99\",\"#ffcc99\",\"#ffcc99\",\"#ffcc99\",\"#cc6600\",\"#ffcc99\",\"#ffcc99\",\"#ffcc99\",\"#ffcc99\",\"#ffcc99\",\"#ffcc99\",\"#ffcc99\",\"#ffcc99\",\"#ffcc99\",\"#ffcc99\",\"#ffcc99\",\"#ffcc99\",\"#ffcc99\",\"#ffcc99\",\"#ffcc99\",\"#ffcc99\",\"#ffcc99\"]]}],\"label\":\"Topic 18\",\"method\":\"update\"},{\"args\":[{\"marker.color\":[[\"#ffcc99\",\"#ffcc99\",\"#ffcc99\",\"#ffcc99\",\"#ffcc99\",\"#ffcc99\",\"#ffcc99\",\"#ffcc99\",\"#ffcc99\",\"#ffcc99\",\"#ffcc99\",\"#ffcc99\",\"#ffcc99\",\"#ffcc99\",\"#ffcc99\",\"#ffcc99\",\"#ffcc99\",\"#ffcc99\",\"#ffcc99\",\"#cc6600\",\"#ffcc99\",\"#ffcc99\",\"#ffcc99\",\"#ffcc99\",\"#ffcc99\",\"#ffcc99\",\"#ffcc99\",\"#ffcc99\",\"#ffcc99\",\"#ffcc99\",\"#ffcc99\",\"#ffcc99\",\"#ffcc99\",\"#ffcc99\",\"#ffcc99\",\"#ffcc99\"]]}],\"label\":\"Topic 19\",\"method\":\"update\"},{\"args\":[{\"marker.color\":[[\"#ffcc99\",\"#ffcc99\",\"#ffcc99\",\"#ffcc99\",\"#ffcc99\",\"#ffcc99\",\"#ffcc99\",\"#ffcc99\",\"#ffcc99\",\"#ffcc99\",\"#ffcc99\",\"#ffcc99\",\"#ffcc99\",\"#ffcc99\",\"#ffcc99\",\"#ffcc99\",\"#ffcc99\",\"#ffcc99\",\"#ffcc99\",\"#ffcc99\",\"#cc6600\",\"#ffcc99\",\"#ffcc99\",\"#ffcc99\",\"#ffcc99\",\"#ffcc99\",\"#ffcc99\",\"#ffcc99\",\"#ffcc99\",\"#ffcc99\",\"#ffcc99\",\"#ffcc99\",\"#ffcc99\",\"#ffcc99\",\"#ffcc99\",\"#ffcc99\"]]}],\"label\":\"Topic 20\",\"method\":\"update\"},{\"args\":[{\"marker.color\":[[\"#ffcc99\",\"#ffcc99\",\"#ffcc99\",\"#ffcc99\",\"#ffcc99\",\"#ffcc99\",\"#ffcc99\",\"#ffcc99\",\"#ffcc99\",\"#ffcc99\",\"#ffcc99\",\"#ffcc99\",\"#ffcc99\",\"#ffcc99\",\"#ffcc99\",\"#ffcc99\",\"#ffcc99\",\"#ffcc99\",\"#ffcc99\",\"#ffcc99\",\"#ffcc99\",\"#cc6600\",\"#ffcc99\",\"#ffcc99\",\"#ffcc99\",\"#ffcc99\",\"#ffcc99\",\"#ffcc99\",\"#ffcc99\",\"#ffcc99\",\"#ffcc99\",\"#ffcc99\",\"#ffcc99\",\"#ffcc99\",\"#ffcc99\",\"#ffcc99\"]]}],\"label\":\"Topic 21\",\"method\":\"update\"},{\"args\":[{\"marker.color\":[[\"#ffcc99\",\"#ffcc99\",\"#ffcc99\",\"#ffcc99\",\"#ffcc99\",\"#ffcc99\",\"#ffcc99\",\"#ffcc99\",\"#ffcc99\",\"#ffcc99\",\"#ffcc99\",\"#ffcc99\",\"#ffcc99\",\"#ffcc99\",\"#ffcc99\",\"#ffcc99\",\"#ffcc99\",\"#ffcc99\",\"#ffcc99\",\"#ffcc99\",\"#ffcc99\",\"#ffcc99\",\"#cc6600\",\"#ffcc99\",\"#ffcc99\",\"#ffcc99\",\"#ffcc99\",\"#ffcc99\",\"#ffcc99\",\"#ffcc99\",\"#ffcc99\",\"#ffcc99\",\"#ffcc99\",\"#ffcc99\",\"#ffcc99\",\"#ffcc99\"]]}],\"label\":\"Topic 22\",\"method\":\"update\"},{\"args\":[{\"marker.color\":[[\"#ffcc99\",\"#ffcc99\",\"#ffcc99\",\"#ffcc99\",\"#ffcc99\",\"#ffcc99\",\"#ffcc99\",\"#ffcc99\",\"#ffcc99\",\"#ffcc99\",\"#ffcc99\",\"#ffcc99\",\"#ffcc99\",\"#ffcc99\",\"#ffcc99\",\"#ffcc99\",\"#ffcc99\",\"#ffcc99\",\"#ffcc99\",\"#ffcc99\",\"#ffcc99\",\"#ffcc99\",\"#ffcc99\",\"#cc6600\",\"#ffcc99\",\"#ffcc99\",\"#ffcc99\",\"#ffcc99\",\"#ffcc99\",\"#ffcc99\",\"#ffcc99\",\"#ffcc99\",\"#ffcc99\",\"#ffcc99\",\"#ffcc99\",\"#ffcc99\"]]}],\"label\":\"Topic 23\",\"method\":\"update\"},{\"args\":[{\"marker.color\":[[\"#ffcc99\",\"#ffcc99\",\"#ffcc99\",\"#ffcc99\",\"#ffcc99\",\"#ffcc99\",\"#ffcc99\",\"#ffcc99\",\"#ffcc99\",\"#ffcc99\",\"#ffcc99\",\"#ffcc99\",\"#ffcc99\",\"#ffcc99\",\"#ffcc99\",\"#ffcc99\",\"#ffcc99\",\"#ffcc99\",\"#ffcc99\",\"#ffcc99\",\"#ffcc99\",\"#ffcc99\",\"#ffcc99\",\"#ffcc99\",\"#cc6600\",\"#ffcc99\",\"#ffcc99\",\"#ffcc99\",\"#ffcc99\",\"#ffcc99\",\"#ffcc99\",\"#ffcc99\",\"#ffcc99\",\"#ffcc99\",\"#ffcc99\",\"#ffcc99\"]]}],\"label\":\"Topic 24\",\"method\":\"update\"},{\"args\":[{\"marker.color\":[[\"#ffcc99\",\"#ffcc99\",\"#ffcc99\",\"#ffcc99\",\"#ffcc99\",\"#ffcc99\",\"#ffcc99\",\"#ffcc99\",\"#ffcc99\",\"#ffcc99\",\"#ffcc99\",\"#ffcc99\",\"#ffcc99\",\"#ffcc99\",\"#ffcc99\",\"#ffcc99\",\"#ffcc99\",\"#ffcc99\",\"#ffcc99\",\"#ffcc99\",\"#ffcc99\",\"#ffcc99\",\"#ffcc99\",\"#ffcc99\",\"#ffcc99\",\"#cc6600\",\"#ffcc99\",\"#ffcc99\",\"#ffcc99\",\"#ffcc99\",\"#ffcc99\",\"#ffcc99\",\"#ffcc99\",\"#ffcc99\",\"#ffcc99\",\"#ffcc99\"]]}],\"label\":\"Topic 25\",\"method\":\"update\"},{\"args\":[{\"marker.color\":[[\"#ffcc99\",\"#ffcc99\",\"#ffcc99\",\"#ffcc99\",\"#ffcc99\",\"#ffcc99\",\"#ffcc99\",\"#ffcc99\",\"#ffcc99\",\"#ffcc99\",\"#ffcc99\",\"#ffcc99\",\"#ffcc99\",\"#ffcc99\",\"#ffcc99\",\"#ffcc99\",\"#ffcc99\",\"#ffcc99\",\"#ffcc99\",\"#ffcc99\",\"#ffcc99\",\"#ffcc99\",\"#ffcc99\",\"#ffcc99\",\"#ffcc99\",\"#ffcc99\",\"#cc6600\",\"#ffcc99\",\"#ffcc99\",\"#ffcc99\",\"#ffcc99\",\"#ffcc99\",\"#ffcc99\",\"#ffcc99\",\"#ffcc99\",\"#ffcc99\"]]}],\"label\":\"Topic 26\",\"method\":\"update\"},{\"args\":[{\"marker.color\":[[\"#ffcc99\",\"#ffcc99\",\"#ffcc99\",\"#ffcc99\",\"#ffcc99\",\"#ffcc99\",\"#ffcc99\",\"#ffcc99\",\"#ffcc99\",\"#ffcc99\",\"#ffcc99\",\"#ffcc99\",\"#ffcc99\",\"#ffcc99\",\"#ffcc99\",\"#ffcc99\",\"#ffcc99\",\"#ffcc99\",\"#ffcc99\",\"#ffcc99\",\"#ffcc99\",\"#ffcc99\",\"#ffcc99\",\"#ffcc99\",\"#ffcc99\",\"#ffcc99\",\"#ffcc99\",\"#cc6600\",\"#ffcc99\",\"#ffcc99\",\"#ffcc99\",\"#ffcc99\",\"#ffcc99\",\"#ffcc99\",\"#ffcc99\",\"#ffcc99\"]]}],\"label\":\"Topic 27\",\"method\":\"update\"},{\"args\":[{\"marker.color\":[[\"#ffcc99\",\"#ffcc99\",\"#ffcc99\",\"#ffcc99\",\"#ffcc99\",\"#ffcc99\",\"#ffcc99\",\"#ffcc99\",\"#ffcc99\",\"#ffcc99\",\"#ffcc99\",\"#ffcc99\",\"#ffcc99\",\"#ffcc99\",\"#ffcc99\",\"#ffcc99\",\"#ffcc99\",\"#ffcc99\",\"#ffcc99\",\"#ffcc99\",\"#ffcc99\",\"#ffcc99\",\"#ffcc99\",\"#ffcc99\",\"#ffcc99\",\"#ffcc99\",\"#ffcc99\",\"#ffcc99\",\"#cc6600\",\"#ffcc99\",\"#ffcc99\",\"#ffcc99\",\"#ffcc99\",\"#ffcc99\",\"#ffcc99\",\"#ffcc99\"]]}],\"label\":\"Topic 28\",\"method\":\"update\"},{\"args\":[{\"marker.color\":[[\"#ffcc99\",\"#ffcc99\",\"#ffcc99\",\"#ffcc99\",\"#ffcc99\",\"#ffcc99\",\"#ffcc99\",\"#ffcc99\",\"#ffcc99\",\"#ffcc99\",\"#ffcc99\",\"#ffcc99\",\"#ffcc99\",\"#ffcc99\",\"#ffcc99\",\"#ffcc99\",\"#ffcc99\",\"#ffcc99\",\"#ffcc99\",\"#ffcc99\",\"#ffcc99\",\"#ffcc99\",\"#ffcc99\",\"#ffcc99\",\"#ffcc99\",\"#ffcc99\",\"#ffcc99\",\"#ffcc99\",\"#ffcc99\",\"#cc6600\",\"#ffcc99\",\"#ffcc99\",\"#ffcc99\",\"#ffcc99\",\"#ffcc99\",\"#ffcc99\"]]}],\"label\":\"Topic 29\",\"method\":\"update\"},{\"args\":[{\"marker.color\":[[\"#ffcc99\",\"#ffcc99\",\"#ffcc99\",\"#ffcc99\",\"#ffcc99\",\"#ffcc99\",\"#ffcc99\",\"#ffcc99\",\"#ffcc99\",\"#ffcc99\",\"#ffcc99\",\"#ffcc99\",\"#ffcc99\",\"#ffcc99\",\"#ffcc99\",\"#ffcc99\",\"#ffcc99\",\"#ffcc99\",\"#ffcc99\",\"#ffcc99\",\"#ffcc99\",\"#ffcc99\",\"#ffcc99\",\"#ffcc99\",\"#ffcc99\",\"#ffcc99\",\"#ffcc99\",\"#ffcc99\",\"#ffcc99\",\"#ffcc99\",\"#cc6600\",\"#ffcc99\",\"#ffcc99\",\"#ffcc99\",\"#ffcc99\",\"#ffcc99\"]]}],\"label\":\"Topic 30\",\"method\":\"update\"},{\"args\":[{\"marker.color\":[[\"#ffcc99\",\"#ffcc99\",\"#ffcc99\",\"#ffcc99\",\"#ffcc99\",\"#ffcc99\",\"#ffcc99\",\"#ffcc99\",\"#ffcc99\",\"#ffcc99\",\"#ffcc99\",\"#ffcc99\",\"#ffcc99\",\"#ffcc99\",\"#ffcc99\",\"#ffcc99\",\"#ffcc99\",\"#ffcc99\",\"#ffcc99\",\"#ffcc99\",\"#ffcc99\",\"#ffcc99\",\"#ffcc99\",\"#ffcc99\",\"#ffcc99\",\"#ffcc99\",\"#ffcc99\",\"#ffcc99\",\"#ffcc99\",\"#ffcc99\",\"#ffcc99\",\"#cc6600\",\"#ffcc99\",\"#ffcc99\",\"#ffcc99\",\"#ffcc99\"]]}],\"label\":\"Topic 31\",\"method\":\"update\"},{\"args\":[{\"marker.color\":[[\"#ffcc99\",\"#ffcc99\",\"#ffcc99\",\"#ffcc99\",\"#ffcc99\",\"#ffcc99\",\"#ffcc99\",\"#ffcc99\",\"#ffcc99\",\"#ffcc99\",\"#ffcc99\",\"#ffcc99\",\"#ffcc99\",\"#ffcc99\",\"#ffcc99\",\"#ffcc99\",\"#ffcc99\",\"#ffcc99\",\"#ffcc99\",\"#ffcc99\",\"#ffcc99\",\"#ffcc99\",\"#ffcc99\",\"#ffcc99\",\"#ffcc99\",\"#ffcc99\",\"#ffcc99\",\"#ffcc99\",\"#ffcc99\",\"#ffcc99\",\"#ffcc99\",\"#ffcc99\",\"#cc6600\",\"#ffcc99\",\"#ffcc99\",\"#ffcc99\"]]}],\"label\":\"Topic 32\",\"method\":\"update\"},{\"args\":[{\"marker.color\":[[\"#ffcc99\",\"#ffcc99\",\"#ffcc99\",\"#ffcc99\",\"#ffcc99\",\"#ffcc99\",\"#ffcc99\",\"#ffcc99\",\"#ffcc99\",\"#ffcc99\",\"#ffcc99\",\"#ffcc99\",\"#ffcc99\",\"#ffcc99\",\"#ffcc99\",\"#ffcc99\",\"#ffcc99\",\"#ffcc99\",\"#ffcc99\",\"#ffcc99\",\"#ffcc99\",\"#ffcc99\",\"#ffcc99\",\"#ffcc99\",\"#ffcc99\",\"#ffcc99\",\"#ffcc99\",\"#ffcc99\",\"#ffcc99\",\"#ffcc99\",\"#ffcc99\",\"#ffcc99\",\"#ffcc99\",\"#cc6600\",\"#ffcc99\",\"#ffcc99\"]]}],\"label\":\"Topic 33\",\"method\":\"update\"},{\"args\":[{\"marker.color\":[[\"#ffcc99\",\"#ffcc99\",\"#ffcc99\",\"#ffcc99\",\"#ffcc99\",\"#ffcc99\",\"#ffcc99\",\"#ffcc99\",\"#ffcc99\",\"#ffcc99\",\"#ffcc99\",\"#ffcc99\",\"#ffcc99\",\"#ffcc99\",\"#ffcc99\",\"#ffcc99\",\"#ffcc99\",\"#ffcc99\",\"#ffcc99\",\"#ffcc99\",\"#ffcc99\",\"#ffcc99\",\"#ffcc99\",\"#ffcc99\",\"#ffcc99\",\"#ffcc99\",\"#ffcc99\",\"#ffcc99\",\"#ffcc99\",\"#ffcc99\",\"#ffcc99\",\"#ffcc99\",\"#ffcc99\",\"#ffcc99\",\"#cc6600\",\"#ffcc99\"]]}],\"label\":\"Topic 34\",\"method\":\"update\"},{\"args\":[{\"marker.color\":[[\"#ffcc99\",\"#ffcc99\",\"#ffcc99\",\"#ffcc99\",\"#ffcc99\",\"#ffcc99\",\"#ffcc99\",\"#ffcc99\",\"#ffcc99\",\"#ffcc99\",\"#ffcc99\",\"#ffcc99\",\"#ffcc99\",\"#ffcc99\",\"#ffcc99\",\"#ffcc99\",\"#ffcc99\",\"#ffcc99\",\"#ffcc99\",\"#ffcc99\",\"#ffcc99\",\"#ffcc99\",\"#ffcc99\",\"#ffcc99\",\"#ffcc99\",\"#ffcc99\",\"#ffcc99\",\"#ffcc99\",\"#ffcc99\",\"#ffcc99\",\"#ffcc99\",\"#ffcc99\",\"#ffcc99\",\"#ffcc99\",\"#ffcc99\",\"#cc6600\"]]}],\"label\":\"Topic 35\",\"method\":\"update\"}]}],\"shapes\":[{\"line\":{\"color\":\"#CFD8DC\",\"width\":2},\"type\":\"line\",\"x0\":4.50049409866333,\"x1\":4.50049409866333,\"y0\":0.7529363363981247,\"y1\":12.529364585876465},{\"line\":{\"color\":\"#9E9E9E\",\"width\":2},\"type\":\"line\",\"x0\":1.3736958026885986,\"x1\":7.6272923946380615,\"y0\":6.641150461137295,\"y1\":6.641150461137295}],\"annotations\":[{\"showarrow\":false,\"text\":\"D1\",\"x\":1.3736958026885986,\"y\":6.641150461137295,\"yshift\":10},{\"showarrow\":false,\"text\":\"D2\",\"x\":4.50049409866333,\"xshift\":10,\"y\":12.529364585876465}]},                        {\"responsive\": true}                    ).then(function(){\n",
       "                            \n",
       "var gd = document.getElementById('5f431a0b-7673-4060-b74c-18b1e43aad28');\n",
       "var x = new MutationObserver(function (mutations, observer) {{\n",
       "        var display = window.getComputedStyle(gd).display;\n",
       "        if (!display || display === 'none') {{\n",
       "            console.log([gd, 'removed!']);\n",
       "            Plotly.purge(gd);\n",
       "            observer.disconnect();\n",
       "        }}\n",
       "}});\n",
       "\n",
       "// Listen for the removal of the full notebook cells\n",
       "var notebookContainer = gd.closest('#notebook-container');\n",
       "if (notebookContainer) {{\n",
       "    x.observe(notebookContainer, {childList: true});\n",
       "}}\n",
       "\n",
       "// Listen for the clearing of the current output cell\n",
       "var outputEl = gd.closest('.output');\n",
       "if (outputEl) {{\n",
       "    x.observe(outputEl, {childList: true});\n",
       "}}\n",
       "\n",
       "                        })                };                });            </script>        </div>"
      ]
     },
     "metadata": {},
     "output_type": "display_data"
    }
   ],
   "source": [
    "model.visualize_topics()"
   ]
  },
  {
   "cell_type": "markdown",
   "metadata": {},
   "source": [
    "### The variable probabilities that is returned from fit_transform() can be used to understand how confident BERTopic is that certain topics can be found in a document."
   ]
  },
  {
   "cell_type": "code",
   "execution_count": 19,
   "metadata": {},
   "outputs": [
    {
     "data": {
      "application/vnd.plotly.v1+json": {
       "config": {
        "plotlyServerURL": "https://plot.ly"
       },
       "data": [
        {
         "marker": {
          "color": "#ffcc99",
          "line": {
           "color": "#cc6600",
           "width": 1
          }
         },
         "orientation": "h",
         "type": "bar",
         "x": [
          0.02194419830945826,
          0.05387539409637216,
          0.01673126049317167,
          0.0430903922772433,
          0.035338092095891026,
          0.03872119691580572,
          0.03636892835640385,
          0.02510503684983414,
          0.015572164682259356
         ],
         "y": [
          "<b>Topic 1</b>: polsce_węgla_polska_węgi...",
          "<b>Topic 2</b>: węgiel_węgla_jest_teraz_...",
          "<b>Topic 4</b>: energii_cen_prądu_ceny_t...",
          "<b>Topic 5</b>: tonę_zł_węgla_węgiel_996",
          "<b>Topic 9</b>: gazu_gaz_lng_pgnig_czy",
          "<b>Topic 10</b>: wegiel_weglem_pani_kred...",
          "<b>Topic 12</b>: rząd_węgla_samorządy_br...",
          "<b>Topic 14</b>: embarga_rosyjski_pokazu...",
          "<b>Topic 15</b>: zakaz_ue_rozporządzenie..."
         ]
        }
       ],
       "layout": {
        "height": 600,
        "hoverlabel": {
         "bgcolor": "white",
         "font": {
          "family": "Rockwell",
          "size": 16
         }
        },
        "template": {
         "data": {
          "bar": [
           {
            "error_x": {
             "color": "rgb(36,36,36)"
            },
            "error_y": {
             "color": "rgb(36,36,36)"
            },
            "marker": {
             "line": {
              "color": "white",
              "width": 0.5
             },
             "pattern": {
              "fillmode": "overlay",
              "size": 10,
              "solidity": 0.2
             }
            },
            "type": "bar"
           }
          ],
          "barpolar": [
           {
            "marker": {
             "line": {
              "color": "white",
              "width": 0.5
             },
             "pattern": {
              "fillmode": "overlay",
              "size": 10,
              "solidity": 0.2
             }
            },
            "type": "barpolar"
           }
          ],
          "carpet": [
           {
            "aaxis": {
             "endlinecolor": "rgb(36,36,36)",
             "gridcolor": "white",
             "linecolor": "white",
             "minorgridcolor": "white",
             "startlinecolor": "rgb(36,36,36)"
            },
            "baxis": {
             "endlinecolor": "rgb(36,36,36)",
             "gridcolor": "white",
             "linecolor": "white",
             "minorgridcolor": "white",
             "startlinecolor": "rgb(36,36,36)"
            },
            "type": "carpet"
           }
          ],
          "choropleth": [
           {
            "colorbar": {
             "outlinewidth": 1,
             "tickcolor": "rgb(36,36,36)",
             "ticks": "outside"
            },
            "type": "choropleth"
           }
          ],
          "contour": [
           {
            "colorbar": {
             "outlinewidth": 1,
             "tickcolor": "rgb(36,36,36)",
             "ticks": "outside"
            },
            "colorscale": [
             [
              0,
              "#440154"
             ],
             [
              0.1111111111111111,
              "#482878"
             ],
             [
              0.2222222222222222,
              "#3e4989"
             ],
             [
              0.3333333333333333,
              "#31688e"
             ],
             [
              0.4444444444444444,
              "#26828e"
             ],
             [
              0.5555555555555556,
              "#1f9e89"
             ],
             [
              0.6666666666666666,
              "#35b779"
             ],
             [
              0.7777777777777778,
              "#6ece58"
             ],
             [
              0.8888888888888888,
              "#b5de2b"
             ],
             [
              1,
              "#fde725"
             ]
            ],
            "type": "contour"
           }
          ],
          "contourcarpet": [
           {
            "colorbar": {
             "outlinewidth": 1,
             "tickcolor": "rgb(36,36,36)",
             "ticks": "outside"
            },
            "type": "contourcarpet"
           }
          ],
          "heatmap": [
           {
            "colorbar": {
             "outlinewidth": 1,
             "tickcolor": "rgb(36,36,36)",
             "ticks": "outside"
            },
            "colorscale": [
             [
              0,
              "#440154"
             ],
             [
              0.1111111111111111,
              "#482878"
             ],
             [
              0.2222222222222222,
              "#3e4989"
             ],
             [
              0.3333333333333333,
              "#31688e"
             ],
             [
              0.4444444444444444,
              "#26828e"
             ],
             [
              0.5555555555555556,
              "#1f9e89"
             ],
             [
              0.6666666666666666,
              "#35b779"
             ],
             [
              0.7777777777777778,
              "#6ece58"
             ],
             [
              0.8888888888888888,
              "#b5de2b"
             ],
             [
              1,
              "#fde725"
             ]
            ],
            "type": "heatmap"
           }
          ],
          "heatmapgl": [
           {
            "colorbar": {
             "outlinewidth": 1,
             "tickcolor": "rgb(36,36,36)",
             "ticks": "outside"
            },
            "colorscale": [
             [
              0,
              "#440154"
             ],
             [
              0.1111111111111111,
              "#482878"
             ],
             [
              0.2222222222222222,
              "#3e4989"
             ],
             [
              0.3333333333333333,
              "#31688e"
             ],
             [
              0.4444444444444444,
              "#26828e"
             ],
             [
              0.5555555555555556,
              "#1f9e89"
             ],
             [
              0.6666666666666666,
              "#35b779"
             ],
             [
              0.7777777777777778,
              "#6ece58"
             ],
             [
              0.8888888888888888,
              "#b5de2b"
             ],
             [
              1,
              "#fde725"
             ]
            ],
            "type": "heatmapgl"
           }
          ],
          "histogram": [
           {
            "marker": {
             "line": {
              "color": "white",
              "width": 0.6
             }
            },
            "type": "histogram"
           }
          ],
          "histogram2d": [
           {
            "colorbar": {
             "outlinewidth": 1,
             "tickcolor": "rgb(36,36,36)",
             "ticks": "outside"
            },
            "colorscale": [
             [
              0,
              "#440154"
             ],
             [
              0.1111111111111111,
              "#482878"
             ],
             [
              0.2222222222222222,
              "#3e4989"
             ],
             [
              0.3333333333333333,
              "#31688e"
             ],
             [
              0.4444444444444444,
              "#26828e"
             ],
             [
              0.5555555555555556,
              "#1f9e89"
             ],
             [
              0.6666666666666666,
              "#35b779"
             ],
             [
              0.7777777777777778,
              "#6ece58"
             ],
             [
              0.8888888888888888,
              "#b5de2b"
             ],
             [
              1,
              "#fde725"
             ]
            ],
            "type": "histogram2d"
           }
          ],
          "histogram2dcontour": [
           {
            "colorbar": {
             "outlinewidth": 1,
             "tickcolor": "rgb(36,36,36)",
             "ticks": "outside"
            },
            "colorscale": [
             [
              0,
              "#440154"
             ],
             [
              0.1111111111111111,
              "#482878"
             ],
             [
              0.2222222222222222,
              "#3e4989"
             ],
             [
              0.3333333333333333,
              "#31688e"
             ],
             [
              0.4444444444444444,
              "#26828e"
             ],
             [
              0.5555555555555556,
              "#1f9e89"
             ],
             [
              0.6666666666666666,
              "#35b779"
             ],
             [
              0.7777777777777778,
              "#6ece58"
             ],
             [
              0.8888888888888888,
              "#b5de2b"
             ],
             [
              1,
              "#fde725"
             ]
            ],
            "type": "histogram2dcontour"
           }
          ],
          "mesh3d": [
           {
            "colorbar": {
             "outlinewidth": 1,
             "tickcolor": "rgb(36,36,36)",
             "ticks": "outside"
            },
            "type": "mesh3d"
           }
          ],
          "parcoords": [
           {
            "line": {
             "colorbar": {
              "outlinewidth": 1,
              "tickcolor": "rgb(36,36,36)",
              "ticks": "outside"
             }
            },
            "type": "parcoords"
           }
          ],
          "pie": [
           {
            "automargin": true,
            "type": "pie"
           }
          ],
          "scatter": [
           {
            "fillpattern": {
             "fillmode": "overlay",
             "size": 10,
             "solidity": 0.2
            },
            "type": "scatter"
           }
          ],
          "scatter3d": [
           {
            "line": {
             "colorbar": {
              "outlinewidth": 1,
              "tickcolor": "rgb(36,36,36)",
              "ticks": "outside"
             }
            },
            "marker": {
             "colorbar": {
              "outlinewidth": 1,
              "tickcolor": "rgb(36,36,36)",
              "ticks": "outside"
             }
            },
            "type": "scatter3d"
           }
          ],
          "scattercarpet": [
           {
            "marker": {
             "colorbar": {
              "outlinewidth": 1,
              "tickcolor": "rgb(36,36,36)",
              "ticks": "outside"
             }
            },
            "type": "scattercarpet"
           }
          ],
          "scattergeo": [
           {
            "marker": {
             "colorbar": {
              "outlinewidth": 1,
              "tickcolor": "rgb(36,36,36)",
              "ticks": "outside"
             }
            },
            "type": "scattergeo"
           }
          ],
          "scattergl": [
           {
            "marker": {
             "colorbar": {
              "outlinewidth": 1,
              "tickcolor": "rgb(36,36,36)",
              "ticks": "outside"
             }
            },
            "type": "scattergl"
           }
          ],
          "scattermapbox": [
           {
            "marker": {
             "colorbar": {
              "outlinewidth": 1,
              "tickcolor": "rgb(36,36,36)",
              "ticks": "outside"
             }
            },
            "type": "scattermapbox"
           }
          ],
          "scatterpolar": [
           {
            "marker": {
             "colorbar": {
              "outlinewidth": 1,
              "tickcolor": "rgb(36,36,36)",
              "ticks": "outside"
             }
            },
            "type": "scatterpolar"
           }
          ],
          "scatterpolargl": [
           {
            "marker": {
             "colorbar": {
              "outlinewidth": 1,
              "tickcolor": "rgb(36,36,36)",
              "ticks": "outside"
             }
            },
            "type": "scatterpolargl"
           }
          ],
          "scatterternary": [
           {
            "marker": {
             "colorbar": {
              "outlinewidth": 1,
              "tickcolor": "rgb(36,36,36)",
              "ticks": "outside"
             }
            },
            "type": "scatterternary"
           }
          ],
          "surface": [
           {
            "colorbar": {
             "outlinewidth": 1,
             "tickcolor": "rgb(36,36,36)",
             "ticks": "outside"
            },
            "colorscale": [
             [
              0,
              "#440154"
             ],
             [
              0.1111111111111111,
              "#482878"
             ],
             [
              0.2222222222222222,
              "#3e4989"
             ],
             [
              0.3333333333333333,
              "#31688e"
             ],
             [
              0.4444444444444444,
              "#26828e"
             ],
             [
              0.5555555555555556,
              "#1f9e89"
             ],
             [
              0.6666666666666666,
              "#35b779"
             ],
             [
              0.7777777777777778,
              "#6ece58"
             ],
             [
              0.8888888888888888,
              "#b5de2b"
             ],
             [
              1,
              "#fde725"
             ]
            ],
            "type": "surface"
           }
          ],
          "table": [
           {
            "cells": {
             "fill": {
              "color": "rgb(237,237,237)"
             },
             "line": {
              "color": "white"
             }
            },
            "header": {
             "fill": {
              "color": "rgb(217,217,217)"
             },
             "line": {
              "color": "white"
             }
            },
            "type": "table"
           }
          ]
         },
         "layout": {
          "annotationdefaults": {
           "arrowhead": 0,
           "arrowwidth": 1
          },
          "autotypenumbers": "strict",
          "coloraxis": {
           "colorbar": {
            "outlinewidth": 1,
            "tickcolor": "rgb(36,36,36)",
            "ticks": "outside"
           }
          },
          "colorscale": {
           "diverging": [
            [
             0,
             "rgb(103,0,31)"
            ],
            [
             0.1,
             "rgb(178,24,43)"
            ],
            [
             0.2,
             "rgb(214,96,77)"
            ],
            [
             0.3,
             "rgb(244,165,130)"
            ],
            [
             0.4,
             "rgb(253,219,199)"
            ],
            [
             0.5,
             "rgb(247,247,247)"
            ],
            [
             0.6,
             "rgb(209,229,240)"
            ],
            [
             0.7,
             "rgb(146,197,222)"
            ],
            [
             0.8,
             "rgb(67,147,195)"
            ],
            [
             0.9,
             "rgb(33,102,172)"
            ],
            [
             1,
             "rgb(5,48,97)"
            ]
           ],
           "sequential": [
            [
             0,
             "#440154"
            ],
            [
             0.1111111111111111,
             "#482878"
            ],
            [
             0.2222222222222222,
             "#3e4989"
            ],
            [
             0.3333333333333333,
             "#31688e"
            ],
            [
             0.4444444444444444,
             "#26828e"
            ],
            [
             0.5555555555555556,
             "#1f9e89"
            ],
            [
             0.6666666666666666,
             "#35b779"
            ],
            [
             0.7777777777777778,
             "#6ece58"
            ],
            [
             0.8888888888888888,
             "#b5de2b"
            ],
            [
             1,
             "#fde725"
            ]
           ],
           "sequentialminus": [
            [
             0,
             "#440154"
            ],
            [
             0.1111111111111111,
             "#482878"
            ],
            [
             0.2222222222222222,
             "#3e4989"
            ],
            [
             0.3333333333333333,
             "#31688e"
            ],
            [
             0.4444444444444444,
             "#26828e"
            ],
            [
             0.5555555555555556,
             "#1f9e89"
            ],
            [
             0.6666666666666666,
             "#35b779"
            ],
            [
             0.7777777777777778,
             "#6ece58"
            ],
            [
             0.8888888888888888,
             "#b5de2b"
            ],
            [
             1,
             "#fde725"
            ]
           ]
          },
          "colorway": [
           "#1F77B4",
           "#FF7F0E",
           "#2CA02C",
           "#D62728",
           "#9467BD",
           "#8C564B",
           "#E377C2",
           "#7F7F7F",
           "#BCBD22",
           "#17BECF"
          ],
          "font": {
           "color": "rgb(36,36,36)"
          },
          "geo": {
           "bgcolor": "white",
           "lakecolor": "white",
           "landcolor": "white",
           "showlakes": true,
           "showland": true,
           "subunitcolor": "white"
          },
          "hoverlabel": {
           "align": "left"
          },
          "hovermode": "closest",
          "mapbox": {
           "style": "light"
          },
          "paper_bgcolor": "white",
          "plot_bgcolor": "white",
          "polar": {
           "angularaxis": {
            "gridcolor": "rgb(232,232,232)",
            "linecolor": "rgb(36,36,36)",
            "showgrid": false,
            "showline": true,
            "ticks": "outside"
           },
           "bgcolor": "white",
           "radialaxis": {
            "gridcolor": "rgb(232,232,232)",
            "linecolor": "rgb(36,36,36)",
            "showgrid": false,
            "showline": true,
            "ticks": "outside"
           }
          },
          "scene": {
           "xaxis": {
            "backgroundcolor": "white",
            "gridcolor": "rgb(232,232,232)",
            "gridwidth": 2,
            "linecolor": "rgb(36,36,36)",
            "showbackground": true,
            "showgrid": false,
            "showline": true,
            "ticks": "outside",
            "zeroline": false,
            "zerolinecolor": "rgb(36,36,36)"
           },
           "yaxis": {
            "backgroundcolor": "white",
            "gridcolor": "rgb(232,232,232)",
            "gridwidth": 2,
            "linecolor": "rgb(36,36,36)",
            "showbackground": true,
            "showgrid": false,
            "showline": true,
            "ticks": "outside",
            "zeroline": false,
            "zerolinecolor": "rgb(36,36,36)"
           },
           "zaxis": {
            "backgroundcolor": "white",
            "gridcolor": "rgb(232,232,232)",
            "gridwidth": 2,
            "linecolor": "rgb(36,36,36)",
            "showbackground": true,
            "showgrid": false,
            "showline": true,
            "ticks": "outside",
            "zeroline": false,
            "zerolinecolor": "rgb(36,36,36)"
           }
          },
          "shapedefaults": {
           "fillcolor": "black",
           "line": {
            "width": 0
           },
           "opacity": 0.3
          },
          "ternary": {
           "aaxis": {
            "gridcolor": "rgb(232,232,232)",
            "linecolor": "rgb(36,36,36)",
            "showgrid": false,
            "showline": true,
            "ticks": "outside"
           },
           "baxis": {
            "gridcolor": "rgb(232,232,232)",
            "linecolor": "rgb(36,36,36)",
            "showgrid": false,
            "showline": true,
            "ticks": "outside"
           },
           "bgcolor": "white",
           "caxis": {
            "gridcolor": "rgb(232,232,232)",
            "linecolor": "rgb(36,36,36)",
            "showgrid": false,
            "showline": true,
            "ticks": "outside"
           }
          },
          "title": {
           "x": 0.05
          },
          "xaxis": {
           "automargin": true,
           "gridcolor": "rgb(232,232,232)",
           "linecolor": "rgb(36,36,36)",
           "showgrid": false,
           "showline": true,
           "ticks": "outside",
           "title": {
            "standoff": 15
           },
           "zeroline": false,
           "zerolinecolor": "rgb(36,36,36)"
          },
          "yaxis": {
           "automargin": true,
           "gridcolor": "rgb(232,232,232)",
           "linecolor": "rgb(36,36,36)",
           "showgrid": false,
           "showline": true,
           "ticks": "outside",
           "title": {
            "standoff": 15
           },
           "zeroline": false,
           "zerolinecolor": "rgb(36,36,36)"
          }
         }
        },
        "title": {
         "font": {
          "color": "Black",
          "size": 22
         },
         "text": "<b>Topic Probability Distribution",
         "x": 0.5,
         "xanchor": "center",
         "y": 0.95,
         "yanchor": "top"
        },
        "width": 800,
        "xaxis": {
         "title": {
          "text": "Probability"
         }
        }
       }
      },
      "text/html": [
       "<div>                            <div id=\"40de1716-57ac-46ff-a490-d12fc86c6b8a\" class=\"plotly-graph-div\" style=\"height:600px; width:800px;\"></div>            <script type=\"text/javascript\">                require([\"plotly\"], function(Plotly) {                    window.PLOTLYENV=window.PLOTLYENV || {};                                    if (document.getElementById(\"40de1716-57ac-46ff-a490-d12fc86c6b8a\")) {                    Plotly.newPlot(                        \"40de1716-57ac-46ff-a490-d12fc86c6b8a\",                        [{\"marker\":{\"color\":\"#ffcc99\",\"line\":{\"color\":\"#cc6600\",\"width\":1}},\"orientation\":\"h\",\"x\":[0.02194419830945826,0.05387539409637216,0.01673126049317167,0.0430903922772433,0.035338092095891026,0.03872119691580572,0.03636892835640385,0.02510503684983414,0.015572164682259356],\"y\":[\"<b>Topic 1</b>: polsce_w\\u0119gla_polska_w\\u0119gi...\",\"<b>Topic 2</b>: w\\u0119giel_w\\u0119gla_jest_teraz_...\",\"<b>Topic 4</b>: energii_cen_pr\\u0105du_ceny_t...\",\"<b>Topic 5</b>: ton\\u0119_z\\u0142_w\\u0119gla_w\\u0119giel_996\",\"<b>Topic 9</b>: gazu_gaz_lng_pgnig_czy\",\"<b>Topic 10</b>: wegiel_weglem_pani_kred...\",\"<b>Topic 12</b>: rz\\u0105d_w\\u0119gla_samorz\\u0105dy_br...\",\"<b>Topic 14</b>: embarga_rosyjski_pokazu...\",\"<b>Topic 15</b>: zakaz_ue_rozporz\\u0105dzenie...\"],\"type\":\"bar\"}],                        {\"template\":{\"data\":{\"barpolar\":[{\"marker\":{\"line\":{\"color\":\"white\",\"width\":0.5},\"pattern\":{\"fillmode\":\"overlay\",\"size\":10,\"solidity\":0.2}},\"type\":\"barpolar\"}],\"bar\":[{\"error_x\":{\"color\":\"rgb(36,36,36)\"},\"error_y\":{\"color\":\"rgb(36,36,36)\"},\"marker\":{\"line\":{\"color\":\"white\",\"width\":0.5},\"pattern\":{\"fillmode\":\"overlay\",\"size\":10,\"solidity\":0.2}},\"type\":\"bar\"}],\"carpet\":[{\"aaxis\":{\"endlinecolor\":\"rgb(36,36,36)\",\"gridcolor\":\"white\",\"linecolor\":\"white\",\"minorgridcolor\":\"white\",\"startlinecolor\":\"rgb(36,36,36)\"},\"baxis\":{\"endlinecolor\":\"rgb(36,36,36)\",\"gridcolor\":\"white\",\"linecolor\":\"white\",\"minorgridcolor\":\"white\",\"startlinecolor\":\"rgb(36,36,36)\"},\"type\":\"carpet\"}],\"choropleth\":[{\"colorbar\":{\"outlinewidth\":1,\"tickcolor\":\"rgb(36,36,36)\",\"ticks\":\"outside\"},\"type\":\"choropleth\"}],\"contourcarpet\":[{\"colorbar\":{\"outlinewidth\":1,\"tickcolor\":\"rgb(36,36,36)\",\"ticks\":\"outside\"},\"type\":\"contourcarpet\"}],\"contour\":[{\"colorbar\":{\"outlinewidth\":1,\"tickcolor\":\"rgb(36,36,36)\",\"ticks\":\"outside\"},\"colorscale\":[[0.0,\"#440154\"],[0.1111111111111111,\"#482878\"],[0.2222222222222222,\"#3e4989\"],[0.3333333333333333,\"#31688e\"],[0.4444444444444444,\"#26828e\"],[0.5555555555555556,\"#1f9e89\"],[0.6666666666666666,\"#35b779\"],[0.7777777777777778,\"#6ece58\"],[0.8888888888888888,\"#b5de2b\"],[1.0,\"#fde725\"]],\"type\":\"contour\"}],\"heatmapgl\":[{\"colorbar\":{\"outlinewidth\":1,\"tickcolor\":\"rgb(36,36,36)\",\"ticks\":\"outside\"},\"colorscale\":[[0.0,\"#440154\"],[0.1111111111111111,\"#482878\"],[0.2222222222222222,\"#3e4989\"],[0.3333333333333333,\"#31688e\"],[0.4444444444444444,\"#26828e\"],[0.5555555555555556,\"#1f9e89\"],[0.6666666666666666,\"#35b779\"],[0.7777777777777778,\"#6ece58\"],[0.8888888888888888,\"#b5de2b\"],[1.0,\"#fde725\"]],\"type\":\"heatmapgl\"}],\"heatmap\":[{\"colorbar\":{\"outlinewidth\":1,\"tickcolor\":\"rgb(36,36,36)\",\"ticks\":\"outside\"},\"colorscale\":[[0.0,\"#440154\"],[0.1111111111111111,\"#482878\"],[0.2222222222222222,\"#3e4989\"],[0.3333333333333333,\"#31688e\"],[0.4444444444444444,\"#26828e\"],[0.5555555555555556,\"#1f9e89\"],[0.6666666666666666,\"#35b779\"],[0.7777777777777778,\"#6ece58\"],[0.8888888888888888,\"#b5de2b\"],[1.0,\"#fde725\"]],\"type\":\"heatmap\"}],\"histogram2dcontour\":[{\"colorbar\":{\"outlinewidth\":1,\"tickcolor\":\"rgb(36,36,36)\",\"ticks\":\"outside\"},\"colorscale\":[[0.0,\"#440154\"],[0.1111111111111111,\"#482878\"],[0.2222222222222222,\"#3e4989\"],[0.3333333333333333,\"#31688e\"],[0.4444444444444444,\"#26828e\"],[0.5555555555555556,\"#1f9e89\"],[0.6666666666666666,\"#35b779\"],[0.7777777777777778,\"#6ece58\"],[0.8888888888888888,\"#b5de2b\"],[1.0,\"#fde725\"]],\"type\":\"histogram2dcontour\"}],\"histogram2d\":[{\"colorbar\":{\"outlinewidth\":1,\"tickcolor\":\"rgb(36,36,36)\",\"ticks\":\"outside\"},\"colorscale\":[[0.0,\"#440154\"],[0.1111111111111111,\"#482878\"],[0.2222222222222222,\"#3e4989\"],[0.3333333333333333,\"#31688e\"],[0.4444444444444444,\"#26828e\"],[0.5555555555555556,\"#1f9e89\"],[0.6666666666666666,\"#35b779\"],[0.7777777777777778,\"#6ece58\"],[0.8888888888888888,\"#b5de2b\"],[1.0,\"#fde725\"]],\"type\":\"histogram2d\"}],\"histogram\":[{\"marker\":{\"line\":{\"color\":\"white\",\"width\":0.6}},\"type\":\"histogram\"}],\"mesh3d\":[{\"colorbar\":{\"outlinewidth\":1,\"tickcolor\":\"rgb(36,36,36)\",\"ticks\":\"outside\"},\"type\":\"mesh3d\"}],\"parcoords\":[{\"line\":{\"colorbar\":{\"outlinewidth\":1,\"tickcolor\":\"rgb(36,36,36)\",\"ticks\":\"outside\"}},\"type\":\"parcoords\"}],\"pie\":[{\"automargin\":true,\"type\":\"pie\"}],\"scatter3d\":[{\"line\":{\"colorbar\":{\"outlinewidth\":1,\"tickcolor\":\"rgb(36,36,36)\",\"ticks\":\"outside\"}},\"marker\":{\"colorbar\":{\"outlinewidth\":1,\"tickcolor\":\"rgb(36,36,36)\",\"ticks\":\"outside\"}},\"type\":\"scatter3d\"}],\"scattercarpet\":[{\"marker\":{\"colorbar\":{\"outlinewidth\":1,\"tickcolor\":\"rgb(36,36,36)\",\"ticks\":\"outside\"}},\"type\":\"scattercarpet\"}],\"scattergeo\":[{\"marker\":{\"colorbar\":{\"outlinewidth\":1,\"tickcolor\":\"rgb(36,36,36)\",\"ticks\":\"outside\"}},\"type\":\"scattergeo\"}],\"scattergl\":[{\"marker\":{\"colorbar\":{\"outlinewidth\":1,\"tickcolor\":\"rgb(36,36,36)\",\"ticks\":\"outside\"}},\"type\":\"scattergl\"}],\"scattermapbox\":[{\"marker\":{\"colorbar\":{\"outlinewidth\":1,\"tickcolor\":\"rgb(36,36,36)\",\"ticks\":\"outside\"}},\"type\":\"scattermapbox\"}],\"scatterpolargl\":[{\"marker\":{\"colorbar\":{\"outlinewidth\":1,\"tickcolor\":\"rgb(36,36,36)\",\"ticks\":\"outside\"}},\"type\":\"scatterpolargl\"}],\"scatterpolar\":[{\"marker\":{\"colorbar\":{\"outlinewidth\":1,\"tickcolor\":\"rgb(36,36,36)\",\"ticks\":\"outside\"}},\"type\":\"scatterpolar\"}],\"scatter\":[{\"fillpattern\":{\"fillmode\":\"overlay\",\"size\":10,\"solidity\":0.2},\"type\":\"scatter\"}],\"scatterternary\":[{\"marker\":{\"colorbar\":{\"outlinewidth\":1,\"tickcolor\":\"rgb(36,36,36)\",\"ticks\":\"outside\"}},\"type\":\"scatterternary\"}],\"surface\":[{\"colorbar\":{\"outlinewidth\":1,\"tickcolor\":\"rgb(36,36,36)\",\"ticks\":\"outside\"},\"colorscale\":[[0.0,\"#440154\"],[0.1111111111111111,\"#482878\"],[0.2222222222222222,\"#3e4989\"],[0.3333333333333333,\"#31688e\"],[0.4444444444444444,\"#26828e\"],[0.5555555555555556,\"#1f9e89\"],[0.6666666666666666,\"#35b779\"],[0.7777777777777778,\"#6ece58\"],[0.8888888888888888,\"#b5de2b\"],[1.0,\"#fde725\"]],\"type\":\"surface\"}],\"table\":[{\"cells\":{\"fill\":{\"color\":\"rgb(237,237,237)\"},\"line\":{\"color\":\"white\"}},\"header\":{\"fill\":{\"color\":\"rgb(217,217,217)\"},\"line\":{\"color\":\"white\"}},\"type\":\"table\"}]},\"layout\":{\"annotationdefaults\":{\"arrowhead\":0,\"arrowwidth\":1},\"autotypenumbers\":\"strict\",\"coloraxis\":{\"colorbar\":{\"outlinewidth\":1,\"tickcolor\":\"rgb(36,36,36)\",\"ticks\":\"outside\"}},\"colorscale\":{\"diverging\":[[0.0,\"rgb(103,0,31)\"],[0.1,\"rgb(178,24,43)\"],[0.2,\"rgb(214,96,77)\"],[0.3,\"rgb(244,165,130)\"],[0.4,\"rgb(253,219,199)\"],[0.5,\"rgb(247,247,247)\"],[0.6,\"rgb(209,229,240)\"],[0.7,\"rgb(146,197,222)\"],[0.8,\"rgb(67,147,195)\"],[0.9,\"rgb(33,102,172)\"],[1.0,\"rgb(5,48,97)\"]],\"sequential\":[[0.0,\"#440154\"],[0.1111111111111111,\"#482878\"],[0.2222222222222222,\"#3e4989\"],[0.3333333333333333,\"#31688e\"],[0.4444444444444444,\"#26828e\"],[0.5555555555555556,\"#1f9e89\"],[0.6666666666666666,\"#35b779\"],[0.7777777777777778,\"#6ece58\"],[0.8888888888888888,\"#b5de2b\"],[1.0,\"#fde725\"]],\"sequentialminus\":[[0.0,\"#440154\"],[0.1111111111111111,\"#482878\"],[0.2222222222222222,\"#3e4989\"],[0.3333333333333333,\"#31688e\"],[0.4444444444444444,\"#26828e\"],[0.5555555555555556,\"#1f9e89\"],[0.6666666666666666,\"#35b779\"],[0.7777777777777778,\"#6ece58\"],[0.8888888888888888,\"#b5de2b\"],[1.0,\"#fde725\"]]},\"colorway\":[\"#1F77B4\",\"#FF7F0E\",\"#2CA02C\",\"#D62728\",\"#9467BD\",\"#8C564B\",\"#E377C2\",\"#7F7F7F\",\"#BCBD22\",\"#17BECF\"],\"font\":{\"color\":\"rgb(36,36,36)\"},\"geo\":{\"bgcolor\":\"white\",\"lakecolor\":\"white\",\"landcolor\":\"white\",\"showlakes\":true,\"showland\":true,\"subunitcolor\":\"white\"},\"hoverlabel\":{\"align\":\"left\"},\"hovermode\":\"closest\",\"mapbox\":{\"style\":\"light\"},\"paper_bgcolor\":\"white\",\"plot_bgcolor\":\"white\",\"polar\":{\"angularaxis\":{\"gridcolor\":\"rgb(232,232,232)\",\"linecolor\":\"rgb(36,36,36)\",\"showgrid\":false,\"showline\":true,\"ticks\":\"outside\"},\"bgcolor\":\"white\",\"radialaxis\":{\"gridcolor\":\"rgb(232,232,232)\",\"linecolor\":\"rgb(36,36,36)\",\"showgrid\":false,\"showline\":true,\"ticks\":\"outside\"}},\"scene\":{\"xaxis\":{\"backgroundcolor\":\"white\",\"gridcolor\":\"rgb(232,232,232)\",\"gridwidth\":2,\"linecolor\":\"rgb(36,36,36)\",\"showbackground\":true,\"showgrid\":false,\"showline\":true,\"ticks\":\"outside\",\"zeroline\":false,\"zerolinecolor\":\"rgb(36,36,36)\"},\"yaxis\":{\"backgroundcolor\":\"white\",\"gridcolor\":\"rgb(232,232,232)\",\"gridwidth\":2,\"linecolor\":\"rgb(36,36,36)\",\"showbackground\":true,\"showgrid\":false,\"showline\":true,\"ticks\":\"outside\",\"zeroline\":false,\"zerolinecolor\":\"rgb(36,36,36)\"},\"zaxis\":{\"backgroundcolor\":\"white\",\"gridcolor\":\"rgb(232,232,232)\",\"gridwidth\":2,\"linecolor\":\"rgb(36,36,36)\",\"showbackground\":true,\"showgrid\":false,\"showline\":true,\"ticks\":\"outside\",\"zeroline\":false,\"zerolinecolor\":\"rgb(36,36,36)\"}},\"shapedefaults\":{\"fillcolor\":\"black\",\"line\":{\"width\":0},\"opacity\":0.3},\"ternary\":{\"aaxis\":{\"gridcolor\":\"rgb(232,232,232)\",\"linecolor\":\"rgb(36,36,36)\",\"showgrid\":false,\"showline\":true,\"ticks\":\"outside\"},\"baxis\":{\"gridcolor\":\"rgb(232,232,232)\",\"linecolor\":\"rgb(36,36,36)\",\"showgrid\":false,\"showline\":true,\"ticks\":\"outside\"},\"bgcolor\":\"white\",\"caxis\":{\"gridcolor\":\"rgb(232,232,232)\",\"linecolor\":\"rgb(36,36,36)\",\"showgrid\":false,\"showline\":true,\"ticks\":\"outside\"}},\"title\":{\"x\":0.05},\"xaxis\":{\"automargin\":true,\"gridcolor\":\"rgb(232,232,232)\",\"linecolor\":\"rgb(36,36,36)\",\"showgrid\":false,\"showline\":true,\"ticks\":\"outside\",\"title\":{\"standoff\":15},\"zeroline\":false,\"zerolinecolor\":\"rgb(36,36,36)\"},\"yaxis\":{\"automargin\":true,\"gridcolor\":\"rgb(232,232,232)\",\"linecolor\":\"rgb(36,36,36)\",\"showgrid\":false,\"showline\":true,\"ticks\":\"outside\",\"title\":{\"standoff\":15},\"zeroline\":false,\"zerolinecolor\":\"rgb(36,36,36)\"}}},\"title\":{\"font\":{\"size\":22,\"color\":\"Black\"},\"text\":\"<b>Topic Probability Distribution\",\"y\":0.95,\"x\":0.5,\"xanchor\":\"center\",\"yanchor\":\"top\"},\"hoverlabel\":{\"font\":{\"size\":16,\"family\":\"Rockwell\"},\"bgcolor\":\"white\"},\"xaxis\":{\"title\":{\"text\":\"Probability\"}},\"width\":800,\"height\":600},                        {\"responsive\": true}                    ).then(function(){\n",
       "                            \n",
       "var gd = document.getElementById('40de1716-57ac-46ff-a490-d12fc86c6b8a');\n",
       "var x = new MutationObserver(function (mutations, observer) {{\n",
       "        var display = window.getComputedStyle(gd).display;\n",
       "        if (!display || display === 'none') {{\n",
       "            console.log([gd, 'removed!']);\n",
       "            Plotly.purge(gd);\n",
       "            observer.disconnect();\n",
       "        }}\n",
       "}});\n",
       "\n",
       "// Listen for the removal of the full notebook cells\n",
       "var notebookContainer = gd.closest('#notebook-container');\n",
       "if (notebookContainer) {{\n",
       "    x.observe(notebookContainer, {childList: true});\n",
       "}}\n",
       "\n",
       "// Listen for the clearing of the current output cell\n",
       "var outputEl = gd.closest('.output');\n",
       "if (outputEl) {{\n",
       "    x.observe(outputEl, {childList: true});\n",
       "}}\n",
       "\n",
       "                        })                };                });            </script>        </div>"
      ]
     },
     "metadata": {},
     "output_type": "display_data"
    }
   ],
   "source": [
    "model.visualize_distribution(probabilities[200], min_probability=0.015)"
   ]
  },
  {
   "cell_type": "markdown",
   "metadata": {},
   "source": [
    "### Visualize terms representing topics for top 10 classes\n",
    "We can visualize the selected terms for a few topics by creating bar charts out of the c-TF-IDF scores for each topic representation. Insights can be gained from the relative c-TF-IDF scores between and within topics. Moreover, you can easily compare topic representations to each other."
   ]
  },
  {
   "cell_type": "code",
   "execution_count": 33,
   "metadata": {},
   "outputs": [
    {
     "data": {
      "application/vnd.plotly.v1+json": {
       "config": {
        "plotlyServerURL": "https://plot.ly"
       },
       "data": [
        {
         "marker": {
          "color": "#D55E00"
         },
         "orientation": "h",
         "type": "bar",
         "x": [
          0.015364439214188709,
          0.015731737297177046,
          0.016832226472532227,
          0.018057810036926053,
          0.019248160656274396
         ],
         "xaxis": "x",
         "y": [
          "dla  ",
          "węgiel  ",
          "jest  ",
          "pis  ",
          "węgla  "
         ],
         "yaxis": "y"
        },
        {
         "marker": {
          "color": "#0072B2"
         },
         "orientation": "h",
         "type": "bar",
         "x": [
          0.0455852193556046,
          0.04811332547569233,
          0.05027354371118152,
          0.0830499543877448,
          0.09498556742441493
         ],
         "xaxis": "x2",
         "y": [
          "zimą  ",
          "będzie  ",
          "węgla  ",
          "zimy  ",
          "zimę  "
         ],
         "yaxis": "y2"
        },
        {
         "marker": {
          "color": "#CC79A7"
         },
         "orientation": "h",
         "type": "bar",
         "x": [
          0.0304080256736749,
          0.03623217502767412,
          0.07808933882577526,
          0.08595408472795882,
          0.11968116858467451
         ],
         "xaxis": "x3",
         "y": [
          "inflacja  ",
          "inflacji  ",
          "podatki  ",
          "podatków  ",
          "podatek  "
         ],
         "yaxis": "y3"
        },
        {
         "marker": {
          "color": "#E69F00"
         },
         "orientation": "h",
         "type": "bar",
         "x": [
          0.04798307739570853,
          0.0531588891234142,
          0.07024539996459209,
          0.09490391626676777,
          0.269991079197247
         ],
         "xaxis": "x4",
         "y": [
          "październiku  ",
          "ekonomiczne  ",
          "inflacja  ",
          "80  ",
          "turcji  "
         ],
         "yaxis": "y4"
        },
        {
         "marker": {
          "color": "#56B4E9"
         },
         "orientation": "h",
         "type": "bar",
         "x": [
          0.044483685870187216,
          0.044820358046944175,
          0.045358466549278956,
          0.046031964170231074,
          0.29917987118552236
         ],
         "xaxis": "x5",
         "y": [
          "johnsmiths74  ",
          "inflacji  ",
          "17  ",
          "inflację  ",
          "bezrobocie  "
         ],
         "yaxis": "y5"
        },
        {
         "marker": {
          "color": "#009E73"
         },
         "orientation": "h",
         "type": "bar",
         "x": [
          0.05991075860022664,
          0.065193107951588,
          0.08922319366663749,
          0.12868774427296903,
          0.19306296683573834
         ],
         "xaxis": "x6",
         "y": [
          "wydobycia  ",
          "naftowej  ",
          "usa  ",
          "opec  ",
          "ropy  "
         ],
         "yaxis": "y6"
        },
        {
         "marker": {
          "color": "#F0E442"
         },
         "orientation": "h",
         "type": "bar",
         "x": [
          0.026188112365549677,
          0.03591106641634307,
          0.03722973603350623,
          0.03943611050217339,
          0.10980262149894167
         ],
         "xaxis": "x7",
         "y": [
          "banki  ",
          "kredyt  ",
          "inflacją  ",
          "inflacji  ",
          "obligacje  "
         ],
         "yaxis": "y7"
        },
        {
         "marker": {
          "color": "#D55E00"
         },
         "orientation": "h",
         "type": "bar",
         "x": [
          0.03573367466187146,
          0.0390005124430129,
          0.056461311555124745,
          0.05863823791252559,
          0.06797883086682069
         ],
         "xaxis": "x8",
         "y": [
          "duże  ",
          "rafalhubert  ",
          "mini  ",
          "mefistofelleess  ",
          "małe  "
         ],
         "yaxis": "y8"
        },
        {
         "marker": {
          "color": "#0072B2"
         },
         "orientation": "h",
         "type": "bar",
         "x": [
          0.03319163293249566,
          0.06032286167344291,
          0.06728772673617066,
          0.10081344041470701,
          0.25375045175572314
         ],
         "xaxis": "x9",
         "y": [
          "inflację  ",
          "inflacja  ",
          "inflacji  ",
          "tvp  ",
          "tvp_info  "
         ],
         "yaxis": "y9"
        },
        {
         "marker": {
          "color": "#CC79A7"
         },
         "orientation": "h",
         "type": "bar",
         "x": [
          0.02951548378746391,
          0.03086927222791339,
          0.033624627413767115,
          0.037768507750046,
          0.03959552000922256
         ],
         "xaxis": "x10",
         "y": [
          "slawomirmentzen  ",
          "jesteśmy  ",
          "cena  ",
          "ceny  ",
          "podnieść  "
         ],
         "yaxis": "y10"
        }
       ],
       "layout": {
        "annotations": [
         {
          "font": {
           "size": 16
          },
          "showarrow": false,
          "text": "Topic 0",
          "x": 0.0875,
          "xanchor": "center",
          "xref": "paper",
          "y": 1,
          "yanchor": "bottom",
          "yref": "paper"
         },
         {
          "font": {
           "size": 16
          },
          "showarrow": false,
          "text": "Topic 1",
          "x": 0.36250000000000004,
          "xanchor": "center",
          "xref": "paper",
          "y": 1,
          "yanchor": "bottom",
          "yref": "paper"
         },
         {
          "font": {
           "size": 16
          },
          "showarrow": false,
          "text": "Topic 2",
          "x": 0.6375000000000001,
          "xanchor": "center",
          "xref": "paper",
          "y": 1,
          "yanchor": "bottom",
          "yref": "paper"
         },
         {
          "font": {
           "size": 16
          },
          "showarrow": false,
          "text": "Topic 3",
          "x": 0.9125,
          "xanchor": "center",
          "xref": "paper",
          "y": 1,
          "yanchor": "bottom",
          "yref": "paper"
         },
         {
          "font": {
           "size": 16
          },
          "showarrow": false,
          "text": "Topic 4",
          "x": 0.0875,
          "xanchor": "center",
          "xref": "paper",
          "y": 0.6222222222222222,
          "yanchor": "bottom",
          "yref": "paper"
         },
         {
          "font": {
           "size": 16
          },
          "showarrow": false,
          "text": "Topic 5",
          "x": 0.36250000000000004,
          "xanchor": "center",
          "xref": "paper",
          "y": 0.6222222222222222,
          "yanchor": "bottom",
          "yref": "paper"
         },
         {
          "font": {
           "size": 16
          },
          "showarrow": false,
          "text": "Topic 6",
          "x": 0.6375000000000001,
          "xanchor": "center",
          "xref": "paper",
          "y": 0.6222222222222222,
          "yanchor": "bottom",
          "yref": "paper"
         },
         {
          "font": {
           "size": 16
          },
          "showarrow": false,
          "text": "Topic 7",
          "x": 0.9125,
          "xanchor": "center",
          "xref": "paper",
          "y": 0.6222222222222222,
          "yanchor": "bottom",
          "yref": "paper"
         },
         {
          "font": {
           "size": 16
          },
          "showarrow": false,
          "text": "Topic 8",
          "x": 0.0875,
          "xanchor": "center",
          "xref": "paper",
          "y": 0.24444444444444446,
          "yanchor": "bottom",
          "yref": "paper"
         },
         {
          "font": {
           "size": 16
          },
          "showarrow": false,
          "text": "Topic 9",
          "x": 0.36250000000000004,
          "xanchor": "center",
          "xref": "paper",
          "y": 0.24444444444444446,
          "yanchor": "bottom",
          "yref": "paper"
         }
        ],
        "height": 750,
        "hoverlabel": {
         "bgcolor": "white",
         "font": {
          "family": "Rockwell",
          "size": 16
         }
        },
        "showlegend": false,
        "template": {
         "data": {
          "bar": [
           {
            "error_x": {
             "color": "#2a3f5f"
            },
            "error_y": {
             "color": "#2a3f5f"
            },
            "marker": {
             "line": {
              "color": "white",
              "width": 0.5
             },
             "pattern": {
              "fillmode": "overlay",
              "size": 10,
              "solidity": 0.2
             }
            },
            "type": "bar"
           }
          ],
          "barpolar": [
           {
            "marker": {
             "line": {
              "color": "white",
              "width": 0.5
             },
             "pattern": {
              "fillmode": "overlay",
              "size": 10,
              "solidity": 0.2
             }
            },
            "type": "barpolar"
           }
          ],
          "carpet": [
           {
            "aaxis": {
             "endlinecolor": "#2a3f5f",
             "gridcolor": "#C8D4E3",
             "linecolor": "#C8D4E3",
             "minorgridcolor": "#C8D4E3",
             "startlinecolor": "#2a3f5f"
            },
            "baxis": {
             "endlinecolor": "#2a3f5f",
             "gridcolor": "#C8D4E3",
             "linecolor": "#C8D4E3",
             "minorgridcolor": "#C8D4E3",
             "startlinecolor": "#2a3f5f"
            },
            "type": "carpet"
           }
          ],
          "choropleth": [
           {
            "colorbar": {
             "outlinewidth": 0,
             "ticks": ""
            },
            "type": "choropleth"
           }
          ],
          "contour": [
           {
            "colorbar": {
             "outlinewidth": 0,
             "ticks": ""
            },
            "colorscale": [
             [
              0,
              "#0d0887"
             ],
             [
              0.1111111111111111,
              "#46039f"
             ],
             [
              0.2222222222222222,
              "#7201a8"
             ],
             [
              0.3333333333333333,
              "#9c179e"
             ],
             [
              0.4444444444444444,
              "#bd3786"
             ],
             [
              0.5555555555555556,
              "#d8576b"
             ],
             [
              0.6666666666666666,
              "#ed7953"
             ],
             [
              0.7777777777777778,
              "#fb9f3a"
             ],
             [
              0.8888888888888888,
              "#fdca26"
             ],
             [
              1,
              "#f0f921"
             ]
            ],
            "type": "contour"
           }
          ],
          "contourcarpet": [
           {
            "colorbar": {
             "outlinewidth": 0,
             "ticks": ""
            },
            "type": "contourcarpet"
           }
          ],
          "heatmap": [
           {
            "colorbar": {
             "outlinewidth": 0,
             "ticks": ""
            },
            "colorscale": [
             [
              0,
              "#0d0887"
             ],
             [
              0.1111111111111111,
              "#46039f"
             ],
             [
              0.2222222222222222,
              "#7201a8"
             ],
             [
              0.3333333333333333,
              "#9c179e"
             ],
             [
              0.4444444444444444,
              "#bd3786"
             ],
             [
              0.5555555555555556,
              "#d8576b"
             ],
             [
              0.6666666666666666,
              "#ed7953"
             ],
             [
              0.7777777777777778,
              "#fb9f3a"
             ],
             [
              0.8888888888888888,
              "#fdca26"
             ],
             [
              1,
              "#f0f921"
             ]
            ],
            "type": "heatmap"
           }
          ],
          "heatmapgl": [
           {
            "colorbar": {
             "outlinewidth": 0,
             "ticks": ""
            },
            "colorscale": [
             [
              0,
              "#0d0887"
             ],
             [
              0.1111111111111111,
              "#46039f"
             ],
             [
              0.2222222222222222,
              "#7201a8"
             ],
             [
              0.3333333333333333,
              "#9c179e"
             ],
             [
              0.4444444444444444,
              "#bd3786"
             ],
             [
              0.5555555555555556,
              "#d8576b"
             ],
             [
              0.6666666666666666,
              "#ed7953"
             ],
             [
              0.7777777777777778,
              "#fb9f3a"
             ],
             [
              0.8888888888888888,
              "#fdca26"
             ],
             [
              1,
              "#f0f921"
             ]
            ],
            "type": "heatmapgl"
           }
          ],
          "histogram": [
           {
            "marker": {
             "pattern": {
              "fillmode": "overlay",
              "size": 10,
              "solidity": 0.2
             }
            },
            "type": "histogram"
           }
          ],
          "histogram2d": [
           {
            "colorbar": {
             "outlinewidth": 0,
             "ticks": ""
            },
            "colorscale": [
             [
              0,
              "#0d0887"
             ],
             [
              0.1111111111111111,
              "#46039f"
             ],
             [
              0.2222222222222222,
              "#7201a8"
             ],
             [
              0.3333333333333333,
              "#9c179e"
             ],
             [
              0.4444444444444444,
              "#bd3786"
             ],
             [
              0.5555555555555556,
              "#d8576b"
             ],
             [
              0.6666666666666666,
              "#ed7953"
             ],
             [
              0.7777777777777778,
              "#fb9f3a"
             ],
             [
              0.8888888888888888,
              "#fdca26"
             ],
             [
              1,
              "#f0f921"
             ]
            ],
            "type": "histogram2d"
           }
          ],
          "histogram2dcontour": [
           {
            "colorbar": {
             "outlinewidth": 0,
             "ticks": ""
            },
            "colorscale": [
             [
              0,
              "#0d0887"
             ],
             [
              0.1111111111111111,
              "#46039f"
             ],
             [
              0.2222222222222222,
              "#7201a8"
             ],
             [
              0.3333333333333333,
              "#9c179e"
             ],
             [
              0.4444444444444444,
              "#bd3786"
             ],
             [
              0.5555555555555556,
              "#d8576b"
             ],
             [
              0.6666666666666666,
              "#ed7953"
             ],
             [
              0.7777777777777778,
              "#fb9f3a"
             ],
             [
              0.8888888888888888,
              "#fdca26"
             ],
             [
              1,
              "#f0f921"
             ]
            ],
            "type": "histogram2dcontour"
           }
          ],
          "mesh3d": [
           {
            "colorbar": {
             "outlinewidth": 0,
             "ticks": ""
            },
            "type": "mesh3d"
           }
          ],
          "parcoords": [
           {
            "line": {
             "colorbar": {
              "outlinewidth": 0,
              "ticks": ""
             }
            },
            "type": "parcoords"
           }
          ],
          "pie": [
           {
            "automargin": true,
            "type": "pie"
           }
          ],
          "scatter": [
           {
            "fillpattern": {
             "fillmode": "overlay",
             "size": 10,
             "solidity": 0.2
            },
            "type": "scatter"
           }
          ],
          "scatter3d": [
           {
            "line": {
             "colorbar": {
              "outlinewidth": 0,
              "ticks": ""
             }
            },
            "marker": {
             "colorbar": {
              "outlinewidth": 0,
              "ticks": ""
             }
            },
            "type": "scatter3d"
           }
          ],
          "scattercarpet": [
           {
            "marker": {
             "colorbar": {
              "outlinewidth": 0,
              "ticks": ""
             }
            },
            "type": "scattercarpet"
           }
          ],
          "scattergeo": [
           {
            "marker": {
             "colorbar": {
              "outlinewidth": 0,
              "ticks": ""
             }
            },
            "type": "scattergeo"
           }
          ],
          "scattergl": [
           {
            "marker": {
             "colorbar": {
              "outlinewidth": 0,
              "ticks": ""
             }
            },
            "type": "scattergl"
           }
          ],
          "scattermapbox": [
           {
            "marker": {
             "colorbar": {
              "outlinewidth": 0,
              "ticks": ""
             }
            },
            "type": "scattermapbox"
           }
          ],
          "scatterpolar": [
           {
            "marker": {
             "colorbar": {
              "outlinewidth": 0,
              "ticks": ""
             }
            },
            "type": "scatterpolar"
           }
          ],
          "scatterpolargl": [
           {
            "marker": {
             "colorbar": {
              "outlinewidth": 0,
              "ticks": ""
             }
            },
            "type": "scatterpolargl"
           }
          ],
          "scatterternary": [
           {
            "marker": {
             "colorbar": {
              "outlinewidth": 0,
              "ticks": ""
             }
            },
            "type": "scatterternary"
           }
          ],
          "surface": [
           {
            "colorbar": {
             "outlinewidth": 0,
             "ticks": ""
            },
            "colorscale": [
             [
              0,
              "#0d0887"
             ],
             [
              0.1111111111111111,
              "#46039f"
             ],
             [
              0.2222222222222222,
              "#7201a8"
             ],
             [
              0.3333333333333333,
              "#9c179e"
             ],
             [
              0.4444444444444444,
              "#bd3786"
             ],
             [
              0.5555555555555556,
              "#d8576b"
             ],
             [
              0.6666666666666666,
              "#ed7953"
             ],
             [
              0.7777777777777778,
              "#fb9f3a"
             ],
             [
              0.8888888888888888,
              "#fdca26"
             ],
             [
              1,
              "#f0f921"
             ]
            ],
            "type": "surface"
           }
          ],
          "table": [
           {
            "cells": {
             "fill": {
              "color": "#EBF0F8"
             },
             "line": {
              "color": "white"
             }
            },
            "header": {
             "fill": {
              "color": "#C8D4E3"
             },
             "line": {
              "color": "white"
             }
            },
            "type": "table"
           }
          ]
         },
         "layout": {
          "annotationdefaults": {
           "arrowcolor": "#2a3f5f",
           "arrowhead": 0,
           "arrowwidth": 1
          },
          "autotypenumbers": "strict",
          "coloraxis": {
           "colorbar": {
            "outlinewidth": 0,
            "ticks": ""
           }
          },
          "colorscale": {
           "diverging": [
            [
             0,
             "#8e0152"
            ],
            [
             0.1,
             "#c51b7d"
            ],
            [
             0.2,
             "#de77ae"
            ],
            [
             0.3,
             "#f1b6da"
            ],
            [
             0.4,
             "#fde0ef"
            ],
            [
             0.5,
             "#f7f7f7"
            ],
            [
             0.6,
             "#e6f5d0"
            ],
            [
             0.7,
             "#b8e186"
            ],
            [
             0.8,
             "#7fbc41"
            ],
            [
             0.9,
             "#4d9221"
            ],
            [
             1,
             "#276419"
            ]
           ],
           "sequential": [
            [
             0,
             "#0d0887"
            ],
            [
             0.1111111111111111,
             "#46039f"
            ],
            [
             0.2222222222222222,
             "#7201a8"
            ],
            [
             0.3333333333333333,
             "#9c179e"
            ],
            [
             0.4444444444444444,
             "#bd3786"
            ],
            [
             0.5555555555555556,
             "#d8576b"
            ],
            [
             0.6666666666666666,
             "#ed7953"
            ],
            [
             0.7777777777777778,
             "#fb9f3a"
            ],
            [
             0.8888888888888888,
             "#fdca26"
            ],
            [
             1,
             "#f0f921"
            ]
           ],
           "sequentialminus": [
            [
             0,
             "#0d0887"
            ],
            [
             0.1111111111111111,
             "#46039f"
            ],
            [
             0.2222222222222222,
             "#7201a8"
            ],
            [
             0.3333333333333333,
             "#9c179e"
            ],
            [
             0.4444444444444444,
             "#bd3786"
            ],
            [
             0.5555555555555556,
             "#d8576b"
            ],
            [
             0.6666666666666666,
             "#ed7953"
            ],
            [
             0.7777777777777778,
             "#fb9f3a"
            ],
            [
             0.8888888888888888,
             "#fdca26"
            ],
            [
             1,
             "#f0f921"
            ]
           ]
          },
          "colorway": [
           "#636efa",
           "#EF553B",
           "#00cc96",
           "#ab63fa",
           "#FFA15A",
           "#19d3f3",
           "#FF6692",
           "#B6E880",
           "#FF97FF",
           "#FECB52"
          ],
          "font": {
           "color": "#2a3f5f"
          },
          "geo": {
           "bgcolor": "white",
           "lakecolor": "white",
           "landcolor": "white",
           "showlakes": true,
           "showland": true,
           "subunitcolor": "#C8D4E3"
          },
          "hoverlabel": {
           "align": "left"
          },
          "hovermode": "closest",
          "mapbox": {
           "style": "light"
          },
          "paper_bgcolor": "white",
          "plot_bgcolor": "white",
          "polar": {
           "angularaxis": {
            "gridcolor": "#EBF0F8",
            "linecolor": "#EBF0F8",
            "ticks": ""
           },
           "bgcolor": "white",
           "radialaxis": {
            "gridcolor": "#EBF0F8",
            "linecolor": "#EBF0F8",
            "ticks": ""
           }
          },
          "scene": {
           "xaxis": {
            "backgroundcolor": "white",
            "gridcolor": "#DFE8F3",
            "gridwidth": 2,
            "linecolor": "#EBF0F8",
            "showbackground": true,
            "ticks": "",
            "zerolinecolor": "#EBF0F8"
           },
           "yaxis": {
            "backgroundcolor": "white",
            "gridcolor": "#DFE8F3",
            "gridwidth": 2,
            "linecolor": "#EBF0F8",
            "showbackground": true,
            "ticks": "",
            "zerolinecolor": "#EBF0F8"
           },
           "zaxis": {
            "backgroundcolor": "white",
            "gridcolor": "#DFE8F3",
            "gridwidth": 2,
            "linecolor": "#EBF0F8",
            "showbackground": true,
            "ticks": "",
            "zerolinecolor": "#EBF0F8"
           }
          },
          "shapedefaults": {
           "line": {
            "color": "#2a3f5f"
           }
          },
          "ternary": {
           "aaxis": {
            "gridcolor": "#DFE8F3",
            "linecolor": "#A2B1C6",
            "ticks": ""
           },
           "baxis": {
            "gridcolor": "#DFE8F3",
            "linecolor": "#A2B1C6",
            "ticks": ""
           },
           "bgcolor": "white",
           "caxis": {
            "gridcolor": "#DFE8F3",
            "linecolor": "#A2B1C6",
            "ticks": ""
           }
          },
          "title": {
           "x": 0.05
          },
          "xaxis": {
           "automargin": true,
           "gridcolor": "#EBF0F8",
           "linecolor": "#EBF0F8",
           "ticks": "",
           "title": {
            "standoff": 15
           },
           "zerolinecolor": "#EBF0F8",
           "zerolinewidth": 2
          },
          "yaxis": {
           "automargin": true,
           "gridcolor": "#EBF0F8",
           "linecolor": "#EBF0F8",
           "ticks": "",
           "title": {
            "standoff": 15
           },
           "zerolinecolor": "#EBF0F8",
           "zerolinewidth": 2
          }
         }
        },
        "title": {
         "font": {
          "color": "Black",
          "size": 22
         },
         "text": "<b>Topic Word Scores",
         "x": 0.5,
         "xanchor": "center",
         "yanchor": "top"
        },
        "width": 1000,
        "xaxis": {
         "anchor": "y",
         "domain": [
          0,
          0.175
         ],
         "showgrid": true
        },
        "xaxis10": {
         "anchor": "y10",
         "domain": [
          0.275,
          0.45
         ],
         "showgrid": true
        },
        "xaxis11": {
         "anchor": "y11",
         "domain": [
          0.55,
          0.7250000000000001
         ],
         "showgrid": true
        },
        "xaxis12": {
         "anchor": "y12",
         "domain": [
          0.825,
          1
         ],
         "showgrid": true
        },
        "xaxis2": {
         "anchor": "y2",
         "domain": [
          0.275,
          0.45
         ],
         "showgrid": true
        },
        "xaxis3": {
         "anchor": "y3",
         "domain": [
          0.55,
          0.7250000000000001
         ],
         "showgrid": true
        },
        "xaxis4": {
         "anchor": "y4",
         "domain": [
          0.825,
          1
         ],
         "showgrid": true
        },
        "xaxis5": {
         "anchor": "y5",
         "domain": [
          0,
          0.175
         ],
         "showgrid": true
        },
        "xaxis6": {
         "anchor": "y6",
         "domain": [
          0.275,
          0.45
         ],
         "showgrid": true
        },
        "xaxis7": {
         "anchor": "y7",
         "domain": [
          0.55,
          0.7250000000000001
         ],
         "showgrid": true
        },
        "xaxis8": {
         "anchor": "y8",
         "domain": [
          0.825,
          1
         ],
         "showgrid": true
        },
        "xaxis9": {
         "anchor": "y9",
         "domain": [
          0,
          0.175
         ],
         "showgrid": true
        },
        "yaxis": {
         "anchor": "x",
         "domain": [
          0.7555555555555555,
          1
         ],
         "showgrid": true
        },
        "yaxis10": {
         "anchor": "x10",
         "domain": [
          0,
          0.24444444444444446
         ],
         "showgrid": true
        },
        "yaxis11": {
         "anchor": "x11",
         "domain": [
          0,
          0.24444444444444446
         ],
         "showgrid": true
        },
        "yaxis12": {
         "anchor": "x12",
         "domain": [
          0,
          0.24444444444444446
         ],
         "showgrid": true
        },
        "yaxis2": {
         "anchor": "x2",
         "domain": [
          0.7555555555555555,
          1
         ],
         "showgrid": true
        },
        "yaxis3": {
         "anchor": "x3",
         "domain": [
          0.7555555555555555,
          1
         ],
         "showgrid": true
        },
        "yaxis4": {
         "anchor": "x4",
         "domain": [
          0.7555555555555555,
          1
         ],
         "showgrid": true
        },
        "yaxis5": {
         "anchor": "x5",
         "domain": [
          0.37777777777777777,
          0.6222222222222222
         ],
         "showgrid": true
        },
        "yaxis6": {
         "anchor": "x6",
         "domain": [
          0.37777777777777777,
          0.6222222222222222
         ],
         "showgrid": true
        },
        "yaxis7": {
         "anchor": "x7",
         "domain": [
          0.37777777777777777,
          0.6222222222222222
         ],
         "showgrid": true
        },
        "yaxis8": {
         "anchor": "x8",
         "domain": [
          0.37777777777777777,
          0.6222222222222222
         ],
         "showgrid": true
        },
        "yaxis9": {
         "anchor": "x9",
         "domain": [
          0,
          0.24444444444444446
         ],
         "showgrid": true
        }
       }
      },
      "text/html": [
       "<div>                            <div id=\"71b52338-24ba-48ab-911e-e4bb810a541c\" class=\"plotly-graph-div\" style=\"height:750px; width:1000px;\"></div>            <script type=\"text/javascript\">                require([\"plotly\"], function(Plotly) {                    window.PLOTLYENV=window.PLOTLYENV || {};                                    if (document.getElementById(\"71b52338-24ba-48ab-911e-e4bb810a541c\")) {                    Plotly.newPlot(                        \"71b52338-24ba-48ab-911e-e4bb810a541c\",                        [{\"marker\":{\"color\":\"#D55E00\"},\"orientation\":\"h\",\"x\":[0.015364439214188709,0.015731737297177046,0.016832226472532227,0.018057810036926053,0.019248160656274396],\"y\":[\"dla  \",\"w\\u0119giel  \",\"jest  \",\"pis  \",\"w\\u0119gla  \"],\"type\":\"bar\",\"xaxis\":\"x\",\"yaxis\":\"y\"},{\"marker\":{\"color\":\"#0072B2\"},\"orientation\":\"h\",\"x\":[0.0455852193556046,0.04811332547569233,0.05027354371118152,0.0830499543877448,0.09498556742441493],\"y\":[\"zim\\u0105  \",\"b\\u0119dzie  \",\"w\\u0119gla  \",\"zimy  \",\"zim\\u0119  \"],\"type\":\"bar\",\"xaxis\":\"x2\",\"yaxis\":\"y2\"},{\"marker\":{\"color\":\"#CC79A7\"},\"orientation\":\"h\",\"x\":[0.0304080256736749,0.03623217502767412,0.07808933882577526,0.08595408472795882,0.11968116858467451],\"y\":[\"inflacja  \",\"inflacji  \",\"podatki  \",\"podatk\\u00f3w  \",\"podatek  \"],\"type\":\"bar\",\"xaxis\":\"x3\",\"yaxis\":\"y3\"},{\"marker\":{\"color\":\"#E69F00\"},\"orientation\":\"h\",\"x\":[0.04798307739570853,0.0531588891234142,0.07024539996459209,0.09490391626676777,0.269991079197247],\"y\":[\"pa\\u017adzierniku  \",\"ekonomiczne  \",\"inflacja  \",\"80  \",\"turcji  \"],\"type\":\"bar\",\"xaxis\":\"x4\",\"yaxis\":\"y4\"},{\"marker\":{\"color\":\"#56B4E9\"},\"orientation\":\"h\",\"x\":[0.044483685870187216,0.044820358046944175,0.045358466549278956,0.046031964170231074,0.29917987118552236],\"y\":[\"johnsmiths74  \",\"inflacji  \",\"17  \",\"inflacj\\u0119  \",\"bezrobocie  \"],\"type\":\"bar\",\"xaxis\":\"x5\",\"yaxis\":\"y5\"},{\"marker\":{\"color\":\"#009E73\"},\"orientation\":\"h\",\"x\":[0.05991075860022664,0.065193107951588,0.08922319366663749,0.12868774427296903,0.19306296683573834],\"y\":[\"wydobycia  \",\"naftowej  \",\"usa  \",\"opec  \",\"ropy  \"],\"type\":\"bar\",\"xaxis\":\"x6\",\"yaxis\":\"y6\"},{\"marker\":{\"color\":\"#F0E442\"},\"orientation\":\"h\",\"x\":[0.026188112365549677,0.03591106641634307,0.03722973603350623,0.03943611050217339,0.10980262149894167],\"y\":[\"banki  \",\"kredyt  \",\"inflacj\\u0105  \",\"inflacji  \",\"obligacje  \"],\"type\":\"bar\",\"xaxis\":\"x7\",\"yaxis\":\"y7\"},{\"marker\":{\"color\":\"#D55E00\"},\"orientation\":\"h\",\"x\":[0.03573367466187146,0.0390005124430129,0.056461311555124745,0.05863823791252559,0.06797883086682069],\"y\":[\"du\\u017ce  \",\"rafalhubert  \",\"mini  \",\"mefistofelleess  \",\"ma\\u0142e  \"],\"type\":\"bar\",\"xaxis\":\"x8\",\"yaxis\":\"y8\"},{\"marker\":{\"color\":\"#0072B2\"},\"orientation\":\"h\",\"x\":[0.03319163293249566,0.06032286167344291,0.06728772673617066,0.10081344041470701,0.25375045175572314],\"y\":[\"inflacj\\u0119  \",\"inflacja  \",\"inflacji  \",\"tvp  \",\"tvp_info  \"],\"type\":\"bar\",\"xaxis\":\"x9\",\"yaxis\":\"y9\"},{\"marker\":{\"color\":\"#CC79A7\"},\"orientation\":\"h\",\"x\":[0.02951548378746391,0.03086927222791339,0.033624627413767115,0.037768507750046,0.03959552000922256],\"y\":[\"slawomirmentzen  \",\"jeste\\u015bmy  \",\"cena  \",\"ceny  \",\"podnie\\u015b\\u0107  \"],\"type\":\"bar\",\"xaxis\":\"x10\",\"yaxis\":\"y10\"}],                        {\"template\":{\"data\":{\"barpolar\":[{\"marker\":{\"line\":{\"color\":\"white\",\"width\":0.5},\"pattern\":{\"fillmode\":\"overlay\",\"size\":10,\"solidity\":0.2}},\"type\":\"barpolar\"}],\"bar\":[{\"error_x\":{\"color\":\"#2a3f5f\"},\"error_y\":{\"color\":\"#2a3f5f\"},\"marker\":{\"line\":{\"color\":\"white\",\"width\":0.5},\"pattern\":{\"fillmode\":\"overlay\",\"size\":10,\"solidity\":0.2}},\"type\":\"bar\"}],\"carpet\":[{\"aaxis\":{\"endlinecolor\":\"#2a3f5f\",\"gridcolor\":\"#C8D4E3\",\"linecolor\":\"#C8D4E3\",\"minorgridcolor\":\"#C8D4E3\",\"startlinecolor\":\"#2a3f5f\"},\"baxis\":{\"endlinecolor\":\"#2a3f5f\",\"gridcolor\":\"#C8D4E3\",\"linecolor\":\"#C8D4E3\",\"minorgridcolor\":\"#C8D4E3\",\"startlinecolor\":\"#2a3f5f\"},\"type\":\"carpet\"}],\"choropleth\":[{\"colorbar\":{\"outlinewidth\":0,\"ticks\":\"\"},\"type\":\"choropleth\"}],\"contourcarpet\":[{\"colorbar\":{\"outlinewidth\":0,\"ticks\":\"\"},\"type\":\"contourcarpet\"}],\"contour\":[{\"colorbar\":{\"outlinewidth\":0,\"ticks\":\"\"},\"colorscale\":[[0.0,\"#0d0887\"],[0.1111111111111111,\"#46039f\"],[0.2222222222222222,\"#7201a8\"],[0.3333333333333333,\"#9c179e\"],[0.4444444444444444,\"#bd3786\"],[0.5555555555555556,\"#d8576b\"],[0.6666666666666666,\"#ed7953\"],[0.7777777777777778,\"#fb9f3a\"],[0.8888888888888888,\"#fdca26\"],[1.0,\"#f0f921\"]],\"type\":\"contour\"}],\"heatmapgl\":[{\"colorbar\":{\"outlinewidth\":0,\"ticks\":\"\"},\"colorscale\":[[0.0,\"#0d0887\"],[0.1111111111111111,\"#46039f\"],[0.2222222222222222,\"#7201a8\"],[0.3333333333333333,\"#9c179e\"],[0.4444444444444444,\"#bd3786\"],[0.5555555555555556,\"#d8576b\"],[0.6666666666666666,\"#ed7953\"],[0.7777777777777778,\"#fb9f3a\"],[0.8888888888888888,\"#fdca26\"],[1.0,\"#f0f921\"]],\"type\":\"heatmapgl\"}],\"heatmap\":[{\"colorbar\":{\"outlinewidth\":0,\"ticks\":\"\"},\"colorscale\":[[0.0,\"#0d0887\"],[0.1111111111111111,\"#46039f\"],[0.2222222222222222,\"#7201a8\"],[0.3333333333333333,\"#9c179e\"],[0.4444444444444444,\"#bd3786\"],[0.5555555555555556,\"#d8576b\"],[0.6666666666666666,\"#ed7953\"],[0.7777777777777778,\"#fb9f3a\"],[0.8888888888888888,\"#fdca26\"],[1.0,\"#f0f921\"]],\"type\":\"heatmap\"}],\"histogram2dcontour\":[{\"colorbar\":{\"outlinewidth\":0,\"ticks\":\"\"},\"colorscale\":[[0.0,\"#0d0887\"],[0.1111111111111111,\"#46039f\"],[0.2222222222222222,\"#7201a8\"],[0.3333333333333333,\"#9c179e\"],[0.4444444444444444,\"#bd3786\"],[0.5555555555555556,\"#d8576b\"],[0.6666666666666666,\"#ed7953\"],[0.7777777777777778,\"#fb9f3a\"],[0.8888888888888888,\"#fdca26\"],[1.0,\"#f0f921\"]],\"type\":\"histogram2dcontour\"}],\"histogram2d\":[{\"colorbar\":{\"outlinewidth\":0,\"ticks\":\"\"},\"colorscale\":[[0.0,\"#0d0887\"],[0.1111111111111111,\"#46039f\"],[0.2222222222222222,\"#7201a8\"],[0.3333333333333333,\"#9c179e\"],[0.4444444444444444,\"#bd3786\"],[0.5555555555555556,\"#d8576b\"],[0.6666666666666666,\"#ed7953\"],[0.7777777777777778,\"#fb9f3a\"],[0.8888888888888888,\"#fdca26\"],[1.0,\"#f0f921\"]],\"type\":\"histogram2d\"}],\"histogram\":[{\"marker\":{\"pattern\":{\"fillmode\":\"overlay\",\"size\":10,\"solidity\":0.2}},\"type\":\"histogram\"}],\"mesh3d\":[{\"colorbar\":{\"outlinewidth\":0,\"ticks\":\"\"},\"type\":\"mesh3d\"}],\"parcoords\":[{\"line\":{\"colorbar\":{\"outlinewidth\":0,\"ticks\":\"\"}},\"type\":\"parcoords\"}],\"pie\":[{\"automargin\":true,\"type\":\"pie\"}],\"scatter3d\":[{\"line\":{\"colorbar\":{\"outlinewidth\":0,\"ticks\":\"\"}},\"marker\":{\"colorbar\":{\"outlinewidth\":0,\"ticks\":\"\"}},\"type\":\"scatter3d\"}],\"scattercarpet\":[{\"marker\":{\"colorbar\":{\"outlinewidth\":0,\"ticks\":\"\"}},\"type\":\"scattercarpet\"}],\"scattergeo\":[{\"marker\":{\"colorbar\":{\"outlinewidth\":0,\"ticks\":\"\"}},\"type\":\"scattergeo\"}],\"scattergl\":[{\"marker\":{\"colorbar\":{\"outlinewidth\":0,\"ticks\":\"\"}},\"type\":\"scattergl\"}],\"scattermapbox\":[{\"marker\":{\"colorbar\":{\"outlinewidth\":0,\"ticks\":\"\"}},\"type\":\"scattermapbox\"}],\"scatterpolargl\":[{\"marker\":{\"colorbar\":{\"outlinewidth\":0,\"ticks\":\"\"}},\"type\":\"scatterpolargl\"}],\"scatterpolar\":[{\"marker\":{\"colorbar\":{\"outlinewidth\":0,\"ticks\":\"\"}},\"type\":\"scatterpolar\"}],\"scatter\":[{\"fillpattern\":{\"fillmode\":\"overlay\",\"size\":10,\"solidity\":0.2},\"type\":\"scatter\"}],\"scatterternary\":[{\"marker\":{\"colorbar\":{\"outlinewidth\":0,\"ticks\":\"\"}},\"type\":\"scatterternary\"}],\"surface\":[{\"colorbar\":{\"outlinewidth\":0,\"ticks\":\"\"},\"colorscale\":[[0.0,\"#0d0887\"],[0.1111111111111111,\"#46039f\"],[0.2222222222222222,\"#7201a8\"],[0.3333333333333333,\"#9c179e\"],[0.4444444444444444,\"#bd3786\"],[0.5555555555555556,\"#d8576b\"],[0.6666666666666666,\"#ed7953\"],[0.7777777777777778,\"#fb9f3a\"],[0.8888888888888888,\"#fdca26\"],[1.0,\"#f0f921\"]],\"type\":\"surface\"}],\"table\":[{\"cells\":{\"fill\":{\"color\":\"#EBF0F8\"},\"line\":{\"color\":\"white\"}},\"header\":{\"fill\":{\"color\":\"#C8D4E3\"},\"line\":{\"color\":\"white\"}},\"type\":\"table\"}]},\"layout\":{\"annotationdefaults\":{\"arrowcolor\":\"#2a3f5f\",\"arrowhead\":0,\"arrowwidth\":1},\"autotypenumbers\":\"strict\",\"coloraxis\":{\"colorbar\":{\"outlinewidth\":0,\"ticks\":\"\"}},\"colorscale\":{\"diverging\":[[0,\"#8e0152\"],[0.1,\"#c51b7d\"],[0.2,\"#de77ae\"],[0.3,\"#f1b6da\"],[0.4,\"#fde0ef\"],[0.5,\"#f7f7f7\"],[0.6,\"#e6f5d0\"],[0.7,\"#b8e186\"],[0.8,\"#7fbc41\"],[0.9,\"#4d9221\"],[1,\"#276419\"]],\"sequential\":[[0.0,\"#0d0887\"],[0.1111111111111111,\"#46039f\"],[0.2222222222222222,\"#7201a8\"],[0.3333333333333333,\"#9c179e\"],[0.4444444444444444,\"#bd3786\"],[0.5555555555555556,\"#d8576b\"],[0.6666666666666666,\"#ed7953\"],[0.7777777777777778,\"#fb9f3a\"],[0.8888888888888888,\"#fdca26\"],[1.0,\"#f0f921\"]],\"sequentialminus\":[[0.0,\"#0d0887\"],[0.1111111111111111,\"#46039f\"],[0.2222222222222222,\"#7201a8\"],[0.3333333333333333,\"#9c179e\"],[0.4444444444444444,\"#bd3786\"],[0.5555555555555556,\"#d8576b\"],[0.6666666666666666,\"#ed7953\"],[0.7777777777777778,\"#fb9f3a\"],[0.8888888888888888,\"#fdca26\"],[1.0,\"#f0f921\"]]},\"colorway\":[\"#636efa\",\"#EF553B\",\"#00cc96\",\"#ab63fa\",\"#FFA15A\",\"#19d3f3\",\"#FF6692\",\"#B6E880\",\"#FF97FF\",\"#FECB52\"],\"font\":{\"color\":\"#2a3f5f\"},\"geo\":{\"bgcolor\":\"white\",\"lakecolor\":\"white\",\"landcolor\":\"white\",\"showlakes\":true,\"showland\":true,\"subunitcolor\":\"#C8D4E3\"},\"hoverlabel\":{\"align\":\"left\"},\"hovermode\":\"closest\",\"mapbox\":{\"style\":\"light\"},\"paper_bgcolor\":\"white\",\"plot_bgcolor\":\"white\",\"polar\":{\"angularaxis\":{\"gridcolor\":\"#EBF0F8\",\"linecolor\":\"#EBF0F8\",\"ticks\":\"\"},\"bgcolor\":\"white\",\"radialaxis\":{\"gridcolor\":\"#EBF0F8\",\"linecolor\":\"#EBF0F8\",\"ticks\":\"\"}},\"scene\":{\"xaxis\":{\"backgroundcolor\":\"white\",\"gridcolor\":\"#DFE8F3\",\"gridwidth\":2,\"linecolor\":\"#EBF0F8\",\"showbackground\":true,\"ticks\":\"\",\"zerolinecolor\":\"#EBF0F8\"},\"yaxis\":{\"backgroundcolor\":\"white\",\"gridcolor\":\"#DFE8F3\",\"gridwidth\":2,\"linecolor\":\"#EBF0F8\",\"showbackground\":true,\"ticks\":\"\",\"zerolinecolor\":\"#EBF0F8\"},\"zaxis\":{\"backgroundcolor\":\"white\",\"gridcolor\":\"#DFE8F3\",\"gridwidth\":2,\"linecolor\":\"#EBF0F8\",\"showbackground\":true,\"ticks\":\"\",\"zerolinecolor\":\"#EBF0F8\"}},\"shapedefaults\":{\"line\":{\"color\":\"#2a3f5f\"}},\"ternary\":{\"aaxis\":{\"gridcolor\":\"#DFE8F3\",\"linecolor\":\"#A2B1C6\",\"ticks\":\"\"},\"baxis\":{\"gridcolor\":\"#DFE8F3\",\"linecolor\":\"#A2B1C6\",\"ticks\":\"\"},\"bgcolor\":\"white\",\"caxis\":{\"gridcolor\":\"#DFE8F3\",\"linecolor\":\"#A2B1C6\",\"ticks\":\"\"}},\"title\":{\"x\":0.05},\"xaxis\":{\"automargin\":true,\"gridcolor\":\"#EBF0F8\",\"linecolor\":\"#EBF0F8\",\"ticks\":\"\",\"title\":{\"standoff\":15},\"zerolinecolor\":\"#EBF0F8\",\"zerolinewidth\":2},\"yaxis\":{\"automargin\":true,\"gridcolor\":\"#EBF0F8\",\"linecolor\":\"#EBF0F8\",\"ticks\":\"\",\"title\":{\"standoff\":15},\"zerolinecolor\":\"#EBF0F8\",\"zerolinewidth\":2}}},\"xaxis\":{\"anchor\":\"y\",\"domain\":[0.0,0.175],\"showgrid\":true},\"yaxis\":{\"anchor\":\"x\",\"domain\":[0.7555555555555555,1.0],\"showgrid\":true},\"xaxis2\":{\"anchor\":\"y2\",\"domain\":[0.275,0.45],\"showgrid\":true},\"yaxis2\":{\"anchor\":\"x2\",\"domain\":[0.7555555555555555,1.0],\"showgrid\":true},\"xaxis3\":{\"anchor\":\"y3\",\"domain\":[0.55,0.7250000000000001],\"showgrid\":true},\"yaxis3\":{\"anchor\":\"x3\",\"domain\":[0.7555555555555555,1.0],\"showgrid\":true},\"xaxis4\":{\"anchor\":\"y4\",\"domain\":[0.825,1.0],\"showgrid\":true},\"yaxis4\":{\"anchor\":\"x4\",\"domain\":[0.7555555555555555,1.0],\"showgrid\":true},\"xaxis5\":{\"anchor\":\"y5\",\"domain\":[0.0,0.175],\"showgrid\":true},\"yaxis5\":{\"anchor\":\"x5\",\"domain\":[0.37777777777777777,0.6222222222222222],\"showgrid\":true},\"xaxis6\":{\"anchor\":\"y6\",\"domain\":[0.275,0.45],\"showgrid\":true},\"yaxis6\":{\"anchor\":\"x6\",\"domain\":[0.37777777777777777,0.6222222222222222],\"showgrid\":true},\"xaxis7\":{\"anchor\":\"y7\",\"domain\":[0.55,0.7250000000000001],\"showgrid\":true},\"yaxis7\":{\"anchor\":\"x7\",\"domain\":[0.37777777777777777,0.6222222222222222],\"showgrid\":true},\"xaxis8\":{\"anchor\":\"y8\",\"domain\":[0.825,1.0],\"showgrid\":true},\"yaxis8\":{\"anchor\":\"x8\",\"domain\":[0.37777777777777777,0.6222222222222222],\"showgrid\":true},\"xaxis9\":{\"anchor\":\"y9\",\"domain\":[0.0,0.175],\"showgrid\":true},\"yaxis9\":{\"anchor\":\"x9\",\"domain\":[0.0,0.24444444444444446],\"showgrid\":true},\"xaxis10\":{\"anchor\":\"y10\",\"domain\":[0.275,0.45],\"showgrid\":true},\"yaxis10\":{\"anchor\":\"x10\",\"domain\":[0.0,0.24444444444444446],\"showgrid\":true},\"xaxis11\":{\"anchor\":\"y11\",\"domain\":[0.55,0.7250000000000001],\"showgrid\":true},\"yaxis11\":{\"anchor\":\"x11\",\"domain\":[0.0,0.24444444444444446],\"showgrid\":true},\"xaxis12\":{\"anchor\":\"y12\",\"domain\":[0.825,1.0],\"showgrid\":true},\"yaxis12\":{\"anchor\":\"x12\",\"domain\":[0.0,0.24444444444444446],\"showgrid\":true},\"annotations\":[{\"font\":{\"size\":16},\"showarrow\":false,\"text\":\"Topic 0\",\"x\":0.0875,\"xanchor\":\"center\",\"xref\":\"paper\",\"y\":1.0,\"yanchor\":\"bottom\",\"yref\":\"paper\"},{\"font\":{\"size\":16},\"showarrow\":false,\"text\":\"Topic 1\",\"x\":0.36250000000000004,\"xanchor\":\"center\",\"xref\":\"paper\",\"y\":1.0,\"yanchor\":\"bottom\",\"yref\":\"paper\"},{\"font\":{\"size\":16},\"showarrow\":false,\"text\":\"Topic 2\",\"x\":0.6375000000000001,\"xanchor\":\"center\",\"xref\":\"paper\",\"y\":1.0,\"yanchor\":\"bottom\",\"yref\":\"paper\"},{\"font\":{\"size\":16},\"showarrow\":false,\"text\":\"Topic 3\",\"x\":0.9125,\"xanchor\":\"center\",\"xref\":\"paper\",\"y\":1.0,\"yanchor\":\"bottom\",\"yref\":\"paper\"},{\"font\":{\"size\":16},\"showarrow\":false,\"text\":\"Topic 4\",\"x\":0.0875,\"xanchor\":\"center\",\"xref\":\"paper\",\"y\":0.6222222222222222,\"yanchor\":\"bottom\",\"yref\":\"paper\"},{\"font\":{\"size\":16},\"showarrow\":false,\"text\":\"Topic 5\",\"x\":0.36250000000000004,\"xanchor\":\"center\",\"xref\":\"paper\",\"y\":0.6222222222222222,\"yanchor\":\"bottom\",\"yref\":\"paper\"},{\"font\":{\"size\":16},\"showarrow\":false,\"text\":\"Topic 6\",\"x\":0.6375000000000001,\"xanchor\":\"center\",\"xref\":\"paper\",\"y\":0.6222222222222222,\"yanchor\":\"bottom\",\"yref\":\"paper\"},{\"font\":{\"size\":16},\"showarrow\":false,\"text\":\"Topic 7\",\"x\":0.9125,\"xanchor\":\"center\",\"xref\":\"paper\",\"y\":0.6222222222222222,\"yanchor\":\"bottom\",\"yref\":\"paper\"},{\"font\":{\"size\":16},\"showarrow\":false,\"text\":\"Topic 8\",\"x\":0.0875,\"xanchor\":\"center\",\"xref\":\"paper\",\"y\":0.24444444444444446,\"yanchor\":\"bottom\",\"yref\":\"paper\"},{\"font\":{\"size\":16},\"showarrow\":false,\"text\":\"Topic 9\",\"x\":0.36250000000000004,\"xanchor\":\"center\",\"xref\":\"paper\",\"y\":0.24444444444444446,\"yanchor\":\"bottom\",\"yref\":\"paper\"}],\"title\":{\"font\":{\"size\":22,\"color\":\"Black\"},\"text\":\"<b>Topic Word Scores\",\"x\":0.5,\"xanchor\":\"center\",\"yanchor\":\"top\"},\"hoverlabel\":{\"font\":{\"size\":16,\"family\":\"Rockwell\"},\"bgcolor\":\"white\"},\"showlegend\":false,\"width\":1000,\"height\":750},                        {\"responsive\": true}                    ).then(function(){\n",
       "                            \n",
       "var gd = document.getElementById('71b52338-24ba-48ab-911e-e4bb810a541c');\n",
       "var x = new MutationObserver(function (mutations, observer) {{\n",
       "        var display = window.getComputedStyle(gd).display;\n",
       "        if (!display || display === 'none') {{\n",
       "            console.log([gd, 'removed!']);\n",
       "            Plotly.purge(gd);\n",
       "            observer.disconnect();\n",
       "        }}\n",
       "}});\n",
       "\n",
       "// Listen for the removal of the full notebook cells\n",
       "var notebookContainer = gd.closest('#notebook-container');\n",
       "if (notebookContainer) {{\n",
       "    x.observe(notebookContainer, {childList: true});\n",
       "}}\n",
       "\n",
       "// Listen for the clearing of the current output cell\n",
       "var outputEl = gd.closest('.output');\n",
       "if (outputEl) {{\n",
       "    x.observe(outputEl, {childList: true});\n",
       "}}\n",
       "\n",
       "                        })                };                });            </script>        </div>"
      ]
     },
     "metadata": {},
     "output_type": "display_data"
    }
   ],
   "source": [
    "model.visualize_barchart(top_n_topics=10)"
   ]
  },
  {
   "cell_type": "markdown",
   "metadata": {},
   "source": [
    "### Visualize Topic Similarity\n",
    "Having generated topic embeddings, through both c-TF-IDF and embeddings, we can create a similarity matrix by simply applying cosine similarities through those topic embeddings. The result will be a matrix indicating how similar certain topics are to each other."
   ]
  },
  {
   "cell_type": "code",
   "execution_count": 34,
   "metadata": {},
   "outputs": [
    {
     "data": {
      "application/vnd.plotly.v1+json": {
       "config": {
        "plotlyServerURL": "https://plot.ly"
       },
       "data": [
        {
         "coloraxis": "coloraxis",
         "hovertemplate": "x: %{x}<br>y: %{y}<br>Similarity Score: %{z}<extra></extra>",
         "name": "0",
         "type": "heatmap",
         "x": [
          "0_węgla_pis_jest",
          "1_zimę_zimy_węgla",
          "2_podatek_podatków_podatki",
          "3_turcji_80_inflacja",
          "4_bezrobocie_inflację_17",
          "5_ropy_opec_usa",
          "20_ropy_ropę_kraje",
          "6_obligacje_inflacji_inflacją",
          "7_małe_mefistofelleess_mini",
          "8_tvp_info_tvp_inflacji",
          "9_podnieść_ceny_cena",
          "12_kosmos_ceny_cena",
          "21_piechocinski_cena_ceny",
          "32_cena_latach_nowego",
          "10_fishing_fever69_zabrakni...",
          "11_turcji_gazu_europy",
          "13_drewna_drewno_ceny",
          "14_setki_galopująca_socjal",
          "15_chiny_chin_chinach",
          "16_cukru_cukier_cena",
          "17_dzieci_kobiety_węglowy",
          "18_ceny_cen_cena",
          "19_masła_albo_cena",
          "22_recesji_recesję_kwartałów",
          "23_węglowy_śladu_jaki",
          "24_glapiński_spadnie_inflacja",
          "25_ceny_gus_zdrożało",
          "30_największą_podwyżkę_temu",
          "26_inflacja_poprzednio_proc",
          "27_prąd_miał_jaka",
          "34_czy_już_węgiel",
          "28_koszty_ceny_no",
          "29_powodem_20_ludzi",
          "31_coolfonpl_robi_inflacja",
          "33_groszy_ceny_kg",
          "35_kobiety_czasy_węgla"
         ],
         "xaxis": "x",
         "y": [
          "0_węgla_pis_jest",
          "1_zimę_zimy_węgla",
          "2_podatek_podatków_podatki",
          "3_turcji_80_inflacja",
          "4_bezrobocie_inflację_17",
          "5_ropy_opec_usa",
          "20_ropy_ropę_kraje",
          "6_obligacje_inflacji_inflacją",
          "7_małe_mefistofelleess_mini",
          "8_tvp_info_tvp_inflacji",
          "9_podnieść_ceny_cena",
          "12_kosmos_ceny_cena",
          "21_piechocinski_cena_ceny",
          "32_cena_latach_nowego",
          "10_fishing_fever69_zabrakni...",
          "11_turcji_gazu_europy",
          "13_drewna_drewno_ceny",
          "14_setki_galopująca_socjal",
          "15_chiny_chin_chinach",
          "16_cukru_cukier_cena",
          "17_dzieci_kobiety_węglowy",
          "18_ceny_cen_cena",
          "19_masła_albo_cena",
          "22_recesji_recesję_kwartałów",
          "23_węglowy_śladu_jaki",
          "24_glapiński_spadnie_inflacja",
          "25_ceny_gus_zdrożało",
          "30_największą_podwyżkę_temu",
          "26_inflacja_poprzednio_proc",
          "27_prąd_miał_jaka",
          "34_czy_już_węgiel",
          "28_koszty_ceny_no",
          "29_powodem_20_ludzi",
          "31_coolfonpl_robi_inflacja",
          "33_groszy_ceny_kg",
          "35_kobiety_czasy_węgla"
         ],
         "yaxis": "y",
         "z": [
          [
           1.0000000000000004,
           0.7153315021126605,
           0.7011567530462812,
           0.7151114069990833,
           0.6377534236961162,
           0.8165776433278701,
           0.8449067829175385,
           0.7049999663156042,
           0.7807781157934983,
           0.5142473397428946,
           0.8869803572534697,
           0.8967344195127205,
           0.8959560558312288,
           0.8636257525830623,
           0.4126186592188797,
           0.6945029306017969,
           0.7587572940388858,
           0.7860672995662323,
           0.662782487058843,
           0.6501109572451309,
           0.8838703731913848,
           0.8897694969313057,
           0.7678090834364293,
           0.7032329430837657,
           0.8926993614064096,
           0.8186693084079264,
           0.89635239710781,
           0.8652277694947799,
           0.87972869149609,
           0.8668187013750022,
           0.8370910670214644,
           0.808689851965523,
           0.8184265218998129,
           0.7651804554337477,
           0.8824491948589477,
           0.6241453824066793
          ],
          [
           0.7153315021126605,
           1.0000000000000004,
           0.34353373185170544,
           0.5265665578083447,
           0.42934433460075244,
           0.6546129297080692,
           0.6771216275509963,
           0.41167552542921526,
           0.6365922056561544,
           0.32436288277325825,
           0.6614011883924292,
           0.6605796227174338,
           0.6492069396145408,
           0.6682421887033836,
           0.4783505500316993,
           0.5671296864039196,
           0.5914529627282517,
           0.6868424770183224,
           0.556405063724257,
           0.580929142120419,
           0.696985436189854,
           0.6056179680341354,
           0.6166034108917019,
           0.4252365803181899,
           0.7455564164360406,
           0.6909315976219934,
           0.6343343452326672,
           0.5885799278956496,
           0.6536695955033901,
           0.7233071932800057,
           0.7216192650970393,
           0.45563432225831474,
           0.6152694894392486,
           0.6057142165766927,
           0.5816163093619994,
           0.49900840518065165
          ],
          [
           0.7011567530462812,
           0.34353373185170544,
           0.9999999999999994,
           0.530007315845939,
           0.6782280548122974,
           0.4807575491615382,
           0.533844898710105,
           0.6925772694079237,
           0.4525953812820063,
           0.48968576897168165,
           0.590673741515956,
           0.629303992679466,
           0.6133084456145745,
           0.5912261070398919,
           0.19952883897640483,
           0.4204459108610689,
           0.46065683145566944,
           0.5027768254847831,
           0.40246013026273897,
           0.47736412945819723,
           0.5854829181629824,
           0.682626914646772,
           0.511496562949504,
           0.7182552554084074,
           0.5132772657045792,
           0.5935450636576484,
           0.6723776991153753,
           0.6674949830949963,
           0.6701812765112218,
           0.5404643258312719,
           0.4983167899372467,
           0.6848989565074965,
           0.5939708431024876,
           0.5481918422646187,
           0.6720396269650734,
           0.4248801971096625
          ],
          [
           0.7151114069990833,
           0.5265665578083447,
           0.530007315845939,
           1.0000000000000004,
           0.5216106161084009,
           0.7683534677862307,
           0.7856684202323211,
           0.6390596810298099,
           0.6722780755886673,
           0.4522500310049881,
           0.7523052628465204,
           0.751741549100443,
           0.753953030698459,
           0.7795023062239393,
           0.510719744036675,
           0.9327579990935565,
           0.5414160274498633,
           0.7797533659846523,
           0.5438084522323554,
           0.4965528477571693,
           0.7405039403801295,
           0.7091878705370204,
           0.6736178285679086,
           0.5738890228547642,
           0.6135420453569078,
           0.7694638336201237,
           0.7562142429375092,
           0.7407005713205459,
           0.795717683220989,
           0.7127974166359974,
           0.6973748093716536,
           0.5687763662285844,
           0.7161230521772934,
           0.6304676797617973,
           0.7079272031078041,
           0.579231340737321
          ],
          [
           0.6377534236961162,
           0.42934433460075244,
           0.6782280548122974,
           0.5216106161084009,
           1.0000000000000004,
           0.4746059068037889,
           0.48045282584847526,
           0.6207460752674812,
           0.47947847413092404,
           0.4798987149708319,
           0.5431730708124751,
           0.5391623865454925,
           0.5515159621045334,
           0.5713274552238218,
           0.2421811231947007,
           0.38791244443662787,
           0.42679449260142144,
           0.5005539015817576,
           0.35344755196379896,
           0.40866689102648734,
           0.5969998643789258,
           0.5838022475668005,
           0.48613986768593315,
           0.7553905824183366,
           0.5190487249978857,
           0.5979083766735951,
           0.6285242337794863,
           0.5772596698365638,
           0.6544516819413757,
           0.5388923160723511,
           0.5079485436232338,
           0.5549931724866094,
           0.593167785868963,
           0.5789040180433935,
           0.6065444928583218,
           0.440864978847834
          ],
          [
           0.8165776433278701,
           0.6546129297080692,
           0.4807575491615382,
           0.7683534677862307,
           0.4746059068037889,
           0.9999999999999998,
           0.9554120486199316,
           0.593949400339638,
           0.8583529663592244,
           0.4107542057879095,
           0.8745606479503025,
           0.8326481338201829,
           0.863177668703297,
           0.8727886020320613,
           0.5423811827009097,
           0.7965893526718901,
           0.7159287674023052,
           0.8495364159931711,
           0.681114536561636,
           0.6311950232647594,
           0.8394005699977738,
           0.755094377428435,
           0.8295146419231891,
           0.523233912699952,
           0.7958633311650403,
           0.8443884659848061,
           0.81423105280957,
           0.7981193748717059,
           0.8623583191439537,
           0.8850140137087645,
           0.8536453353223402,
           0.6015718504759955,
           0.7920969859950695,
           0.740144898371121,
           0.7857722038359609,
           0.6544043990844566
          ],
          [
           0.8449067829175385,
           0.6771216275509963,
           0.533844898710105,
           0.7856684202323211,
           0.48045282584847526,
           0.9554120486199316,
           1,
           0.629681723597716,
           0.8123919444496808,
           0.4070019774835185,
           0.8754414682803112,
           0.8605197745231637,
           0.8805677438693214,
           0.8726440797564498,
           0.5270603864882895,
           0.8031516884828196,
           0.7250962970619339,
           0.8641594739081413,
           0.747659224000321,
           0.6394269685448555,
           0.8293309696904348,
           0.8025048915770099,
           0.8359422354955537,
           0.5610562160247707,
           0.7921858146034566,
           0.8282822855293747,
           0.8463829959236766,
           0.8308102673727769,
           0.852434402846612,
           0.8591342310127268,
           0.8413532588823913,
           0.6458096382676831,
           0.7888613394116987,
           0.7089250419262008,
           0.8107065024780067,
           0.6447531313336673
          ],
          [
           0.7049999663156042,
           0.41167552542921526,
           0.6925772694079237,
           0.6390596810298099,
           0.6207460752674812,
           0.593949400339638,
           0.629681723597716,
           0.9999999999999998,
           0.5330584096277914,
           0.4604305437605278,
           0.6404227579623024,
           0.686665495832886,
           0.6910301027576987,
           0.6530459034984706,
           0.30862674630459885,
           0.5472478578346612,
           0.49902529009934093,
           0.5374928413418469,
           0.4431604373122262,
           0.42848032720024676,
           0.637202333863802,
           0.6891443589914836,
           0.5534000439655572,
           0.7657192851283009,
           0.4968774674565032,
           0.6602469003702571,
           0.7120186152858657,
           0.6657408743773077,
           0.7259900890738897,
           0.569682099782691,
           0.5536613066693488,
           0.6543137532283678,
           0.6342416723664797,
           0.5859967037153889,
           0.7146879779823572,
           0.48420010030050403
          ],
          [
           0.7807781157934983,
           0.6365922056561544,
           0.4525953812820063,
           0.6722780755886673,
           0.47947847413092404,
           0.8583529663592244,
           0.8123919444496808,
           0.5330584096277914,
           1,
           0.3650585047532404,
           0.8489375209510248,
           0.825116960196994,
           0.8560686050137147,
           0.8886579793481305,
           0.5078560441284283,
           0.6838439588326399,
           0.662083442407291,
           0.8392704205737187,
           0.6461842502166883,
           0.6431543647267672,
           0.8598687999461997,
           0.7442291906249091,
           0.7764088443763768,
           0.5041908561690192,
           0.7756181746718668,
           0.8477800261038257,
           0.8128856738957451,
           0.8135257782436515,
           0.8164957444755586,
           0.8849605018920909,
           0.8661648811865871,
           0.5840475774276794,
           0.7874641717214647,
           0.7525814705893707,
           0.7770122402283118,
           0.6722623874596755
          ],
          [
           0.5142473397428946,
           0.32436288277325825,
           0.48968576897168165,
           0.4522500310049881,
           0.4798987149708319,
           0.4107542057879095,
           0.4070019774835185,
           0.4604305437605278,
           0.3650585047532404,
           1.0000000000000002,
           0.4670242627058436,
           0.5353270250269034,
           0.4483395738564664,
           0.48095402061031606,
           0.25595329026132385,
           0.38974242711346135,
           0.32200631599611074,
           0.4185669851479413,
           0.2830868331065407,
           0.30814623402912067,
           0.46997214714597296,
           0.6068507229844514,
           0.39131270486977343,
           0.5699312322074503,
           0.389983936738791,
           0.46085102928233534,
           0.5233652244056712,
           0.5029555245878211,
           0.568336348113833,
           0.4228455165736743,
           0.40893703995298814,
           0.4873350015520883,
           0.48687333512865144,
           0.5631956897445026,
           0.467108125631732,
           0.3963168714633815
          ],
          [
           0.8869803572534697,
           0.6614011883924292,
           0.590673741515956,
           0.7523052628465204,
           0.5431730708124751,
           0.8745606479503025,
           0.8754414682803112,
           0.6404227579623024,
           0.8489375209510248,
           0.4670242627058436,
           1.0000000000000004,
           0.913501071587357,
           0.9395438688338044,
           0.9111288464587926,
           0.4933447246642394,
           0.7527439956372668,
           0.743143737659545,
           0.8668986669105321,
           0.656468539001195,
           0.6473025196440432,
           0.8697941248695676,
           0.9073350002574736,
           0.825243953368404,
           0.5994609928065553,
           0.7908518802345209,
           0.8450836392778458,
           0.9003265817839752,
           0.8983735039161133,
           0.8803360228753243,
           0.8849424897909102,
           0.8645227269364897,
           0.7925913155122547,
           0.8412167875636779,
           0.765202294156586,
           0.8816879602604455,
           0.6945357424617182
          ],
          [
           0.8967344195127205,
           0.6605796227174338,
           0.629303992679466,
           0.751741549100443,
           0.5391623865454925,
           0.8326481338201829,
           0.8605197745231637,
           0.686665495832886,
           0.825116960196994,
           0.5353270250269034,
           0.913501071587357,
           1.0000000000000002,
           0.908333378751247,
           0.9033758017770829,
           0.4479120292317325,
           0.7504291913683595,
           0.7211009734407616,
           0.8556314546768037,
           0.6923456138425103,
           0.621303039635238,
           0.8464312036054576,
           0.9078606496602729,
           0.7726577439672665,
           0.6334504264423216,
           0.7907119712114011,
           0.8430474657008371,
           0.9038754015826148,
           0.89559609449959,
           0.8775237073695411,
           0.8659096260640095,
           0.831375911909876,
           0.7966048070218414,
           0.8383550383529589,
           0.7593878622586894,
           0.8684857352846738,
           0.6968455655960686
          ],
          [
           0.8959560558312288,
           0.6492069396145408,
           0.6133084456145745,
           0.753953030698459,
           0.5515159621045334,
           0.863177668703297,
           0.8805677438693214,
           0.6910301027576987,
           0.8560686050137147,
           0.4483395738564664,
           0.9395438688338044,
           0.908333378751247,
           1,
           0.9094137144788167,
           0.5105021913940743,
           0.7363774735846202,
           0.7129140304500557,
           0.8497820379833131,
           0.6697436744804252,
           0.6949225623468148,
           0.8582708543668902,
           0.8995702144324987,
           0.8515713664374677,
           0.629142352144296,
           0.7782744627509924,
           0.8481269454409325,
           0.9139642928789066,
           0.9002624558393797,
           0.8679713354647413,
           0.859915208173616,
           0.8594622253455593,
           0.7864436487774529,
           0.8385775696877631,
           0.7587106058826822,
           0.9174311034560017,
           0.6578604224492768
          ],
          [
           0.8636257525830623,
           0.6682421887033836,
           0.5912261070398919,
           0.7795023062239393,
           0.5713274552238218,
           0.8727886020320613,
           0.8726440797564498,
           0.6530459034984706,
           0.8886579793481305,
           0.48095402061031606,
           0.9111288464587926,
           0.9033758017770829,
           0.9094137144788167,
           0.9999999999999994,
           0.5209816602698213,
           0.7593249050542273,
           0.7279038957295765,
           0.9049933467608019,
           0.6833885574027068,
           0.6292089830771215,
           0.8814985407535639,
           0.8626494878178109,
           0.7948335993845329,
           0.634337026768665,
           0.805480501916527,
           0.8918437883686388,
           0.9369567430537181,
           0.900238694629068,
           0.9060870011314518,
           0.893106337498137,
           0.8724169637133452,
           0.7280743667699006,
           0.8581252708991767,
           0.7709165419516455,
           0.8704602403397702,
           0.7410137501830376
          ],
          [
           0.4126186592188797,
           0.4783505500316993,
           0.19952883897640483,
           0.510719744036675,
           0.2421811231947007,
           0.5423811827009097,
           0.5270603864882895,
           0.30862674630459885,
           0.5078560441284283,
           0.25595329026132385,
           0.4933447246642394,
           0.4479120292317325,
           0.5105021913940743,
           0.5209816602698213,
           0.9999999999999996,
           0.4989897238514265,
           0.3984272475125193,
           0.483931686237694,
           0.4299296047614881,
           0.3665378136103348,
           0.4490776532965707,
           0.39452627021765035,
           0.5228598233355991,
           0.26414476218099137,
           0.4041193516811204,
           0.5162087920871086,
           0.4812991407906335,
           0.4395565210738217,
           0.49599496457085046,
           0.4710777880304421,
           0.4903144286799189,
           0.27307038270833534,
           0.40570369983998283,
           0.45665659086243926,
           0.4182731434123116,
           0.33061947635516087
          ],
          [
           0.6945029306017969,
           0.5671296864039196,
           0.4204459108610689,
           0.9327579990935565,
           0.38791244443662787,
           0.7965893526718901,
           0.8031516884828196,
           0.5472478578346612,
           0.6838439588326399,
           0.38974242711346135,
           0.7527439956372668,
           0.7504291913683595,
           0.7363774735846202,
           0.7593249050542273,
           0.4989897238514265,
           1.0000000000000002,
           0.5504409470292476,
           0.7928290667094043,
           0.559533605090703,
           0.49710954514624006,
           0.7190531239674419,
           0.6575305654441371,
           0.6962226617198299,
           0.4644587258869256,
           0.6617379181917831,
           0.7368410489633864,
           0.6919763210369195,
           0.6927682430261558,
           0.7488455717615932,
           0.7482087025996464,
           0.7104061350384409,
           0.5025081748888945,
           0.6727438914416323,
           0.6138388361342464,
           0.6630300350731333,
           0.5599972073169083
          ],
          [
           0.7587572940388858,
           0.5914529627282517,
           0.46065683145566944,
           0.5414160274498633,
           0.42679449260142144,
           0.7159287674023052,
           0.7250962970619339,
           0.49902529009934093,
           0.662083442407291,
           0.32200631599611074,
           0.743143737659545,
           0.7211009734407616,
           0.7129140304500557,
           0.7279038957295765,
           0.3984272475125193,
           0.5504409470292476,
           0.9999999999999996,
           0.7057747254372068,
           0.5624073932473203,
           0.5418957835234044,
           0.6966742721183398,
           0.685463199096741,
           0.6590519925688114,
           0.5071482154141707,
           0.7454258370358827,
           0.6520424486861593,
           0.7325630931721304,
           0.7211376620955636,
           0.6702231931364913,
           0.7378421674638667,
           0.7047019027555247,
           0.6028086027683517,
           0.6809109173452838,
           0.6182301627237736,
           0.6896114143932424,
           0.531505693001255
          ],
          [
           0.7860672995662323,
           0.6868424770183224,
           0.5027768254847831,
           0.7797533659846523,
           0.5005539015817576,
           0.8495364159931711,
           0.8641594739081413,
           0.5374928413418469,
           0.8392704205737187,
           0.4185669851479413,
           0.8668986669105321,
           0.8556314546768037,
           0.8497820379833131,
           0.9049933467608019,
           0.483931686237694,
           0.7928290667094043,
           0.7057747254372068,
           1,
           0.6492227676286921,
           0.5890311894519551,
           0.8412027756627902,
           0.791708673786196,
           0.7478857116712566,
           0.543520632245184,
           0.7707591076134708,
           0.8415822592168889,
           0.834978540353065,
           0.8573352730478473,
           0.8367162078900796,
           0.878005551404649,
           0.8516415785851057,
           0.6149416413253627,
           0.813570183601466,
           0.7165665799330483,
           0.7639409311600283,
           0.6976514049011598
          ],
          [
           0.662782487058843,
           0.556405063724257,
           0.40246013026273897,
           0.5438084522323554,
           0.35344755196379896,
           0.681114536561636,
           0.747659224000321,
           0.4431604373122262,
           0.6461842502166883,
           0.2830868331065407,
           0.656468539001195,
           0.6923456138425103,
           0.6697436744804252,
           0.6833885574027068,
           0.4299296047614881,
           0.559533605090703,
           0.5624073932473203,
           0.6492227676286921,
           1.0000000000000002,
           0.4749199665962136,
           0.6381548585686925,
           0.5999355841409459,
           0.5804117417841278,
           0.41618559053342474,
           0.6300535745831224,
           0.6282089978734532,
           0.6569019098561468,
           0.6375227187368064,
           0.6384771595982239,
           0.676174092048148,
           0.6722290950612451,
           0.4676461343003727,
           0.5901801615735751,
           0.5456157432049424,
           0.602566425898862,
           0.49521016459741873
          ],
          [
           0.6501109572451309,
           0.580929142120419,
           0.47736412945819723,
           0.4965528477571693,
           0.40866689102648734,
           0.6311950232647594,
           0.6394269685448555,
           0.42848032720024676,
           0.6431543647267672,
           0.30814623402912067,
           0.6473025196440432,
           0.621303039635238,
           0.6949225623468148,
           0.6292089830771215,
           0.3665378136103348,
           0.49710954514624006,
           0.5418957835234044,
           0.5890311894519551,
           0.4749199665962136,
           1.0000000000000007,
           0.6228734512638215,
           0.5711464265009419,
           0.7088670682556667,
           0.4501698212231937,
           0.6409150548379668,
           0.6355730672976417,
           0.6299530726821767,
           0.6236723606552917,
           0.5878569838605909,
           0.65187913582334,
           0.6177791591826873,
           0.49070031986719187,
           0.6456981212858205,
           0.6075002269725405,
           0.6601794001043495,
           0.4583276257543931
          ],
          [
           0.8838703731913848,
           0.696985436189854,
           0.5854829181629824,
           0.7405039403801295,
           0.5969998643789258,
           0.8394005699977738,
           0.8293309696904348,
           0.637202333863802,
           0.8598687999461997,
           0.46997214714597296,
           0.8697941248695676,
           0.8464312036054576,
           0.8582708543668902,
           0.8814985407535639,
           0.4490776532965707,
           0.7190531239674419,
           0.6966742721183398,
           0.8412027756627902,
           0.6381548585686925,
           0.6228734512638215,
           0.9999999999999996,
           0.8075016487465296,
           0.7583928049075078,
           0.6237010397890819,
           0.8313754936669646,
           0.8582412802001289,
           0.8581687450171231,
           0.8167357783519175,
           0.8814205147901759,
           0.8862436612685592,
           0.8724586464335935,
           0.6551956234566738,
           0.8459626178913991,
           0.7636612564568113,
           0.7889391924066167,
           0.7655756753192803
          ],
          [
           0.8897694969313057,
           0.6056179680341354,
           0.682626914646772,
           0.7091878705370204,
           0.5838022475668005,
           0.755094377428435,
           0.8025048915770099,
           0.6891443589914836,
           0.7442291906249091,
           0.6068507229844514,
           0.9073350002574736,
           0.9078606496602729,
           0.8995702144324987,
           0.8626494878178109,
           0.39452627021765035,
           0.6575305654441371,
           0.685463199096741,
           0.791708673786196,
           0.5999355841409459,
           0.5711464265009419,
           0.8075016487465296,
           0.9999999999999994,
           0.7467149102469846,
           0.6660521136008009,
           0.7048658049677359,
           0.7770096485779566,
           0.9168034752257672,
           0.9052744779379605,
           0.8441629839927409,
           0.7919446574356619,
           0.8032104888300023,
           0.9018177818802506,
           0.8097264083849306,
           0.7305044890529782,
           0.8997124521518867,
           0.6363701776547059
          ],
          [
           0.7678090834364293,
           0.6166034108917019,
           0.511496562949504,
           0.6736178285679086,
           0.48613986768593315,
           0.8295146419231891,
           0.8359422354955537,
           0.5534000439655572,
           0.7764088443763768,
           0.39131270486977343,
           0.825243953368404,
           0.7726577439672665,
           0.8515713664374677,
           0.7948335993845329,
           0.5228598233355991,
           0.6962226617198299,
           0.6590519925688114,
           0.7478857116712566,
           0.5804117417841278,
           0.7088670682556667,
           0.7583928049075078,
           0.7467149102469846,
           1,
           0.5079683299640563,
           0.7009677121822417,
           0.7384033893643609,
           0.7703609348803349,
           0.7549706836205881,
           0.7766470617025021,
           0.8038374431502324,
           0.7854434183344199,
           0.6117659968246876,
           0.7306780032164814,
           0.6723336421504226,
           0.758069601791112,
           0.6000389619708134
          ],
          [
           0.7032329430837657,
           0.4252365803181899,
           0.7182552554084074,
           0.5738890228547642,
           0.7553905824183366,
           0.523233912699952,
           0.5610562160247707,
           0.7657192851283009,
           0.5041908561690192,
           0.5699312322074503,
           0.5994609928065553,
           0.6334504264423216,
           0.629142352144296,
           0.634337026768665,
           0.26414476218099137,
           0.4644587258869256,
           0.5071482154141707,
           0.543520632245184,
           0.41618559053342474,
           0.4501698212231937,
           0.6237010397890819,
           0.6660521136008009,
           0.5079683299640563,
           0.9999999999999998,
           0.545504580333183,
           0.641510619878128,
           0.7087345640110986,
           0.6417040744827729,
           0.7390170569542994,
           0.5556252310771176,
           0.5533757515301575,
           0.6268017041380579,
           0.6105143524390492,
           0.6549893595943904,
           0.6701364025915275,
           0.4760992530676697
          ],
          [
           0.8926993614064096,
           0.7455564164360406,
           0.5132772657045792,
           0.6135420453569078,
           0.5190487249978857,
           0.7958633311650403,
           0.7921858146034566,
           0.4968774674565032,
           0.7756181746718668,
           0.389983936738791,
           0.7908518802345209,
           0.7907119712114011,
           0.7782744627509924,
           0.805480501916527,
           0.4041193516811204,
           0.6617379181917831,
           0.7454258370358827,
           0.7707591076134708,
           0.6300535745831224,
           0.6409150548379668,
           0.8313754936669646,
           0.7048658049677359,
           0.7009677121822417,
           0.545504580333183,
           0.9999999999999993,
           0.763029321118315,
           0.7651947450729992,
           0.7555142963915248,
           0.7827548834218044,
           0.8614579555580584,
           0.8175046949384525,
           0.5750408744278778,
           0.7470375487687867,
           0.6883371225269913,
           0.7216213142709289,
           0.6055023810330045
          ],
          [
           0.8186693084079264,
           0.6909315976219934,
           0.5935450636576484,
           0.7694638336201237,
           0.5979083766735951,
           0.8443884659848061,
           0.8282822855293747,
           0.6602469003702571,
           0.8477800261038257,
           0.46085102928233534,
           0.8450836392778458,
           0.8430474657008371,
           0.8481269454409325,
           0.8918437883686388,
           0.5162087920871086,
           0.7368410489633864,
           0.6520424486861593,
           0.8415822592168889,
           0.6282089978734532,
           0.6355730672976417,
           0.8582412802001289,
           0.7770096485779566,
           0.7384033893643609,
           0.641510619878128,
           0.763029321118315,
           1.0000000000000002,
           0.8400412935665652,
           0.8129374004081268,
           0.8921699790440595,
           0.8642388888351369,
           0.838210523174833,
           0.6290859271146181,
           0.7908253818642493,
           0.7741819246247093,
           0.8047897321159969,
           0.676514559497121
          ],
          [
           0.89635239710781,
           0.6343343452326672,
           0.6723776991153753,
           0.7562142429375092,
           0.6285242337794863,
           0.81423105280957,
           0.8463829959236766,
           0.7120186152858657,
           0.8128856738957451,
           0.5233652244056712,
           0.9003265817839752,
           0.9038754015826148,
           0.9139642928789066,
           0.9369567430537181,
           0.4812991407906335,
           0.6919763210369195,
           0.7325630931721304,
           0.834978540353065,
           0.6569019098561468,
           0.6299530726821767,
           0.8581687450171231,
           0.9168034752257672,
           0.7703609348803349,
           0.7087345640110986,
           0.7651947450729992,
           0.8400412935665652,
           0.9999999999999999,
           0.9271385097962195,
           0.8943542420121526,
           0.8276276429368059,
           0.8292614902501828,
           0.8217247538997542,
           0.8512848802589623,
           0.7614532942371541,
           0.9059992034649548,
           0.6930460828163856
          ],
          [
           0.8652277694947799,
           0.5885799278956496,
           0.6674949830949963,
           0.7407005713205459,
           0.5772596698365638,
           0.7981193748717059,
           0.8308102673727769,
           0.6657408743773077,
           0.8135257782436515,
           0.5029555245878211,
           0.8983735039161133,
           0.89559609449959,
           0.9002624558393797,
           0.900238694629068,
           0.4395565210738217,
           0.6927682430261558,
           0.7211376620955636,
           0.8573352730478473,
           0.6375227187368064,
           0.6236723606552917,
           0.8167357783519175,
           0.9052744779379605,
           0.7549706836205881,
           0.6417040744827729,
           0.7555142963915248,
           0.8129374004081268,
           0.9271385097962195,
           1.0000000000000002,
           0.8591844958076695,
           0.8259358332356067,
           0.8029569819535078,
           0.8063502546045319,
           0.8422168001301641,
           0.7430923507503132,
           0.8954876915263057,
           0.6531150665843972
          ],
          [
           0.87972869149609,
           0.6536695955033901,
           0.6701812765112218,
           0.795717683220989,
           0.6544516819413757,
           0.8623583191439537,
           0.852434402846612,
           0.7259900890738897,
           0.8164957444755586,
           0.568336348113833,
           0.8803360228753243,
           0.8775237073695411,
           0.8679713354647413,
           0.9060870011314518,
           0.49599496457085046,
           0.7488455717615932,
           0.6702231931364913,
           0.8367162078900796,
           0.6384771595982239,
           0.5878569838605909,
           0.8814205147901759,
           0.8441629839927409,
           0.7766470617025021,
           0.7390170569542994,
           0.7827548834218044,
           0.8921699790440595,
           0.8943542420121526,
           0.8591844958076695,
           1.0000000000000004,
           0.873131899126141,
           0.8595405750655273,
           0.7054583743074501,
           0.8225549397215974,
           0.7815605070099023,
           0.8202955167853061,
           0.6981828549726918
          ],
          [
           0.8668187013750022,
           0.7233071932800057,
           0.5404643258312719,
           0.7127974166359974,
           0.5388923160723511,
           0.8850140137087645,
           0.8591342310127268,
           0.569682099782691,
           0.8849605018920909,
           0.4228455165736743,
           0.8849424897909102,
           0.8659096260640095,
           0.859915208173616,
           0.893106337498137,
           0.4710777880304421,
           0.7482087025996464,
           0.7378421674638667,
           0.878005551404649,
           0.676174092048148,
           0.65187913582334,
           0.8862436612685592,
           0.7919446574356619,
           0.8038374431502324,
           0.5556252310771176,
           0.8614579555580584,
           0.8642388888351369,
           0.8276276429368059,
           0.8259358332356067,
           0.873131899126141,
           0.9999999999999991,
           0.9247346854647688,
           0.6214374922442553,
           0.8540953933583341,
           0.7570395084966951,
           0.7566023528571388,
           0.6886957521633463
          ],
          [
           0.8370910670214644,
           0.7216192650970393,
           0.4983167899372467,
           0.6973748093716536,
           0.5079485436232338,
           0.8536453353223402,
           0.8413532588823913,
           0.5536613066693488,
           0.8661648811865871,
           0.40893703995298814,
           0.8645227269364897,
           0.831375911909876,
           0.8594622253455593,
           0.8724169637133452,
           0.4903144286799189,
           0.7104061350384409,
           0.7047019027555247,
           0.8516415785851057,
           0.6722290950612451,
           0.6177791591826873,
           0.8724586464335935,
           0.8032104888300023,
           0.7854434183344199,
           0.5533757515301575,
           0.8175046949384525,
           0.838210523174833,
           0.8292614902501828,
           0.8029569819535078,
           0.8595405750655273,
           0.9247346854647688,
           1.0000000000000004,
           0.5926969108588189,
           0.7990461615191906,
           0.7293541980370625,
           0.7340188677533923,
           0.7082782440538733
          ],
          [
           0.808689851965523,
           0.45563432225831474,
           0.6848989565074965,
           0.5687763662285844,
           0.5549931724866094,
           0.6015718504759955,
           0.6458096382676831,
           0.6543137532283678,
           0.5840475774276794,
           0.4873350015520883,
           0.7925913155122547,
           0.7966048070218414,
           0.7864436487774529,
           0.7280743667699006,
           0.27307038270833534,
           0.5025081748888945,
           0.6028086027683517,
           0.6149416413253627,
           0.4676461343003727,
           0.49070031986719187,
           0.6551956234566738,
           0.9018177818802506,
           0.6117659968246876,
           0.6268017041380579,
           0.5750408744278778,
           0.6290859271146181,
           0.8217247538997542,
           0.8063502546045319,
           0.7054583743074501,
           0.6214374922442553,
           0.5926969108588189,
           1.0000000000000004,
           0.6910276816550456,
           0.61689102983134,
           0.8893427980008248,
           0.4830787392101961
          ],
          [
           0.8184265218998129,
           0.6152694894392486,
           0.5939708431024876,
           0.7161230521772934,
           0.593167785868963,
           0.7920969859950695,
           0.7888613394116987,
           0.6342416723664797,
           0.7874641717214647,
           0.48687333512865144,
           0.8412167875636779,
           0.8383550383529589,
           0.8385775696877631,
           0.8581252708991767,
           0.40570369983998283,
           0.6727438914416323,
           0.6809109173452838,
           0.813570183601466,
           0.5901801615735751,
           0.6456981212858205,
           0.8459626178913991,
           0.8097264083849306,
           0.7306780032164814,
           0.6105143524390492,
           0.7470375487687867,
           0.7908253818642493,
           0.8512848802589623,
           0.8422168001301641,
           0.8225549397215974,
           0.8540953933583341,
           0.7990461615191906,
           0.6910276816550456,
           0.9999999999999996,
           0.7355354518384158,
           0.791724005032864,
           0.705348644591842
          ],
          [
           0.7651804554337477,
           0.6057142165766927,
           0.5481918422646187,
           0.6304676797617973,
           0.5789040180433935,
           0.740144898371121,
           0.7089250419262008,
           0.5859967037153889,
           0.7525814705893707,
           0.5631956897445026,
           0.765202294156586,
           0.7593878622586894,
           0.7587106058826822,
           0.7709165419516455,
           0.45665659086243926,
           0.6138388361342464,
           0.6182301627237736,
           0.7165665799330483,
           0.5456157432049424,
           0.6075002269725405,
           0.7636612564568113,
           0.7305044890529782,
           0.6723336421504226,
           0.6549893595943904,
           0.6883371225269913,
           0.7741819246247093,
           0.7614532942371541,
           0.7430923507503132,
           0.7815605070099023,
           0.7570395084966951,
           0.7293541980370625,
           0.61689102983134,
           0.7355354518384158,
           1.0000000000000007,
           0.7366629034154848,
           0.5683443537574335
          ],
          [
           0.8824491948589477,
           0.5816163093619994,
           0.6720396269650734,
           0.7079272031078041,
           0.6065444928583218,
           0.7857722038359609,
           0.8107065024780067,
           0.7146879779823572,
           0.7770122402283118,
           0.467108125631732,
           0.8816879602604455,
           0.8684857352846738,
           0.9174311034560017,
           0.8704602403397702,
           0.4182731434123116,
           0.6630300350731333,
           0.6896114143932424,
           0.7639409311600283,
           0.602566425898862,
           0.6601794001043495,
           0.7889391924066167,
           0.8997124521518867,
           0.758069601791112,
           0.6701364025915275,
           0.7216213142709289,
           0.8047897321159969,
           0.9059992034649548,
           0.8954876915263057,
           0.8202955167853061,
           0.7566023528571388,
           0.7340188677533923,
           0.8893427980008248,
           0.791724005032864,
           0.7366629034154848,
           0.9999999999999996,
           0.5891105066357437
          ],
          [
           0.6241453824066793,
           0.49900840518065165,
           0.4248801971096625,
           0.579231340737321,
           0.440864978847834,
           0.6544043990844566,
           0.6447531313336673,
           0.48420010030050403,
           0.6722623874596755,
           0.3963168714633815,
           0.6945357424617182,
           0.6968455655960686,
           0.6578604224492768,
           0.7410137501830376,
           0.33061947635516087,
           0.5599972073169083,
           0.531505693001255,
           0.6976514049011598,
           0.49521016459741873,
           0.4583276257543931,
           0.7655756753192803,
           0.6363701776547059,
           0.6000389619708134,
           0.4760992530676697,
           0.6055023810330045,
           0.676514559497121,
           0.6930460828163856,
           0.6531150665843972,
           0.6981828549726918,
           0.6886957521633463,
           0.7082782440538733,
           0.4830787392101961,
           0.705348644591842,
           0.5683443537574335,
           0.5891105066357437,
           1.0000000000000002
          ]
         ]
        }
       ],
       "layout": {
        "coloraxis": {
         "colorbar": {
          "title": {
           "text": "Similarity Score"
          }
         },
         "colorscale": [
          [
           0,
           "rgb(247,252,240)"
          ],
          [
           0.125,
           "rgb(224,243,219)"
          ],
          [
           0.25,
           "rgb(204,235,197)"
          ],
          [
           0.375,
           "rgb(168,221,181)"
          ],
          [
           0.5,
           "rgb(123,204,196)"
          ],
          [
           0.625,
           "rgb(78,179,211)"
          ],
          [
           0.75,
           "rgb(43,140,190)"
          ],
          [
           0.875,
           "rgb(8,104,172)"
          ],
          [
           1,
           "rgb(8,64,129)"
          ]
         ]
        },
        "height": 1000,
        "hoverlabel": {
         "bgcolor": "white",
         "font": {
          "family": "Rockwell",
          "size": 16
         }
        },
        "legend": {
         "title": {
          "text": "Trend"
         }
        },
        "margin": {
         "t": 60
        },
        "showlegend": true,
        "template": {
         "data": {
          "bar": [
           {
            "error_x": {
             "color": "#2a3f5f"
            },
            "error_y": {
             "color": "#2a3f5f"
            },
            "marker": {
             "line": {
              "color": "#E5ECF6",
              "width": 0.5
             },
             "pattern": {
              "fillmode": "overlay",
              "size": 10,
              "solidity": 0.2
             }
            },
            "type": "bar"
           }
          ],
          "barpolar": [
           {
            "marker": {
             "line": {
              "color": "#E5ECF6",
              "width": 0.5
             },
             "pattern": {
              "fillmode": "overlay",
              "size": 10,
              "solidity": 0.2
             }
            },
            "type": "barpolar"
           }
          ],
          "carpet": [
           {
            "aaxis": {
             "endlinecolor": "#2a3f5f",
             "gridcolor": "white",
             "linecolor": "white",
             "minorgridcolor": "white",
             "startlinecolor": "#2a3f5f"
            },
            "baxis": {
             "endlinecolor": "#2a3f5f",
             "gridcolor": "white",
             "linecolor": "white",
             "minorgridcolor": "white",
             "startlinecolor": "#2a3f5f"
            },
            "type": "carpet"
           }
          ],
          "choropleth": [
           {
            "colorbar": {
             "outlinewidth": 0,
             "ticks": ""
            },
            "type": "choropleth"
           }
          ],
          "contour": [
           {
            "colorbar": {
             "outlinewidth": 0,
             "ticks": ""
            },
            "colorscale": [
             [
              0,
              "#0d0887"
             ],
             [
              0.1111111111111111,
              "#46039f"
             ],
             [
              0.2222222222222222,
              "#7201a8"
             ],
             [
              0.3333333333333333,
              "#9c179e"
             ],
             [
              0.4444444444444444,
              "#bd3786"
             ],
             [
              0.5555555555555556,
              "#d8576b"
             ],
             [
              0.6666666666666666,
              "#ed7953"
             ],
             [
              0.7777777777777778,
              "#fb9f3a"
             ],
             [
              0.8888888888888888,
              "#fdca26"
             ],
             [
              1,
              "#f0f921"
             ]
            ],
            "type": "contour"
           }
          ],
          "contourcarpet": [
           {
            "colorbar": {
             "outlinewidth": 0,
             "ticks": ""
            },
            "type": "contourcarpet"
           }
          ],
          "heatmap": [
           {
            "colorbar": {
             "outlinewidth": 0,
             "ticks": ""
            },
            "colorscale": [
             [
              0,
              "#0d0887"
             ],
             [
              0.1111111111111111,
              "#46039f"
             ],
             [
              0.2222222222222222,
              "#7201a8"
             ],
             [
              0.3333333333333333,
              "#9c179e"
             ],
             [
              0.4444444444444444,
              "#bd3786"
             ],
             [
              0.5555555555555556,
              "#d8576b"
             ],
             [
              0.6666666666666666,
              "#ed7953"
             ],
             [
              0.7777777777777778,
              "#fb9f3a"
             ],
             [
              0.8888888888888888,
              "#fdca26"
             ],
             [
              1,
              "#f0f921"
             ]
            ],
            "type": "heatmap"
           }
          ],
          "heatmapgl": [
           {
            "colorbar": {
             "outlinewidth": 0,
             "ticks": ""
            },
            "colorscale": [
             [
              0,
              "#0d0887"
             ],
             [
              0.1111111111111111,
              "#46039f"
             ],
             [
              0.2222222222222222,
              "#7201a8"
             ],
             [
              0.3333333333333333,
              "#9c179e"
             ],
             [
              0.4444444444444444,
              "#bd3786"
             ],
             [
              0.5555555555555556,
              "#d8576b"
             ],
             [
              0.6666666666666666,
              "#ed7953"
             ],
             [
              0.7777777777777778,
              "#fb9f3a"
             ],
             [
              0.8888888888888888,
              "#fdca26"
             ],
             [
              1,
              "#f0f921"
             ]
            ],
            "type": "heatmapgl"
           }
          ],
          "histogram": [
           {
            "marker": {
             "pattern": {
              "fillmode": "overlay",
              "size": 10,
              "solidity": 0.2
             }
            },
            "type": "histogram"
           }
          ],
          "histogram2d": [
           {
            "colorbar": {
             "outlinewidth": 0,
             "ticks": ""
            },
            "colorscale": [
             [
              0,
              "#0d0887"
             ],
             [
              0.1111111111111111,
              "#46039f"
             ],
             [
              0.2222222222222222,
              "#7201a8"
             ],
             [
              0.3333333333333333,
              "#9c179e"
             ],
             [
              0.4444444444444444,
              "#bd3786"
             ],
             [
              0.5555555555555556,
              "#d8576b"
             ],
             [
              0.6666666666666666,
              "#ed7953"
             ],
             [
              0.7777777777777778,
              "#fb9f3a"
             ],
             [
              0.8888888888888888,
              "#fdca26"
             ],
             [
              1,
              "#f0f921"
             ]
            ],
            "type": "histogram2d"
           }
          ],
          "histogram2dcontour": [
           {
            "colorbar": {
             "outlinewidth": 0,
             "ticks": ""
            },
            "colorscale": [
             [
              0,
              "#0d0887"
             ],
             [
              0.1111111111111111,
              "#46039f"
             ],
             [
              0.2222222222222222,
              "#7201a8"
             ],
             [
              0.3333333333333333,
              "#9c179e"
             ],
             [
              0.4444444444444444,
              "#bd3786"
             ],
             [
              0.5555555555555556,
              "#d8576b"
             ],
             [
              0.6666666666666666,
              "#ed7953"
             ],
             [
              0.7777777777777778,
              "#fb9f3a"
             ],
             [
              0.8888888888888888,
              "#fdca26"
             ],
             [
              1,
              "#f0f921"
             ]
            ],
            "type": "histogram2dcontour"
           }
          ],
          "mesh3d": [
           {
            "colorbar": {
             "outlinewidth": 0,
             "ticks": ""
            },
            "type": "mesh3d"
           }
          ],
          "parcoords": [
           {
            "line": {
             "colorbar": {
              "outlinewidth": 0,
              "ticks": ""
             }
            },
            "type": "parcoords"
           }
          ],
          "pie": [
           {
            "automargin": true,
            "type": "pie"
           }
          ],
          "scatter": [
           {
            "fillpattern": {
             "fillmode": "overlay",
             "size": 10,
             "solidity": 0.2
            },
            "type": "scatter"
           }
          ],
          "scatter3d": [
           {
            "line": {
             "colorbar": {
              "outlinewidth": 0,
              "ticks": ""
             }
            },
            "marker": {
             "colorbar": {
              "outlinewidth": 0,
              "ticks": ""
             }
            },
            "type": "scatter3d"
           }
          ],
          "scattercarpet": [
           {
            "marker": {
             "colorbar": {
              "outlinewidth": 0,
              "ticks": ""
             }
            },
            "type": "scattercarpet"
           }
          ],
          "scattergeo": [
           {
            "marker": {
             "colorbar": {
              "outlinewidth": 0,
              "ticks": ""
             }
            },
            "type": "scattergeo"
           }
          ],
          "scattergl": [
           {
            "marker": {
             "colorbar": {
              "outlinewidth": 0,
              "ticks": ""
             }
            },
            "type": "scattergl"
           }
          ],
          "scattermapbox": [
           {
            "marker": {
             "colorbar": {
              "outlinewidth": 0,
              "ticks": ""
             }
            },
            "type": "scattermapbox"
           }
          ],
          "scatterpolar": [
           {
            "marker": {
             "colorbar": {
              "outlinewidth": 0,
              "ticks": ""
             }
            },
            "type": "scatterpolar"
           }
          ],
          "scatterpolargl": [
           {
            "marker": {
             "colorbar": {
              "outlinewidth": 0,
              "ticks": ""
             }
            },
            "type": "scatterpolargl"
           }
          ],
          "scatterternary": [
           {
            "marker": {
             "colorbar": {
              "outlinewidth": 0,
              "ticks": ""
             }
            },
            "type": "scatterternary"
           }
          ],
          "surface": [
           {
            "colorbar": {
             "outlinewidth": 0,
             "ticks": ""
            },
            "colorscale": [
             [
              0,
              "#0d0887"
             ],
             [
              0.1111111111111111,
              "#46039f"
             ],
             [
              0.2222222222222222,
              "#7201a8"
             ],
             [
              0.3333333333333333,
              "#9c179e"
             ],
             [
              0.4444444444444444,
              "#bd3786"
             ],
             [
              0.5555555555555556,
              "#d8576b"
             ],
             [
              0.6666666666666666,
              "#ed7953"
             ],
             [
              0.7777777777777778,
              "#fb9f3a"
             ],
             [
              0.8888888888888888,
              "#fdca26"
             ],
             [
              1,
              "#f0f921"
             ]
            ],
            "type": "surface"
           }
          ],
          "table": [
           {
            "cells": {
             "fill": {
              "color": "#EBF0F8"
             },
             "line": {
              "color": "white"
             }
            },
            "header": {
             "fill": {
              "color": "#C8D4E3"
             },
             "line": {
              "color": "white"
             }
            },
            "type": "table"
           }
          ]
         },
         "layout": {
          "annotationdefaults": {
           "arrowcolor": "#2a3f5f",
           "arrowhead": 0,
           "arrowwidth": 1
          },
          "autotypenumbers": "strict",
          "coloraxis": {
           "colorbar": {
            "outlinewidth": 0,
            "ticks": ""
           }
          },
          "colorscale": {
           "diverging": [
            [
             0,
             "#8e0152"
            ],
            [
             0.1,
             "#c51b7d"
            ],
            [
             0.2,
             "#de77ae"
            ],
            [
             0.3,
             "#f1b6da"
            ],
            [
             0.4,
             "#fde0ef"
            ],
            [
             0.5,
             "#f7f7f7"
            ],
            [
             0.6,
             "#e6f5d0"
            ],
            [
             0.7,
             "#b8e186"
            ],
            [
             0.8,
             "#7fbc41"
            ],
            [
             0.9,
             "#4d9221"
            ],
            [
             1,
             "#276419"
            ]
           ],
           "sequential": [
            [
             0,
             "#0d0887"
            ],
            [
             0.1111111111111111,
             "#46039f"
            ],
            [
             0.2222222222222222,
             "#7201a8"
            ],
            [
             0.3333333333333333,
             "#9c179e"
            ],
            [
             0.4444444444444444,
             "#bd3786"
            ],
            [
             0.5555555555555556,
             "#d8576b"
            ],
            [
             0.6666666666666666,
             "#ed7953"
            ],
            [
             0.7777777777777778,
             "#fb9f3a"
            ],
            [
             0.8888888888888888,
             "#fdca26"
            ],
            [
             1,
             "#f0f921"
            ]
           ],
           "sequentialminus": [
            [
             0,
             "#0d0887"
            ],
            [
             0.1111111111111111,
             "#46039f"
            ],
            [
             0.2222222222222222,
             "#7201a8"
            ],
            [
             0.3333333333333333,
             "#9c179e"
            ],
            [
             0.4444444444444444,
             "#bd3786"
            ],
            [
             0.5555555555555556,
             "#d8576b"
            ],
            [
             0.6666666666666666,
             "#ed7953"
            ],
            [
             0.7777777777777778,
             "#fb9f3a"
            ],
            [
             0.8888888888888888,
             "#fdca26"
            ],
            [
             1,
             "#f0f921"
            ]
           ]
          },
          "colorway": [
           "#636efa",
           "#EF553B",
           "#00cc96",
           "#ab63fa",
           "#FFA15A",
           "#19d3f3",
           "#FF6692",
           "#B6E880",
           "#FF97FF",
           "#FECB52"
          ],
          "font": {
           "color": "#2a3f5f"
          },
          "geo": {
           "bgcolor": "white",
           "lakecolor": "white",
           "landcolor": "#E5ECF6",
           "showlakes": true,
           "showland": true,
           "subunitcolor": "white"
          },
          "hoverlabel": {
           "align": "left"
          },
          "hovermode": "closest",
          "mapbox": {
           "style": "light"
          },
          "paper_bgcolor": "white",
          "plot_bgcolor": "#E5ECF6",
          "polar": {
           "angularaxis": {
            "gridcolor": "white",
            "linecolor": "white",
            "ticks": ""
           },
           "bgcolor": "#E5ECF6",
           "radialaxis": {
            "gridcolor": "white",
            "linecolor": "white",
            "ticks": ""
           }
          },
          "scene": {
           "xaxis": {
            "backgroundcolor": "#E5ECF6",
            "gridcolor": "white",
            "gridwidth": 2,
            "linecolor": "white",
            "showbackground": true,
            "ticks": "",
            "zerolinecolor": "white"
           },
           "yaxis": {
            "backgroundcolor": "#E5ECF6",
            "gridcolor": "white",
            "gridwidth": 2,
            "linecolor": "white",
            "showbackground": true,
            "ticks": "",
            "zerolinecolor": "white"
           },
           "zaxis": {
            "backgroundcolor": "#E5ECF6",
            "gridcolor": "white",
            "gridwidth": 2,
            "linecolor": "white",
            "showbackground": true,
            "ticks": "",
            "zerolinecolor": "white"
           }
          },
          "shapedefaults": {
           "line": {
            "color": "#2a3f5f"
           }
          },
          "ternary": {
           "aaxis": {
            "gridcolor": "white",
            "linecolor": "white",
            "ticks": ""
           },
           "baxis": {
            "gridcolor": "white",
            "linecolor": "white",
            "ticks": ""
           },
           "bgcolor": "#E5ECF6",
           "caxis": {
            "gridcolor": "white",
            "linecolor": "white",
            "ticks": ""
           }
          },
          "title": {
           "x": 0.05
          },
          "xaxis": {
           "automargin": true,
           "gridcolor": "white",
           "linecolor": "white",
           "ticks": "",
           "title": {
            "standoff": 15
           },
           "zerolinecolor": "white",
           "zerolinewidth": 2
          },
          "yaxis": {
           "automargin": true,
           "gridcolor": "white",
           "linecolor": "white",
           "ticks": "",
           "title": {
            "standoff": 15
           },
           "zerolinecolor": "white",
           "zerolinewidth": 2
          }
         }
        },
        "title": {
         "font": {
          "color": "Black",
          "size": 22
         },
         "text": "<b>Similarity Matrix",
         "x": 0.55,
         "xanchor": "center",
         "y": 0.95,
         "yanchor": "top"
        },
        "width": 1000,
        "xaxis": {
         "anchor": "y",
         "constrain": "domain",
         "domain": [
          0,
          1
         ],
         "scaleanchor": "y"
        },
        "yaxis": {
         "anchor": "x",
         "autorange": "reversed",
         "constrain": "domain",
         "domain": [
          0,
          1
         ]
        }
       }
      },
      "text/html": [
       "<div>                            <div id=\"3386f96c-545d-471d-b1d7-781c681f9b6b\" class=\"plotly-graph-div\" style=\"height:1000px; width:1000px;\"></div>            <script type=\"text/javascript\">                require([\"plotly\"], function(Plotly) {                    window.PLOTLYENV=window.PLOTLYENV || {};                                    if (document.getElementById(\"3386f96c-545d-471d-b1d7-781c681f9b6b\")) {                    Plotly.newPlot(                        \"3386f96c-545d-471d-b1d7-781c681f9b6b\",                        [{\"coloraxis\":\"coloraxis\",\"name\":\"0\",\"x\":[\"0_w\\u0119gla_pis_jest\",\"1_zim\\u0119_zimy_w\\u0119gla\",\"2_podatek_podatk\\u00f3w_podatki\",\"3_turcji_80_inflacja\",\"4_bezrobocie_inflacj\\u0119_17\",\"5_ropy_opec_usa\",\"20_ropy_rop\\u0119_kraje\",\"6_obligacje_inflacji_inflacj\\u0105\",\"7_ma\\u0142e_mefistofelleess_mini\",\"8_tvp_info_tvp_inflacji\",\"9_podnie\\u015b\\u0107_ceny_cena\",\"12_kosmos_ceny_cena\",\"21_piechocinski_cena_ceny\",\"32_cena_latach_nowego\",\"10_fishing_fever69_zabrakni...\",\"11_turcji_gazu_europy\",\"13_drewna_drewno_ceny\",\"14_setki_galopuj\\u0105ca_socjal\",\"15_chiny_chin_chinach\",\"16_cukru_cukier_cena\",\"17_dzieci_kobiety_w\\u0119glowy\",\"18_ceny_cen_cena\",\"19_mas\\u0142a_albo_cena\",\"22_recesji_recesj\\u0119_kwarta\\u0142\\u00f3w\",\"23_w\\u0119glowy_\\u015bladu_jaki\",\"24_glapi\\u0144ski_spadnie_inflacja\",\"25_ceny_gus_zdro\\u017ca\\u0142o\",\"30_najwi\\u0119ksz\\u0105_podwy\\u017ck\\u0119_temu\",\"26_inflacja_poprzednio_proc\",\"27_pr\\u0105d_mia\\u0142_jaka\",\"34_czy_ju\\u017c_w\\u0119giel\",\"28_koszty_ceny_no\",\"29_powodem_20_ludzi\",\"31_coolfonpl_robi_inflacja\",\"33_groszy_ceny_kg\",\"35_kobiety_czasy_w\\u0119gla\"],\"y\":[\"0_w\\u0119gla_pis_jest\",\"1_zim\\u0119_zimy_w\\u0119gla\",\"2_podatek_podatk\\u00f3w_podatki\",\"3_turcji_80_inflacja\",\"4_bezrobocie_inflacj\\u0119_17\",\"5_ropy_opec_usa\",\"20_ropy_rop\\u0119_kraje\",\"6_obligacje_inflacji_inflacj\\u0105\",\"7_ma\\u0142e_mefistofelleess_mini\",\"8_tvp_info_tvp_inflacji\",\"9_podnie\\u015b\\u0107_ceny_cena\",\"12_kosmos_ceny_cena\",\"21_piechocinski_cena_ceny\",\"32_cena_latach_nowego\",\"10_fishing_fever69_zabrakni...\",\"11_turcji_gazu_europy\",\"13_drewna_drewno_ceny\",\"14_setki_galopuj\\u0105ca_socjal\",\"15_chiny_chin_chinach\",\"16_cukru_cukier_cena\",\"17_dzieci_kobiety_w\\u0119glowy\",\"18_ceny_cen_cena\",\"19_mas\\u0142a_albo_cena\",\"22_recesji_recesj\\u0119_kwarta\\u0142\\u00f3w\",\"23_w\\u0119glowy_\\u015bladu_jaki\",\"24_glapi\\u0144ski_spadnie_inflacja\",\"25_ceny_gus_zdro\\u017ca\\u0142o\",\"30_najwi\\u0119ksz\\u0105_podwy\\u017ck\\u0119_temu\",\"26_inflacja_poprzednio_proc\",\"27_pr\\u0105d_mia\\u0142_jaka\",\"34_czy_ju\\u017c_w\\u0119giel\",\"28_koszty_ceny_no\",\"29_powodem_20_ludzi\",\"31_coolfonpl_robi_inflacja\",\"33_groszy_ceny_kg\",\"35_kobiety_czasy_w\\u0119gla\"],\"z\":[[1.0000000000000004,0.7153315021126605,0.7011567530462812,0.7151114069990833,0.6377534236961162,0.8165776433278701,0.8449067829175385,0.7049999663156042,0.7807781157934983,0.5142473397428946,0.8869803572534697,0.8967344195127205,0.8959560558312288,0.8636257525830623,0.4126186592188797,0.6945029306017969,0.7587572940388858,0.7860672995662323,0.662782487058843,0.6501109572451309,0.8838703731913848,0.8897694969313057,0.7678090834364293,0.7032329430837657,0.8926993614064096,0.8186693084079264,0.89635239710781,0.8652277694947799,0.87972869149609,0.8668187013750022,0.8370910670214644,0.808689851965523,0.8184265218998129,0.7651804554337477,0.8824491948589477,0.6241453824066793],[0.7153315021126605,1.0000000000000004,0.34353373185170544,0.5265665578083447,0.42934433460075244,0.6546129297080692,0.6771216275509963,0.41167552542921526,0.6365922056561544,0.32436288277325825,0.6614011883924292,0.6605796227174338,0.6492069396145408,0.6682421887033836,0.4783505500316993,0.5671296864039196,0.5914529627282517,0.6868424770183224,0.556405063724257,0.580929142120419,0.696985436189854,0.6056179680341354,0.6166034108917019,0.4252365803181899,0.7455564164360406,0.6909315976219934,0.6343343452326672,0.5885799278956496,0.6536695955033901,0.7233071932800057,0.7216192650970393,0.45563432225831474,0.6152694894392486,0.6057142165766927,0.5816163093619994,0.49900840518065165],[0.7011567530462812,0.34353373185170544,0.9999999999999994,0.530007315845939,0.6782280548122974,0.4807575491615382,0.533844898710105,0.6925772694079237,0.4525953812820063,0.48968576897168165,0.590673741515956,0.629303992679466,0.6133084456145745,0.5912261070398919,0.19952883897640483,0.4204459108610689,0.46065683145566944,0.5027768254847831,0.40246013026273897,0.47736412945819723,0.5854829181629824,0.682626914646772,0.511496562949504,0.7182552554084074,0.5132772657045792,0.5935450636576484,0.6723776991153753,0.6674949830949963,0.6701812765112218,0.5404643258312719,0.4983167899372467,0.6848989565074965,0.5939708431024876,0.5481918422646187,0.6720396269650734,0.4248801971096625],[0.7151114069990833,0.5265665578083447,0.530007315845939,1.0000000000000004,0.5216106161084009,0.7683534677862307,0.7856684202323211,0.6390596810298099,0.6722780755886673,0.4522500310049881,0.7523052628465204,0.751741549100443,0.753953030698459,0.7795023062239393,0.510719744036675,0.9327579990935565,0.5414160274498633,0.7797533659846523,0.5438084522323554,0.4965528477571693,0.7405039403801295,0.7091878705370204,0.6736178285679086,0.5738890228547642,0.6135420453569078,0.7694638336201237,0.7562142429375092,0.7407005713205459,0.795717683220989,0.7127974166359974,0.6973748093716536,0.5687763662285844,0.7161230521772934,0.6304676797617973,0.7079272031078041,0.579231340737321],[0.6377534236961162,0.42934433460075244,0.6782280548122974,0.5216106161084009,1.0000000000000004,0.4746059068037889,0.48045282584847526,0.6207460752674812,0.47947847413092404,0.4798987149708319,0.5431730708124751,0.5391623865454925,0.5515159621045334,0.5713274552238218,0.2421811231947007,0.38791244443662787,0.42679449260142144,0.5005539015817576,0.35344755196379896,0.40866689102648734,0.5969998643789258,0.5838022475668005,0.48613986768593315,0.7553905824183366,0.5190487249978857,0.5979083766735951,0.6285242337794863,0.5772596698365638,0.6544516819413757,0.5388923160723511,0.5079485436232338,0.5549931724866094,0.593167785868963,0.5789040180433935,0.6065444928583218,0.440864978847834],[0.8165776433278701,0.6546129297080692,0.4807575491615382,0.7683534677862307,0.4746059068037889,0.9999999999999998,0.9554120486199316,0.593949400339638,0.8583529663592244,0.4107542057879095,0.8745606479503025,0.8326481338201829,0.863177668703297,0.8727886020320613,0.5423811827009097,0.7965893526718901,0.7159287674023052,0.8495364159931711,0.681114536561636,0.6311950232647594,0.8394005699977738,0.755094377428435,0.8295146419231891,0.523233912699952,0.7958633311650403,0.8443884659848061,0.81423105280957,0.7981193748717059,0.8623583191439537,0.8850140137087645,0.8536453353223402,0.6015718504759955,0.7920969859950695,0.740144898371121,0.7857722038359609,0.6544043990844566],[0.8449067829175385,0.6771216275509963,0.533844898710105,0.7856684202323211,0.48045282584847526,0.9554120486199316,1.0,0.629681723597716,0.8123919444496808,0.4070019774835185,0.8754414682803112,0.8605197745231637,0.8805677438693214,0.8726440797564498,0.5270603864882895,0.8031516884828196,0.7250962970619339,0.8641594739081413,0.747659224000321,0.6394269685448555,0.8293309696904348,0.8025048915770099,0.8359422354955537,0.5610562160247707,0.7921858146034566,0.8282822855293747,0.8463829959236766,0.8308102673727769,0.852434402846612,0.8591342310127268,0.8413532588823913,0.6458096382676831,0.7888613394116987,0.7089250419262008,0.8107065024780067,0.6447531313336673],[0.7049999663156042,0.41167552542921526,0.6925772694079237,0.6390596810298099,0.6207460752674812,0.593949400339638,0.629681723597716,0.9999999999999998,0.5330584096277914,0.4604305437605278,0.6404227579623024,0.686665495832886,0.6910301027576987,0.6530459034984706,0.30862674630459885,0.5472478578346612,0.49902529009934093,0.5374928413418469,0.4431604373122262,0.42848032720024676,0.637202333863802,0.6891443589914836,0.5534000439655572,0.7657192851283009,0.4968774674565032,0.6602469003702571,0.7120186152858657,0.6657408743773077,0.7259900890738897,0.569682099782691,0.5536613066693488,0.6543137532283678,0.6342416723664797,0.5859967037153889,0.7146879779823572,0.48420010030050403],[0.7807781157934983,0.6365922056561544,0.4525953812820063,0.6722780755886673,0.47947847413092404,0.8583529663592244,0.8123919444496808,0.5330584096277914,1.0,0.3650585047532404,0.8489375209510248,0.825116960196994,0.8560686050137147,0.8886579793481305,0.5078560441284283,0.6838439588326399,0.662083442407291,0.8392704205737187,0.6461842502166883,0.6431543647267672,0.8598687999461997,0.7442291906249091,0.7764088443763768,0.5041908561690192,0.7756181746718668,0.8477800261038257,0.8128856738957451,0.8135257782436515,0.8164957444755586,0.8849605018920909,0.8661648811865871,0.5840475774276794,0.7874641717214647,0.7525814705893707,0.7770122402283118,0.6722623874596755],[0.5142473397428946,0.32436288277325825,0.48968576897168165,0.4522500310049881,0.4798987149708319,0.4107542057879095,0.4070019774835185,0.4604305437605278,0.3650585047532404,1.0000000000000002,0.4670242627058436,0.5353270250269034,0.4483395738564664,0.48095402061031606,0.25595329026132385,0.38974242711346135,0.32200631599611074,0.4185669851479413,0.2830868331065407,0.30814623402912067,0.46997214714597296,0.6068507229844514,0.39131270486977343,0.5699312322074503,0.389983936738791,0.46085102928233534,0.5233652244056712,0.5029555245878211,0.568336348113833,0.4228455165736743,0.40893703995298814,0.4873350015520883,0.48687333512865144,0.5631956897445026,0.467108125631732,0.3963168714633815],[0.8869803572534697,0.6614011883924292,0.590673741515956,0.7523052628465204,0.5431730708124751,0.8745606479503025,0.8754414682803112,0.6404227579623024,0.8489375209510248,0.4670242627058436,1.0000000000000004,0.913501071587357,0.9395438688338044,0.9111288464587926,0.4933447246642394,0.7527439956372668,0.743143737659545,0.8668986669105321,0.656468539001195,0.6473025196440432,0.8697941248695676,0.9073350002574736,0.825243953368404,0.5994609928065553,0.7908518802345209,0.8450836392778458,0.9003265817839752,0.8983735039161133,0.8803360228753243,0.8849424897909102,0.8645227269364897,0.7925913155122547,0.8412167875636779,0.765202294156586,0.8816879602604455,0.6945357424617182],[0.8967344195127205,0.6605796227174338,0.629303992679466,0.751741549100443,0.5391623865454925,0.8326481338201829,0.8605197745231637,0.686665495832886,0.825116960196994,0.5353270250269034,0.913501071587357,1.0000000000000002,0.908333378751247,0.9033758017770829,0.4479120292317325,0.7504291913683595,0.7211009734407616,0.8556314546768037,0.6923456138425103,0.621303039635238,0.8464312036054576,0.9078606496602729,0.7726577439672665,0.6334504264423216,0.7907119712114011,0.8430474657008371,0.9038754015826148,0.89559609449959,0.8775237073695411,0.8659096260640095,0.831375911909876,0.7966048070218414,0.8383550383529589,0.7593878622586894,0.8684857352846738,0.6968455655960686],[0.8959560558312288,0.6492069396145408,0.6133084456145745,0.753953030698459,0.5515159621045334,0.863177668703297,0.8805677438693214,0.6910301027576987,0.8560686050137147,0.4483395738564664,0.9395438688338044,0.908333378751247,1.0,0.9094137144788167,0.5105021913940743,0.7363774735846202,0.7129140304500557,0.8497820379833131,0.6697436744804252,0.6949225623468148,0.8582708543668902,0.8995702144324987,0.8515713664374677,0.629142352144296,0.7782744627509924,0.8481269454409325,0.9139642928789066,0.9002624558393797,0.8679713354647413,0.859915208173616,0.8594622253455593,0.7864436487774529,0.8385775696877631,0.7587106058826822,0.9174311034560017,0.6578604224492768],[0.8636257525830623,0.6682421887033836,0.5912261070398919,0.7795023062239393,0.5713274552238218,0.8727886020320613,0.8726440797564498,0.6530459034984706,0.8886579793481305,0.48095402061031606,0.9111288464587926,0.9033758017770829,0.9094137144788167,0.9999999999999994,0.5209816602698213,0.7593249050542273,0.7279038957295765,0.9049933467608019,0.6833885574027068,0.6292089830771215,0.8814985407535639,0.8626494878178109,0.7948335993845329,0.634337026768665,0.805480501916527,0.8918437883686388,0.9369567430537181,0.900238694629068,0.9060870011314518,0.893106337498137,0.8724169637133452,0.7280743667699006,0.8581252708991767,0.7709165419516455,0.8704602403397702,0.7410137501830376],[0.4126186592188797,0.4783505500316993,0.19952883897640483,0.510719744036675,0.2421811231947007,0.5423811827009097,0.5270603864882895,0.30862674630459885,0.5078560441284283,0.25595329026132385,0.4933447246642394,0.4479120292317325,0.5105021913940743,0.5209816602698213,0.9999999999999996,0.4989897238514265,0.3984272475125193,0.483931686237694,0.4299296047614881,0.3665378136103348,0.4490776532965707,0.39452627021765035,0.5228598233355991,0.26414476218099137,0.4041193516811204,0.5162087920871086,0.4812991407906335,0.4395565210738217,0.49599496457085046,0.4710777880304421,0.4903144286799189,0.27307038270833534,0.40570369983998283,0.45665659086243926,0.4182731434123116,0.33061947635516087],[0.6945029306017969,0.5671296864039196,0.4204459108610689,0.9327579990935565,0.38791244443662787,0.7965893526718901,0.8031516884828196,0.5472478578346612,0.6838439588326399,0.38974242711346135,0.7527439956372668,0.7504291913683595,0.7363774735846202,0.7593249050542273,0.4989897238514265,1.0000000000000002,0.5504409470292476,0.7928290667094043,0.559533605090703,0.49710954514624006,0.7190531239674419,0.6575305654441371,0.6962226617198299,0.4644587258869256,0.6617379181917831,0.7368410489633864,0.6919763210369195,0.6927682430261558,0.7488455717615932,0.7482087025996464,0.7104061350384409,0.5025081748888945,0.6727438914416323,0.6138388361342464,0.6630300350731333,0.5599972073169083],[0.7587572940388858,0.5914529627282517,0.46065683145566944,0.5414160274498633,0.42679449260142144,0.7159287674023052,0.7250962970619339,0.49902529009934093,0.662083442407291,0.32200631599611074,0.743143737659545,0.7211009734407616,0.7129140304500557,0.7279038957295765,0.3984272475125193,0.5504409470292476,0.9999999999999996,0.7057747254372068,0.5624073932473203,0.5418957835234044,0.6966742721183398,0.685463199096741,0.6590519925688114,0.5071482154141707,0.7454258370358827,0.6520424486861593,0.7325630931721304,0.7211376620955636,0.6702231931364913,0.7378421674638667,0.7047019027555247,0.6028086027683517,0.6809109173452838,0.6182301627237736,0.6896114143932424,0.531505693001255],[0.7860672995662323,0.6868424770183224,0.5027768254847831,0.7797533659846523,0.5005539015817576,0.8495364159931711,0.8641594739081413,0.5374928413418469,0.8392704205737187,0.4185669851479413,0.8668986669105321,0.8556314546768037,0.8497820379833131,0.9049933467608019,0.483931686237694,0.7928290667094043,0.7057747254372068,1.0,0.6492227676286921,0.5890311894519551,0.8412027756627902,0.791708673786196,0.7478857116712566,0.543520632245184,0.7707591076134708,0.8415822592168889,0.834978540353065,0.8573352730478473,0.8367162078900796,0.878005551404649,0.8516415785851057,0.6149416413253627,0.813570183601466,0.7165665799330483,0.7639409311600283,0.6976514049011598],[0.662782487058843,0.556405063724257,0.40246013026273897,0.5438084522323554,0.35344755196379896,0.681114536561636,0.747659224000321,0.4431604373122262,0.6461842502166883,0.2830868331065407,0.656468539001195,0.6923456138425103,0.6697436744804252,0.6833885574027068,0.4299296047614881,0.559533605090703,0.5624073932473203,0.6492227676286921,1.0000000000000002,0.4749199665962136,0.6381548585686925,0.5999355841409459,0.5804117417841278,0.41618559053342474,0.6300535745831224,0.6282089978734532,0.6569019098561468,0.6375227187368064,0.6384771595982239,0.676174092048148,0.6722290950612451,0.4676461343003727,0.5901801615735751,0.5456157432049424,0.602566425898862,0.49521016459741873],[0.6501109572451309,0.580929142120419,0.47736412945819723,0.4965528477571693,0.40866689102648734,0.6311950232647594,0.6394269685448555,0.42848032720024676,0.6431543647267672,0.30814623402912067,0.6473025196440432,0.621303039635238,0.6949225623468148,0.6292089830771215,0.3665378136103348,0.49710954514624006,0.5418957835234044,0.5890311894519551,0.4749199665962136,1.0000000000000007,0.6228734512638215,0.5711464265009419,0.7088670682556667,0.4501698212231937,0.6409150548379668,0.6355730672976417,0.6299530726821767,0.6236723606552917,0.5878569838605909,0.65187913582334,0.6177791591826873,0.49070031986719187,0.6456981212858205,0.6075002269725405,0.6601794001043495,0.4583276257543931],[0.8838703731913848,0.696985436189854,0.5854829181629824,0.7405039403801295,0.5969998643789258,0.8394005699977738,0.8293309696904348,0.637202333863802,0.8598687999461997,0.46997214714597296,0.8697941248695676,0.8464312036054576,0.8582708543668902,0.8814985407535639,0.4490776532965707,0.7190531239674419,0.6966742721183398,0.8412027756627902,0.6381548585686925,0.6228734512638215,0.9999999999999996,0.8075016487465296,0.7583928049075078,0.6237010397890819,0.8313754936669646,0.8582412802001289,0.8581687450171231,0.8167357783519175,0.8814205147901759,0.8862436612685592,0.8724586464335935,0.6551956234566738,0.8459626178913991,0.7636612564568113,0.7889391924066167,0.7655756753192803],[0.8897694969313057,0.6056179680341354,0.682626914646772,0.7091878705370204,0.5838022475668005,0.755094377428435,0.8025048915770099,0.6891443589914836,0.7442291906249091,0.6068507229844514,0.9073350002574736,0.9078606496602729,0.8995702144324987,0.8626494878178109,0.39452627021765035,0.6575305654441371,0.685463199096741,0.791708673786196,0.5999355841409459,0.5711464265009419,0.8075016487465296,0.9999999999999994,0.7467149102469846,0.6660521136008009,0.7048658049677359,0.7770096485779566,0.9168034752257672,0.9052744779379605,0.8441629839927409,0.7919446574356619,0.8032104888300023,0.9018177818802506,0.8097264083849306,0.7305044890529782,0.8997124521518867,0.6363701776547059],[0.7678090834364293,0.6166034108917019,0.511496562949504,0.6736178285679086,0.48613986768593315,0.8295146419231891,0.8359422354955537,0.5534000439655572,0.7764088443763768,0.39131270486977343,0.825243953368404,0.7726577439672665,0.8515713664374677,0.7948335993845329,0.5228598233355991,0.6962226617198299,0.6590519925688114,0.7478857116712566,0.5804117417841278,0.7088670682556667,0.7583928049075078,0.7467149102469846,1.0,0.5079683299640563,0.7009677121822417,0.7384033893643609,0.7703609348803349,0.7549706836205881,0.7766470617025021,0.8038374431502324,0.7854434183344199,0.6117659968246876,0.7306780032164814,0.6723336421504226,0.758069601791112,0.6000389619708134],[0.7032329430837657,0.4252365803181899,0.7182552554084074,0.5738890228547642,0.7553905824183366,0.523233912699952,0.5610562160247707,0.7657192851283009,0.5041908561690192,0.5699312322074503,0.5994609928065553,0.6334504264423216,0.629142352144296,0.634337026768665,0.26414476218099137,0.4644587258869256,0.5071482154141707,0.543520632245184,0.41618559053342474,0.4501698212231937,0.6237010397890819,0.6660521136008009,0.5079683299640563,0.9999999999999998,0.545504580333183,0.641510619878128,0.7087345640110986,0.6417040744827729,0.7390170569542994,0.5556252310771176,0.5533757515301575,0.6268017041380579,0.6105143524390492,0.6549893595943904,0.6701364025915275,0.4760992530676697],[0.8926993614064096,0.7455564164360406,0.5132772657045792,0.6135420453569078,0.5190487249978857,0.7958633311650403,0.7921858146034566,0.4968774674565032,0.7756181746718668,0.389983936738791,0.7908518802345209,0.7907119712114011,0.7782744627509924,0.805480501916527,0.4041193516811204,0.6617379181917831,0.7454258370358827,0.7707591076134708,0.6300535745831224,0.6409150548379668,0.8313754936669646,0.7048658049677359,0.7009677121822417,0.545504580333183,0.9999999999999993,0.763029321118315,0.7651947450729992,0.7555142963915248,0.7827548834218044,0.8614579555580584,0.8175046949384525,0.5750408744278778,0.7470375487687867,0.6883371225269913,0.7216213142709289,0.6055023810330045],[0.8186693084079264,0.6909315976219934,0.5935450636576484,0.7694638336201237,0.5979083766735951,0.8443884659848061,0.8282822855293747,0.6602469003702571,0.8477800261038257,0.46085102928233534,0.8450836392778458,0.8430474657008371,0.8481269454409325,0.8918437883686388,0.5162087920871086,0.7368410489633864,0.6520424486861593,0.8415822592168889,0.6282089978734532,0.6355730672976417,0.8582412802001289,0.7770096485779566,0.7384033893643609,0.641510619878128,0.763029321118315,1.0000000000000002,0.8400412935665652,0.8129374004081268,0.8921699790440595,0.8642388888351369,0.838210523174833,0.6290859271146181,0.7908253818642493,0.7741819246247093,0.8047897321159969,0.676514559497121],[0.89635239710781,0.6343343452326672,0.6723776991153753,0.7562142429375092,0.6285242337794863,0.81423105280957,0.8463829959236766,0.7120186152858657,0.8128856738957451,0.5233652244056712,0.9003265817839752,0.9038754015826148,0.9139642928789066,0.9369567430537181,0.4812991407906335,0.6919763210369195,0.7325630931721304,0.834978540353065,0.6569019098561468,0.6299530726821767,0.8581687450171231,0.9168034752257672,0.7703609348803349,0.7087345640110986,0.7651947450729992,0.8400412935665652,0.9999999999999999,0.9271385097962195,0.8943542420121526,0.8276276429368059,0.8292614902501828,0.8217247538997542,0.8512848802589623,0.7614532942371541,0.9059992034649548,0.6930460828163856],[0.8652277694947799,0.5885799278956496,0.6674949830949963,0.7407005713205459,0.5772596698365638,0.7981193748717059,0.8308102673727769,0.6657408743773077,0.8135257782436515,0.5029555245878211,0.8983735039161133,0.89559609449959,0.9002624558393797,0.900238694629068,0.4395565210738217,0.6927682430261558,0.7211376620955636,0.8573352730478473,0.6375227187368064,0.6236723606552917,0.8167357783519175,0.9052744779379605,0.7549706836205881,0.6417040744827729,0.7555142963915248,0.8129374004081268,0.9271385097962195,1.0000000000000002,0.8591844958076695,0.8259358332356067,0.8029569819535078,0.8063502546045319,0.8422168001301641,0.7430923507503132,0.8954876915263057,0.6531150665843972],[0.87972869149609,0.6536695955033901,0.6701812765112218,0.795717683220989,0.6544516819413757,0.8623583191439537,0.852434402846612,0.7259900890738897,0.8164957444755586,0.568336348113833,0.8803360228753243,0.8775237073695411,0.8679713354647413,0.9060870011314518,0.49599496457085046,0.7488455717615932,0.6702231931364913,0.8367162078900796,0.6384771595982239,0.5878569838605909,0.8814205147901759,0.8441629839927409,0.7766470617025021,0.7390170569542994,0.7827548834218044,0.8921699790440595,0.8943542420121526,0.8591844958076695,1.0000000000000004,0.873131899126141,0.8595405750655273,0.7054583743074501,0.8225549397215974,0.7815605070099023,0.8202955167853061,0.6981828549726918],[0.8668187013750022,0.7233071932800057,0.5404643258312719,0.7127974166359974,0.5388923160723511,0.8850140137087645,0.8591342310127268,0.569682099782691,0.8849605018920909,0.4228455165736743,0.8849424897909102,0.8659096260640095,0.859915208173616,0.893106337498137,0.4710777880304421,0.7482087025996464,0.7378421674638667,0.878005551404649,0.676174092048148,0.65187913582334,0.8862436612685592,0.7919446574356619,0.8038374431502324,0.5556252310771176,0.8614579555580584,0.8642388888351369,0.8276276429368059,0.8259358332356067,0.873131899126141,0.9999999999999991,0.9247346854647688,0.6214374922442553,0.8540953933583341,0.7570395084966951,0.7566023528571388,0.6886957521633463],[0.8370910670214644,0.7216192650970393,0.4983167899372467,0.6973748093716536,0.5079485436232338,0.8536453353223402,0.8413532588823913,0.5536613066693488,0.8661648811865871,0.40893703995298814,0.8645227269364897,0.831375911909876,0.8594622253455593,0.8724169637133452,0.4903144286799189,0.7104061350384409,0.7047019027555247,0.8516415785851057,0.6722290950612451,0.6177791591826873,0.8724586464335935,0.8032104888300023,0.7854434183344199,0.5533757515301575,0.8175046949384525,0.838210523174833,0.8292614902501828,0.8029569819535078,0.8595405750655273,0.9247346854647688,1.0000000000000004,0.5926969108588189,0.7990461615191906,0.7293541980370625,0.7340188677533923,0.7082782440538733],[0.808689851965523,0.45563432225831474,0.6848989565074965,0.5687763662285844,0.5549931724866094,0.6015718504759955,0.6458096382676831,0.6543137532283678,0.5840475774276794,0.4873350015520883,0.7925913155122547,0.7966048070218414,0.7864436487774529,0.7280743667699006,0.27307038270833534,0.5025081748888945,0.6028086027683517,0.6149416413253627,0.4676461343003727,0.49070031986719187,0.6551956234566738,0.9018177818802506,0.6117659968246876,0.6268017041380579,0.5750408744278778,0.6290859271146181,0.8217247538997542,0.8063502546045319,0.7054583743074501,0.6214374922442553,0.5926969108588189,1.0000000000000004,0.6910276816550456,0.61689102983134,0.8893427980008248,0.4830787392101961],[0.8184265218998129,0.6152694894392486,0.5939708431024876,0.7161230521772934,0.593167785868963,0.7920969859950695,0.7888613394116987,0.6342416723664797,0.7874641717214647,0.48687333512865144,0.8412167875636779,0.8383550383529589,0.8385775696877631,0.8581252708991767,0.40570369983998283,0.6727438914416323,0.6809109173452838,0.813570183601466,0.5901801615735751,0.6456981212858205,0.8459626178913991,0.8097264083849306,0.7306780032164814,0.6105143524390492,0.7470375487687867,0.7908253818642493,0.8512848802589623,0.8422168001301641,0.8225549397215974,0.8540953933583341,0.7990461615191906,0.6910276816550456,0.9999999999999996,0.7355354518384158,0.791724005032864,0.705348644591842],[0.7651804554337477,0.6057142165766927,0.5481918422646187,0.6304676797617973,0.5789040180433935,0.740144898371121,0.7089250419262008,0.5859967037153889,0.7525814705893707,0.5631956897445026,0.765202294156586,0.7593878622586894,0.7587106058826822,0.7709165419516455,0.45665659086243926,0.6138388361342464,0.6182301627237736,0.7165665799330483,0.5456157432049424,0.6075002269725405,0.7636612564568113,0.7305044890529782,0.6723336421504226,0.6549893595943904,0.6883371225269913,0.7741819246247093,0.7614532942371541,0.7430923507503132,0.7815605070099023,0.7570395084966951,0.7293541980370625,0.61689102983134,0.7355354518384158,1.0000000000000007,0.7366629034154848,0.5683443537574335],[0.8824491948589477,0.5816163093619994,0.6720396269650734,0.7079272031078041,0.6065444928583218,0.7857722038359609,0.8107065024780067,0.7146879779823572,0.7770122402283118,0.467108125631732,0.8816879602604455,0.8684857352846738,0.9174311034560017,0.8704602403397702,0.4182731434123116,0.6630300350731333,0.6896114143932424,0.7639409311600283,0.602566425898862,0.6601794001043495,0.7889391924066167,0.8997124521518867,0.758069601791112,0.6701364025915275,0.7216213142709289,0.8047897321159969,0.9059992034649548,0.8954876915263057,0.8202955167853061,0.7566023528571388,0.7340188677533923,0.8893427980008248,0.791724005032864,0.7366629034154848,0.9999999999999996,0.5891105066357437],[0.6241453824066793,0.49900840518065165,0.4248801971096625,0.579231340737321,0.440864978847834,0.6544043990844566,0.6447531313336673,0.48420010030050403,0.6722623874596755,0.3963168714633815,0.6945357424617182,0.6968455655960686,0.6578604224492768,0.7410137501830376,0.33061947635516087,0.5599972073169083,0.531505693001255,0.6976514049011598,0.49521016459741873,0.4583276257543931,0.7655756753192803,0.6363701776547059,0.6000389619708134,0.4760992530676697,0.6055023810330045,0.676514559497121,0.6930460828163856,0.6531150665843972,0.6981828549726918,0.6886957521633463,0.7082782440538733,0.4830787392101961,0.705348644591842,0.5683443537574335,0.5891105066357437,1.0000000000000002]],\"type\":\"heatmap\",\"xaxis\":\"x\",\"yaxis\":\"y\",\"hovertemplate\":\"x: %{x}<br>y: %{y}<br>Similarity Score: %{z}<extra></extra>\"}],                        {\"template\":{\"data\":{\"histogram2dcontour\":[{\"type\":\"histogram2dcontour\",\"colorbar\":{\"outlinewidth\":0,\"ticks\":\"\"},\"colorscale\":[[0.0,\"#0d0887\"],[0.1111111111111111,\"#46039f\"],[0.2222222222222222,\"#7201a8\"],[0.3333333333333333,\"#9c179e\"],[0.4444444444444444,\"#bd3786\"],[0.5555555555555556,\"#d8576b\"],[0.6666666666666666,\"#ed7953\"],[0.7777777777777778,\"#fb9f3a\"],[0.8888888888888888,\"#fdca26\"],[1.0,\"#f0f921\"]]}],\"choropleth\":[{\"type\":\"choropleth\",\"colorbar\":{\"outlinewidth\":0,\"ticks\":\"\"}}],\"histogram2d\":[{\"type\":\"histogram2d\",\"colorbar\":{\"outlinewidth\":0,\"ticks\":\"\"},\"colorscale\":[[0.0,\"#0d0887\"],[0.1111111111111111,\"#46039f\"],[0.2222222222222222,\"#7201a8\"],[0.3333333333333333,\"#9c179e\"],[0.4444444444444444,\"#bd3786\"],[0.5555555555555556,\"#d8576b\"],[0.6666666666666666,\"#ed7953\"],[0.7777777777777778,\"#fb9f3a\"],[0.8888888888888888,\"#fdca26\"],[1.0,\"#f0f921\"]]}],\"heatmap\":[{\"type\":\"heatmap\",\"colorbar\":{\"outlinewidth\":0,\"ticks\":\"\"},\"colorscale\":[[0.0,\"#0d0887\"],[0.1111111111111111,\"#46039f\"],[0.2222222222222222,\"#7201a8\"],[0.3333333333333333,\"#9c179e\"],[0.4444444444444444,\"#bd3786\"],[0.5555555555555556,\"#d8576b\"],[0.6666666666666666,\"#ed7953\"],[0.7777777777777778,\"#fb9f3a\"],[0.8888888888888888,\"#fdca26\"],[1.0,\"#f0f921\"]]}],\"heatmapgl\":[{\"type\":\"heatmapgl\",\"colorbar\":{\"outlinewidth\":0,\"ticks\":\"\"},\"colorscale\":[[0.0,\"#0d0887\"],[0.1111111111111111,\"#46039f\"],[0.2222222222222222,\"#7201a8\"],[0.3333333333333333,\"#9c179e\"],[0.4444444444444444,\"#bd3786\"],[0.5555555555555556,\"#d8576b\"],[0.6666666666666666,\"#ed7953\"],[0.7777777777777778,\"#fb9f3a\"],[0.8888888888888888,\"#fdca26\"],[1.0,\"#f0f921\"]]}],\"contourcarpet\":[{\"type\":\"contourcarpet\",\"colorbar\":{\"outlinewidth\":0,\"ticks\":\"\"}}],\"contour\":[{\"type\":\"contour\",\"colorbar\":{\"outlinewidth\":0,\"ticks\":\"\"},\"colorscale\":[[0.0,\"#0d0887\"],[0.1111111111111111,\"#46039f\"],[0.2222222222222222,\"#7201a8\"],[0.3333333333333333,\"#9c179e\"],[0.4444444444444444,\"#bd3786\"],[0.5555555555555556,\"#d8576b\"],[0.6666666666666666,\"#ed7953\"],[0.7777777777777778,\"#fb9f3a\"],[0.8888888888888888,\"#fdca26\"],[1.0,\"#f0f921\"]]}],\"surface\":[{\"type\":\"surface\",\"colorbar\":{\"outlinewidth\":0,\"ticks\":\"\"},\"colorscale\":[[0.0,\"#0d0887\"],[0.1111111111111111,\"#46039f\"],[0.2222222222222222,\"#7201a8\"],[0.3333333333333333,\"#9c179e\"],[0.4444444444444444,\"#bd3786\"],[0.5555555555555556,\"#d8576b\"],[0.6666666666666666,\"#ed7953\"],[0.7777777777777778,\"#fb9f3a\"],[0.8888888888888888,\"#fdca26\"],[1.0,\"#f0f921\"]]}],\"mesh3d\":[{\"type\":\"mesh3d\",\"colorbar\":{\"outlinewidth\":0,\"ticks\":\"\"}}],\"scatter\":[{\"fillpattern\":{\"fillmode\":\"overlay\",\"size\":10,\"solidity\":0.2},\"type\":\"scatter\"}],\"parcoords\":[{\"type\":\"parcoords\",\"line\":{\"colorbar\":{\"outlinewidth\":0,\"ticks\":\"\"}}}],\"scatterpolargl\":[{\"type\":\"scatterpolargl\",\"marker\":{\"colorbar\":{\"outlinewidth\":0,\"ticks\":\"\"}}}],\"bar\":[{\"error_x\":{\"color\":\"#2a3f5f\"},\"error_y\":{\"color\":\"#2a3f5f\"},\"marker\":{\"line\":{\"color\":\"#E5ECF6\",\"width\":0.5},\"pattern\":{\"fillmode\":\"overlay\",\"size\":10,\"solidity\":0.2}},\"type\":\"bar\"}],\"scattergeo\":[{\"type\":\"scattergeo\",\"marker\":{\"colorbar\":{\"outlinewidth\":0,\"ticks\":\"\"}}}],\"scatterpolar\":[{\"type\":\"scatterpolar\",\"marker\":{\"colorbar\":{\"outlinewidth\":0,\"ticks\":\"\"}}}],\"histogram\":[{\"marker\":{\"pattern\":{\"fillmode\":\"overlay\",\"size\":10,\"solidity\":0.2}},\"type\":\"histogram\"}],\"scattergl\":[{\"type\":\"scattergl\",\"marker\":{\"colorbar\":{\"outlinewidth\":0,\"ticks\":\"\"}}}],\"scatter3d\":[{\"type\":\"scatter3d\",\"line\":{\"colorbar\":{\"outlinewidth\":0,\"ticks\":\"\"}},\"marker\":{\"colorbar\":{\"outlinewidth\":0,\"ticks\":\"\"}}}],\"scattermapbox\":[{\"type\":\"scattermapbox\",\"marker\":{\"colorbar\":{\"outlinewidth\":0,\"ticks\":\"\"}}}],\"scatterternary\":[{\"type\":\"scatterternary\",\"marker\":{\"colorbar\":{\"outlinewidth\":0,\"ticks\":\"\"}}}],\"scattercarpet\":[{\"type\":\"scattercarpet\",\"marker\":{\"colorbar\":{\"outlinewidth\":0,\"ticks\":\"\"}}}],\"carpet\":[{\"aaxis\":{\"endlinecolor\":\"#2a3f5f\",\"gridcolor\":\"white\",\"linecolor\":\"white\",\"minorgridcolor\":\"white\",\"startlinecolor\":\"#2a3f5f\"},\"baxis\":{\"endlinecolor\":\"#2a3f5f\",\"gridcolor\":\"white\",\"linecolor\":\"white\",\"minorgridcolor\":\"white\",\"startlinecolor\":\"#2a3f5f\"},\"type\":\"carpet\"}],\"table\":[{\"cells\":{\"fill\":{\"color\":\"#EBF0F8\"},\"line\":{\"color\":\"white\"}},\"header\":{\"fill\":{\"color\":\"#C8D4E3\"},\"line\":{\"color\":\"white\"}},\"type\":\"table\"}],\"barpolar\":[{\"marker\":{\"line\":{\"color\":\"#E5ECF6\",\"width\":0.5},\"pattern\":{\"fillmode\":\"overlay\",\"size\":10,\"solidity\":0.2}},\"type\":\"barpolar\"}],\"pie\":[{\"automargin\":true,\"type\":\"pie\"}]},\"layout\":{\"autotypenumbers\":\"strict\",\"colorway\":[\"#636efa\",\"#EF553B\",\"#00cc96\",\"#ab63fa\",\"#FFA15A\",\"#19d3f3\",\"#FF6692\",\"#B6E880\",\"#FF97FF\",\"#FECB52\"],\"font\":{\"color\":\"#2a3f5f\"},\"hovermode\":\"closest\",\"hoverlabel\":{\"align\":\"left\"},\"paper_bgcolor\":\"white\",\"plot_bgcolor\":\"#E5ECF6\",\"polar\":{\"bgcolor\":\"#E5ECF6\",\"angularaxis\":{\"gridcolor\":\"white\",\"linecolor\":\"white\",\"ticks\":\"\"},\"radialaxis\":{\"gridcolor\":\"white\",\"linecolor\":\"white\",\"ticks\":\"\"}},\"ternary\":{\"bgcolor\":\"#E5ECF6\",\"aaxis\":{\"gridcolor\":\"white\",\"linecolor\":\"white\",\"ticks\":\"\"},\"baxis\":{\"gridcolor\":\"white\",\"linecolor\":\"white\",\"ticks\":\"\"},\"caxis\":{\"gridcolor\":\"white\",\"linecolor\":\"white\",\"ticks\":\"\"}},\"coloraxis\":{\"colorbar\":{\"outlinewidth\":0,\"ticks\":\"\"}},\"colorscale\":{\"sequential\":[[0.0,\"#0d0887\"],[0.1111111111111111,\"#46039f\"],[0.2222222222222222,\"#7201a8\"],[0.3333333333333333,\"#9c179e\"],[0.4444444444444444,\"#bd3786\"],[0.5555555555555556,\"#d8576b\"],[0.6666666666666666,\"#ed7953\"],[0.7777777777777778,\"#fb9f3a\"],[0.8888888888888888,\"#fdca26\"],[1.0,\"#f0f921\"]],\"sequentialminus\":[[0.0,\"#0d0887\"],[0.1111111111111111,\"#46039f\"],[0.2222222222222222,\"#7201a8\"],[0.3333333333333333,\"#9c179e\"],[0.4444444444444444,\"#bd3786\"],[0.5555555555555556,\"#d8576b\"],[0.6666666666666666,\"#ed7953\"],[0.7777777777777778,\"#fb9f3a\"],[0.8888888888888888,\"#fdca26\"],[1.0,\"#f0f921\"]],\"diverging\":[[0,\"#8e0152\"],[0.1,\"#c51b7d\"],[0.2,\"#de77ae\"],[0.3,\"#f1b6da\"],[0.4,\"#fde0ef\"],[0.5,\"#f7f7f7\"],[0.6,\"#e6f5d0\"],[0.7,\"#b8e186\"],[0.8,\"#7fbc41\"],[0.9,\"#4d9221\"],[1,\"#276419\"]]},\"xaxis\":{\"gridcolor\":\"white\",\"linecolor\":\"white\",\"ticks\":\"\",\"title\":{\"standoff\":15},\"zerolinecolor\":\"white\",\"automargin\":true,\"zerolinewidth\":2},\"yaxis\":{\"gridcolor\":\"white\",\"linecolor\":\"white\",\"ticks\":\"\",\"title\":{\"standoff\":15},\"zerolinecolor\":\"white\",\"automargin\":true,\"zerolinewidth\":2},\"scene\":{\"xaxis\":{\"backgroundcolor\":\"#E5ECF6\",\"gridcolor\":\"white\",\"linecolor\":\"white\",\"showbackground\":true,\"ticks\":\"\",\"zerolinecolor\":\"white\",\"gridwidth\":2},\"yaxis\":{\"backgroundcolor\":\"#E5ECF6\",\"gridcolor\":\"white\",\"linecolor\":\"white\",\"showbackground\":true,\"ticks\":\"\",\"zerolinecolor\":\"white\",\"gridwidth\":2},\"zaxis\":{\"backgroundcolor\":\"#E5ECF6\",\"gridcolor\":\"white\",\"linecolor\":\"white\",\"showbackground\":true,\"ticks\":\"\",\"zerolinecolor\":\"white\",\"gridwidth\":2}},\"shapedefaults\":{\"line\":{\"color\":\"#2a3f5f\"}},\"annotationdefaults\":{\"arrowcolor\":\"#2a3f5f\",\"arrowhead\":0,\"arrowwidth\":1},\"geo\":{\"bgcolor\":\"white\",\"landcolor\":\"#E5ECF6\",\"subunitcolor\":\"white\",\"showland\":true,\"showlakes\":true,\"lakecolor\":\"white\"},\"title\":{\"x\":0.05},\"mapbox\":{\"style\":\"light\"}}},\"xaxis\":{\"anchor\":\"y\",\"domain\":[0.0,1.0],\"scaleanchor\":\"y\",\"constrain\":\"domain\"},\"yaxis\":{\"anchor\":\"x\",\"domain\":[0.0,1.0],\"autorange\":\"reversed\",\"constrain\":\"domain\"},\"coloraxis\":{\"colorbar\":{\"title\":{\"text\":\"Similarity Score\"}},\"colorscale\":[[0.0,\"rgb(247,252,240)\"],[0.125,\"rgb(224,243,219)\"],[0.25,\"rgb(204,235,197)\"],[0.375,\"rgb(168,221,181)\"],[0.5,\"rgb(123,204,196)\"],[0.625,\"rgb(78,179,211)\"],[0.75,\"rgb(43,140,190)\"],[0.875,\"rgb(8,104,172)\"],[1.0,\"rgb(8,64,129)\"]]},\"margin\":{\"t\":60},\"title\":{\"font\":{\"size\":22,\"color\":\"Black\"},\"text\":\"<b>Similarity Matrix\",\"y\":0.95,\"x\":0.55,\"xanchor\":\"center\",\"yanchor\":\"top\"},\"hoverlabel\":{\"font\":{\"size\":16,\"family\":\"Rockwell\"},\"bgcolor\":\"white\"},\"width\":1000,\"height\":1000,\"showlegend\":true,\"legend\":{\"title\":{\"text\":\"Trend\"}}},                        {\"responsive\": true}                    ).then(function(){\n",
       "                            \n",
       "var gd = document.getElementById('3386f96c-545d-471d-b1d7-781c681f9b6b');\n",
       "var x = new MutationObserver(function (mutations, observer) {{\n",
       "        var display = window.getComputedStyle(gd).display;\n",
       "        if (!display || display === 'none') {{\n",
       "            console.log([gd, 'removed!']);\n",
       "            Plotly.purge(gd);\n",
       "            observer.disconnect();\n",
       "        }}\n",
       "}});\n",
       "\n",
       "// Listen for the removal of the full notebook cells\n",
       "var notebookContainer = gd.closest('#notebook-container');\n",
       "if (notebookContainer) {{\n",
       "    x.observe(notebookContainer, {childList: true});\n",
       "}}\n",
       "\n",
       "// Listen for the clearing of the current output cell\n",
       "var outputEl = gd.closest('.output');\n",
       "if (outputEl) {{\n",
       "    x.observe(outputEl, {childList: true});\n",
       "}}\n",
       "\n",
       "                        })                };                });            </script>        </div>"
      ]
     },
     "metadata": {},
     "output_type": "display_data"
    }
   ],
   "source": [
    "model.visualize_heatmap(n_clusters=30, width=1000, height=1000)"
   ]
  },
  {
   "cell_type": "markdown",
   "metadata": {},
   "source": [
    "### Visualize topics popularity over time"
   ]
  },
  {
   "cell_type": "code",
   "execution_count": 35,
   "metadata": {},
   "outputs": [
    {
     "name": "stderr",
     "output_type": "stream",
     "text": [
      "83it [00:04, 16.92it/s]\n"
     ]
    },
    {
     "data": {
      "application/vnd.plotly.v1+json": {
       "config": {
        "plotlyServerURL": "https://plot.ly"
       },
       "data": [
        {
         "hoverinfo": "text",
         "hovertext": [
          "<b>Topic 0</b><br>Words: dla, gazu, wody, podwyżki, nas",
          "<b>Topic 0</b><br>Words: gazu, dla, pis, podwyżki, gaz",
          "<b>Topic 0</b><br>Words: gazu, rządu, 70, podwyżki, tysięcy",
          "<b>Topic 0</b><br>Words: gazu, przeciwko, gaz, upadku, cen",
          "<b>Topic 0</b><br>Words: cukier, nigdy, was, gaz, więcej",
          "<b>Topic 0</b><br>Words: każdy, wydobycia, kto, węgla, gazu",
          "<b>Topic 0</b><br>Words: jest, węgla, gaz, ceny, gazu",
          "<b>Topic 0</b><br>Words: ropy, ceny, inflacja, jest, od",
          "<b>Topic 0</b><br>Words: miroka30045644, ceny, węgla, jest, węgiel",
          "<b>Topic 0</b><br>Words: węgiel, ukrainy, nam, węgla, jest",
          "<b>Topic 0</b><br>Words: ton, węgla, ukrainy, transport, węgiel",
          "<b>Topic 0</b><br>Words: tys, ton, węgla, ukrainie, ukrainy",
          "<b>Topic 0</b><br>Words: rosną, węgla, ceny, tys, węgiel",
          "<b>Topic 0</b><br>Words: gazu, węgla, węgiel, jest, od",
          "<b>Topic 0</b><br>Words: węgla, sierpniu, 16, cen, pis",
          "<b>Topic 0</b><br>Words: sie, węgla, cena, raz, dla",
          "<b>Topic 0</b><br>Words: węgla, katastrofy, polski, zabraknie, roku",
          "<b>Topic 0</b><br>Words: prądu, jednej, morawiecki, prawda, cen",
          "<b>Topic 0</b><br>Words: węgiel, ukrainie, węgla, od, ceny",
          "<b>Topic 0</b><br>Words: 2021, gazu, jest, węgiel, węgla",
          "<b>Topic 0</b><br>Words: dla, gazu, cen, węgla, prądu",
          "<b>Topic 0</b><br>Words: węgla, podwyżki, pis, dla, węgiel",
          "<b>Topic 0</b><br>Words: gazu, węgiel, vat, węgla, 23",
          "<b>Topic 0</b><br>Words: gdybyśmy, donaldtusk, prąd, węgla, tej",
          "<b>Topic 0</b><br>Words: węgla, tej, gaz, jest, gazu",
          "<b>Topic 0</b><br>Words: jest, ropa, węgla, ceny, gaz",
          "<b>Topic 0</b><br>Words: gaz, gazu, zł, dla, węgla",
          "<b>Topic 0</b><br>Words: gazu, gaz, dla, węgla, węgiel",
          "<b>Topic 0</b><br>Words: idą, mówią, górę, gazu, węgla",
          "<b>Topic 0</b><br>Words: 17, inflacja, we, wrześniu, zł",
          "<b>Topic 0</b><br>Words: gazu, pis, podwyżki, dla, węgla",
          "<b>Topic 0</b><br>Words: węgla, pis, jest, dość, węgiel",
          "<b>Topic 0</b><br>Words: węgla, gaz, węgiel, gazu, pis",
          "<b>Topic 0</b><br>Words: węgla, jest, przez, węgiel, euro",
          "<b>Topic 0</b><br>Words: węgla, mln, węgiel, jest, rząd",
          "<b>Topic 0</b><br>Words: węgla, pis, węgiel, jest, cen",
          "<b>Topic 0</b><br>Words: energii, węgla, pis, ceny, cen",
          "<b>Topic 0</b><br>Words: węgla, węgiel, pis, zł, jest",
          "<b>Topic 0</b><br>Words: prezydent, węgla, węgiel, jest, pis",
          "<b>Topic 0</b><br>Words: zł, ceny, węgla, węgiel, pis",
          "<b>Topic 0</b><br>Words: węgla, rząd, dla, ceny, pis",
          "<b>Topic 0</b><br>Words: jest, węgla, energii, ceny, węgiel",
          "<b>Topic 0</b><br>Words: węgla, pis, zł, ceny, węgiel",
          "<b>Topic 0</b><br>Words: 17, węgla, inflacja, dla, wrześniu",
          "<b>Topic 0</b><br>Words: pis, inflacja, jest, węgla, ceny",
          "<b>Topic 0</b><br>Words: pis, cen, węgla, od, wzrost",
          "<b>Topic 0</b><br>Words: pis, węgla, inflacji, dla, ropy",
          "<b>Topic 0</b><br>Words: pis, węgla, mln, platforma_org, ton",
          "<b>Topic 0</b><br>Words: węgiel, pis, węgla, tym, który",
          "<b>Topic 0</b><br>Words: pis, węgiel, jest, węgla, od",
          "<b>Topic 0</b><br>Words: jest, węgla, węgiel, gazu, gaz",
          "<b>Topic 0</b><br>Words: kilka, węgiel, węgla, już, jest",
          "<b>Topic 0</b><br>Words: węgla, węgiel, 2015, który, jest",
          "<b>Topic 0</b><br>Words: ceny, węgiel, węgla, jest, polsce",
          "<b>Topic 0</b><br>Words: ton, węgla, węgiel, pis, go",
          "<b>Topic 0</b><br>Words: pis, ceny, węgiel, polaków, dla",
          "<b>Topic 0</b><br>Words: węgla, węgiel, inflacja, cen, energii",
          "<b>Topic 0</b><br>Words: pod, tą, jedną, węgla, ogromne",
          "<b>Topic 0</b><br>Words: polsce, pis, roku, już, od",
          "<b>Topic 0</b><br>Words: tymczasem, pl, jej, firmy, jest",
          "<b>Topic 0</b><br>Words: 17, inflacja, październiku, polsce, pis",
          "<b>Topic 0</b><br>Words: inflacja, ceny, polsce, jest, pis",
          "<b>Topic 0</b><br>Words: pis, jest, przez, 500, od",
          "<b>Topic 0</b><br>Words: jest, już, pis, dla, polsce",
          "<b>Topic 0</b><br>Words: dla, pis, pod, jest, gazu",
          "<b>Topic 0</b><br>Words: jest, polsce, dla, pis, zacząć",
          "<b>Topic 0</b><br>Words: inflacja, węgla, polsce, jest, pis",
          "<b>Topic 0</b><br>Words: dla, bob_gedron, inflacja, pis, ceny",
          "<b>Topic 0</b><br>Words: pis, jarosław, dla, podwyżki, cen",
          "<b>Topic 0</b><br>Words: 10, ceny, zł, inflacja, jest",
          "<b>Topic 0</b><br>Words: elektrownia, gdzie, prawa, nowe, inflacja",
          "<b>Topic 0</b><br>Words: polski, inflacja, likwidacja, jest, gigantyczne",
          "<b>Topic 0</b><br>Words: sprzed, spadły, poniżej, gazu, wojny",
          "<b>Topic 0</b><br>Words: pis, inflacja, ceny, kaczyński, gazu",
          "<b>Topic 0</b><br>Words: inflacja, inflacji, pis, 12, ceny",
          "<b>Topic 0</b><br>Words: 17, inflacja, elektrownia, gdzie, jest",
          "<b>Topic 0</b><br>Words: ropy, 2023, od, roku, cen",
          "<b>Topic 0</b><br>Words: 2023, śladu, ropę, inflacja, dla",
          "<b>Topic 0</b><br>Words: ropy, spadają, szykują, mln, ton",
          "<b>Topic 0</b><br>Words: cena, dla, dobrego, nawet, ceny",
          "<b>Topic 0</b><br>Words: mimo, każdy, ze, tych, tego",
          "<b>Topic 0</b><br>Words: chin, lbalcerowicz, eksport, szczesniaka, gospodarkę",
          "<b>Topic 0</b><br>Words: kraje, popyt, wpływ, chiny, strony"
         ],
         "marker": {
          "color": "#E69F00"
         },
         "mode": "lines",
         "name": "0_węgla_pis_jest_węgiel",
         "type": "scatter",
         "x": [
          "2022-09-01T00:00:00",
          "2022-09-02T00:00:00",
          "2022-09-03T00:00:00",
          "2022-09-04T00:00:00",
          "2022-09-05T00:00:00",
          "2022-09-06T00:00:00",
          "2022-09-07T00:00:00",
          "2022-09-08T00:00:00",
          "2022-09-09T00:00:00",
          "2022-09-10T00:00:00",
          "2022-09-11T00:00:00",
          "2022-09-12T00:00:00",
          "2022-09-13T00:00:00",
          "2022-09-14T00:00:00",
          "2022-09-15T00:00:00",
          "2022-09-16T00:00:00",
          "2022-09-17T00:00:00",
          "2022-09-18T00:00:00",
          "2022-09-19T00:00:00",
          "2022-09-20T00:00:00",
          "2022-09-21T00:00:00",
          "2022-09-22T00:00:00",
          "2022-09-23T00:00:00",
          "2022-09-24T00:00:00",
          "2022-09-25T00:00:00",
          "2022-09-26T00:00:00",
          "2022-09-27T00:00:00",
          "2022-09-28T00:00:00",
          "2022-09-29T00:00:00",
          "2022-09-30T00:00:00",
          "2022-10-01T00:00:00",
          "2022-10-02T00:00:00",
          "2022-10-03T00:00:00",
          "2022-10-04T00:00:00",
          "2022-10-05T00:00:00",
          "2022-10-06T00:00:00",
          "2022-10-07T00:00:00",
          "2022-10-08T00:00:00",
          "2022-10-09T00:00:00",
          "2022-10-10T00:00:00",
          "2022-10-11T00:00:00",
          "2022-10-12T00:00:00",
          "2022-10-13T00:00:00",
          "2022-10-14T00:00:00",
          "2022-10-15T00:00:00",
          "2022-10-16T00:00:00",
          "2022-10-17T00:00:00",
          "2022-10-18T00:00:00",
          "2022-10-19T00:00:00",
          "2022-10-20T00:00:00",
          "2022-10-21T00:00:00",
          "2022-10-22T00:00:00",
          "2022-10-23T00:00:00",
          "2022-10-24T00:00:00",
          "2022-10-25T00:00:00",
          "2022-10-26T00:00:00",
          "2022-10-27T00:00:00",
          "2022-10-28T00:00:00",
          "2022-10-29T00:00:00",
          "2022-10-30T00:00:00",
          "2022-10-31T00:00:00",
          "2022-11-01T00:00:00",
          "2022-11-02T00:00:00",
          "2022-11-03T00:00:00",
          "2022-11-04T00:00:00",
          "2022-11-05T00:00:00",
          "2022-11-06T00:00:00",
          "2022-11-07T00:00:00",
          "2022-11-08T00:00:00",
          "2022-11-09T00:00:00",
          "2022-11-10T00:00:00",
          "2022-11-11T00:00:00",
          "2022-11-12T00:00:00",
          "2022-11-13T00:00:00",
          "2022-11-14T00:00:00",
          "2022-11-15T00:00:00",
          "2022-11-16T00:00:00",
          "2022-11-17T00:00:00",
          "2022-11-18T00:00:00",
          "2022-11-19T00:00:00",
          "2022-11-20T00:00:00",
          "2022-11-21T00:00:00",
          "2022-11-22T00:00:00"
         ],
         "y": [
          358,
          279,
          320,
          330,
          470,
          441,
          361,
          477,
          443,
          405,
          760,
          605,
          655,
          650,
          617,
          594,
          494,
          425,
          331,
          603,
          566,
          793,
          619,
          452,
          310,
          415,
          889,
          703,
          530,
          1200,
          753,
          730,
          582,
          632,
          1029,
          1287,
          1106,
          756,
          665,
          720,
          744,
          586,
          639,
          712,
          383,
          427,
          509,
          886,
          948,
          718,
          540,
          665,
          640,
          685,
          626,
          488,
          646,
          583,
          667,
          464,
          1244,
          552,
          741,
          759,
          547,
          541,
          419,
          513,
          483,
          596,
          724,
          308,
          241,
          333,
          893,
          925,
          432,
          409,
          284,
          125,
          13,
          2,
          1
         ]
        },
        {
         "hoverinfo": "text",
         "hovertext": [
          "<b>Topic 1</b><br>Words: wielu, nadchodzi, zimę, będzie, zabraknie",
          "<b>Topic 1</b><br>Words: zimę, wielu, wi, nadchodzi, wiosnę",
          "<b>Topic 1</b><br>Words: zimę, aferypis, jaja, duże, zapasy",
          "<b>Topic 1</b><br>Words: bedzie, beda, grudniu, moze, typu",
          "<b>Topic 1</b><br>Words: zimą, zimę, będzie, zabraknie, liczę",
          "<b>Topic 1</b><br>Words: zimę, zimą, zimy, ludzie, będą",
          "<b>Topic 1</b><br>Words: zimę, zimy, tam, leszczyna, może",
          "<b>Topic 1</b><br>Words: prosta, zimę, zimy, zapas, zimą",
          "<b>Topic 1</b><br>Words: zimy, zimę, brakuje, miejskich, zimą",
          "<b>Topic 1</b><br>Words: zimę, zimy, tej, węgla, bez",
          "<b>Topic 1</b><br>Words: mają, zimę, ogóle, lepiej, kraju",
          "<b>Topic 1</b><br>Words: grudniu, piotrwiel, będzie, zimy, węgiel",
          "<b>Topic 1</b><br>Words: centrum, zimę, zimy, linia, będzie",
          "<b>Topic 1</b><br>Words: zimy, zimę, jeszcze, zimą, pisjestzadrogi",
          "<b>Topic 1</b><br>Words: będzie, zimę, wiosnę, węgiel, dostępny",
          "<b>Topic 1</b><br>Words: gierka, zimę, zerowy, weekend, wiosnę",
          "<b>Topic 1</b><br>Words: zimą, prąd, będą, zimy, zimę",
          "<b>Topic 1</b><br>Words: zimę, brak, wyniku, mój, spokojnie",
          "<b>Topic 1</b><br>Words: zimę, zimy, masz, zimą, grudniu",
          "<b>Topic 1</b><br>Words: zimę, zabraknie, idzie, magazyny, dlatego",
          "<b>Topic 1</b><br>Words: drewna, zimy, wykończy, serii, będzie",
          "<b>Topic 1</b><br>Words: będzie, zimę, zimie, zimy, dokładnie",
          "<b>Topic 1</b><br>Words: zimę, ani, zimy, będzie, kolejne",
          "<b>Topic 1</b><br>Words: zimę, zimą, zimy, węgla, prognoza",
          "<b>Topic 1</b><br>Words: zimę, chcę, potrzebne, nawet, wolnosco",
          "<b>Topic 1</b><br>Words: zimy, tej, będzie, grudnia, prawdopodobnie",
          "<b>Topic 1</b><br>Words: zimy, wiosnę, ciężkiej, konkurencja, jeśli",
          "<b>Topic 1</b><br>Words: zimę, zimą, żart, nadchodzi, wiosnę",
          "<b>Topic 1</b><br>Words: zimę, zimy, będzie, zabraknie, węgla",
          "<b>Topic 1</b><br>Words: zimy, zimę, będzie, macie, bez",
          "<b>Topic 1</b><br>Words: zimę, zabraknie, będzie, zimą, ciekawa",
          "<b>Topic 1</b><br>Words: 25, tam, ja, ten, węgiel",
          "<b>Topic 1</b><br>Words: ani, poniedziałek, zimę, było, krzysztofbrejza",
          "<b>Topic 1</b><br>Words: moja, moje, zimy, jako, nadchodzi",
          "<b>Topic 1</b><br>Words: idzie, zimę, zimy, ni, węgla",
          "<b>Topic 1</b><br>Words: zimy, pewno, zabraknie, tej, węgla",
          "<b>Topic 1</b><br>Words: pewno, zimy, zimę, mój, jasne",
          "<b>Topic 1</b><br>Words: bedzie, idzie, zimę, model, robertbiedron",
          "<b>Topic 1</b><br>Words: ni, zimy, zimę, będzie, zimą",
          "<b>Topic 1</b><br>Words: zimie, zimę, zimy, sie, czas",
          "<b>Topic 1</b><br>Words: nawet, zimę, tematem, stał, uk",
          "<b>Topic 1</b><br>Words: znów, nadchodzi, nieco, wszędzie, idzie",
          "<b>Topic 1</b><br>Words: zimę, wystarczy, mogę, będzie, węgla",
          "<b>Topic 1</b><br>Words: zimę, zimie, wystarczy, news, zostać",
          "<b>Topic 1</b><br>Words: bać, jutro, 21, zimy, proszę",
          "<b>Topic 1</b><br>Words: drogi, trzeba, kupować, była, więc",
          "<b>Topic 1</b><br>Words: zapas, wspólnie, zimę, tvn24, braku",
          "<b>Topic 1</b><br>Words: zimy, zimę, drogi, 89, trzeba",
          "<b>Topic 1</b><br>Words: zimę, całą, wystarczy, taki, zimy",
          "<b>Topic 1</b><br>Words: zimą, całą, zimę, wystarczy, taki",
          "<b>Topic 1</b><br>Words: zimę, zimy, zamiast, najszybciej, czekam",
          "<b>Topic 1</b><br>Words: zimy, zimę, dobrogowski_, tej, będzie",
          "<b>Topic 1</b><br>Words: trochę, wiosnę, zimę, wydaje, kupują",
          "<b>Topic 1</b><br>Words: zimy, zimą, lubi, marznąć, grudniu",
          "<b>Topic 1</b><br>Words: zimy, damy, radę, krocpokzboj, przyszłym",
          "<b>Topic 1</b><br>Words: zimie, biorąc, byle, źródło, 26",
          "<b>Topic 1</b><br>Words: zimę, zabrać, grudniu, powinniśmy, obecnej",
          "<b>Topic 1</b><br>Words: zimą, złe, zdecydowanie, wziąć, idzie",
          "<b>Topic 1</b><br>Words: zimy, zimę, autolikos1, każdemu, całą",
          "<b>Topic 1</b><br>Words: zimy, będzie, energetyki, czemu, razie",
          "<b>Topic 1</b><br>Words: zimą, przed, każdego, wpolityce_pl, którą",
          "<b>Topic 1</b><br>Words: palą, jakub_moscicki, parę, zimą, drogi",
          "<b>Topic 1</b><br>Words: zimy, być, tej, problem, czaroit1",
          "<b>Topic 1</b><br>Words: zimą, zimie, samego, dodatkowo, potrzeba",
          "<b>Topic 1</b><br>Words: zimę, wpłynie, zimą, transportu, wjakobik",
          "<b>Topic 1</b><br>Words: zabraknie, dostępny, zimę, wiadomoscitvp, magazyny",
          "<b>Topic 1</b><br>Words: podaż, zimy, zbyt, zimę, powinna",
          "<b>Topic 1</b><br>Words: zimy, tej, głowie, więcej, będziesz",
          "<b>Topic 1</b><br>Words: tej, zimy, domu, wystarczy, wygląda",
          "<b>Topic 1</b><br>Words: zimę, liczę, miesiącach, ostatni, trzech",
          "<b>Topic 1</b><br>Words: potrzeba, piotrwiel, będzie, co2, tyle",
          "<b>Topic 1</b><br>Words: zimę, było, zimy, dużo, tzn",
          "<b>Topic 1</b><br>Words: wziąć, kilkaset, zimę, tysięcy, skąd",
          "<b>Topic 1</b><br>Words: twoja, romekcz, bogdan607, razie, stać",
          "<b>Topic 1</b><br>Words: albo, pierwszy, jeżeli, mi, ktoś",
          "<b>Topic 1</b><br>Words: nigdy, mnie, mi, ty, tam"
         ],
         "marker": {
          "color": "#56B4E9"
         },
         "mode": "lines",
         "name": "1_zimę_zimy_węgla_będzie",
         "type": "scatter",
         "x": [
          "2022-09-01T00:00:00",
          "2022-09-02T00:00:00",
          "2022-09-03T00:00:00",
          "2022-09-04T00:00:00",
          "2022-09-05T00:00:00",
          "2022-09-06T00:00:00",
          "2022-09-07T00:00:00",
          "2022-09-08T00:00:00",
          "2022-09-09T00:00:00",
          "2022-09-10T00:00:00",
          "2022-09-11T00:00:00",
          "2022-09-12T00:00:00",
          "2022-09-13T00:00:00",
          "2022-09-14T00:00:00",
          "2022-09-15T00:00:00",
          "2022-09-16T00:00:00",
          "2022-09-17T00:00:00",
          "2022-09-18T00:00:00",
          "2022-09-19T00:00:00",
          "2022-09-20T00:00:00",
          "2022-09-21T00:00:00",
          "2022-09-22T00:00:00",
          "2022-09-23T00:00:00",
          "2022-09-24T00:00:00",
          "2022-09-25T00:00:00",
          "2022-09-26T00:00:00",
          "2022-09-27T00:00:00",
          "2022-09-28T00:00:00",
          "2022-09-29T00:00:00",
          "2022-09-30T00:00:00",
          "2022-10-01T00:00:00",
          "2022-10-02T00:00:00",
          "2022-10-03T00:00:00",
          "2022-10-04T00:00:00",
          "2022-10-05T00:00:00",
          "2022-10-06T00:00:00",
          "2022-10-07T00:00:00",
          "2022-10-08T00:00:00",
          "2022-10-09T00:00:00",
          "2022-10-10T00:00:00",
          "2022-10-11T00:00:00",
          "2022-10-12T00:00:00",
          "2022-10-13T00:00:00",
          "2022-10-14T00:00:00",
          "2022-10-15T00:00:00",
          "2022-10-16T00:00:00",
          "2022-10-17T00:00:00",
          "2022-10-18T00:00:00",
          "2022-10-19T00:00:00",
          "2022-10-20T00:00:00",
          "2022-10-21T00:00:00",
          "2022-10-22T00:00:00",
          "2022-10-23T00:00:00",
          "2022-10-24T00:00:00",
          "2022-10-25T00:00:00",
          "2022-10-26T00:00:00",
          "2022-10-27T00:00:00",
          "2022-10-28T00:00:00",
          "2022-10-29T00:00:00",
          "2022-10-30T00:00:00",
          "2022-10-31T00:00:00",
          "2022-11-01T00:00:00",
          "2022-11-02T00:00:00",
          "2022-11-03T00:00:00",
          "2022-11-04T00:00:00",
          "2022-11-05T00:00:00",
          "2022-11-06T00:00:00",
          "2022-11-08T00:00:00",
          "2022-11-09T00:00:00",
          "2022-11-10T00:00:00",
          "2022-11-11T00:00:00",
          "2022-11-14T00:00:00",
          "2022-11-15T00:00:00",
          "2022-11-18T00:00:00",
          "2022-11-19T00:00:00",
          "2022-11-20T00:00:00"
         ],
         "y": [
          6,
          6,
          9,
          3,
          5,
          7,
          6,
          10,
          6,
          7,
          1,
          9,
          6,
          5,
          6,
          5,
          7,
          2,
          6,
          10,
          5,
          17,
          7,
          8,
          6,
          3,
          6,
          6,
          13,
          8,
          4,
          1,
          4,
          4,
          16,
          12,
          4,
          4,
          7,
          6,
          7,
          3,
          9,
          11,
          3,
          2,
          2,
          4,
          13,
          2,
          4,
          4,
          2,
          4,
          15,
          3,
          3,
          4,
          5,
          3,
          1,
          2,
          5,
          2,
          3,
          1,
          3,
          5,
          3,
          4,
          1,
          6,
          1,
          3,
          1,
          1
         ]
        },
        {
         "hoverinfo": "text",
         "hovertext": [
          "<b>Topic 2</b><br>Words: wow, podatki, serio, wyższe, wy",
          "<b>Topic 2</b><br>Words: podatek, masz, raz, ktos, dzieki",
          "<b>Topic 2</b><br>Words: podatki, podatków, doskonale, akurat, taką",
          "<b>Topic 2</b><br>Words: podatków, popyt, większe, faktycznie, nowych",
          "<b>Topic 2</b><br>Words: wysokość, wówczas, czynników, wyniku, modliszka30",
          "<b>Topic 2</b><br>Words: stopy, podatek, podnosić, tomaszwyluda, oprócz",
          "<b>Topic 2</b><br>Words: podatek, podatków, usd, inny, zależy",
          "<b>Topic 2</b><br>Words: zlikwidować, wyjścia, podatków, kryzysu, należy",
          "<b>Topic 2</b><br>Words: podatki, deflacja, pan, byli, kosztował",
          "<b>Topic 2</b><br>Words: podatek, ministerstwo, maja, robi, inflacji",
          "<b>Topic 2</b><br>Words: podatkami, idiotów, inflacją, pisorgpl, dla",
          "<b>Topic 2</b><br>Words: podatek, podatków, zawsze, obniżenia, zysków",
          "<b>Topic 2</b><br>Words: podatki, podwyżkę, rzeczywiście, 35, jednocześnie",
          "<b>Topic 2</b><br>Words: zmniejszył, drukowanie, prosta, bankructwa, droga",
          "<b>Topic 2</b><br>Words: podatki, oczywiscie, społeczeństwa, wydatków, podaje",
          "<b>Topic 2</b><br>Words: konfederacja_, realne, likwidacja, minimalnej, politykę",
          "<b>Topic 2</b><br>Words: podatek, momencie, wartości, bardziej, pieniądze",
          "<b>Topic 2</b><br>Words: drugi, podatek, oprócz, jeszcze, podatków",
          "<b>Topic 2</b><br>Words: 50, działają, tomaszwyluda, 90, brawo",
          "<b>Topic 2</b><br>Words: podatek, morawiecki, inflacji, od, podatków",
          "<b>Topic 2</b><br>Words: podatek, podatków, sukces, kedzierskimarc, podatkami",
          "<b>Topic 2</b><br>Words: podatek, podatki, poprzednich, miałby, podnosić",
          "<b>Topic 2</b><br>Words: siłę, walce, pomóc, szybko, tomaszwyluda",
          "<b>Topic 2</b><br>Words: podatki, wiecie, podatek, podatków, niskich",
          "<b>Topic 2</b><br>Words: robertbiedron, komuś, więc, zna, ekonomii",
          "<b>Topic 2</b><br>Words: statystyki, podniosą, podatki, rafalhubert, usług",
          "<b>Topic 2</b><br>Words: pieniądza, ciężkiej, pracy, podatków, maksymalne",
          "<b>Topic 2</b><br>Words: gadfluence, podatek, lepszy, zysków, akurat",
          "<b>Topic 2</b><br>Words: podatki, podatków, powodu, powodują, obniżki",
          "<b>Topic 2</b><br>Words: podatków, troche, nagle, podatki, gadfluence",
          "<b>Topic 2</b><br>Words: podatek, grupy, sa, prostu, latach",
          "<b>Topic 2</b><br>Words: powinny, aby, tej, przy, ile",
          "<b>Topic 2</b><br>Words: obniżki, drewno, walczyć, pomysł, vat",
          "<b>Topic 2</b><br>Words: podatek, podatków, byc, powie, inflacyjny",
          "<b>Topic 2</b><br>Words: pieniądz, gadfluence, ograniczeń, podatki, fiat_money",
          "<b>Topic 2</b><br>Words: podatek, najważniejsze, stacji, obajtka, można",
          "<b>Topic 2</b><br>Words: podatki, drukować, podaż, prawastronaa, popyt",
          "<b>Topic 2</b><br>Words: podatków, podatki, 42, wszystkiego, nowych",
          "<b>Topic 2</b><br>Words: budżetowe, podatków, podatki, mniejsze, wpływu",
          "<b>Topic 2</b><br>Words: przy, tomaszwyluda, bedzie, szybko, mało",
          "<b>Topic 2</b><br>Words: płaca, żadna, podatki, wpływu, każdego",
          "<b>Topic 2</b><br>Words: akcyza, obniża, podatek, większy, podatki",
          "<b>Topic 2</b><br>Words: podatek, skupu, główny, wyniesie, podał",
          "<b>Topic 2</b><br>Words: podatków, podwyżkę, społeczeństwa, sposób, teryasic1",
          "<b>Topic 2</b><br>Words: podatków, teryasic1, podwyżkę, społeczeństwa, sposób",
          "<b>Topic 2</b><br>Words: podatek, 20, ktos, zlikwidować, głowie",
          "<b>Topic 2</b><br>Words: podatek, tys, 17, grzegor95956376, obliczu",
          "<b>Topic 2</b><br>Words: podatków, kosmos, oprócz, nowych, mi",
          "<b>Topic 2</b><br>Words: us, pierwszym, kasia_dw, 22, 23",
          "<b>Topic 2</b><br>Words: podatek, widzi, płaci, którego, nikt",
          "<b>Topic 2</b><br>Words: wyższe, podatków, podatki, niestety, hennigkloska",
          "<b>Topic 2</b><br>Words: podatki, wzrosła, wzrosły, platforma_org, tyle",
          "<b>Topic 2</b><br>Words: podatków, podatki, podatek, kryzysu, stosuje",
          "<b>Topic 2</b><br>Words: podatek, tomo9000p, byc, pieniądz, rafalmundry",
          "<b>Topic 2</b><br>Words: podatek, możesz, razie, inflacje, piotrmuller",
          "<b>Topic 2</b><br>Words: większa, znów, pieniądza, dzięki, takie",
          "<b>Topic 2</b><br>Words: podatek, podatki, vat, zjada, znaczenie",
          "<b>Topic 2</b><br>Words: elektorat, zacząć, średniej, walczyć, podatków",
          "<b>Topic 2</b><br>Words: podwyższenie, podatków, zacząć, średniej, walczyć",
          "<b>Topic 2</b><br>Words: drukowanie, kończą, podatek, postaci, pieniądza",
          "<b>Topic 2</b><br>Words: podatek, mblaszczak, publicznych, stan, finansów"
         ],
         "marker": {
          "color": "#009E73"
         },
         "mode": "lines",
         "name": "2_podatek_podatków_podatki_inflacji",
         "type": "scatter",
         "x": [
          "2022-09-01T00:00:00",
          "2022-09-02T00:00:00",
          "2022-09-04T00:00:00",
          "2022-09-05T00:00:00",
          "2022-09-06T00:00:00",
          "2022-09-07T00:00:00",
          "2022-09-08T00:00:00",
          "2022-09-10T00:00:00",
          "2022-09-11T00:00:00",
          "2022-09-12T00:00:00",
          "2022-09-13T00:00:00",
          "2022-09-15T00:00:00",
          "2022-09-16T00:00:00",
          "2022-09-19T00:00:00",
          "2022-09-20T00:00:00",
          "2022-09-21T00:00:00",
          "2022-09-22T00:00:00",
          "2022-09-24T00:00:00",
          "2022-09-25T00:00:00",
          "2022-09-26T00:00:00",
          "2022-09-27T00:00:00",
          "2022-09-28T00:00:00",
          "2022-09-29T00:00:00",
          "2022-09-30T00:00:00",
          "2022-10-01T00:00:00",
          "2022-10-02T00:00:00",
          "2022-10-03T00:00:00",
          "2022-10-04T00:00:00",
          "2022-10-05T00:00:00",
          "2022-10-07T00:00:00",
          "2022-10-09T00:00:00",
          "2022-10-11T00:00:00",
          "2022-10-13T00:00:00",
          "2022-10-15T00:00:00",
          "2022-10-16T00:00:00",
          "2022-10-17T00:00:00",
          "2022-10-19T00:00:00",
          "2022-10-20T00:00:00",
          "2022-10-21T00:00:00",
          "2022-10-22T00:00:00",
          "2022-10-23T00:00:00",
          "2022-10-24T00:00:00",
          "2022-10-25T00:00:00",
          "2022-10-26T00:00:00",
          "2022-10-27T00:00:00",
          "2022-10-28T00:00:00",
          "2022-10-31T00:00:00",
          "2022-11-01T00:00:00",
          "2022-11-02T00:00:00",
          "2022-11-03T00:00:00",
          "2022-11-04T00:00:00",
          "2022-11-06T00:00:00",
          "2022-11-07T00:00:00",
          "2022-11-08T00:00:00",
          "2022-11-09T00:00:00",
          "2022-11-10T00:00:00",
          "2022-11-13T00:00:00",
          "2022-11-14T00:00:00",
          "2022-11-15T00:00:00",
          "2022-11-16T00:00:00",
          "2022-11-18T00:00:00"
         ],
         "y": [
          1,
          2,
          2,
          2,
          1,
          3,
          1,
          1,
          1,
          2,
          1,
          4,
          1,
          1,
          3,
          1,
          1,
          1,
          1,
          3,
          5,
          4,
          4,
          4,
          2,
          2,
          3,
          2,
          3,
          4,
          1,
          1,
          3,
          2,
          1,
          1,
          2,
          2,
          2,
          2,
          1,
          3,
          2,
          6,
          5,
          3,
          4,
          1,
          1,
          4,
          4,
          1,
          5,
          2,
          1,
          2,
          5,
          3,
          1,
          1,
          1
         ]
        },
        {
         "hoverinfo": "text",
         "hovertext": [
          "<b>Topic 3</b><br>Words: turcji, proc, powyżej, poniżej, dopiero",
          "<b>Topic 3</b><br>Words: mini, turcji, morzu, okazji, zupełnie",
          "<b>Topic 3</b><br>Words: 80, turcji, viii, poprzednio, prognoza",
          "<b>Topic 3</b><br>Words: realne, procentowe, rządy, kaczyńskiego, stopy",
          "<b>Topic 3</b><br>Words: turcji, 80, olgaewasemeniuk, sprawdź, kilkaset",
          "<b>Topic 3</b><br>Words: turcji, najwyżej, 55, kupi, oszczędności",
          "<b>Topic 3</b><br>Words: turcji, latach, btw, mariorebeliant, jakub_moscicki",
          "<b>Topic 3</b><br>Words: turcji, ją, 80, liczę, zaledwie",
          "<b>Topic 3</b><br>Words: turcji, podobnie, polityki, 80, własnej",
          "<b>Topic 3</b><br>Words: turcji, 80, inflacja, liczby, biorąc",
          "<b>Topic 3</b><br>Words: turcji, tymczasem, także, trafiła, lubi",
          "<b>Topic 3</b><br>Words: turcji, dalszy, drodze, inflacją, dobrej",
          "<b>Topic 3</b><br>Words: turcji, tymczasem, także, inflacją, już",
          "<b>Topic 3</b><br>Words: turcji, prezydent, kraju, inflacją, 80",
          "<b>Topic 3</b><br>Words: turcji, stopy, 80, absolutnie, znaczenie",
          "<b>Topic 3</b><br>Words: turcji, krok, grudniu, 22, idzie",
          "<b>Topic 3</b><br>Words: inflacją, tylko, pis, turcji, 80",
          "<b>Topic 3</b><br>Words: statystyki, samą, turcji, niektóre, 150",
          "<b>Topic 3</b><br>Words: 1997r, drodze, druga, dobrej, najwyższa",
          "<b>Topic 3</b><br>Words: turcji, kierunku, 2014, 80, idzie",
          "<b>Topic 3</b><br>Words: turcji, 80, płace, droga, walce",
          "<b>Topic 3</b><br>Words: turcji, ekonomiczne, 80, oficjalnie, dzieje",
          "<b>Topic 3</b><br>Words: turcji, ekonomiczne, oficjalnie, 80, dzieje",
          "<b>Topic 3</b><br>Words: turcji, 80, wakacje, poziom, brawo",
          "<b>Topic 3</b><br>Words: turcji, linia, drukować, dopóki, przyszłym",
          "<b>Topic 3</b><br>Words: dolara, wzrósł, kurs, turcji, ostatnich",
          "<b>Topic 3</b><br>Words: turcji, robią, 120, żyć, da",
          "<b>Topic 3</b><br>Words: 120, informacja, okazji, latach, kaczyński",
          "<b>Topic 3</b><br>Words: turcji, chinach, są, całym, tez",
          "<b>Topic 3</b><br>Words: turcji, 80, rozumieją, stopa, odpowiedzi",
          "<b>Topic 3</b><br>Words: turcji, 80, bank, btw, inflacja",
          "<b>Topic 3</b><br>Words: turcji, prosta, drogą, realne, procentowe",
          "<b>Topic 3</b><br>Words: piotr_weglarz, 80, turcji, czyżby, inflacją",
          "<b>Topic 3</b><br>Words: druga, coś, polsce, będzie, inflacja",
          "<b>Topic 3</b><br>Words: ryzyko, wyniku, wysokiej, budżetowe, turcji",
          "<b>Topic 3</b><br>Words: realnych, 80, zeszłym, turcji, procentowych",
          "<b>Topic 3</b><br>Words: lepszy, ciekawa, jestem, mu, sposób",
          "<b>Topic 3</b><br>Words: turcji, październiku, wyniosła, stosunku, inflacja",
          "<b>Topic 3</b><br>Words: turcji, macronextcom, proc, obniżyć, stóp",
          "<b>Topic 3</b><br>Words: coś, 100, polaków, też, inflację",
          "<b>Topic 3</b><br>Words: poszedł, miałby, naród, dziś, wielki",
          "<b>Topic 3</b><br>Words: kraje, inne, poziomie, premierrp, mają",
          "<b>Topic 3</b><br>Words: turcji, zbyt, hennigkloska, glapińskiego, stóp",
          "<b>Topic 3</b><br>Words: turcji, inflacja, 80, ekonomiczne, październiku",
          "<b>Topic 3</b><br>Words: indie, 10, uk, chiny, 12",
          "<b>Topic 3</b><br>Words: turcji, 80, inflacja, sposoby, dwa",
          "<b>Topic 3</b><br>Words: turcji, 80, prawie, stopach, realnych",
          "<b>Topic 3</b><br>Words: turcji, czwartek, 150, bank, kolejna"
         ],
         "marker": {
          "color": "#F0E442"
         },
         "mode": "lines",
         "name": "3_turcji_80_inflacja_ekonomiczne",
         "type": "scatter",
         "x": [
          "2022-09-01T00:00:00",
          "2022-09-02T00:00:00",
          "2022-09-05T00:00:00",
          "2022-09-07T00:00:00",
          "2022-09-08T00:00:00",
          "2022-09-09T00:00:00",
          "2022-09-12T00:00:00",
          "2022-09-13T00:00:00",
          "2022-09-14T00:00:00",
          "2022-09-15T00:00:00",
          "2022-09-16T00:00:00",
          "2022-09-17T00:00:00",
          "2022-09-18T00:00:00",
          "2022-09-21T00:00:00",
          "2022-09-22T00:00:00",
          "2022-09-25T00:00:00",
          "2022-09-26T00:00:00",
          "2022-09-29T00:00:00",
          "2022-09-30T00:00:00",
          "2022-10-01T00:00:00",
          "2022-10-02T00:00:00",
          "2022-10-03T00:00:00",
          "2022-10-04T00:00:00",
          "2022-10-05T00:00:00",
          "2022-10-06T00:00:00",
          "2022-10-07T00:00:00",
          "2022-10-11T00:00:00",
          "2022-10-14T00:00:00",
          "2022-10-17T00:00:00",
          "2022-10-18T00:00:00",
          "2022-10-20T00:00:00",
          "2022-10-21T00:00:00",
          "2022-10-23T00:00:00",
          "2022-10-24T00:00:00",
          "2022-10-26T00:00:00",
          "2022-10-30T00:00:00",
          "2022-11-01T00:00:00",
          "2022-11-03T00:00:00",
          "2022-11-04T00:00:00",
          "2022-11-06T00:00:00",
          "2022-11-07T00:00:00",
          "2022-11-08T00:00:00",
          "2022-11-10T00:00:00",
          "2022-11-13T00:00:00",
          "2022-11-14T00:00:00",
          "2022-11-15T00:00:00",
          "2022-11-16T00:00:00",
          "2022-11-18T00:00:00"
         ],
         "y": [
          2,
          1,
          2,
          1,
          3,
          2,
          4,
          3,
          2,
          2,
          3,
          2,
          1,
          1,
          3,
          2,
          1,
          1,
          1,
          5,
          2,
          15,
          3,
          2,
          1,
          1,
          1,
          1,
          1,
          1,
          5,
          2,
          2,
          1,
          2,
          1,
          1,
          19,
          2,
          2,
          1,
          1,
          1,
          1,
          1,
          4,
          2,
          1
         ]
        },
        {
         "hoverinfo": "text",
         "hovertext": [
          "<b>Topic 4</b><br>Words: bezrobocie, proc, fed, zajmuje, 16",
          "<b>Topic 4</b><br>Words: niską, podatkami, utrzymanie, wręcz, pracy",
          "<b>Topic 4</b><br>Words: konkurencji, zwiększy, najmu, poziomu, pracy",
          "<b>Topic 4</b><br>Words: stopach, realnych, ciekawe, poziomie, prawie",
          "<b>Topic 4</b><br>Words: bezrobocie, 300politykalive, byłoby, jakby, glapiński",
          "<b>Topic 4</b><br>Words: bezrobocie, banku, niedługo, potrzebne, drugie",
          "<b>Topic 4</b><br>Words: bezrobocie, zmniejszą, niską, lbalcerowicz, które",
          "<b>Topic 4</b><br>Words: 30, inflacji, bezrobocie, inflację, 17",
          "<b>Topic 4</b><br>Words: bezrobocie, poszło, pekao_analizy, stopa, inflację",
          "<b>Topic 4</b><br>Words: wyższą, pracy, rynek, wzrostu, tyle",
          "<b>Topic 4</b><br>Words: bezrobocie, wjakobik, czyli, będzie, gazu",
          "<b>Topic 4</b><br>Words: rafalmundry, komuny, ps, jednego, bezrobocie",
          "<b>Topic 4</b><br>Words: niskim, ekonomiczne, punkt, dużych, względem",
          "<b>Topic 4</b><br>Words: bezrobocie, niską, recesję, spoko, wybór",
          "<b>Topic 4</b><br>Words: bezrobocie, gadfluence, recesję, lubi, mógłby",
          "<b>Topic 4</b><br>Words: bezrobocie, 16, 30, bardzo, inflacja",
          "<b>Topic 4</b><br>Words: bezrobocie, johnsmiths74, 17, inflację, marlenamalag",
          "<b>Topic 4</b><br>Words: bezrobocie, johnsmiths74, 17, inflację, takim",
          "<b>Topic 4</b><br>Words: bezrobocie, lewicy, niż, wiecie, wyższe",
          "<b>Topic 4</b><br>Words: bezrobocie, płaca, czynników, 17, rosnących",
          "<b>Topic 4</b><br>Words: dane, statystyki, gorsze, stopa, bezrobocie",
          "<b>Topic 4</b><br>Words: bezrobocie, chrustu, rzędu, oj, wiosnę",
          "<b>Topic 4</b><br>Words: bezrobocie, procentowe, inflacji, 20, 90",
          "<b>Topic 4</b><br>Words: bezrobocie, gosc_radiazet, znacznie, pracy, slawomirmentzen",
          "<b>Topic 4</b><br>Words: 89, skoro, mówi, roku, inflacji",
          "<b>Topic 4</b><br>Words: kasa, inflacyjny, dodatek, naprawdę, jakiś",
          "<b>Topic 4</b><br>Words: bezrobocie, andrzejduda, tomo9000p, 17, tempie",
          "<b>Topic 4</b><br>Words: bezrobocie, założenie, inflacji, aferypis, bierze",
          "<b>Topic 4</b><br>Words: bezrobocie, rekordy, polskieradio24, zapraszam, wśród",
          "<b>Topic 4</b><br>Words: bezrobocie, zobaczyć, rzeczywiście, lbalcerowicz, chcesz",
          "<b>Topic 4</b><br>Words: bezrobocie, miejsca, niskie, moment, mówiąc",
          "<b>Topic 4</b><br>Words: bezrobocie, dzieki, własnym, dolara, bazowej",
          "<b>Topic 4</b><br>Words: bezrobocie, popieramypmm, mieli, pieniędzy, inflację",
          "<b>Topic 4</b><br>Words: bezrobocie, dolara, ropie, warunkach, niskie",
          "<b>Topic 4</b><br>Words: bezrobocie, logika, wzrośnie, zero, dudslaw",
          "<b>Topic 4</b><br>Words: zrobi, jasne, rzeczpospolita, swoje, stopy",
          "<b>Topic 4</b><br>Words: bezrobocie, nieco, 18, inflację, ponad",
          "<b>Topic 4</b><br>Words: bezrobocie, pracy, fiat_money, miejsca, prowadzi",
          "<b>Topic 4</b><br>Words: bezrobocie, rynek, 18, zdusić, wirtualnapolska",
          "<b>Topic 4</b><br>Words: bezrobocie, duże, statystyki, warunków, niskie",
          "<b>Topic 4</b><br>Words: bezrobocie, państwa, zdrożało, niskim, olgaewasemeniuk",
          "<b>Topic 4</b><br>Words: bezrobocie, piterson1980, niżej, kupuję, mówisz",
          "<b>Topic 4</b><br>Words: bezrobocie, przesiedleńców, wraca, stycznia, jakieś",
          "<b>Topic 4</b><br>Words: bezrobocie, historycznie, niskie, głównie, polityki",
          "<b>Topic 4</b><br>Words: bezrobocie, doskonale, mniejsze, utrzymanie, najważniejsze",
          "<b>Topic 4</b><br>Words: punkt, gorsze, bezrobocie, beda, niz",
          "<b>Topic 4</b><br>Words: wyższe, bezrobocie, 2015, koniunktury, wzroście"
         ],
         "marker": {
          "color": "#D55E00"
         },
         "mode": "lines",
         "name": "4_bezrobocie_inflację_17_inflacji",
         "type": "scatter",
         "x": [
          "2022-09-02T00:00:00",
          "2022-09-05T00:00:00",
          "2022-09-06T00:00:00",
          "2022-09-07T00:00:00",
          "2022-09-08T00:00:00",
          "2022-09-09T00:00:00",
          "2022-09-11T00:00:00",
          "2022-09-12T00:00:00",
          "2022-09-13T00:00:00",
          "2022-09-14T00:00:00",
          "2022-09-15T00:00:00",
          "2022-09-22T00:00:00",
          "2022-09-24T00:00:00",
          "2022-09-25T00:00:00",
          "2022-09-26T00:00:00",
          "2022-09-28T00:00:00",
          "2022-09-30T00:00:00",
          "2022-10-01T00:00:00",
          "2022-10-02T00:00:00",
          "2022-10-03T00:00:00",
          "2022-10-07T00:00:00",
          "2022-10-09T00:00:00",
          "2022-10-15T00:00:00",
          "2022-10-17T00:00:00",
          "2022-10-18T00:00:00",
          "2022-10-19T00:00:00",
          "2022-10-20T00:00:00",
          "2022-10-21T00:00:00",
          "2022-10-22T00:00:00",
          "2022-10-23T00:00:00",
          "2022-10-27T00:00:00",
          "2022-10-29T00:00:00",
          "2022-10-31T00:00:00",
          "2022-11-01T00:00:00",
          "2022-11-02T00:00:00",
          "2022-11-05T00:00:00",
          "2022-11-06T00:00:00",
          "2022-11-07T00:00:00",
          "2022-11-08T00:00:00",
          "2022-11-09T00:00:00",
          "2022-11-10T00:00:00",
          "2022-11-13T00:00:00",
          "2022-11-15T00:00:00",
          "2022-11-16T00:00:00",
          "2022-11-17T00:00:00",
          "2022-11-18T00:00:00",
          "2022-11-19T00:00:00"
         ],
         "y": [
          2,
          1,
          1,
          1,
          1,
          2,
          2,
          1,
          5,
          1,
          1,
          1,
          1,
          1,
          2,
          1,
          16,
          10,
          2,
          2,
          1,
          1,
          9,
          2,
          1,
          1,
          3,
          4,
          2,
          1,
          3,
          2,
          1,
          2,
          2,
          1,
          5,
          3,
          3,
          3,
          4,
          4,
          1,
          1,
          2,
          2,
          1
         ]
        },
        {
         "hoverinfo": "text",
         "hovertext": [
          "<b>Topic 5</b><br>Words: naftowej, dnia, jakby, ropy, była",
          "<b>Topic 5</b><br>Words: naftowej, dnia, jakby, ropy, była",
          "<b>Topic 5</b><br>Words: firarafaa, sukces, jakby, ropę, od",
          "<b>Topic 5</b><br>Words: ropy, rosja, zdanie, więcej, moje",
          "<b>Topic 5</b><br>Words: oj, wreszcie, wydobycia, ropy, ktoś",
          "<b>Topic 5</b><br>Words: przyjąć, fishing_fever69, ciągle, ropy, ją",
          "<b>Topic 5</b><br>Words: ropy, us, ropie, zwiększyć, liczy",
          "<b>Topic 5</b><br>Words: pozwoli, ropie, świat, dnia, taniej",
          "<b>Topic 5</b><br>Words: dużych, wraz, rosją, wydobycia, ropy",
          "<b>Topic 5</b><br>Words: ropy, usa, wydobycia, opec, naftowej",
          "<b>Topic 5</b><br>Words: ropy, opec, zmniejszą, naftowej, mniejsze",
          "<b>Topic 5</b><br>Words: opec, ropy, kraju, własnym, usa",
          "<b>Topic 5</b><br>Words: ropy, zdusić, miesiącach, rosję, atom",
          "<b>Topic 5</b><br>Words: opec, odpowiedzi, bezpieczeństwa, ropy, znacznie",
          "<b>Topic 5</b><br>Words: opec, ropy, usa, wydobycia, naftowej",
          "<b>Topic 5</b><br>Words: ropy, opec, naftowej, wydobycia, ekonomiczny",
          "<b>Topic 5</b><br>Words: ropy, usa, prezydent, opec, sprawie",
          "<b>Topic 5</b><br>Words: opec, ropy, decyzji, produkcji, naftowej",
          "<b>Topic 5</b><br>Words: opec, ropy, usa, produkcji, wydobycia",
          "<b>Topic 5</b><br>Words: opec, sposoby, zmniejszenia, ropy, ostatnie",
          "<b>Topic 5</b><br>Words: swoją, tą, niech, ropy, opec",
          "<b>Topic 5</b><br>Words: ropy, którym, centrum, czyżby, przemysłu",
          "<b>Topic 5</b><br>Words: ropy, przesiedleńców, patrząc, katastrofy, praktycznie",
          "<b>Topic 5</b><br>Words: ropy, szczesniaka, chiny, zdecydowała, niektóre",
          "<b>Topic 5</b><br>Words: jego, koniec, sie, ropy, tylko",
          "<b>Topic 5</b><br>Words: ropy, szczesniaka, opec, sprawie, własnym",
          "<b>Topic 5</b><br>Words: konsekwencjami, mini, grodzkirobert, samym, ropy",
          "<b>Topic 5</b><br>Words: konsekwencjami, mini, grodzkirobert, samym, ropy",
          "<b>Topic 5</b><br>Words: mógłby, zaczęła, ropę, ktoś, ta",
          "<b>Topic 5</b><br>Words: usa, rosję, strony, ropy, czym",
          "<b>Topic 5</b><br>Words: naftowej, ropy, opec, usa, wydobycia",
          "<b>Topic 5</b><br>Words: ropy, wbrew, wydobycia, duży, kwestii",
          "<b>Topic 5</b><br>Words: ropy, sprzedaż, zimą, cenach, dodatek",
          "<b>Topic 5</b><br>Words: naszego, naftowej, rozwoju, grupy, ropy",
          "<b>Topic 5</b><br>Words: naftowej, ropy, opec, historycznie, decyzji",
          "<b>Topic 5</b><br>Words: opec, bloomberg, warunkach, możliwość, powinny",
          "<b>Topic 5</b><br>Words: absolutnie, gdy, podobnie, ropy, tylko",
          "<b>Topic 5</b><br>Words: el, marcu, jednocześnie, 2015, ropy",
          "<b>Topic 5</b><br>Words: ropy, niskich, krajem, zresztą, kupujemy"
         ],
         "marker": {
          "color": "#0072B2"
         },
         "mode": "lines",
         "name": "5_ropy_opec_usa_naftowej",
         "type": "scatter",
         "x": [
          "2022-09-08T00:00:00",
          "2022-09-09T00:00:00",
          "2022-09-10T00:00:00",
          "2022-09-13T00:00:00",
          "2022-09-17T00:00:00",
          "2022-09-22T00:00:00",
          "2022-09-30T00:00:00",
          "2022-10-03T00:00:00",
          "2022-10-04T00:00:00",
          "2022-10-05T00:00:00",
          "2022-10-06T00:00:00",
          "2022-10-07T00:00:00",
          "2022-10-09T00:00:00",
          "2022-10-10T00:00:00",
          "2022-10-11T00:00:00",
          "2022-10-12T00:00:00",
          "2022-10-13T00:00:00",
          "2022-10-14T00:00:00",
          "2022-10-15T00:00:00",
          "2022-10-17T00:00:00",
          "2022-10-19T00:00:00",
          "2022-10-21T00:00:00",
          "2022-10-23T00:00:00",
          "2022-10-24T00:00:00",
          "2022-10-25T00:00:00",
          "2022-10-26T00:00:00",
          "2022-10-28T00:00:00",
          "2022-10-29T00:00:00",
          "2022-10-30T00:00:00",
          "2022-11-01T00:00:00",
          "2022-11-02T00:00:00",
          "2022-11-03T00:00:00",
          "2022-11-07T00:00:00",
          "2022-11-08T00:00:00",
          "2022-11-10T00:00:00",
          "2022-11-11T00:00:00",
          "2022-11-12T00:00:00",
          "2022-11-14T00:00:00",
          "2022-11-18T00:00:00"
         ],
         "y": [
          1,
          1,
          1,
          2,
          1,
          1,
          2,
          1,
          1,
          10,
          8,
          2,
          1,
          1,
          7,
          16,
          4,
          4,
          6,
          2,
          1,
          5,
          2,
          4,
          1,
          4,
          4,
          1,
          1,
          4,
          1,
          3,
          1,
          2,
          2,
          1,
          1,
          1,
          2
         ]
        },
        {
         "hoverinfo": "text",
         "hovertext": [
          "<b>Topic 6</b><br>Words: ciężkiej, pieniądz, jakaś, walka, daje",
          "<b>Topic 6</b><br>Words: obligacje, wykupują, najmu, brać, wskaźnik",
          "<b>Topic 6</b><br>Words: us, fed, siłę, prywatne, długu",
          "<b>Topic 6</b><br>Words: jmiziolek, realnych, ogromny, kredyt, pieniądz",
          "<b>Topic 6</b><br>Words: obligacje, slawomirmentzen, powyżej, pieniądza, inflacji",
          "<b>Topic 6</b><br>Words: fed, prawdopodobnie, walka, bedzie, wydaje",
          "<b>Topic 6</b><br>Words: obligacje, inflacją, coś, niz, banki",
          "<b>Topic 6</b><br>Words: obligacje, inflacją, morawieckim, są, od",
          "<b>Topic 6</b><br>Words: obligacje, tezę, ktoś, banki, podaje",
          "<b>Topic 6</b><br>Words: zarabiać, warunkach, oprócz, trudno, usd",
          "<b>Topic 6</b><br>Words: ktos, obligacje, widzą, wzrost, natomiast",
          "<b>Topic 6</b><br>Words: obligacje, mnóstwo, sjastrzebowski, osoby, środków",
          "<b>Topic 6</b><br>Words: podaż, rosnąca, wyjść, uk, ciężko",
          "<b>Topic 6</b><br>Words: obligacje, krok, generują, kredyt, banki",
          "<b>Topic 6</b><br>Words: obligacje, wziął, zarabiać, kredyty, tomeknarkun",
          "<b>Topic 6</b><br>Words: trafiła, recesję, banki, powoduje, pieniądza",
          "<b>Topic 6</b><br>Words: obligacje, nowych, niezłe, piotr_weglarz, stopach",
          "<b>Topic 6</b><br>Words: niską, banki, amp, kredyt, tomaszwyluda",
          "<b>Topic 6</b><br>Words: dzieki, byly, beda, niz, aby",
          "<b>Topic 6</b><br>Words: banki, dodać, walce, społeczeństwa, procentowych",
          "<b>Topic 6</b><br>Words: utrzymanie, obligacje, skupu, prezes, przecież",
          "<b>Topic 6</b><br>Words: obligacje, tanich, skupu, biorąc, domów",
          "<b>Topic 6</b><br>Words: dzięki, premierrp, ile, morawieckim, inflacji",
          "<b>Topic 6</b><br>Words: każdy, zmniejsza, konradberkowicz, banku, moje",
          "<b>Topic 6</b><br>Words: zaledwie, 35, dudslaw, wiecie, pln",
          "<b>Topic 6</b><br>Words: tomo9000p, zaledwie, 35, dudslaw, wiecie",
          "<b>Topic 6</b><br>Words: obligacje, kasy, premierrp, lat, rozumieją",
          "<b>Topic 6</b><br>Words: spowoduje, obligacje, drukować, fed, pozwoli",
          "<b>Topic 6</b><br>Words: proc, siłę, tomaszwyluda, powoduje, jakaś",
          "<b>Topic 6</b><br>Words: zmniejszyć, podaż, mniejsza, wzrosną, pomysł",
          "<b>Topic 6</b><br>Words: mam, wi, kredyty, obniżenia, wakacje",
          "<b>Topic 6</b><br>Words: realnie, obligacje, liczą, wyjścia, dobrego",
          "<b>Topic 6</b><br>Words: obligacje, niskim, bazowej, wydatków, wakacje",
          "<b>Topic 6</b><br>Words: kredyt, sie, twoja, tomaszwyluda, decyzje",
          "<b>Topic 6</b><br>Words: obligacje, proc, założenie, mówią, ani",
          "<b>Topic 6</b><br>Words: fed, wpływa, zna, rynkach, poziom",
          "<b>Topic 6</b><br>Words: dolara, powoduje, znacznie, spadła, spadek",
          "<b>Topic 6</b><br>Words: panuje, gdy, poziom, spada, rośnie",
          "<b>Topic 6</b><br>Words: obligacje, środki, mogli, oszczędności, naszych",
          "<b>Topic 6</b><br>Words: obligacje, brawo, piotrmuller, według, morawieckiego",
          "<b>Topic 6</b><br>Words: obligacje, podstawowych, całego, problemów, wirtualnapolska",
          "<b>Topic 6</b><br>Words: drożyznapis, premierrp, inflacją, ile, 17",
          "<b>Topic 6</b><br>Words: regulacji, dodać, cóż, rację, kraj",
          "<b>Topic 6</b><br>Words: obligacje, dolara, ryzyko, złoty, nasza",
          "<b>Topic 6</b><br>Words: grzegor95956376, pieniądze, dług, rmf24pl, potrzebne",
          "<b>Topic 6</b><br>Words: długu, lkwarzecha, inflację, tylko, obligacje",
          "<b>Topic 6</b><br>Words: własnym, rafalhirsch, etc, płaci, swojej",
          "<b>Topic 6</b><br>Words: bank, obligacje, tomo9000p, fiat_money, kredyt",
          "<b>Topic 6</b><br>Words: obligacje, inflacją, akurat, bym, sprzedaje",
          "<b>Topic 6</b><br>Words: poziom, jaka, była, oraz, inflacja",
          "<b>Topic 6</b><br>Words: konkurencja, konkurencji, zera, ryzyko, rezerwy",
          "<b>Topic 6</b><br>Words: powiem, spadku, kolejnych, tez, kraje",
          "<b>Topic 6</b><br>Words: obligacje, liczy, kosmos, nawet, zyski",
          "<b>Topic 6</b><br>Words: lkwarzecha, piechocinski, obligacje, kredytów, rynku",
          "<b>Topic 6</b><br>Words: pieniądze, mocno, wciąż, prawda, dużo",
          "<b>Topic 6</b><br>Words: miałby, kredyt, kupiłem, moje, wzrosną"
         ],
         "marker": {
          "color": "#CC79A7"
         },
         "mode": "lines",
         "name": "6_obligacje_inflacji_inflacją_kredyt",
         "type": "scatter",
         "x": [
          "2022-09-06T00:00:00",
          "2022-09-07T00:00:00",
          "2022-09-08T00:00:00",
          "2022-09-12T00:00:00",
          "2022-09-13T00:00:00",
          "2022-09-14T00:00:00",
          "2022-09-15T00:00:00",
          "2022-09-16T00:00:00",
          "2022-09-17T00:00:00",
          "2022-09-18T00:00:00",
          "2022-09-19T00:00:00",
          "2022-09-22T00:00:00",
          "2022-09-23T00:00:00",
          "2022-09-24T00:00:00",
          "2022-09-25T00:00:00",
          "2022-09-26T00:00:00",
          "2022-09-30T00:00:00",
          "2022-10-01T00:00:00",
          "2022-10-04T00:00:00",
          "2022-10-05T00:00:00",
          "2022-10-06T00:00:00",
          "2022-10-07T00:00:00",
          "2022-10-09T00:00:00",
          "2022-10-10T00:00:00",
          "2022-10-11T00:00:00",
          "2022-10-12T00:00:00",
          "2022-10-14T00:00:00",
          "2022-10-15T00:00:00",
          "2022-10-16T00:00:00",
          "2022-10-17T00:00:00",
          "2022-10-18T00:00:00",
          "2022-10-20T00:00:00",
          "2022-10-21T00:00:00",
          "2022-10-22T00:00:00",
          "2022-10-23T00:00:00",
          "2022-10-24T00:00:00",
          "2022-10-25T00:00:00",
          "2022-10-27T00:00:00",
          "2022-10-28T00:00:00",
          "2022-10-29T00:00:00",
          "2022-10-31T00:00:00",
          "2022-11-02T00:00:00",
          "2022-11-03T00:00:00",
          "2022-11-04T00:00:00",
          "2022-11-05T00:00:00",
          "2022-11-06T00:00:00",
          "2022-11-07T00:00:00",
          "2022-11-08T00:00:00",
          "2022-11-09T00:00:00",
          "2022-11-10T00:00:00",
          "2022-11-11T00:00:00",
          "2022-11-12T00:00:00",
          "2022-11-13T00:00:00",
          "2022-11-14T00:00:00",
          "2022-11-16T00:00:00",
          "2022-11-18T00:00:00"
         ],
         "y": [
          2,
          2,
          1,
          2,
          4,
          2,
          4,
          1,
          3,
          1,
          1,
          3,
          2,
          3,
          3,
          2,
          3,
          2,
          1,
          1,
          3,
          4,
          1,
          1,
          1,
          2,
          3,
          1,
          2,
          1,
          3,
          3,
          4,
          2,
          3,
          1,
          1,
          1,
          1,
          1,
          5,
          1,
          1,
          1,
          3,
          1,
          2,
          2,
          2,
          1,
          1,
          1,
          2,
          5,
          1,
          1
         ]
        },
        {
         "hoverinfo": "text",
         "hovertext": [
          "<b>Topic 7</b><br>Words: małe, wielki, sa, mały, duże",
          "<b>Topic 7</b><br>Words: źródeł, problemem, samym, tez, działa",
          "<b>Topic 7</b><br>Words: model, typu, żadnego, razie, tego",
          "<b>Topic 7</b><br>Words: powiedział, paliwa, pewne, są, moskwa_anna",
          "<b>Topic 7</b><br>Words: jakieś, pani, dlaczego, małe, mefistofelleess",
          "<b>Topic 7</b><br>Words: pani, mały, moja, wyniku, dość",
          "<b>Topic 7</b><br>Words: bezpieczeństwa, taki, od, małe, mefistofelleess",
          "<b>Topic 7</b><br>Words: małe, tak, mefistofelleess, mini, rafalhubert",
          "<b>Topic 7</b><br>Words: byłby, najlepiej, byłoby, produkcji, leszczyna",
          "<b>Topic 7</b><br>Words: czekuku2, gt, kraj, 50, który",
          "<b>Topic 7</b><br>Words: mógłby, 150, tys, 10, ton",
          "<b>Topic 7</b><br>Words: 33, jednego, lata, ani, małe",
          "<b>Topic 7</b><br>Words: pieniądz, pan, małe, mefistofelleess, mini",
          "<b>Topic 7</b><br>Words: tydzień, małe, mefistofelleess, mini, rafalhubert",
          "<b>Topic 7</b><br>Words: tę, 1972tomek, zawsze, zamiast, nawet",
          "<b>Topic 7</b><br>Words: największych, trzech, atom, kredytów, produkcji",
          "<b>Topic 7</b><br>Words: bez, musi, ok, rafalhubert, byc",
          "<b>Topic 7</b><br>Words: wodę, wybuchu, przypadku, innego, podobno",
          "<b>Topic 7</b><br>Words: drodze, rafalhubert, jakiś, pan, już",
          "<b>Topic 7</b><br>Words: chodzi, nikomu, tymi, raczej, jakby",
          "<b>Topic 7</b><br>Words: spoko, radę, jakubwiech, zabraknie, wody",
          "<b>Topic 7</b><br>Words: praktycznie, piotrwiel, niezłe, wody, były",
          "<b>Topic 7</b><br>Words: pani, więcej, małe, mefistofelleess, mini",
          "<b>Topic 7</b><br>Words: myślę, one, wiele, jestem, bardziej",
          "<b>Topic 7</b><br>Words: zamówić, chinach, najszybciej, bogdan607, dać",
          "<b>Topic 7</b><br>Words: zera, czyżby, poważnie, duże, czeka",
          "<b>Topic 7</b><br>Words: małe, autolikos1, najlepsze, morawiecki, te",
          "<b>Topic 7</b><br>Words: wszędzie, skoro, małe, mefistofelleess, mini",
          "<b>Topic 7</b><br>Words: mefistofelleess, mini, pójdzie, każdego, dalej",
          "<b>Topic 7</b><br>Words: małe, zatem, brawo, zostać, każdemu",
          "<b>Topic 7</b><br>Words: małe, podobnie, powinny, 100, mld",
          "<b>Topic 7</b><br>Words: zobaczymy, zjednoczonych, el, zapotrzebowanie, produkcję",
          "<b>Topic 7</b><br>Words: rafalhubert, pytanie, moskwa_anna, właśnie, był",
          "<b>Topic 7</b><br>Words: mały, zostać, nowego, podobno, pytanie",
          "<b>Topic 7</b><br>Words: od, małe, mefistofelleess, mini, rafalhubert",
          "<b>Topic 7</b><br>Words: piotrmuller, małe, mefistofelleess, mini, rafalhubert",
          "<b>Topic 7</b><br>Words: zostać, rafalhubert, musi, wszystko, pan"
         ],
         "marker": {
          "color": "#E69F00"
         },
         "mode": "lines",
         "name": "7_małe_mefistofelleess_mini_rafalhubert",
         "type": "scatter",
         "x": [
          "2022-09-05T00:00:00",
          "2022-09-08T00:00:00",
          "2022-09-09T00:00:00",
          "2022-09-12T00:00:00",
          "2022-09-16T00:00:00",
          "2022-09-18T00:00:00",
          "2022-09-19T00:00:00",
          "2022-09-22T00:00:00",
          "2022-09-25T00:00:00",
          "2022-09-26T00:00:00",
          "2022-09-27T00:00:00",
          "2022-09-29T00:00:00",
          "2022-10-05T00:00:00",
          "2022-10-07T00:00:00",
          "2022-10-10T00:00:00",
          "2022-10-14T00:00:00",
          "2022-10-16T00:00:00",
          "2022-10-17T00:00:00",
          "2022-10-19T00:00:00",
          "2022-10-20T00:00:00",
          "2022-10-23T00:00:00",
          "2022-10-24T00:00:00",
          "2022-10-26T00:00:00",
          "2022-10-27T00:00:00",
          "2022-10-29T00:00:00",
          "2022-10-30T00:00:00",
          "2022-10-31T00:00:00",
          "2022-11-01T00:00:00",
          "2022-11-02T00:00:00",
          "2022-11-03T00:00:00",
          "2022-11-04T00:00:00",
          "2022-11-05T00:00:00",
          "2022-11-06T00:00:00",
          "2022-11-09T00:00:00",
          "2022-11-11T00:00:00",
          "2022-11-15T00:00:00",
          "2022-11-16T00:00:00"
         ],
         "y": [
          3,
          1,
          1,
          4,
          1,
          2,
          1,
          1,
          1,
          1,
          1,
          1,
          1,
          1,
          2,
          2,
          3,
          1,
          1,
          2,
          1,
          3,
          1,
          2,
          5,
          3,
          9,
          1,
          10,
          10,
          2,
          3,
          2,
          2,
          1,
          1,
          1
         ]
        },
        {
         "hoverinfo": "text",
         "hovertext": [
          "<b>Topic 8</b><br>Words: reparacje, temat, rekordowa, pierwszy, wczoraj",
          "<b>Topic 8</b><br>Words: tvp_info, telewizja, skoro, znaczenie, mówisz",
          "<b>Topic 8</b><br>Words: tvp_info, tvp, telewizja, wykończy, dalszy",
          "<b>Topic 8</b><br>Words: wiadomoscitvp, tvp_info, 16, inflacja, tvp",
          "<b>Topic 8</b><br>Words: tvp_info, us, zapraszam, fed, inflacyjny",
          "<b>Topic 8</b><br>Words: tvp_info, góry, takim, sklepach, wzrost",
          "<b>Topic 8</b><br>Words: tvp_info, przekaz, dopiero, 18, wy",
          "<b>Topic 8</b><br>Words: tvp_info, skąd, drożyzna, ta, ten",
          "<b>Topic 8</b><br>Words: tvp_info, jowita_w, tvp, sukces, wam",
          "<b>Topic 8</b><br>Words: ani, tvp_info, tvp, kolejnych, nbppl",
          "<b>Topic 8</b><br>Words: tvp_info, tvp, informacja, tymczasem, inflacji",
          "<b>Topic 8</b><br>Words: tvp_info, procentowe, kredytów, raty, stopy",
          "<b>Topic 8</b><br>Words: stronę, energią, tvp_info, inflacją, tvp",
          "<b>Topic 8</b><br>Words: tvp_info, tvp, damy, realny, tej",
          "<b>Topic 8</b><br>Words: tvp_info, zwiększyć, kosmos, inflację, walczyć",
          "<b>Topic 8</b><br>Words: dawać, dopłaty, tvn24, 25, te",
          "<b>Topic 8</b><br>Words: tvp_info, niedługo, zrobi, pół, powinien",
          "<b>Topic 8</b><br>Words: tvp_info, drukowanie, cóż, jedno, idzie",
          "<b>Topic 8</b><br>Words: tvn, mi, ok, mówi, dlaczego",
          "<b>Topic 8</b><br>Words: tvp_info, tvn24, dopłat, transportu, wpływu",
          "<b>Topic 8</b><br>Words: tvp_info, nas, inflacja, tvp, inflacji",
          "<b>Topic 8</b><br>Words: tvp_info, ile, inflacja, tvp, inflacji",
          "<b>Topic 8</b><br>Words: gierka, tvp_info, zbliża, szybko, drożyzna",
          "<b>Topic 8</b><br>Words: tvp_info, społeczeństwa, rzecz, znów, działa",
          "<b>Topic 8</b><br>Words: tvp_info, wyższą, spokojnie, wysoką, my",
          "<b>Topic 8</b><br>Words: tvp, swoją, pan, może, inflacji",
          "<b>Topic 8</b><br>Words: doskonale, tvp, głowy, polak, tvn",
          "<b>Topic 8</b><br>Words: oczywiscie, tvp_info, wiecej, mbalawelder, 40",
          "<b>Topic 8</b><br>Words: tvp_info, wśród, rekordowa, likwidacja, jesteście",
          "<b>Topic 8</b><br>Words: tvp_info, walce, kupi, stycznia, procent",
          "<b>Topic 8</b><br>Words: szykują, tvp_info, prognoza, mafia, 24",
          "<b>Topic 8</b><br>Words: tvp_info, najważniejsze, ostatnich, kredytów, dzieci",
          "<b>Topic 8</b><br>Words: tvp_info, jesteśmy, czego, ponad, 20",
          "<b>Topic 8</b><br>Words: mogły, lewica, pomóc, procentowych, tvn",
          "<b>Topic 8</b><br>Words: pewien, tvp, ostatnio, mieszkańców, mam",
          "<b>Topic 8</b><br>Words: tvp_info, realnie, rosną, właściwie, nikomu",
          "<b>Topic 8</b><br>Words: tvp_info, ekonomiczny, podoba, komuś, 26",
          "<b>Topic 8</b><br>Words: tvp_info, rosnąca, sukces, wy, rządu",
          "<b>Topic 8</b><br>Words: tvp_info, wskaźnik, tvn24, oznacza, jesteśmy",
          "<b>Topic 8</b><br>Words: dokładnie, tvp_info, wszystkich, inflacja, tvp"
         ],
         "marker": {
          "color": "#56B4E9"
         },
         "mode": "lines",
         "name": "8_tvp_info_tvp_inflacji_inflacja",
         "type": "scatter",
         "x": [
          "2022-09-01T00:00:00",
          "2022-09-06T00:00:00",
          "2022-09-15T00:00:00",
          "2022-09-20T00:00:00",
          "2022-09-21T00:00:00",
          "2022-09-22T00:00:00",
          "2022-09-25T00:00:00",
          "2022-09-26T00:00:00",
          "2022-09-27T00:00:00",
          "2022-09-28T00:00:00",
          "2022-09-30T00:00:00",
          "2022-10-01T00:00:00",
          "2022-10-02T00:00:00",
          "2022-10-03T00:00:00",
          "2022-10-04T00:00:00",
          "2022-10-07T00:00:00",
          "2022-10-08T00:00:00",
          "2022-10-14T00:00:00",
          "2022-10-18T00:00:00",
          "2022-10-19T00:00:00",
          "2022-10-20T00:00:00",
          "2022-10-21T00:00:00",
          "2022-10-24T00:00:00",
          "2022-10-26T00:00:00",
          "2022-10-27T00:00:00",
          "2022-10-28T00:00:00",
          "2022-10-30T00:00:00",
          "2022-10-31T00:00:00",
          "2022-11-02T00:00:00",
          "2022-11-03T00:00:00",
          "2022-11-04T00:00:00",
          "2022-11-06T00:00:00",
          "2022-11-08T00:00:00",
          "2022-11-09T00:00:00",
          "2022-11-10T00:00:00",
          "2022-11-13T00:00:00",
          "2022-11-14T00:00:00",
          "2022-11-15T00:00:00",
          "2022-11-17T00:00:00",
          "2022-11-19T00:00:00"
         ],
         "y": [
          1,
          3,
          4,
          1,
          2,
          1,
          2,
          1,
          2,
          2,
          14,
          1,
          1,
          3,
          2,
          1,
          1,
          2,
          1,
          5,
          1,
          1,
          1,
          2,
          2,
          1,
          1,
          3,
          1,
          1,
          1,
          1,
          2,
          1,
          1,
          2,
          4,
          2,
          2,
          1
         ]
        },
        {
         "hoverinfo": "text",
         "hovertext": [
          "<b>Topic 9</b><br>Words: ciężko, byłem, 55, ostatnio, kilka",
          "<b>Topic 9</b><br>Words: vat, zawsze, 15, cenie, można",
          "<b>Topic 9</b><br>Words: mimo, zobaczyć, dlaczego, produkcję, polak",
          "<b>Topic 9</b><br>Words: kedzierskimarc, brak, minimalnej, ceny, jest",
          "<b>Topic 9</b><br>Words: zapas, samego, niższa, wysoka, dużo",
          "<b>Topic 9</b><br>Words: samo, wy, sklepach, raz, więcej",
          "<b>Topic 9</b><br>Words: szkoda, całym, ceną, 15, są",
          "<b>Topic 9</b><br>Words: biorąc, wzroście, informacja, uwagę, pewno",
          "<b>Topic 9</b><br>Words: wskaźnik, marlenamalag, też, wzrostu, był",
          "<b>Topic 9</b><br>Words: warunków, wątek, obecnej, umowy, ceną",
          "<b>Topic 9</b><br>Words: pół, przed, cena, roku, tego",
          "<b>Topic 9</b><br>Words: pan, cena, czy, podnieść, ceny",
          "<b>Topic 9</b><br>Words: wykupują, zamiast, czekać, codziennie, widzi",
          "<b>Topic 9</b><br>Words: wzrosła, ciekawe, pan, ile, cena",
          "<b>Topic 9</b><br>Words: 17, dla, polaków, procentowych, podatków",
          "<b>Topic 9</b><br>Words: tomo9000p, podatkami, rzad, kolejnych, bedzie",
          "<b>Topic 9</b><br>Words: podnieść, zabrać, liczą, wybór, żyć",
          "<b>Topic 9</b><br>Words: sposób, pisjestzadrogi, polskiład, podwyżki, nowych",
          "<b>Topic 9</b><br>Words: jowita_w, rzecz, jaka, były, chyba",
          "<b>Topic 9</b><br>Words: ciężko, niedługo, spadają, coolfonpl, rosną",
          "<b>Topic 9</b><br>Words: pokazać, cena, jest, podnieść, ceny",
          "<b>Topic 9</b><br>Words: news, czymś, kogoś, drugim, kto",
          "<b>Topic 9</b><br>Words: slawomirmentzen, jesteśmy, proces, kolejne, ludzie",
          "<b>Topic 9</b><br>Words: afera, jakaś, opał, jedziemy, chwilę",
          "<b>Topic 9</b><br>Words: sklepie, 70, oczywiście, wszystko, zł",
          "<b>Topic 9</b><br>Words: sklepie, 70, oczywiście, wszystko, zł",
          "<b>Topic 9</b><br>Words: opakowania, praktycznie, kosztem, człowiek, sama",
          "<b>Topic 9</b><br>Words: sklepie, 70, oczywiście, wszystko, zł",
          "<b>Topic 9</b><br>Words: bbudka, leszczyna, akcyza, platforma_org, mówisz",
          "<b>Topic 9</b><br>Words: galopująca, kasy, wegiel, 15, zł",
          "<b>Topic 9</b><br>Words: tanich, także, zdanie, sklepie, fajnie",
          "<b>Topic 9</b><br>Words: zjada, jasne, kupują, widać, mniej",
          "<b>Topic 9</b><br>Words: podnieść, weekend, kobiety, wzrośnie, dzieci",
          "<b>Topic 9</b><br>Words: polak, walczyć, np, wy, dlaczego",
          "<b>Topic 9</b><br>Words: kupią, liczy, było, rzeczy, podobnie",
          "<b>Topic 9</b><br>Words: podnieść, należy, ograniczeń, zł, umie",
          "<b>Topic 9</b><br>Words: sklepu, stronie, wyższe, koszt, akcyza",
          "<b>Topic 9</b><br>Words: kibiców, zaczną, europy, złotych, albo",
          "<b>Topic 9</b><br>Words: podnieść, dają, decyzji, naszego, jedno",
          "<b>Topic 9</b><br>Words: dostępne, rekordowa, kogo, sklepach, tymczasem",
          "<b>Topic 9</b><br>Words: tzn, domy, banki, fakt, byłoby",
          "<b>Topic 9</b><br>Words: artykułów, podstawowych, mówiąc, średniej, średnio"
         ],
         "marker": {
          "color": "#009E73"
         },
         "mode": "lines",
         "name": "9_podnieść_ceny_cena_jesteśmy",
         "type": "scatter",
         "x": [
          "2022-09-01T00:00:00",
          "2022-09-05T00:00:00",
          "2022-09-06T00:00:00",
          "2022-09-07T00:00:00",
          "2022-09-08T00:00:00",
          "2022-09-10T00:00:00",
          "2022-09-12T00:00:00",
          "2022-09-13T00:00:00",
          "2022-09-16T00:00:00",
          "2022-09-17T00:00:00",
          "2022-09-20T00:00:00",
          "2022-09-21T00:00:00",
          "2022-09-22T00:00:00",
          "2022-09-27T00:00:00",
          "2022-09-30T00:00:00",
          "2022-10-01T00:00:00",
          "2022-10-02T00:00:00",
          "2022-10-04T00:00:00",
          "2022-10-05T00:00:00",
          "2022-10-13T00:00:00",
          "2022-10-15T00:00:00",
          "2022-10-18T00:00:00",
          "2022-10-19T00:00:00",
          "2022-10-20T00:00:00",
          "2022-10-22T00:00:00",
          "2022-10-23T00:00:00",
          "2022-10-24T00:00:00",
          "2022-10-27T00:00:00",
          "2022-10-31T00:00:00",
          "2022-11-02T00:00:00",
          "2022-11-04T00:00:00",
          "2022-11-05T00:00:00",
          "2022-11-06T00:00:00",
          "2022-11-07T00:00:00",
          "2022-11-08T00:00:00",
          "2022-11-09T00:00:00",
          "2022-11-11T00:00:00",
          "2022-11-12T00:00:00",
          "2022-11-14T00:00:00",
          "2022-11-15T00:00:00",
          "2022-11-17T00:00:00",
          "2022-11-18T00:00:00"
         ],
         "y": [
          1,
          1,
          2,
          1,
          1,
          1,
          1,
          1,
          1,
          1,
          1,
          1,
          3,
          1,
          2,
          1,
          3,
          3,
          2,
          1,
          1,
          1,
          6,
          1,
          1,
          1,
          1,
          1,
          3,
          2,
          2,
          1,
          8,
          1,
          2,
          4,
          2,
          2,
          2,
          3,
          1,
          1
         ]
        },
        {
         "hoverinfo": "text",
         "hovertext": [
          "<b>Topic 10</b><br>Words: fishing_fever69, wegiel, cenami, chyba, zabraknie",
          "<b>Topic 10</b><br>Words: fishing_fever69, węgiel, zabraknie, żywność, niego",
          "<b>Topic 10</b><br>Words: fishing_fever69, bać, rosyjski, gaz, zabraknie",
          "<b>Topic 10</b><br>Words: fishing_fever69, wykończy, stacji, ropa, nas",
          "<b>Topic 10</b><br>Words: fishing_fever69, byly, niz, powiedzieli, historii",
          "<b>Topic 10</b><br>Words: fishing_fever69, zabraknie, gazu, węgla, żywność",
          "<b>Topic 10</b><br>Words: fishing_fever69, 16, ktoś, inflacji, zabraknie",
          "<b>Topic 10</b><br>Words: fishing_fever69, węglu, można, teraz, zabraknie",
          "<b>Topic 10</b><br>Words: fishing_fever69, kochani, 16, ich, sobie",
          "<b>Topic 10</b><br>Words: fishing_fever69, albo, dalszy, morzu, drugi",
          "<b>Topic 10</b><br>Words: fishing_fever69, był, węgiel, zabraknie, żywność",
          "<b>Topic 10</b><br>Words: fishing_fever69, wysokie, on, ceny, zabraknie",
          "<b>Topic 10</b><br>Words: fishing_fever69, 500, takie, mamy, gaz",
          "<b>Topic 10</b><br>Words: fishing_fever69, zgadza, coraz, powodu, są",
          "<b>Topic 10</b><br>Words: fishing_fever69, zabraknie, niedługo, mieli, wszystkie",
          "<b>Topic 10</b><br>Words: fishing_fever69, podnosić, dobrego, rozwiązania, nagle",
          "<b>Topic 10</b><br>Words: fishing_fever69, każdemu, widzą, działa, dalej",
          "<b>Topic 10</b><br>Words: 35, braku, fishing_fever69, może, inflacji",
          "<b>Topic 10</b><br>Words: fishing_fever69, patrząc, pewien, byłem, publicznych",
          "<b>Topic 10</b><br>Words: fishing_fever69, niego, stać, zabraknie, tylko",
          "<b>Topic 10</b><br>Words: fishing_fever69, minister, pis, niego, zabraknie",
          "<b>Topic 10</b><br>Words: fishing_fever69, dostęp, jakim, samym, tym",
          "<b>Topic 10</b><br>Words: fishing_fever69, zabraknie, żywność, niego, stać",
          "<b>Topic 10</b><br>Words: fishing_fever69, dobra, te, cena, zabraknie",
          "<b>Topic 10</b><br>Words: fishing_fever69, chrustu, zapas, zapraszam, prądem",
          "<b>Topic 10</b><br>Words: fishing_fever69, aby, najszybciej, wysokiej, ropa",
          "<b>Topic 10</b><br>Words: fishing_fever69, bać, szykują, wtedy, inflacji",
          "<b>Topic 10</b><br>Words: sporo, zrobić, fishing_fever69, trzeba, by",
          "<b>Topic 10</b><br>Words: fishing_fever69, marże, firmy, inflacja, zabraknie",
          "<b>Topic 10</b><br>Words: fishing_fever69, 45, żywność, 3000, 80",
          "<b>Topic 10</b><br>Words: fishing_fever69, niektóre, drodze, produkty, żywność",
          "<b>Topic 10</b><br>Words: fishing_fever69, gazem, zabraknie, żywność, niego",
          "<b>Topic 10</b><br>Words: fishing_fever69, poniedziałek, spadają, dni, proszę",
          "<b>Topic 10</b><br>Words: fishing_fever69, wzrosnąć, samo, musi, panie",
          "<b>Topic 10</b><br>Words: fishing_fever69, była, cena, zabraknie, żywność"
         ],
         "marker": {
          "color": "#F0E442"
         },
         "mode": "lines",
         "name": "10_fishing_fever69_zabraknie_żywność_nie...",
         "type": "scatter",
         "x": [
          "2022-09-01T00:00:00",
          "2022-09-02T00:00:00",
          "2022-09-05T00:00:00",
          "2022-09-08T00:00:00",
          "2022-09-09T00:00:00",
          "2022-09-14T00:00:00",
          "2022-09-15T00:00:00",
          "2022-09-16T00:00:00",
          "2022-09-17T00:00:00",
          "2022-09-20T00:00:00",
          "2022-09-22T00:00:00",
          "2022-09-26T00:00:00",
          "2022-09-27T00:00:00",
          "2022-10-02T00:00:00",
          "2022-10-04T00:00:00",
          "2022-10-05T00:00:00",
          "2022-10-06T00:00:00",
          "2022-10-08T00:00:00",
          "2022-10-17T00:00:00",
          "2022-10-18T00:00:00",
          "2022-10-19T00:00:00",
          "2022-10-20T00:00:00",
          "2022-10-21T00:00:00",
          "2022-10-27T00:00:00",
          "2022-10-28T00:00:00",
          "2022-10-30T00:00:00",
          "2022-10-31T00:00:00",
          "2022-11-01T00:00:00",
          "2022-11-02T00:00:00",
          "2022-11-03T00:00:00",
          "2022-11-09T00:00:00",
          "2022-11-10T00:00:00",
          "2022-11-14T00:00:00",
          "2022-11-16T00:00:00",
          "2022-11-17T00:00:00"
         ],
         "y": [
          2,
          1,
          1,
          1,
          1,
          3,
          1,
          1,
          1,
          2,
          1,
          1,
          1,
          1,
          3,
          2,
          2,
          1,
          3,
          7,
          6,
          1,
          1,
          1,
          1,
          1,
          3,
          1,
          1,
          4,
          5,
          1,
          4,
          2,
          1
         ]
        },
        {
         "hoverinfo": "text",
         "hovertext": [
          "<b>Topic 11</b><br>Words: turcji, prądem, taniej, miesiąc, prezydent",
          "<b>Topic 11</b><br>Words: turcji, prądem, taniej, miesiąc, gazem",
          "<b>Topic 11</b><br>Words: zasadniczo, drugiej, trudno, zatem, niej",
          "<b>Topic 11</b><br>Words: oszczędzać, zapraszam, stronę, moja, drogą",
          "<b>Topic 11</b><br>Words: pozwoli, zachód, nowego, da, takie",
          "<b>Topic 11</b><br>Words: turcji, zjednoczonych, zwiększyć, zakupy, powiedział",
          "<b>Topic 11</b><br>Words: turcji, morzu, wokół, zobaczymy, parę",
          "<b>Topic 11</b><br>Words: rosję, energetycznego, wciąż, roku, gaz",
          "<b>Topic 11</b><br>Words: rosję, gaz, roku, bloomberg, ekonomiczny",
          "<b>Topic 11</b><br>Words: miesiącu, grudniu, całym, płacić, cenie",
          "<b>Topic 11</b><br>Words: turcji, agencja, europy, oczywiście, jeśli",
          "<b>Topic 11</b><br>Words: turcji, europy, powiedział, najbardziej, gaz",
          "<b>Topic 11</b><br>Words: turcji, gazu, moskwa, rosji, centrum",
          "<b>Topic 11</b><br>Words: współpracę, centrum, rosją, razem, dystrybucji",
          "<b>Topic 11</b><br>Words: wsparcie, akurat, robić, turcji, zrobi",
          "<b>Topic 11</b><br>Words: turcji, tygodniu, europy, czekuku2, gazu",
          "<b>Topic 11</b><br>Words: zdecydowała, nowym, turcji, pomóc, drugie",
          "<b>Topic 11</b><br>Words: stał, gosc_radiazet, sam, dlatego, mówi",
          "<b>Topic 11</b><br>Words: rosja, turcji, wbrew, działają, zachodu",
          "<b>Topic 11</b><br>Words: turcji, większych, pozwoli, sprawdzić, obniżenia",
          "<b>Topic 11</b><br>Words: produkty, unii, należy, taka, turcji",
          "<b>Topic 11</b><br>Words: turcji, dostęp, niskie, duże, plus",
          "<b>Topic 11</b><br>Words: turcji, dostęp, niskie, duże, plus",
          "<b>Topic 11</b><br>Words: własne, szczesniaka, europy, sposób, dostawy",
          "<b>Topic 11</b><br>Words: własne, szczesniaka, europy, sposób, dostawy",
          "<b>Topic 11</b><br>Words: turcji, energetyki, minister, rachunki, proces",
          "<b>Topic 11</b><br>Words: turcji, władze, surowca, powiedział, prezydent",
          "<b>Topic 11</b><br>Words: dostaw, jedynym, płaci, bezpieczeństwa, wysoką",
          "<b>Topic 11</b><br>Words: ropę, grudnia, usług, sankcje, aż"
         ],
         "marker": {
          "color": "#D55E00"
         },
         "mode": "lines",
         "name": "11_turcji_gazu_europy_gaz",
         "type": "scatter",
         "x": [
          "2022-09-04T00:00:00",
          "2022-09-05T00:00:00",
          "2022-09-13T00:00:00",
          "2022-09-18T00:00:00",
          "2022-09-20T00:00:00",
          "2022-09-22T00:00:00",
          "2022-09-27T00:00:00",
          "2022-10-03T00:00:00",
          "2022-10-04T00:00:00",
          "2022-10-09T00:00:00",
          "2022-10-12T00:00:00",
          "2022-10-13T00:00:00",
          "2022-10-14T00:00:00",
          "2022-10-17T00:00:00",
          "2022-10-18T00:00:00",
          "2022-10-19T00:00:00",
          "2022-10-20T00:00:00",
          "2022-10-21T00:00:00",
          "2022-10-23T00:00:00",
          "2022-10-25T00:00:00",
          "2022-10-29T00:00:00",
          "2022-10-30T00:00:00",
          "2022-11-01T00:00:00",
          "2022-11-04T00:00:00",
          "2022-11-05T00:00:00",
          "2022-11-08T00:00:00",
          "2022-11-12T00:00:00",
          "2022-11-14T00:00:00",
          "2022-11-18T00:00:00"
         ],
         "y": [
          2,
          1,
          1,
          1,
          1,
          1,
          1,
          2,
          2,
          1,
          1,
          5,
          10,
          5,
          2,
          8,
          2,
          1,
          2,
          2,
          1,
          2,
          1,
          2,
          1,
          6,
          1,
          1,
          1
         ]
        },
        {
         "hoverinfo": "text",
         "hovertext": [
          "<b>Topic 12</b><br>Words: kosmos, czaroit1, wlasnie, uk, dopiero",
          "<b>Topic 12</b><br>Words: kosmos, pisorgpl, morawieckim, ceny, cena",
          "<b>Topic 12</b><br>Words: kosmos, zbliża, sztucznie, powie, xd",
          "<b>Topic 12</b><br>Words: podatkami, fajnie, kredyty, problemy, gazem",
          "<b>Topic 12</b><br>Words: kosmos, bazowej, większy, xd, tymi",
          "<b>Topic 12</b><br>Words: domów, stoi, widzę, część, pół",
          "<b>Topic 12</b><br>Words: byc, wraca, wiec, sumie, oto",
          "<b>Topic 12</b><br>Words: kogoś, wiadomoscitvp, marże, wystarczy, przeciwko",
          "<b>Topic 12</b><br>Words: kosmos, rzad, idiotów, potrzeba, strony",
          "<b>Topic 12</b><br>Words: kosmos, firarafaa, agencja, będą, ceny",
          "<b>Topic 12</b><br>Words: olgaewasemeniuk, kosmos, ceny, cena, teraz",
          "<b>Topic 12</b><br>Words: kosmos, niedługo, zostaną, jakiś, chyba",
          "<b>Topic 12</b><br>Words: każdemu, te, są, ceny, kosmos",
          "<b>Topic 12</b><br>Words: jowita_w, wy, kosmos, surowców, kapitał",
          "<b>Topic 12</b><br>Words: kosmos, dokładnie, dopiero, cena, teraz",
          "<b>Topic 12</b><br>Words: kosmos, surowce, moment, wszystkie, cenami",
          "<b>Topic 12</b><br>Words: kosmos, muszą, albo, czekać, szykują",
          "<b>Topic 12</b><br>Words: kosmos, poprawnym2, krocpokzboj, cukru, ceny",
          "<b>Topic 12</b><br>Words: kosmos, poszybowały, fishing_fever69, mój, dzięki",
          "<b>Topic 12</b><br>Words: tanio, społeczeństwa, kosztem, drożej, robić",
          "<b>Topic 12</b><br>Words: kosmos, 70, czym, panie, ta",
          "<b>Topic 12</b><br>Words: dotyczą, szejnfeld, wszystkie, chyba, państwa",
          "<b>Topic 12</b><br>Words: ani, ktos, serio, sa, niby",
          "<b>Topic 12</b><br>Words: poszły, kasa, emisji, inwestycje, prawa",
          "<b>Topic 12</b><br>Words: kosmos, które, teraz, są, ceny",
          "<b>Topic 12</b><br>Words: kosmos, gadfluence, byc, generalnie, moze",
          "<b>Topic 12</b><br>Words: serio, mamy, ceny, tak, kosmos",
          "<b>Topic 12</b><br>Words: tomeknarkun, szczególnie, min, niby, gt",
          "<b>Topic 12</b><br>Words: najmu, zbyt, piterson1980, jakoś, jestem",
          "<b>Topic 12</b><br>Words: piterson1980, dalej, ceny, kosmos, cena",
          "<b>Topic 12</b><br>Words: 3000, ludzie, więcej, ceny, kosmos",
          "<b>Topic 12</b><br>Words: konkurencji, komuś, troche, regulacji, kosmos",
          "<b>Topic 12</b><br>Words: pewnie, kosmos, zamówić, jakiś, trzeba",
          "<b>Topic 12</b><br>Words: dolara, zl, jedyne, juz, dawno",
          "<b>Topic 12</b><br>Words: kupuję, dostępny, naszym, zamiast, cena",
          "<b>Topic 12</b><br>Words: marże, świecie, poziomie, kilka, drożyznapis",
          "<b>Topic 12</b><br>Words: czekuku2, bez, natomiast, itd, dostaw",
          "<b>Topic 12</b><br>Words: kosmos, zaczną, takiej, rządy, mogą",
          "<b>Topic 12</b><br>Words: pierwszym, ceny, jest, kosmos, cena",
          "<b>Topic 12</b><br>Words: szukać, fishing_fever69, ostatnio, same, ceny",
          "<b>Topic 12</b><br>Words: opakowania, kosmos, ceny, cena, teraz",
          "<b>Topic 12</b><br>Words: pytam_tylko, kosmos, wziął, będę, mnie",
          "<b>Topic 12</b><br>Words: chyba, tam, tylko, ceny, kosmos",
          "<b>Topic 12</b><br>Words: kosmos, artykułów, podstawowych, złoty, części",
          "<b>Topic 12</b><br>Words: trafiła, kosmos, tych, ceny, cena",
          "<b>Topic 12</b><br>Words: kosmos, kibiców, mnóstwo, ps, sporo"
         ],
         "marker": {
          "color": "#0072B2"
         },
         "mode": "lines",
         "name": "12_kosmos_ceny_cena_teraz",
         "type": "scatter",
         "x": [
          "2022-09-01T00:00:00",
          "2022-09-02T00:00:00",
          "2022-09-03T00:00:00",
          "2022-09-05T00:00:00",
          "2022-09-07T00:00:00",
          "2022-09-08T00:00:00",
          "2022-09-14T00:00:00",
          "2022-09-15T00:00:00",
          "2022-09-20T00:00:00",
          "2022-09-21T00:00:00",
          "2022-09-22T00:00:00",
          "2022-09-24T00:00:00",
          "2022-09-25T00:00:00",
          "2022-09-27T00:00:00",
          "2022-09-28T00:00:00",
          "2022-09-29T00:00:00",
          "2022-09-30T00:00:00",
          "2022-10-02T00:00:00",
          "2022-10-05T00:00:00",
          "2022-10-06T00:00:00",
          "2022-10-07T00:00:00",
          "2022-10-08T00:00:00",
          "2022-10-09T00:00:00",
          "2022-10-11T00:00:00",
          "2022-10-12T00:00:00",
          "2022-10-13T00:00:00",
          "2022-10-14T00:00:00",
          "2022-10-15T00:00:00",
          "2022-10-16T00:00:00",
          "2022-10-18T00:00:00",
          "2022-10-20T00:00:00",
          "2022-10-21T00:00:00",
          "2022-10-23T00:00:00",
          "2022-10-24T00:00:00",
          "2022-10-28T00:00:00",
          "2022-10-30T00:00:00",
          "2022-11-06T00:00:00",
          "2022-11-07T00:00:00",
          "2022-11-09T00:00:00",
          "2022-11-10T00:00:00",
          "2022-11-11T00:00:00",
          "2022-11-12T00:00:00",
          "2022-11-13T00:00:00",
          "2022-11-14T00:00:00",
          "2022-11-15T00:00:00",
          "2022-11-18T00:00:00"
         ],
         "y": [
          1,
          1,
          2,
          1,
          3,
          1,
          1,
          1,
          2,
          1,
          1,
          1,
          1,
          2,
          1,
          3,
          3,
          1,
          1,
          1,
          3,
          1,
          2,
          1,
          1,
          1,
          1,
          2,
          1,
          1,
          1,
          2,
          1,
          1,
          1,
          1,
          1,
          1,
          1,
          1,
          1,
          2,
          1,
          2,
          1,
          1
         ]
        },
        {
         "hoverinfo": "text",
         "hovertext": [
          "<b>Topic 13</b><br>Words: drewna, razu, dzieje, są, pisu",
          "<b>Topic 13</b><br>Words: proste, jaką, podczas, drewna, chodzi",
          "<b>Topic 13</b><br>Words: drewna, producentów, ceną, sytuacja, mimo",
          "<b>Topic 13</b><br>Words: drewno, oczach, wiadomo, drewna, dzieje",
          "<b>Topic 13</b><br>Words: oczach, mbalawelder, dzieje, wiadomo, drewna",
          "<b>Topic 13</b><br>Words: drewna, nowy, drewno, wydaje, mocno",
          "<b>Topic 13</b><br>Words: drewna, dotyczą, nagle, naszych, jaka",
          "<b>Topic 13</b><br>Words: drewna, cena, drewno, ceny, przeciwko",
          "<b>Topic 13</b><br>Words: drewna, dostępność, 150, dni, kilka",
          "<b>Topic 13</b><br>Words: drewna, drewno, ceny, spadają, poszybowały",
          "<b>Topic 13</b><br>Words: drewna, drewno, wzrósł, popyt, powodu",
          "<b>Topic 13</b><br>Words: drewna, drewno, byly, ceny, polsce",
          "<b>Topic 13</b><br>Words: drewna, drewno, wykupują, wielu, powodu",
          "<b>Topic 13</b><br>Words: drewna, drewno, zeszłym, unii, wzrosły",
          "<b>Topic 13</b><br>Words: przeciwko, rosną, wzrost, które, drewna",
          "<b>Topic 13</b><br>Words: drewna, rosną, sposoby, przeciwko, powoduje",
          "<b>Topic 13</b><br>Words: drewna, drewno, pracują, rekordowa, spadku",
          "<b>Topic 13</b><br>Words: drewna, we, cena, są, pis",
          "<b>Topic 13</b><br>Words: drewno, drewna, zapotrzebowanie, ponownie, wraz",
          "<b>Topic 13</b><br>Words: drewno, drewna, 120, zeszłym, zł",
          "<b>Topic 13</b><br>Words: zamówić, drewno, kończą, prawastronaa, zaczynają",
          "<b>Topic 13</b><br>Words: drewna, podrożały, 33, rokiem, okresie",
          "<b>Topic 13</b><br>Words: drewna, drewno, zapotrzebowanie, ostatnich, kilku",
          "<b>Topic 13</b><br>Words: drewna, ceny, drewno, pl, zaledwie",
          "<b>Topic 13</b><br>Words: drewna, eksport, widzę, wysokie, ceny",
          "<b>Topic 13</b><br>Words: granicach, drewna, nawozów, sytuację, środków",
          "<b>Topic 13</b><br>Words: drewna, producentów, droga, państwowe, podobnie",
          "<b>Topic 13</b><br>Words: drewno, opał, pytam, czeka, skąd"
         ],
         "marker": {
          "color": "#CC79A7"
         },
         "mode": "lines",
         "name": "13_drewna_drewno_ceny_przeciwko",
         "type": "scatter",
         "x": [
          "2022-09-02T00:00:00",
          "2022-09-03T00:00:00",
          "2022-09-05T00:00:00",
          "2022-09-06T00:00:00",
          "2022-09-07T00:00:00",
          "2022-09-08T00:00:00",
          "2022-09-18T00:00:00",
          "2022-09-20T00:00:00",
          "2022-10-01T00:00:00",
          "2022-10-02T00:00:00",
          "2022-10-05T00:00:00",
          "2022-10-06T00:00:00",
          "2022-10-07T00:00:00",
          "2022-10-10T00:00:00",
          "2022-10-11T00:00:00",
          "2022-10-12T00:00:00",
          "2022-10-14T00:00:00",
          "2022-10-15T00:00:00",
          "2022-10-16T00:00:00",
          "2022-10-19T00:00:00",
          "2022-10-20T00:00:00",
          "2022-10-25T00:00:00",
          "2022-10-26T00:00:00",
          "2022-10-28T00:00:00",
          "2022-11-02T00:00:00",
          "2022-11-06T00:00:00",
          "2022-11-07T00:00:00",
          "2022-11-10T00:00:00"
         ],
         "y": [
          1,
          1,
          1,
          3,
          1,
          2,
          1,
          1,
          1,
          3,
          3,
          2,
          4,
          1,
          10,
          2,
          7,
          2,
          1,
          1,
          1,
          1,
          1,
          3,
          1,
          1,
          1,
          1
         ]
        },
        {
         "hoverinfo": "text",
         "hovertext": [
          "<b>Topic 14</b><br>Words: najmu, ogromne, marlenamalag, gosc_radiazet, pomysł",
          "<b>Topic 14</b><br>Words: socjal, gdzie, tuska, sprawdź, polak",
          "<b>Topic 14</b><br>Words: komuny, środków, partia, mosinskijan, których",
          "<b>Topic 14</b><br>Words: zimę, socjal, miesiącu, tam, powinniśmy",
          "<b>Topic 14</b><br>Words: kraju, własnym, wiosnę, tak, jesteśmy",
          "<b>Topic 14</b><br>Words: dodać, rzeczy, 24, należy, wiele",
          "<b>Topic 14</b><br>Words: kasy, dopłat, dają, 3000, itd",
          "<b>Topic 14</b><br>Words: europa, rosnących, media, ukrainy, powodu",
          "<b>Topic 14</b><br>Words: najmu, wśród, akurat, mieszkań, prawda",
          "<b>Topic 14</b><br>Words: koniunktury, najmu, wraz, razie, widać",
          "<b>Topic 14</b><br>Words: samą, mld, publicznych, wydatki, zł",
          "<b>Topic 14</b><br>Words: upadku, pomocy, gospodarki, latach, sam",
          "<b>Topic 14</b><br>Words: którym, polacy, dostęp, utrzymanie, kredyty",
          "<b>Topic 14</b><br>Words: konsekwencjami, prowadzi, politykę, gdy, tam",
          "<b>Topic 14</b><br>Words: kredyt, gdzie, zostanie, takich, sposób",
          "<b>Topic 14</b><br>Words: socjal, setki, wzrostem, dać, podatków",
          "<b>Topic 14</b><br>Words: powodują, zaledwie, prosta, ekspert, własne",
          "<b>Topic 14</b><br>Words: polskieradio24, główny, wybuchu, kolejnych, środki",
          "<b>Topic 14</b><br>Words: zdecydowała, świadczenia, pokazać, możliwe, choć",
          "<b>Topic 14</b><br>Words: cie, ty, wziąć, udział, środków",
          "<b>Topic 14</b><br>Words: narodowym, centrum, trzaskowski_, wpolityce_pl, był",
          "<b>Topic 14</b><br>Words: wpływa, zdecydowanie, postaci, popyt, twierdzi",
          "<b>Topic 14</b><br>Words: miałby, zamykają, czytam, transportu, wzrostem",
          "<b>Topic 14</b><br>Words: dodatkowo, innymi, spadła, między, początku",
          "<b>Topic 14</b><br>Words: mld, zdrowia, politykę, ustawy, 40",
          "<b>Topic 14</b><br>Words: socjal, ukrainy, możemy, umierają, paliwo",
          "<b>Topic 14</b><br>Words: zostać, pekao_analizy, aby, popyt, trzeba",
          "<b>Topic 14</b><br>Words: galopująca, setki, tysięcy, drogi, drożyzna",
          "<b>Topic 14</b><br>Words: wraca, rosnących, powodu, galopująca, setki",
          "<b>Topic 14</b><br>Words: razu, względu, ogromne, kryzysu, nigdy",
          "<b>Topic 14</b><br>Words: pomimo, 800, granicy, jakoś, podobno"
         ],
         "marker": {
          "color": "#E69F00"
         },
         "mode": "lines",
         "name": "14_setki_galopująca_socjal_ukrainy",
         "type": "scatter",
         "x": [
          "2022-09-01T00:00:00",
          "2022-09-04T00:00:00",
          "2022-09-05T00:00:00",
          "2022-09-08T00:00:00",
          "2022-09-09T00:00:00",
          "2022-09-10T00:00:00",
          "2022-09-14T00:00:00",
          "2022-09-15T00:00:00",
          "2022-09-16T00:00:00",
          "2022-09-19T00:00:00",
          "2022-09-25T00:00:00",
          "2022-09-26T00:00:00",
          "2022-09-28T00:00:00",
          "2022-09-30T00:00:00",
          "2022-10-01T00:00:00",
          "2022-10-02T00:00:00",
          "2022-10-03T00:00:00",
          "2022-10-06T00:00:00",
          "2022-10-11T00:00:00",
          "2022-10-12T00:00:00",
          "2022-10-13T00:00:00",
          "2022-10-16T00:00:00",
          "2022-10-19T00:00:00",
          "2022-10-21T00:00:00",
          "2022-11-04T00:00:00",
          "2022-11-08T00:00:00",
          "2022-11-09T00:00:00",
          "2022-11-12T00:00:00",
          "2022-11-13T00:00:00",
          "2022-11-14T00:00:00",
          "2022-11-15T00:00:00"
         ],
         "y": [
          1,
          2,
          1,
          1,
          1,
          1,
          1,
          3,
          1,
          1,
          1,
          1,
          1,
          1,
          1,
          1,
          1,
          2,
          1,
          1,
          1,
          5,
          2,
          1,
          1,
          6,
          3,
          6,
          4,
          1,
          1
         ]
        },
        {
         "hoverinfo": "text",
         "hovertext": [
          "<b>Topic 15</b><br>Words: nowe, chin, rzędu, niektóre, największych",
          "<b>Topic 15</b><br>Words: chiny, indie, zysków, dodatkowo, drogi",
          "<b>Topic 15</b><br>Words: chiny, chinach, viii, poprzednio, dobrych",
          "<b>Topic 15</b><br>Words: chiny, chin, chinach, płace, niskie",
          "<b>Topic 15</b><br>Words: chiny, zmniejszą, zapotrzebowanie, spadek, tysięcy",
          "<b>Topic 15</b><br>Words: chiny, indie, dochody, kupują, poniżej",
          "<b>Topic 15</b><br>Words: chiny, dzieki, chyba, dolara, upadku",
          "<b>Topic 15</b><br>Words: powodu, przemysłu, znów, surowców, tą",
          "<b>Topic 15</b><br>Words: chinach, spadek, cen, chiny, chin",
          "<b>Topic 15</b><br>Words: pomocy, samo, robi, skoro, przy",
          "<b>Topic 15</b><br>Words: itd, setki, kogo, dane, jakby",
          "<b>Topic 15</b><br>Words: chiny, braku, dolara, rzeczywistości, obajtka",
          "<b>Topic 15</b><br>Words: opec, chiny, wydobycia, ropa, sprawie",
          "<b>Topic 15</b><br>Words: sankcje, chiny, konkurencji, mówiąc, plan",
          "<b>Topic 15</b><br>Words: chiny, beda, usa, biorąc, własnej",
          "<b>Topic 15</b><br>Words: chiny, chin, ropy, wojna, współpracę",
          "<b>Topic 15</b><br>Words: chiny, poszło, samo, cen, tyle",
          "<b>Topic 15</b><br>Words: chiny, 2021, ropy, przez, chin",
          "<b>Topic 15</b><br>Words: chin, dane, usa, ropy, cen",
          "<b>Topic 15</b><br>Words: chiny, chinach, chin, producentów, amp",
          "<b>Topic 15</b><br>Words: chiny, miejskich, kontrola, ropy, poszły",
          "<b>Topic 15</b><br>Words: chiny, chin, jeśli, są, przemysłu",
          "<b>Topic 15</b><br>Words: chinach, chiny, zera, poniżej, poprzednio",
          "<b>Topic 15</b><br>Words: chiny, chin, ropy, podobnie, największych",
          "<b>Topic 15</b><br>Words: niżej, chinach, chin, pokazuje, kupują"
         ],
         "marker": {
          "color": "#56B4E9"
         },
         "mode": "lines",
         "name": "15_chiny_chin_chinach_ropy",
         "type": "scatter",
         "x": [
          "2022-09-01T00:00:00",
          "2022-09-03T00:00:00",
          "2022-09-09T00:00:00",
          "2022-09-14T00:00:00",
          "2022-09-15T00:00:00",
          "2022-09-16T00:00:00",
          "2022-09-17T00:00:00",
          "2022-09-19T00:00:00",
          "2022-09-26T00:00:00",
          "2022-10-01T00:00:00",
          "2022-10-03T00:00:00",
          "2022-10-07T00:00:00",
          "2022-10-08T00:00:00",
          "2022-10-16T00:00:00",
          "2022-10-17T00:00:00",
          "2022-10-23T00:00:00",
          "2022-10-24T00:00:00",
          "2022-10-25T00:00:00",
          "2022-10-31T00:00:00",
          "2022-11-03T00:00:00",
          "2022-11-04T00:00:00",
          "2022-11-05T00:00:00",
          "2022-11-09T00:00:00",
          "2022-11-14T00:00:00",
          "2022-11-16T00:00:00"
         ],
         "y": [
          1,
          1,
          2,
          7,
          2,
          1,
          1,
          1,
          1,
          1,
          1,
          2,
          1,
          1,
          3,
          3,
          2,
          2,
          1,
          2,
          3,
          3,
          5,
          4,
          1
         ]
        },
        {
         "hoverinfo": "text",
         "hovertext": [
          "<b>Topic 16</b><br>Words: cukier, cukru, pln, cena, komuś",
          "<b>Topic 16</b><br>Words: cukru, poszło, 99, cukier, zróbcie",
          "<b>Topic 16</b><br>Words: obniża, potem, cukier, własnej, podniosą",
          "<b>Topic 16</b><br>Words: kupiłem, cukier, kg, długo, dobrej",
          "<b>Topic 16</b><br>Words: cukru, miesiąc, popytem, cukier, pekao_analizy",
          "<b>Topic 16</b><br>Words: cukru, wraca, wakacje, zapasy, więc",
          "<b>Topic 16</b><br>Words: poszybowały, stumbras997, cukier, nagle, sklepach",
          "<b>Topic 16</b><br>Words: podnieść, 100, więc, trzeba, przy",
          "<b>Topic 16</b><br>Words: cukru, wszędzie, poziomu, rozumiem, 50",
          "<b>Topic 16</b><br>Words: cukru, wszędzie, poziomu, rozumiem, 50",
          "<b>Topic 16</b><br>Words: cukru, ktoś, dlatego, więcej, podwyżki",
          "<b>Topic 16</b><br>Words: cukru, dobrogowski_, cukier, klasy, poważnie",
          "<b>Topic 16</b><br>Words: zróbcie, bank, niższa, __lewica, jedną",
          "<b>Topic 16</b><br>Words: cukru, ostatnio, sylwiaspurek, 11, lat",
          "<b>Topic 16</b><br>Words: dobrej, woli, jakie, chodzi, chyba",
          "<b>Topic 16</b><br>Words: cukru, zdrożała, firmy, prywatne, państwowe",
          "<b>Topic 16</b><br>Words: cukru, założenie, cukier, podaje, żadnej",
          "<b>Topic 16</b><br>Words: ceną, wyższą, cukier, maja, został",
          "<b>Topic 16</b><br>Words: cukru, cukier, zł, wszędzie, byłem",
          "<b>Topic 16</b><br>Words: wzrosła, cukru, cena, 150, 50",
          "<b>Topic 16</b><br>Words: wzrosła, cukru, problemem, cena, cukier",
          "<b>Topic 16</b><br>Words: kosztuje, cukru, 5zł, miroka30045644, chociaż",
          "<b>Topic 16</b><br>Words: cukru, cukier, obniża, zl, kg",
          "<b>Topic 16</b><br>Words: sierpniu, kupiłem, zeszłym, 50, takiego",
          "<b>Topic 16</b><br>Words: euro, cukru, świadczenia, netto, wynosiła",
          "<b>Topic 16</b><br>Words: cukru, ubiegłym, kasia_dw, 50, wynosi",
          "<b>Topic 16</b><br>Words: cukru, nbppl, wynosi, obecnie, dzięki",
          "<b>Topic 16</b><br>Words: cukru, 1990, kwestii, stycznia, chwilę",
          "<b>Topic 16</b><br>Words: model, kończą, mojej, codziennie, możesz",
          "<b>Topic 16</b><br>Words: cukier, proc, ponownie, drugim, produkty",
          "<b>Topic 16</b><br>Words: cukru, 5zł, cukier, kupiłem, sklepu",
          "<b>Topic 16</b><br>Words: cukru, podwyższenie, warunków, spotkanie, sztucznie",
          "<b>Topic 16</b><br>Words: wyborcza, cukier, opał, procent, górę",
          "<b>Topic 16</b><br>Words: cukier, poszybowały, wszędzie, cukru, 50"
         ],
         "marker": {
          "color": "#009E73"
         },
         "mode": "lines",
         "name": "16_cukru_cukier_cena_50",
         "type": "scatter",
         "x": [
          "2022-09-07T00:00:00",
          "2022-09-12T00:00:00",
          "2022-09-13T00:00:00",
          "2022-09-14T00:00:00",
          "2022-09-15T00:00:00",
          "2022-09-18T00:00:00",
          "2022-09-19T00:00:00",
          "2022-09-20T00:00:00",
          "2022-09-22T00:00:00",
          "2022-09-23T00:00:00",
          "2022-09-27T00:00:00",
          "2022-09-28T00:00:00",
          "2022-09-30T00:00:00",
          "2022-10-02T00:00:00",
          "2022-10-06T00:00:00",
          "2022-10-07T00:00:00",
          "2022-10-08T00:00:00",
          "2022-10-12T00:00:00",
          "2022-10-13T00:00:00",
          "2022-10-14T00:00:00",
          "2022-10-15T00:00:00",
          "2022-10-17T00:00:00",
          "2022-10-20T00:00:00",
          "2022-10-22T00:00:00",
          "2022-10-25T00:00:00",
          "2022-10-26T00:00:00",
          "2022-10-30T00:00:00",
          "2022-10-31T00:00:00",
          "2022-11-07T00:00:00",
          "2022-11-10T00:00:00",
          "2022-11-11T00:00:00",
          "2022-11-13T00:00:00",
          "2022-11-15T00:00:00",
          "2022-11-17T00:00:00"
         ],
         "y": [
          1,
          3,
          1,
          1,
          1,
          1,
          1,
          1,
          3,
          3,
          1,
          2,
          1,
          2,
          1,
          1,
          2,
          1,
          1,
          3,
          2,
          1,
          3,
          1,
          1,
          2,
          1,
          1,
          1,
          1,
          1,
          2,
          1,
          1
         ]
        },
        {
         "hoverinfo": "text",
         "hovertext": [
          "<b>Topic 17</b><br>Words: upadku, zajmuje, zimie, przykład, domów",
          "<b>Topic 17</b><br>Words: jmiziolek, panowie, praktycznie, sporo, wszędzie",
          "<b>Topic 17</b><br>Words: cie, dobrogowski_, taki, tzn, twoja",
          "<b>Topic 17</b><br>Words: walczą, zamiast, oni, inflacją, węgla",
          "<b>Topic 17</b><br>Words: powie, zaraz, generują, wpłynie, nt",
          "<b>Topic 17</b><br>Words: zmniejszył, sjastrzebowski, cały, węglowy, by",
          "<b>Topic 17</b><br>Words: ich, ani, dotyka, dzieci, walczą",
          "<b>Topic 17</b><br>Words: dostępność, dodać, batugwojciech, cenę, coś",
          "<b>Topic 17</b><br>Words: kobiety, nadchodzi, jedynym, zacząć, problemem",
          "<b>Topic 17</b><br>Words: marże, podczas, paliwo, energię, prawie",
          "<b>Topic 17</b><br>Words: wyszło, walki, program, inflacją, też",
          "<b>Topic 17</b><br>Words: ciągle, będzie, stać, kraj, was",
          "<b>Topic 17</b><br>Words: pani, dzieci, afera, jutro, węglem",
          "<b>Topic 17</b><br>Words: wi, news, kraju, bardzo, jest",
          "<b>Topic 17</b><br>Words: wyniku, powiedzieć, przeciwko, im, trzeba",
          "<b>Topic 17</b><br>Words: powinno, swoje, wiem, potem, ani",
          "<b>Topic 17</b><br>Words: możliwość, świata, poza, węglowy, jego",
          "<b>Topic 17</b><br>Words: umierają, zlikwidować, socjal, osoby, mówiąc",
          "<b>Topic 17</b><br>Words: dotyczą, rozwiązania, zróbcie, tematem, są",
          "<b>Topic 17</b><br>Words: niskim, powie, chcesz, życia, siebie",
          "<b>Topic 17</b><br>Words: siebie, cały, czas, którzy, tusk",
          "<b>Topic 17</b><br>Words: dzieci, kobiety, czemu, no, chodzi",
          "<b>Topic 17</b><br>Words: kobiety, dzieci, lewicy, drukowanie, niska",
          "<b>Topic 17</b><br>Words: elektorat, dostanie, stycznia, wygląda, je",
          "<b>Topic 17</b><br>Words: broń, liczby, zdecydowanie, najważniejsze, jedyne",
          "<b>Topic 17</b><br>Words: zupełnie, przykład, ostatnie, jedno, innego",
          "<b>Topic 17</b><br>Words: znaczy, jeżeli, były, przecież, usa",
          "<b>Topic 17</b><br>Words: typu, krzysztofbrejza, spadnie, wiecie, mało",
          "<b>Topic 17</b><br>Words: dzieci, jmiziolek, zmniejszyć, in, jakby"
         ],
         "marker": {
          "color": "#F0E442"
         },
         "mode": "lines",
         "name": "17_dzieci_kobiety_węglowy_inflacja",
         "type": "scatter",
         "x": [
          "2022-09-01T00:00:00",
          "2022-09-02T00:00:00",
          "2022-09-07T00:00:00",
          "2022-09-08T00:00:00",
          "2022-09-14T00:00:00",
          "2022-09-17T00:00:00",
          "2022-09-20T00:00:00",
          "2022-09-22T00:00:00",
          "2022-09-29T00:00:00",
          "2022-10-02T00:00:00",
          "2022-10-08T00:00:00",
          "2022-10-13T00:00:00",
          "2022-10-14T00:00:00",
          "2022-10-20T00:00:00",
          "2022-10-22T00:00:00",
          "2022-10-25T00:00:00",
          "2022-10-29T00:00:00",
          "2022-11-01T00:00:00",
          "2022-11-02T00:00:00",
          "2022-11-04T00:00:00",
          "2022-11-05T00:00:00",
          "2022-11-06T00:00:00",
          "2022-11-07T00:00:00",
          "2022-11-08T00:00:00",
          "2022-11-10T00:00:00",
          "2022-11-12T00:00:00",
          "2022-11-13T00:00:00",
          "2022-11-15T00:00:00",
          "2022-11-18T00:00:00"
         ],
         "y": [
          3,
          2,
          2,
          1,
          1,
          1,
          1,
          1,
          2,
          1,
          1,
          1,
          2,
          1,
          1,
          1,
          1,
          1,
          2,
          2,
          1,
          4,
          4,
          1,
          3,
          1,
          1,
          1,
          1
         ]
        },
        {
         "hoverinfo": "text",
         "hovertext": [
          "<b>Topic 18</b><br>Words: ze, kupią, myśli, kupują, dość",
          "<b>Topic 18</b><br>Words: narodowym, żart, dawać, 700, jakiś",
          "<b>Topic 18</b><br>Words: drugiej, daje, wina, jednak, takie",
          "<b>Topic 18</b><br>Words: nt, głupoty, kilkaset, transportu, podnieść",
          "<b>Topic 18</b><br>Words: ogromne, podwyżki, cen, ceny, cena",
          "<b>Topic 18</b><br>Words: drugi, blisko, siebie, jeden, cena",
          "<b>Topic 18</b><br>Words: stało, mało, cenami, ich, dziś",
          "<b>Topic 18</b><br>Words: kibiców, tanich, wyborcza, zysk, podwyżka",
          "<b>Topic 18</b><br>Words: stać, powinien, klasy, wówczas, być",
          "<b>Topic 18</b><br>Words: raczej, ceny, cen, cena, telewizja",
          "<b>Topic 18</b><br>Words: wartości, ceny, cen, cena, telewizja",
          "<b>Topic 18</b><br>Words: październiku, ceny, cen, cena, telewizja",
          "<b>Topic 18</b><br>Words: podniesienie, zapowiedział, cen, ceny, cena",
          "<b>Topic 18</b><br>Words: wow, usług, jeszcze, ceny, cen",
          "<b>Topic 18</b><br>Words: zaczynają, osób, sprzedaż, około, tysięcy",
          "<b>Topic 18</b><br>Words: tanich, wtorek, listopada, ramach, sprzedaży",
          "<b>Topic 18</b><br>Words: osób, zastanawia, współpracę, poszło, nimi",
          "<b>Topic 18</b><br>Words: narodowym, byłem, ostatni, jestem, mimo",
          "<b>Topic 18</b><br>Words: dostępne, są, już, ceny, cen",
          "<b>Topic 18</b><br>Words: grzegor95956376, trudno, dość, drogi, tvp_info",
          "<b>Topic 18</b><br>Words: teraz, ceny, cen, cena, telewizja",
          "<b>Topic 18</b><br>Words: troche, zl, 150, stacji, miejsca",
          "<b>Topic 18</b><br>Words: kasa, zostanie, domu, efekt, jakieś",
          "<b>Topic 18</b><br>Words: świecie, wy, te, cen, ceny",
          "<b>Topic 18</b><br>Words: czekaj, 13, prywatne, listopada, dodatkowo",
          "<b>Topic 18</b><br>Words: auta, liczy, wjakobik, szybciej, akurat",
          "<b>Topic 18</b><br>Words: telewizja, druga, mieszkańców, koszt, której",
          "<b>Topic 18</b><br>Words: długo, tymi, koszt, jestem, będziemy",
          "<b>Topic 18</b><br>Words: ogromny, historii, wzrost, cen, ceny"
         ],
         "marker": {
          "color": "#D55E00"
         },
         "mode": "lines",
         "name": "18_ceny_cen_cena_telewizja",
         "type": "scatter",
         "x": [
          "2022-09-01T00:00:00",
          "2022-09-02T00:00:00",
          "2022-09-05T00:00:00",
          "2022-09-06T00:00:00",
          "2022-09-08T00:00:00",
          "2022-09-12T00:00:00",
          "2022-09-13T00:00:00",
          "2022-09-14T00:00:00",
          "2022-09-15T00:00:00",
          "2022-09-20T00:00:00",
          "2022-09-21T00:00:00",
          "2022-09-23T00:00:00",
          "2022-09-26T00:00:00",
          "2022-09-29T00:00:00",
          "2022-10-01T00:00:00",
          "2022-10-04T00:00:00",
          "2022-10-07T00:00:00",
          "2022-10-10T00:00:00",
          "2022-10-14T00:00:00",
          "2022-10-21T00:00:00",
          "2022-10-26T00:00:00",
          "2022-10-27T00:00:00",
          "2022-10-28T00:00:00",
          "2022-11-01T00:00:00",
          "2022-11-02T00:00:00",
          "2022-11-07T00:00:00",
          "2022-11-09T00:00:00",
          "2022-11-17T00:00:00",
          "2022-11-18T00:00:00"
         ],
         "y": [
          1,
          1,
          1,
          2,
          2,
          1,
          1,
          3,
          2,
          1,
          1,
          1,
          1,
          1,
          1,
          1,
          1,
          1,
          1,
          1,
          1,
          2,
          1,
          1,
          2,
          1,
          2,
          2,
          1
         ]
        },
        {
         "hoverinfo": "text",
         "hovertext": [
          "<b>Topic 19</b><br>Words: masła, albo, sklepie, miroka30045644, innego",
          "<b>Topic 19</b><br>Words: masła, albo, kupować, sklepie, miroka30045644",
          "<b>Topic 19</b><br>Words: masła, albo, sklepie, miroka30045644, innego",
          "<b>Topic 19</b><br>Words: 45, cukier, ceny, masła, albo",
          "<b>Topic 19</b><br>Words: masła, złotych, kochani, 10, zobaczyć",
          "<b>Topic 19</b><br>Words: masła, samej, cenę, lkwarzecha, opakowania",
          "<b>Topic 19</b><br>Words: masła, poprawnym2, lkwarzecha, ceny, albo",
          "<b>Topic 19</b><br>Words: wasz, popieramypmm, sukces, wczoraj, 18",
          "<b>Topic 19</b><br>Words: firarafaa, sumie, im, więc, cena",
          "<b>Topic 19</b><br>Words: masła, powiem, myśli, akurat, niemczech",
          "<b>Topic 19</b><br>Words: masła, kaczyński, cena, mają, morawieckim",
          "<b>Topic 19</b><br>Words: macie, czytam, sklepach, zł, mi",
          "<b>Topic 19</b><br>Words: macie, czytam, sklepach, zł, mi",
          "<b>Topic 19</b><br>Words: masła, tanio, kg, odpowiada, 40",
          "<b>Topic 19</b><br>Words: masła, zł, samo, tyle, niektóre",
          "<b>Topic 19</b><br>Words: masła, piechocinski, cena, albo, zasadniczo",
          "<b>Topic 19</b><br>Words: masła, 12, pan, zł, ceny",
          "<b>Topic 19</b><br>Words: masła, patrząc, taka, już, ceny",
          "<b>Topic 19</b><br>Words: 89, zdrożała, masła, mnie, ekonomiczny",
          "<b>Topic 19</b><br>Words: mojego, tańsze, żyć, ciężko, zł",
          "<b>Topic 19</b><br>Words: masła, serii, dobrego, jedziemy, maja",
          "<b>Topic 19</b><br>Words: naprawdę, wynosi, dzisiaj, ile, zł",
          "<b>Topic 19</b><br>Words: masła, pytam_tylko, kontrola, zl, tej",
          "<b>Topic 19</b><br>Words: masła, wy, cena, bardziej, podrożały"
         ],
         "marker": {
          "color": "#0072B2"
         },
         "mode": "lines",
         "name": "19_masła_albo_cena_sklepie",
         "type": "scatter",
         "x": [
          "2022-09-07T00:00:00",
          "2022-09-08T00:00:00",
          "2022-09-09T00:00:00",
          "2022-09-12T00:00:00",
          "2022-09-13T00:00:00",
          "2022-09-27T00:00:00",
          "2022-09-28T00:00:00",
          "2022-10-09T00:00:00",
          "2022-10-10T00:00:00",
          "2022-10-16T00:00:00",
          "2022-10-19T00:00:00",
          "2022-10-20T00:00:00",
          "2022-10-21T00:00:00",
          "2022-10-24T00:00:00",
          "2022-10-25T00:00:00",
          "2022-10-28T00:00:00",
          "2022-10-31T00:00:00",
          "2022-11-01T00:00:00",
          "2022-11-06T00:00:00",
          "2022-11-07T00:00:00",
          "2022-11-08T00:00:00",
          "2022-11-10T00:00:00",
          "2022-11-12T00:00:00",
          "2022-11-13T00:00:00"
         ],
         "y": [
          5,
          3,
          1,
          1,
          1,
          3,
          1,
          1,
          1,
          1,
          1,
          1,
          1,
          1,
          1,
          3,
          1,
          1,
          3,
          1,
          1,
          1,
          2,
          2
         ]
        },
        {
         "hoverinfo": "text",
         "hovertext": [
          "<b>Topic 20</b><br>Words: ropy, ropę, zyski, kraje, rosji",
          "<b>Topic 20</b><br>Words: ropa, ropy, zapowiedział, kraje, szczesniaka",
          "<b>Topic 20</b><br>Words: ropy, ograniczeń, maksymalne, ropę, zmniejszenia",
          "<b>Topic 20</b><br>Words: ograniczeń, finansów, krajów, media, ropy",
          "<b>Topic 20</b><br>Words: kraje, powodu, ropy, rosji, ceny",
          "<b>Topic 20</b><br>Words: dużym, najmniej, ropy, europy, sierpniu",
          "<b>Topic 20</b><br>Words: polskieradio24, minimalnej, ropę, ceny, ropy",
          "<b>Topic 20</b><br>Words: chin, sprzedają, one, państw, sprzedaje",
          "<b>Topic 20</b><br>Words: prawdopodobnie, dwóch, ropy, ue, cen",
          "<b>Topic 20</b><br>Words: ropy, kraje, pisze, świecie, chcą",
          "<b>Topic 20</b><br>Words: kraje, zysków, praktycznie, eksport, ropy",
          "<b>Topic 20</b><br>Words: opec, ropy, ekonomiczny, usa, ograniczenia",
          "<b>Topic 20</b><br>Words: warunków, władze, kierunku, ropę, miesięcy",
          "<b>Topic 20</b><br>Words: kraje, ropę, ropy, rosji, cena",
          "<b>Topic 20</b><br>Words: usa, zachód, pierwszy, ropy, rosja",
          "<b>Topic 20</b><br>Words: ropy, bloomberg, listopada, 23, cenę",
          "<b>Topic 20</b><br>Words: ropy, listopada, 23, powołując, bloomberg"
         ],
         "marker": {
          "color": "#CC79A7"
         },
         "mode": "lines",
         "name": "20_ropy_ropę_kraje_rosja",
         "type": "scatter",
         "x": [
          "2022-09-02T00:00:00",
          "2022-09-03T00:00:00",
          "2022-09-05T00:00:00",
          "2022-09-06T00:00:00",
          "2022-09-09T00:00:00",
          "2022-09-13T00:00:00",
          "2022-09-26T00:00:00",
          "2022-09-29T00:00:00",
          "2022-10-05T00:00:00",
          "2022-10-08T00:00:00",
          "2022-10-11T00:00:00",
          "2022-10-14T00:00:00",
          "2022-10-27T00:00:00",
          "2022-11-04T00:00:00",
          "2022-11-05T00:00:00",
          "2022-11-18T00:00:00",
          "2022-11-19T00:00:00"
         ],
         "y": [
          5,
          2,
          3,
          2,
          1,
          1,
          1,
          4,
          1,
          1,
          1,
          3,
          1,
          2,
          2,
          3,
          3
         ]
        },
        {
         "hoverinfo": "text",
         "hovertext": [
          "<b>Topic 21</b><br>Words: gorsze, umie, niskich, oszczędzać, większą",
          "<b>Topic 21</b><br>Words: kg, weekend, pomysł, sprzedaży, jeszcze",
          "<b>Topic 21</b><br>Words: 1972tomek, dobrze, chyba, ceny, dla",
          "<b>Topic 21</b><br>Words: dobrych, możesz, rzeczy, produkcji, zrobić",
          "<b>Topic 21</b><br>Words: gierka, 30, samą, kg, dostępny",
          "<b>Topic 21</b><br>Words: mam, gazie, wyższe, ja, więcej",
          "<b>Topic 21</b><br>Words: nieco, drogie, rynek, końcu, może",
          "<b>Topic 21</b><br>Words: drożeje, piechocinski, sklepach, ceny, cena",
          "<b>Topic 21</b><br>Words: branży, faktycznie, sprzedać, piechocinski, grozi",
          "<b>Topic 21</b><br>Words: serii, zawsze, pln, kolejny, cena",
          "<b>Topic 21</b><br>Words: wody, cena, piechocinski, ceny, rynek",
          "<b>Topic 21</b><br>Words: cena, jest, piechocinski, ceny, rynek",
          "<b>Topic 21</b><br>Words: inna, pamiętam, turcji, każdego, dnia",
          "<b>Topic 21</b><br>Words: akcyza, faktycznie, netto, cena, zyski",
          "<b>Topic 21</b><br>Words: mało, rynek, ceny, jest, piechocinski",
          "<b>Topic 21</b><br>Words: piechocinski, rynek, mało, górę, ceny",
          "<b>Topic 21</b><br>Words: mojego, podniosą, jaja, mniejsza, zamykają",
          "<b>Topic 21</b><br>Words: sylwiaspurek, czerpie, ulicy, etc, duży",
          "<b>Topic 21</b><br>Words: nawozów, wzrost, kosztów, produkcji, ktoś",
          "<b>Topic 21</b><br>Words: artykułów, podstawowych, ciekawe, cenami, nich",
          "<b>Topic 21</b><br>Words: dwóch, dobra, cena, dla, piechocinski",
          "<b>Topic 21</b><br>Words: podnieść, wyłącznie, robi, by, tylko",
          "<b>Topic 21</b><br>Words: wpływ, kupują, siebie, 18, wszystko",
          "<b>Topic 21</b><br>Words: właściwie, tańsze, dobra, cukier, wszystko",
          "<b>Topic 21</b><br>Words: zróbcie, wspólnie, jaja, sobie, robią",
          "<b>Topic 21</b><br>Words: poza, sobie, tym, ceny, piechocinski"
         ],
         "marker": {
          "color": "#E69F00"
         },
         "mode": "lines",
         "name": "21_piechocinski_cena_ceny_rynek",
         "type": "scatter",
         "x": [
          "2022-09-04T00:00:00",
          "2022-09-12T00:00:00",
          "2022-09-13T00:00:00",
          "2022-09-14T00:00:00",
          "2022-09-15T00:00:00",
          "2022-09-22T00:00:00",
          "2022-09-24T00:00:00",
          "2022-09-28T00:00:00",
          "2022-09-29T00:00:00",
          "2022-09-30T00:00:00",
          "2022-10-01T00:00:00",
          "2022-10-02T00:00:00",
          "2022-10-10T00:00:00",
          "2022-10-13T00:00:00",
          "2022-10-25T00:00:00",
          "2022-10-26T00:00:00",
          "2022-11-01T00:00:00",
          "2022-11-03T00:00:00",
          "2022-11-07T00:00:00",
          "2022-11-10T00:00:00",
          "2022-11-11T00:00:00",
          "2022-11-13T00:00:00",
          "2022-11-14T00:00:00",
          "2022-11-15T00:00:00",
          "2022-11-16T00:00:00",
          "2022-11-17T00:00:00"
         ],
         "y": [
          1,
          1,
          1,
          1,
          1,
          1,
          1,
          1,
          2,
          1,
          1,
          1,
          1,
          2,
          1,
          2,
          2,
          2,
          1,
          1,
          1,
          1,
          1,
          1,
          1,
          1
         ]
        },
        {
         "hoverinfo": "text",
         "hovertext": [
          "<b>Topic 22</b><br>Words: ile, wpłynie, zmniejsza, chinach, surowce",
          "<b>Topic 22</b><br>Words: stosuje, pl_2050, politykę, koszt, ciągu",
          "<b>Topic 22</b><br>Words: klasy, kompletnie, wydatki, bankructwa, budżetu",
          "<b>Topic 22</b><br>Words: pekao_analizy, bazowej, inflacji, recesji, recesję",
          "<b>Topic 22</b><br>Words: recesję, zdusić, kryzys, czeka, inaczej",
          "<b>Topic 22</b><br>Words: podobnie, dopiero, inflacja, recesji, recesję",
          "<b>Topic 22</b><br>Words: powołując, wynagrodzenia, płaci, poziom, wzrosły",
          "<b>Topic 22</b><br>Words: recesji, recesję, deflacja, grozi, możemy",
          "<b>Topic 22</b><br>Words: recesji, potrzeba, celu, ją, im",
          "<b>Topic 22</b><br>Words: nadchodzi, wciąż, gospodarka, inflacja, recesji",
          "<b>Topic 22</b><br>Words: rządu, wydatki, walczą, tvn24, razem",
          "<b>Topic 22</b><br>Words: pytanie, taki, czy, takie, chyba",
          "<b>Topic 22</b><br>Words: recesji, pekao_analizy, rafalhirsch, usa, niskie",
          "<b>Topic 22</b><br>Words: recesję, dużej, powinniśmy, zapowiada, rynkach",
          "<b>Topic 22</b><br>Words: pl_2050, budżetowe, pieniądze, dochody, realne",
          "<b>Topic 22</b><br>Words: budżetowe, dochody, realne, lbalcerowicz, wysokiej",
          "<b>Topic 22</b><br>Words: kwartałów, recesji, ciągle, kilku, chcę",
          "<b>Topic 22</b><br>Words: recesji, lepszy, spowoduje, takiej, mało",
          "<b>Topic 22</b><br>Words: konsekwencjami, recesję, wrócić, proc, gdybyśmy",
          "<b>Topic 22</b><br>Words: budżetowe, dochody, realne, lbalcerowicz, wysokiej",
          "<b>Topic 22</b><br>Words: wydatków, wręcz, długu, budżetu, procentowych",
          "<b>Topic 22</b><br>Words: recesji, ryzyko, mojej, prof, wysoką"
         ],
         "marker": {
          "color": "#56B4E9"
         },
         "mode": "lines",
         "name": "22_recesji_recesję_kwartałów_budżetowe",
         "type": "scatter",
         "x": [
          "2022-09-05T00:00:00",
          "2022-09-08T00:00:00",
          "2022-09-10T00:00:00",
          "2022-09-14T00:00:00",
          "2022-09-21T00:00:00",
          "2022-10-03T00:00:00",
          "2022-10-04T00:00:00",
          "2022-10-06T00:00:00",
          "2022-10-18T00:00:00",
          "2022-10-25T00:00:00",
          "2022-10-28T00:00:00",
          "2022-10-31T00:00:00",
          "2022-11-02T00:00:00",
          "2022-11-03T00:00:00",
          "2022-11-04T00:00:00",
          "2022-11-05T00:00:00",
          "2022-11-07T00:00:00",
          "2022-11-09T00:00:00",
          "2022-11-10T00:00:00",
          "2022-11-12T00:00:00",
          "2022-11-13T00:00:00",
          "2022-11-16T00:00:00"
         ],
         "y": [
          1,
          2,
          2,
          1,
          1,
          1,
          1,
          2,
          1,
          1,
          1,
          1,
          1,
          2,
          3,
          1,
          3,
          1,
          1,
          1,
          1,
          1
         ]
        },
        {
         "hoverinfo": "text",
         "hovertext": [
          "<b>Topic 23</b><br>Words: śladu, węglowego, ile, rmf24pl, mówiąc",
          "<b>Topic 23</b><br>Words: jakiś, mieli, my, tam, przy",
          "<b>Topic 23</b><br>Words: ewaltylkopytam, węglowy, jaki, mógł, ciekawe",
          "<b>Topic 23</b><br>Words: jaki, węglowy, ktoś, czy, śladu",
          "<b>Topic 23</b><br>Words: sylwiaspurek, pani, pokazać, węglowy, jaki",
          "<b>Topic 23</b><br>Words: wychodzi, były, kilka, czym, gdyby",
          "<b>Topic 23</b><br>Words: małe, węglowy, 40, śladu, jaki",
          "<b>Topic 23</b><br>Words: sylwiaspurek, śladu, ponownie, węglowego, góry",
          "<b>Topic 23</b><br>Words: sylwiaspurek, śladu, ponownie, węglowego, celu",
          "<b>Topic 23</b><br>Words: węglowy, sobie, śladu, jaki, węglowego",
          "<b>Topic 23</b><br>Words: węglowy, my, jaki, chcemy, jakieś",
          "<b>Topic 23</b><br>Words: linia, zmniejszyć, węglowy, kiedyś, taka",
          "<b>Topic 23</b><br>Words: śladu, węglowego, ni, wtedy, oni",
          "<b>Topic 23</b><br>Words: sposoby, zmniejszenia, szczyt, emisji, ponad",
          "<b>Topic 23</b><br>Words: węglowy, jaki, szczyt, śladu, wielki",
          "<b>Topic 23</b><br>Words: węglowy, szczyt, jaki, jednego, gosc_radiazet",
          "<b>Topic 23</b><br>Words: zmniejszyć, in, węglowy, śladu, jaki",
          "<b>Topic 23</b><br>Words: węglowy, tzw, jaki, jakubwiech, dlatego",
          "<b>Topic 23</b><br>Words: generują, duży, węglowy, jednego, bardziej",
          "<b>Topic 23</b><br>Words: oczach, daje, gazem, węglowy, śladu"
         ],
         "marker": {
          "color": "#009E73"
         },
         "mode": "lines",
         "name": "23_węglowy_śladu_jaki_węglowego",
         "type": "scatter",
         "x": [
          "2022-09-08T00:00:00",
          "2022-09-17T00:00:00",
          "2022-09-18T00:00:00",
          "2022-09-19T00:00:00",
          "2022-10-03T00:00:00",
          "2022-10-11T00:00:00",
          "2022-10-13T00:00:00",
          "2022-10-16T00:00:00",
          "2022-10-17T00:00:00",
          "2022-10-18T00:00:00",
          "2022-10-20T00:00:00",
          "2022-10-25T00:00:00",
          "2022-11-02T00:00:00",
          "2022-11-04T00:00:00",
          "2022-11-09T00:00:00",
          "2022-11-11T00:00:00",
          "2022-11-12T00:00:00",
          "2022-11-15T00:00:00",
          "2022-11-17T00:00:00",
          "2022-11-18T00:00:00"
         ],
         "y": [
          2,
          1,
          1,
          1,
          1,
          1,
          1,
          1,
          1,
          1,
          1,
          1,
          1,
          2,
          6,
          2,
          1,
          1,
          1,
          1
         ]
        },
        {
         "hoverinfo": "text",
         "hovertext": [
          "<b>Topic 24</b><br>Words: stopa, spada, pytam_tylko, 15, ok",
          "<b>Topic 24</b><br>Words: glapiński, niższa, sama, wyższa, inflacja",
          "<b>Topic 24</b><br>Words: recesji, glapińskiego, spokojnie, możemy, gospodarka",
          "<b>Topic 24</b><br>Words: glapiński, wakacje, szczyt, spadać, zacznie",
          "<b>Topic 24</b><br>Words: glapiński, pytam_tylko, spadnie, okres, punkt",
          "<b>Topic 24</b><br>Words: glapiński, zacznie, wysoką, która, 2022",
          "<b>Topic 24</b><br>Words: finansów, powinna, koniec, minister, dalej",
          "<b>Topic 24</b><br>Words: glapiński, spadnie, dodać, zapomniał, wakacje",
          "<b>Topic 24</b><br>Words: glapiński, spadnie, według, inflacja, przed",
          "<b>Topic 24</b><br>Words: glapiński, powiedział, kiedy, będzie, inflacja"
         ],
         "marker": {
          "color": "#F0E442"
         },
         "mode": "lines",
         "name": "24_glapiński_spadnie_inflacja_wakacje",
         "type": "scatter",
         "x": [
          "2022-09-07T00:00:00",
          "2022-09-08T00:00:00",
          "2022-09-09T00:00:00",
          "2022-09-30T00:00:00",
          "2022-10-01T00:00:00",
          "2022-10-14T00:00:00",
          "2022-10-27T00:00:00",
          "2022-10-31T00:00:00",
          "2022-11-01T00:00:00",
          "2022-11-10T00:00:00"
         ],
         "y": [
          2,
          4,
          1,
          3,
          3,
          1,
          1,
          8,
          3,
          1
         ]
        },
        {
         "hoverinfo": "text",
         "hovertext": [
          "<b>Topic 25</b><br>Words: wysokie, zastanawia, sklepu, powodem, przyczyną",
          "<b>Topic 25</b><br>Words: podwyżka, zostanie, 1972tomek, wyższe, ceny",
          "<b>Topic 25</b><br>Words: wszystkiego, kosmos, tez, jakiś, je",
          "<b>Topic 25</b><br>Words: zdrożało, nowym, rok, gus, ceny",
          "<b>Topic 25</b><br>Words: miejscu, tez, inflacje, lkwarzecha, ceny",
          "<b>Topic 25</b><br>Words: sklepie, dobre, ceny, są, tak",
          "<b>Topic 25</b><br>Words: podnieść, min, 50, czyli, ceny",
          "<b>Topic 25</b><br>Words: chwilę, jakie, mieć, cen, będzie",
          "<b>Topic 25</b><br>Words: leszczyna, sprawie, nikt, tych, go",
          "<b>Topic 25</b><br>Words: sprawdź, 99, zanim, wszystkiego, będę",
          "<b>Topic 25</b><br>Words: rosną, skupu, płace, ceny, samego",
          "<b>Topic 25</b><br>Words: rosnących, chwilę, powodu, dzięki, te",
          "<b>Topic 25</b><br>Words: stosuje, zjada, jedyne, cenach, itd",
          "<b>Topic 25</b><br>Words: skupu, ubiegłym, miesiącu, 2022, średnia",
          "<b>Topic 25</b><br>Words: roku, 2021, wynosiła, kg, rosną",
          "<b>Topic 25</b><br>Words: proc, 33, podaje, średnia, cukru",
          "<b>Topic 25</b><br>Words: przykład, produktów, 40, 50, granicach",
          "<b>Topic 25</b><br>Words: gus, tezę, podrożały, 30, podaje",
          "<b>Topic 25</b><br>Words: nich, prywatne, jakaś, niższe, część",
          "<b>Topic 25</b><br>Words: październiku, średnia, średnio, 2021, zł"
         ],
         "marker": {
          "color": "#D55E00"
         },
         "mode": "lines",
         "name": "25_ceny_gus_zdrożało_średnia",
         "type": "scatter",
         "x": [
          "2022-09-03T00:00:00",
          "2022-09-23T00:00:00",
          "2022-09-24T00:00:00",
          "2022-09-25T00:00:00",
          "2022-09-27T00:00:00",
          "2022-09-30T00:00:00",
          "2022-10-07T00:00:00",
          "2022-10-09T00:00:00",
          "2022-10-13T00:00:00",
          "2022-10-14T00:00:00",
          "2022-10-15T00:00:00",
          "2022-10-16T00:00:00",
          "2022-10-17T00:00:00",
          "2022-10-24T00:00:00",
          "2022-10-25T00:00:00",
          "2022-10-27T00:00:00",
          "2022-10-29T00:00:00",
          "2022-11-06T00:00:00",
          "2022-11-11T00:00:00",
          "2022-11-13T00:00:00"
         ],
         "y": [
          1,
          1,
          1,
          5,
          1,
          1,
          1,
          1,
          1,
          1,
          1,
          1,
          1,
          1,
          2,
          1,
          2,
          1,
          1,
          1
         ]
        },
        {
         "hoverinfo": "text",
         "hovertext": [
          "<b>Topic 26</b><br>Words: viii, poprzednio, prognoza, cpi, inflacja",
          "<b>Topic 26</b><br>Words: akurat, unii, całej, lata, im",
          "<b>Topic 26</b><br>Words: wzrostem, inflacje, mimo, jej, wynosi",
          "<b>Topic 26</b><br>Words: mówisz, kurs, pomimo, znacznie, najwyższa",
          "<b>Topic 26</b><br>Words: wynosi, zrobi, morawieckiego, niech, proc",
          "<b>Topic 26</b><br>Words: 1972tomek, wynosi, zrobi, morawieckiego, niech",
          "<b>Topic 26</b><br>Words: przyjąć, 1972tomek, wynosi, inflacja, wojną",
          "<b>Topic 26</b><br>Words: generują, autolikos1, walczy, same, rządy",
          "<b>Topic 26</b><br>Words: wszędzie, poprzednio, prognoza, cpi, inflacja",
          "<b>Topic 26</b><br>Words: proc, spadła, sierpniu, wrześniu, we",
          "<b>Topic 26</b><br>Words: stopa, jaka, inflacji, jest, inflacja",
          "<b>Topic 26</b><br>Words: 25, poprzednio, prognoza, 24, we",
          "<b>Topic 26</b><br>Words: cpi, energetyczny, poprzednio, macronextcom, kryzys",
          "<b>Topic 26</b><br>Words: btw, spadła, macie, zimę, też",
          "<b>Topic 26</b><br>Words: wzrost, wzrostem, mld, pierwsze, część"
         ],
         "marker": {
          "color": "#0072B2"
         },
         "mode": "lines",
         "name": "26_inflacja_poprzednio_proc_wynosi",
         "type": "scatter",
         "x": [
          "2022-09-01T00:00:00",
          "2022-09-07T00:00:00",
          "2022-09-14T00:00:00",
          "2022-09-16T00:00:00",
          "2022-09-21T00:00:00",
          "2022-09-22T00:00:00",
          "2022-10-01T00:00:00",
          "2022-10-02T00:00:00",
          "2022-10-03T00:00:00",
          "2022-10-11T00:00:00",
          "2022-10-16T00:00:00",
          "2022-10-17T00:00:00",
          "2022-11-03T00:00:00",
          "2022-11-04T00:00:00",
          "2022-11-07T00:00:00"
         ],
         "y": [
          1,
          1,
          2,
          1,
          2,
          1,
          5,
          1,
          3,
          2,
          1,
          1,
          2,
          1,
          1
         ]
        },
        {
         "hoverinfo": "text",
         "hovertext": [
          "<b>Topic 27</b><br>Words: między, miał, prąd, jaka, końca",
          "<b>Topic 27</b><br>Words: jaka, między, prąd, był, węgiel",
          "<b>Topic 27</b><br>Words: miał, prąd, czym, żart, polski",
          "<b>Topic 27</b><br>Words: bbudka, prąd, był, kiedy, węgiel",
          "<b>Topic 27</b><br>Words: jaka, momencie, miał, prąd, kiedy",
          "<b>Topic 27</b><br>Words: jaka, momencie, miał, prąd, kiedy",
          "<b>Topic 27</b><br>Words: żart, jaka, między, miał, prąd",
          "<b>Topic 27</b><br>Words: żart, jaka, między, miał, prąd",
          "<b>Topic 27</b><br>Words: jaka, między, samego, końca, efekt",
          "<b>Topic 27</b><br>Words: chociaż, mieli, węgiel, prąd, miał",
          "<b>Topic 27</b><br>Words: katastrofy, prąd, końca, rządy, czym",
          "<b>Topic 27</b><br>Words: miał, jaka, między, prąd, mariorebeliant",
          "<b>Topic 27</b><br>Words: jaka, między, miał, prąd, wiecie",
          "<b>Topic 27</b><br>Words: prąd, czymś, wodę, mając, władzy",
          "<b>Topic 27</b><br>Words: między, końca, prąd, taka, był"
         ],
         "marker": {
          "color": "#CC79A7"
         },
         "mode": "lines",
         "name": "27_prąd_miał_jaka_między",
         "type": "scatter",
         "x": [
          "2022-09-15T00:00:00",
          "2022-09-27T00:00:00",
          "2022-09-29T00:00:00",
          "2022-09-30T00:00:00",
          "2022-10-02T00:00:00",
          "2022-10-03T00:00:00",
          "2022-10-14T00:00:00",
          "2022-10-15T00:00:00",
          "2022-10-16T00:00:00",
          "2022-10-20T00:00:00",
          "2022-10-24T00:00:00",
          "2022-10-25T00:00:00",
          "2022-10-27T00:00:00",
          "2022-11-14T00:00:00",
          "2022-11-15T00:00:00"
         ],
         "y": [
          2,
          1,
          3,
          1,
          3,
          1,
          1,
          1,
          1,
          1,
          1,
          2,
          1,
          1,
          3
         ]
        },
        {
         "hoverinfo": "text",
         "hovertext": [
          "<b>Topic 28</b><br>Words: niż, ten, koszty, jest, węgla",
          "<b>Topic 28</b><br>Words: koszty, stosuje, sprawdzić, możesz, szybciej",
          "<b>Topic 28</b><br>Words: koszty, ceny, no, stosuje, razy",
          "<b>Topic 28</b><br>Words: koszty, ceny, no, stosuje, razy",
          "<b>Topic 28</b><br>Words: koszty, lepiej, wszyscy, takie, tu",
          "<b>Topic 28</b><br>Words: koszty, razy, oczywiscie, wiecej, no"
         ],
         "marker": {
          "color": "#E69F00"
         },
         "mode": "lines",
         "name": "28_koszty_ceny_no_stosuje",
         "type": "scatter",
         "x": [
          "2022-09-23T00:00:00",
          "2022-10-16T00:00:00",
          "2022-10-22T00:00:00",
          "2022-10-23T00:00:00",
          "2022-10-27T00:00:00",
          "2022-11-04T00:00:00"
         ],
         "y": [
          1,
          1,
          13,
          5,
          1,
          1
         ]
        },
        {
         "hoverinfo": "text",
         "hovertext": [
          "<b>Topic 29</b><br>Words: powodem, 20, ludzi, energii, ceny",
          "<b>Topic 29</b><br>Words: powodem, 20, ludzi, energii, ceny"
         ],
         "marker": {
          "color": "#56B4E9"
         },
         "mode": "lines",
         "name": "29_powodem_20_ludzi_energii",
         "type": "scatter",
         "x": [
          "2022-10-10T00:00:00",
          "2022-10-11T00:00:00"
         ],
         "y": [
          16,
          3
         ]
        },
        {
         "hoverinfo": "text",
         "hovertext": [
          "<b>Topic 30</b><br>Words: czymś, groszy, złe, parę, podnieść",
          "<b>Topic 30</b><br>Words: wzrosnąć, zmienić, żyć, wkrótce, 35",
          "<b>Topic 30</b><br>Words: wyborcza, branży, 40, koszty, wzrosły",
          "<b>Topic 30</b><br>Words: drożej, widać, także, dwa, razy",
          "<b>Topic 30</b><br>Words: pójdzie, temu, kupuję, zł, długo",
          "<b>Topic 30</b><br>Words: najlepsze, jakaś, problemu, cenami, usa",
          "<b>Topic 30</b><br>Words: ogromne, jednej, przy, ze, cen",
          "<b>Topic 30</b><br>Words: duże, 40, stać, wysokie, ludzi",
          "<b>Topic 30</b><br>Words: największą, podwyżkę, znacznie, wyższe, temu",
          "<b>Topic 30</b><br>Words: zamówić, roku, pisjestzadrogi, stał, własnych",
          "<b>Topic 30</b><br>Words: kedzierskimarc, tezę, oko, wyborcza, wśród"
         ],
         "marker": {
          "color": "#009E73"
         },
         "mode": "lines",
         "name": "30_największą_podwyżkę_temu_znacznie",
         "type": "scatter",
         "x": [
          "2022-09-19T00:00:00",
          "2022-10-14T00:00:00",
          "2022-10-18T00:00:00",
          "2022-10-20T00:00:00",
          "2022-10-23T00:00:00",
          "2022-10-28T00:00:00",
          "2022-10-29T00:00:00",
          "2022-10-30T00:00:00",
          "2022-10-31T00:00:00",
          "2022-11-01T00:00:00",
          "2022-11-02T00:00:00"
         ],
         "y": [
          1,
          1,
          2,
          1,
          1,
          1,
          1,
          1,
          3,
          4,
          2
         ]
        },
        {
         "hoverinfo": "text",
         "hovertext": [
          "<b>Topic 31</b><br>Words: coolfonpl, robi, pieniądza, bardziej, bardzo",
          "<b>Topic 31</b><br>Words: coolfonpl, robi, inflacja, pieniądza, bardziej",
          "<b>Topic 31</b><br>Words: coolfonpl, robi, inflacja, pieniądza, bardziej"
         ],
         "marker": {
          "color": "#F0E442"
         },
         "mode": "lines",
         "name": "31_coolfonpl_robi_inflacja_pieniądza",
         "type": "scatter",
         "x": [
          "2022-09-30T00:00:00",
          "2022-10-13T00:00:00",
          "2022-10-14T00:00:00"
         ],
         "y": [
          1,
          13,
          1
         ]
        },
        {
         "hoverinfo": "text",
         "hovertext": [
          "<b>Topic 32</b><br>Words: zwiększy, pewien, zaczną, popyt, magazyny",
          "<b>Topic 32</b><br>Words: fakt, chociaż, wiadomo, chodzi, cena",
          "<b>Topic 32</b><br>Words: moment, drogie, zostaną, tę, powodu",
          "<b>Topic 32</b><br>Words: poprawnym2, mojej, ps, przypadku, latach",
          "<b>Topic 32</b><br>Words: pójść, kierunku, osoby, małych, powinno",
          "<b>Topic 32</b><br>Words: 150, świata, wysoka, tys, nawet",
          "<b>Topic 32</b><br>Words: kierunek, 120, mały, powinien, pln",
          "<b>Topic 32</b><br>Words: było, sprzed, podczas, sprzedaży, ta",
          "<b>Topic 32</b><br>Words: auta, zanim, sa, zrobić, swoje",
          "<b>Topic 32</b><br>Words: lkwarzecha, zdrożała, zdrożało, głupia, gdyż",
          "<b>Topic 32</b><br>Words: czerpie, nowego, informacje, źródeł, porównaniu",
          "<b>Topic 32</b><br>Words: poszły, próbuje, 35, góry, raczej",
          "<b>Topic 32</b><br>Words: wzrósł, rosnących, jednego, rachunek, juz",
          "<b>Topic 32</b><br>Words: czaroit1, jazda, generalnie, nowego, kupi"
         ],
         "marker": {
          "color": "#D55E00"
         },
         "mode": "lines",
         "name": "32_cena_latach_nowego_30",
         "type": "scatter",
         "x": [
          "2022-09-15T00:00:00",
          "2022-09-17T00:00:00",
          "2022-09-19T00:00:00",
          "2022-09-24T00:00:00",
          "2022-09-26T00:00:00",
          "2022-10-12T00:00:00",
          "2022-10-26T00:00:00",
          "2022-10-29T00:00:00",
          "2022-10-30T00:00:00",
          "2022-11-01T00:00:00",
          "2022-11-02T00:00:00",
          "2022-11-03T00:00:00",
          "2022-11-04T00:00:00",
          "2022-11-10T00:00:00"
         ],
         "y": [
          1,
          1,
          1,
          1,
          1,
          1,
          1,
          1,
          1,
          2,
          1,
          1,
          1,
          1
         ]
        },
        {
         "hoverinfo": "text",
         "hovertext": [
          "<b>Topic 33</b><br>Words: stać, będzie, ceny, groszy, kg",
          "<b>Topic 33</b><br>Words: groszy, kg, takim, piechocinski, razie",
          "<b>Topic 33</b><br>Words: 5zł, twoja, zeszłym, możesz, skutek",
          "<b>Topic 33</b><br>Words: skupu, wzrosną, sklepie, piechocinski, stanie",
          "<b>Topic 33</b><br>Words: tańsze, byłem, sklepach, inne, 60",
          "<b>Topic 33</b><br>Words: skupu, dzieci, spadła, zakup, wojnę",
          "<b>Topic 33</b><br>Words: płaca, kosztów, pana, tych, ceny",
          "<b>Topic 33</b><br>Words: groszy, podaje, płacą, 45, natomiast",
          "<b>Topic 33</b><br>Words: groszy, płacą, poniżej, 80, 70",
          "<b>Topic 33</b><br>Words: granicach, kg, 35, one, wyższe",
          "<b>Topic 33</b><br>Words: kosztów, 50, proc, 2022, nawet",
          "<b>Topic 33</b><br>Words: kg, podwyżka, dla, zł, cen",
          "<b>Topic 33</b><br>Words: maksymalne, 35, kończy, sprzedaż, jaka"
         ],
         "marker": {
          "color": "#0072B2"
         },
         "mode": "lines",
         "name": "33_groszy_ceny_kg_skupu",
         "type": "scatter",
         "x": [
          "2022-09-08T00:00:00",
          "2022-09-24T00:00:00",
          "2022-09-25T00:00:00",
          "2022-09-26T00:00:00",
          "2022-10-06T00:00:00",
          "2022-10-21T00:00:00",
          "2022-10-23T00:00:00",
          "2022-10-26T00:00:00",
          "2022-11-02T00:00:00",
          "2022-11-06T00:00:00",
          "2022-11-10T00:00:00",
          "2022-11-12T00:00:00",
          "2022-11-14T00:00:00"
         ],
         "y": [
          1,
          1,
          1,
          1,
          1,
          1,
          1,
          1,
          1,
          1,
          1,
          1,
          1
         ]
        },
        {
         "hoverinfo": "text",
         "hovertext": [
          "<b>Topic 34</b><br>Words: weekend, czy, uwagę, zaraz, znowu",
          "<b>Topic 34</b><br>Words: czekam, węglowy, też, czy, ten",
          "<b>Topic 34</b><br>Words: czy, już, węgiel, jest, weekend",
          "<b>Topic 34</b><br>Words: czy, już, węgiel, jest, weekend"
         ],
         "marker": {
          "color": "#CC79A7"
         },
         "mode": "lines",
         "name": "34_czy_już_węgiel_jest",
         "type": "scatter",
         "x": [
          "2022-09-05T00:00:00",
          "2022-09-14T00:00:00",
          "2022-11-14T00:00:00",
          "2022-11-15T00:00:00"
         ],
         "y": [
          1,
          1,
          8,
          2
         ]
        },
        {
         "hoverinfo": "text",
         "hovertext": [
          "<b>Topic 35</b><br>Words: kobiety, czasy, węgla, , ",
          "<b>Topic 35</b><br>Words: kobiety, czasy, węgla, , "
         ],
         "marker": {
          "color": "#E69F00"
         },
         "mode": "lines",
         "name": "35_kobiety_czasy_węgla_",
         "type": "scatter",
         "x": [
          "2022-09-11T00:00:00",
          "2022-09-12T00:00:00"
         ],
         "y": [
          9,
          2
         ]
        }
       ],
       "layout": {
        "height": 450,
        "hoverlabel": {
         "bgcolor": "white",
         "font": {
          "family": "Rockwell",
          "size": 16
         }
        },
        "legend": {
         "title": {
          "text": "<b>Global Topic Representation"
         }
        },
        "template": {
         "data": {
          "bar": [
           {
            "error_x": {
             "color": "rgb(36,36,36)"
            },
            "error_y": {
             "color": "rgb(36,36,36)"
            },
            "marker": {
             "line": {
              "color": "white",
              "width": 0.5
             },
             "pattern": {
              "fillmode": "overlay",
              "size": 10,
              "solidity": 0.2
             }
            },
            "type": "bar"
           }
          ],
          "barpolar": [
           {
            "marker": {
             "line": {
              "color": "white",
              "width": 0.5
             },
             "pattern": {
              "fillmode": "overlay",
              "size": 10,
              "solidity": 0.2
             }
            },
            "type": "barpolar"
           }
          ],
          "carpet": [
           {
            "aaxis": {
             "endlinecolor": "rgb(36,36,36)",
             "gridcolor": "white",
             "linecolor": "white",
             "minorgridcolor": "white",
             "startlinecolor": "rgb(36,36,36)"
            },
            "baxis": {
             "endlinecolor": "rgb(36,36,36)",
             "gridcolor": "white",
             "linecolor": "white",
             "minorgridcolor": "white",
             "startlinecolor": "rgb(36,36,36)"
            },
            "type": "carpet"
           }
          ],
          "choropleth": [
           {
            "colorbar": {
             "outlinewidth": 1,
             "tickcolor": "rgb(36,36,36)",
             "ticks": "outside"
            },
            "type": "choropleth"
           }
          ],
          "contour": [
           {
            "colorbar": {
             "outlinewidth": 1,
             "tickcolor": "rgb(36,36,36)",
             "ticks": "outside"
            },
            "colorscale": [
             [
              0,
              "#440154"
             ],
             [
              0.1111111111111111,
              "#482878"
             ],
             [
              0.2222222222222222,
              "#3e4989"
             ],
             [
              0.3333333333333333,
              "#31688e"
             ],
             [
              0.4444444444444444,
              "#26828e"
             ],
             [
              0.5555555555555556,
              "#1f9e89"
             ],
             [
              0.6666666666666666,
              "#35b779"
             ],
             [
              0.7777777777777778,
              "#6ece58"
             ],
             [
              0.8888888888888888,
              "#b5de2b"
             ],
             [
              1,
              "#fde725"
             ]
            ],
            "type": "contour"
           }
          ],
          "contourcarpet": [
           {
            "colorbar": {
             "outlinewidth": 1,
             "tickcolor": "rgb(36,36,36)",
             "ticks": "outside"
            },
            "type": "contourcarpet"
           }
          ],
          "heatmap": [
           {
            "colorbar": {
             "outlinewidth": 1,
             "tickcolor": "rgb(36,36,36)",
             "ticks": "outside"
            },
            "colorscale": [
             [
              0,
              "#440154"
             ],
             [
              0.1111111111111111,
              "#482878"
             ],
             [
              0.2222222222222222,
              "#3e4989"
             ],
             [
              0.3333333333333333,
              "#31688e"
             ],
             [
              0.4444444444444444,
              "#26828e"
             ],
             [
              0.5555555555555556,
              "#1f9e89"
             ],
             [
              0.6666666666666666,
              "#35b779"
             ],
             [
              0.7777777777777778,
              "#6ece58"
             ],
             [
              0.8888888888888888,
              "#b5de2b"
             ],
             [
              1,
              "#fde725"
             ]
            ],
            "type": "heatmap"
           }
          ],
          "heatmapgl": [
           {
            "colorbar": {
             "outlinewidth": 1,
             "tickcolor": "rgb(36,36,36)",
             "ticks": "outside"
            },
            "colorscale": [
             [
              0,
              "#440154"
             ],
             [
              0.1111111111111111,
              "#482878"
             ],
             [
              0.2222222222222222,
              "#3e4989"
             ],
             [
              0.3333333333333333,
              "#31688e"
             ],
             [
              0.4444444444444444,
              "#26828e"
             ],
             [
              0.5555555555555556,
              "#1f9e89"
             ],
             [
              0.6666666666666666,
              "#35b779"
             ],
             [
              0.7777777777777778,
              "#6ece58"
             ],
             [
              0.8888888888888888,
              "#b5de2b"
             ],
             [
              1,
              "#fde725"
             ]
            ],
            "type": "heatmapgl"
           }
          ],
          "histogram": [
           {
            "marker": {
             "line": {
              "color": "white",
              "width": 0.6
             }
            },
            "type": "histogram"
           }
          ],
          "histogram2d": [
           {
            "colorbar": {
             "outlinewidth": 1,
             "tickcolor": "rgb(36,36,36)",
             "ticks": "outside"
            },
            "colorscale": [
             [
              0,
              "#440154"
             ],
             [
              0.1111111111111111,
              "#482878"
             ],
             [
              0.2222222222222222,
              "#3e4989"
             ],
             [
              0.3333333333333333,
              "#31688e"
             ],
             [
              0.4444444444444444,
              "#26828e"
             ],
             [
              0.5555555555555556,
              "#1f9e89"
             ],
             [
              0.6666666666666666,
              "#35b779"
             ],
             [
              0.7777777777777778,
              "#6ece58"
             ],
             [
              0.8888888888888888,
              "#b5de2b"
             ],
             [
              1,
              "#fde725"
             ]
            ],
            "type": "histogram2d"
           }
          ],
          "histogram2dcontour": [
           {
            "colorbar": {
             "outlinewidth": 1,
             "tickcolor": "rgb(36,36,36)",
             "ticks": "outside"
            },
            "colorscale": [
             [
              0,
              "#440154"
             ],
             [
              0.1111111111111111,
              "#482878"
             ],
             [
              0.2222222222222222,
              "#3e4989"
             ],
             [
              0.3333333333333333,
              "#31688e"
             ],
             [
              0.4444444444444444,
              "#26828e"
             ],
             [
              0.5555555555555556,
              "#1f9e89"
             ],
             [
              0.6666666666666666,
              "#35b779"
             ],
             [
              0.7777777777777778,
              "#6ece58"
             ],
             [
              0.8888888888888888,
              "#b5de2b"
             ],
             [
              1,
              "#fde725"
             ]
            ],
            "type": "histogram2dcontour"
           }
          ],
          "mesh3d": [
           {
            "colorbar": {
             "outlinewidth": 1,
             "tickcolor": "rgb(36,36,36)",
             "ticks": "outside"
            },
            "type": "mesh3d"
           }
          ],
          "parcoords": [
           {
            "line": {
             "colorbar": {
              "outlinewidth": 1,
              "tickcolor": "rgb(36,36,36)",
              "ticks": "outside"
             }
            },
            "type": "parcoords"
           }
          ],
          "pie": [
           {
            "automargin": true,
            "type": "pie"
           }
          ],
          "scatter": [
           {
            "fillpattern": {
             "fillmode": "overlay",
             "size": 10,
             "solidity": 0.2
            },
            "type": "scatter"
           }
          ],
          "scatter3d": [
           {
            "line": {
             "colorbar": {
              "outlinewidth": 1,
              "tickcolor": "rgb(36,36,36)",
              "ticks": "outside"
             }
            },
            "marker": {
             "colorbar": {
              "outlinewidth": 1,
              "tickcolor": "rgb(36,36,36)",
              "ticks": "outside"
             }
            },
            "type": "scatter3d"
           }
          ],
          "scattercarpet": [
           {
            "marker": {
             "colorbar": {
              "outlinewidth": 1,
              "tickcolor": "rgb(36,36,36)",
              "ticks": "outside"
             }
            },
            "type": "scattercarpet"
           }
          ],
          "scattergeo": [
           {
            "marker": {
             "colorbar": {
              "outlinewidth": 1,
              "tickcolor": "rgb(36,36,36)",
              "ticks": "outside"
             }
            },
            "type": "scattergeo"
           }
          ],
          "scattergl": [
           {
            "marker": {
             "colorbar": {
              "outlinewidth": 1,
              "tickcolor": "rgb(36,36,36)",
              "ticks": "outside"
             }
            },
            "type": "scattergl"
           }
          ],
          "scattermapbox": [
           {
            "marker": {
             "colorbar": {
              "outlinewidth": 1,
              "tickcolor": "rgb(36,36,36)",
              "ticks": "outside"
             }
            },
            "type": "scattermapbox"
           }
          ],
          "scatterpolar": [
           {
            "marker": {
             "colorbar": {
              "outlinewidth": 1,
              "tickcolor": "rgb(36,36,36)",
              "ticks": "outside"
             }
            },
            "type": "scatterpolar"
           }
          ],
          "scatterpolargl": [
           {
            "marker": {
             "colorbar": {
              "outlinewidth": 1,
              "tickcolor": "rgb(36,36,36)",
              "ticks": "outside"
             }
            },
            "type": "scatterpolargl"
           }
          ],
          "scatterternary": [
           {
            "marker": {
             "colorbar": {
              "outlinewidth": 1,
              "tickcolor": "rgb(36,36,36)",
              "ticks": "outside"
             }
            },
            "type": "scatterternary"
           }
          ],
          "surface": [
           {
            "colorbar": {
             "outlinewidth": 1,
             "tickcolor": "rgb(36,36,36)",
             "ticks": "outside"
            },
            "colorscale": [
             [
              0,
              "#440154"
             ],
             [
              0.1111111111111111,
              "#482878"
             ],
             [
              0.2222222222222222,
              "#3e4989"
             ],
             [
              0.3333333333333333,
              "#31688e"
             ],
             [
              0.4444444444444444,
              "#26828e"
             ],
             [
              0.5555555555555556,
              "#1f9e89"
             ],
             [
              0.6666666666666666,
              "#35b779"
             ],
             [
              0.7777777777777778,
              "#6ece58"
             ],
             [
              0.8888888888888888,
              "#b5de2b"
             ],
             [
              1,
              "#fde725"
             ]
            ],
            "type": "surface"
           }
          ],
          "table": [
           {
            "cells": {
             "fill": {
              "color": "rgb(237,237,237)"
             },
             "line": {
              "color": "white"
             }
            },
            "header": {
             "fill": {
              "color": "rgb(217,217,217)"
             },
             "line": {
              "color": "white"
             }
            },
            "type": "table"
           }
          ]
         },
         "layout": {
          "annotationdefaults": {
           "arrowhead": 0,
           "arrowwidth": 1
          },
          "autotypenumbers": "strict",
          "coloraxis": {
           "colorbar": {
            "outlinewidth": 1,
            "tickcolor": "rgb(36,36,36)",
            "ticks": "outside"
           }
          },
          "colorscale": {
           "diverging": [
            [
             0,
             "rgb(103,0,31)"
            ],
            [
             0.1,
             "rgb(178,24,43)"
            ],
            [
             0.2,
             "rgb(214,96,77)"
            ],
            [
             0.3,
             "rgb(244,165,130)"
            ],
            [
             0.4,
             "rgb(253,219,199)"
            ],
            [
             0.5,
             "rgb(247,247,247)"
            ],
            [
             0.6,
             "rgb(209,229,240)"
            ],
            [
             0.7,
             "rgb(146,197,222)"
            ],
            [
             0.8,
             "rgb(67,147,195)"
            ],
            [
             0.9,
             "rgb(33,102,172)"
            ],
            [
             1,
             "rgb(5,48,97)"
            ]
           ],
           "sequential": [
            [
             0,
             "#440154"
            ],
            [
             0.1111111111111111,
             "#482878"
            ],
            [
             0.2222222222222222,
             "#3e4989"
            ],
            [
             0.3333333333333333,
             "#31688e"
            ],
            [
             0.4444444444444444,
             "#26828e"
            ],
            [
             0.5555555555555556,
             "#1f9e89"
            ],
            [
             0.6666666666666666,
             "#35b779"
            ],
            [
             0.7777777777777778,
             "#6ece58"
            ],
            [
             0.8888888888888888,
             "#b5de2b"
            ],
            [
             1,
             "#fde725"
            ]
           ],
           "sequentialminus": [
            [
             0,
             "#440154"
            ],
            [
             0.1111111111111111,
             "#482878"
            ],
            [
             0.2222222222222222,
             "#3e4989"
            ],
            [
             0.3333333333333333,
             "#31688e"
            ],
            [
             0.4444444444444444,
             "#26828e"
            ],
            [
             0.5555555555555556,
             "#1f9e89"
            ],
            [
             0.6666666666666666,
             "#35b779"
            ],
            [
             0.7777777777777778,
             "#6ece58"
            ],
            [
             0.8888888888888888,
             "#b5de2b"
            ],
            [
             1,
             "#fde725"
            ]
           ]
          },
          "colorway": [
           "#1F77B4",
           "#FF7F0E",
           "#2CA02C",
           "#D62728",
           "#9467BD",
           "#8C564B",
           "#E377C2",
           "#7F7F7F",
           "#BCBD22",
           "#17BECF"
          ],
          "font": {
           "color": "rgb(36,36,36)"
          },
          "geo": {
           "bgcolor": "white",
           "lakecolor": "white",
           "landcolor": "white",
           "showlakes": true,
           "showland": true,
           "subunitcolor": "white"
          },
          "hoverlabel": {
           "align": "left"
          },
          "hovermode": "closest",
          "mapbox": {
           "style": "light"
          },
          "paper_bgcolor": "white",
          "plot_bgcolor": "white",
          "polar": {
           "angularaxis": {
            "gridcolor": "rgb(232,232,232)",
            "linecolor": "rgb(36,36,36)",
            "showgrid": false,
            "showline": true,
            "ticks": "outside"
           },
           "bgcolor": "white",
           "radialaxis": {
            "gridcolor": "rgb(232,232,232)",
            "linecolor": "rgb(36,36,36)",
            "showgrid": false,
            "showline": true,
            "ticks": "outside"
           }
          },
          "scene": {
           "xaxis": {
            "backgroundcolor": "white",
            "gridcolor": "rgb(232,232,232)",
            "gridwidth": 2,
            "linecolor": "rgb(36,36,36)",
            "showbackground": true,
            "showgrid": false,
            "showline": true,
            "ticks": "outside",
            "zeroline": false,
            "zerolinecolor": "rgb(36,36,36)"
           },
           "yaxis": {
            "backgroundcolor": "white",
            "gridcolor": "rgb(232,232,232)",
            "gridwidth": 2,
            "linecolor": "rgb(36,36,36)",
            "showbackground": true,
            "showgrid": false,
            "showline": true,
            "ticks": "outside",
            "zeroline": false,
            "zerolinecolor": "rgb(36,36,36)"
           },
           "zaxis": {
            "backgroundcolor": "white",
            "gridcolor": "rgb(232,232,232)",
            "gridwidth": 2,
            "linecolor": "rgb(36,36,36)",
            "showbackground": true,
            "showgrid": false,
            "showline": true,
            "ticks": "outside",
            "zeroline": false,
            "zerolinecolor": "rgb(36,36,36)"
           }
          },
          "shapedefaults": {
           "fillcolor": "black",
           "line": {
            "width": 0
           },
           "opacity": 0.3
          },
          "ternary": {
           "aaxis": {
            "gridcolor": "rgb(232,232,232)",
            "linecolor": "rgb(36,36,36)",
            "showgrid": false,
            "showline": true,
            "ticks": "outside"
           },
           "baxis": {
            "gridcolor": "rgb(232,232,232)",
            "linecolor": "rgb(36,36,36)",
            "showgrid": false,
            "showline": true,
            "ticks": "outside"
           },
           "bgcolor": "white",
           "caxis": {
            "gridcolor": "rgb(232,232,232)",
            "linecolor": "rgb(36,36,36)",
            "showgrid": false,
            "showline": true,
            "ticks": "outside"
           }
          },
          "title": {
           "x": 0.05
          },
          "xaxis": {
           "automargin": true,
           "gridcolor": "rgb(232,232,232)",
           "linecolor": "rgb(36,36,36)",
           "showgrid": false,
           "showline": true,
           "ticks": "outside",
           "title": {
            "standoff": 15
           },
           "zeroline": false,
           "zerolinecolor": "rgb(36,36,36)"
          },
          "yaxis": {
           "automargin": true,
           "gridcolor": "rgb(232,232,232)",
           "linecolor": "rgb(36,36,36)",
           "showgrid": false,
           "showline": true,
           "ticks": "outside",
           "title": {
            "standoff": 15
           },
           "zeroline": false,
           "zerolinecolor": "rgb(36,36,36)"
          }
         }
        },
        "title": {
         "font": {
          "color": "Black",
          "size": 22
         },
         "text": "<b>Topics over Time",
         "x": 0.4,
         "xanchor": "center",
         "y": 0.95,
         "yanchor": "top"
        },
        "width": 1250,
        "xaxis": {
         "showgrid": true
        },
        "yaxis": {
         "showgrid": true,
         "title": {
          "text": "Frequency"
         }
        }
       }
      },
      "text/html": [
       "<div>                            <div id=\"db78c931-a9cb-4621-8bf2-a409061289e9\" class=\"plotly-graph-div\" style=\"height:450px; width:1250px;\"></div>            <script type=\"text/javascript\">                require([\"plotly\"], function(Plotly) {                    window.PLOTLYENV=window.PLOTLYENV || {};                                    if (document.getElementById(\"db78c931-a9cb-4621-8bf2-a409061289e9\")) {                    Plotly.newPlot(                        \"db78c931-a9cb-4621-8bf2-a409061289e9\",                        [{\"hoverinfo\":\"text\",\"hovertext\":[\"<b>Topic 0</b><br>Words: dla, gazu, wody, podwy\\u017cki, nas\",\"<b>Topic 0</b><br>Words: gazu, dla, pis, podwy\\u017cki, gaz\",\"<b>Topic 0</b><br>Words: gazu, rz\\u0105du, 70, podwy\\u017cki, tysi\\u0119cy\",\"<b>Topic 0</b><br>Words: gazu, przeciwko, gaz, upadku, cen\",\"<b>Topic 0</b><br>Words: cukier, nigdy, was, gaz, wi\\u0119cej\",\"<b>Topic 0</b><br>Words: ka\\u017cdy, wydobycia, kto, w\\u0119gla, gazu\",\"<b>Topic 0</b><br>Words: jest, w\\u0119gla, gaz, ceny, gazu\",\"<b>Topic 0</b><br>Words: ropy, ceny, inflacja, jest, od\",\"<b>Topic 0</b><br>Words: miroka30045644, ceny, w\\u0119gla, jest, w\\u0119giel\",\"<b>Topic 0</b><br>Words: w\\u0119giel, ukrainy, nam, w\\u0119gla, jest\",\"<b>Topic 0</b><br>Words: ton, w\\u0119gla, ukrainy, transport, w\\u0119giel\",\"<b>Topic 0</b><br>Words: tys, ton, w\\u0119gla, ukrainie, ukrainy\",\"<b>Topic 0</b><br>Words: rosn\\u0105, w\\u0119gla, ceny, tys, w\\u0119giel\",\"<b>Topic 0</b><br>Words: gazu, w\\u0119gla, w\\u0119giel, jest, od\",\"<b>Topic 0</b><br>Words: w\\u0119gla, sierpniu, 16, cen, pis\",\"<b>Topic 0</b><br>Words: sie, w\\u0119gla, cena, raz, dla\",\"<b>Topic 0</b><br>Words: w\\u0119gla, katastrofy, polski, zabraknie, roku\",\"<b>Topic 0</b><br>Words: pr\\u0105du, jednej, morawiecki, prawda, cen\",\"<b>Topic 0</b><br>Words: w\\u0119giel, ukrainie, w\\u0119gla, od, ceny\",\"<b>Topic 0</b><br>Words: 2021, gazu, jest, w\\u0119giel, w\\u0119gla\",\"<b>Topic 0</b><br>Words: dla, gazu, cen, w\\u0119gla, pr\\u0105du\",\"<b>Topic 0</b><br>Words: w\\u0119gla, podwy\\u017cki, pis, dla, w\\u0119giel\",\"<b>Topic 0</b><br>Words: gazu, w\\u0119giel, vat, w\\u0119gla, 23\",\"<b>Topic 0</b><br>Words: gdyby\\u015bmy, donaldtusk, pr\\u0105d, w\\u0119gla, tej\",\"<b>Topic 0</b><br>Words: w\\u0119gla, tej, gaz, jest, gazu\",\"<b>Topic 0</b><br>Words: jest, ropa, w\\u0119gla, ceny, gaz\",\"<b>Topic 0</b><br>Words: gaz, gazu, z\\u0142, dla, w\\u0119gla\",\"<b>Topic 0</b><br>Words: gazu, gaz, dla, w\\u0119gla, w\\u0119giel\",\"<b>Topic 0</b><br>Words: id\\u0105, m\\u00f3wi\\u0105, g\\u00f3r\\u0119, gazu, w\\u0119gla\",\"<b>Topic 0</b><br>Words: 17, inflacja, we, wrze\\u015bniu, z\\u0142\",\"<b>Topic 0</b><br>Words: gazu, pis, podwy\\u017cki, dla, w\\u0119gla\",\"<b>Topic 0</b><br>Words: w\\u0119gla, pis, jest, do\\u015b\\u0107, w\\u0119giel\",\"<b>Topic 0</b><br>Words: w\\u0119gla, gaz, w\\u0119giel, gazu, pis\",\"<b>Topic 0</b><br>Words: w\\u0119gla, jest, przez, w\\u0119giel, euro\",\"<b>Topic 0</b><br>Words: w\\u0119gla, mln, w\\u0119giel, jest, rz\\u0105d\",\"<b>Topic 0</b><br>Words: w\\u0119gla, pis, w\\u0119giel, jest, cen\",\"<b>Topic 0</b><br>Words: energii, w\\u0119gla, pis, ceny, cen\",\"<b>Topic 0</b><br>Words: w\\u0119gla, w\\u0119giel, pis, z\\u0142, jest\",\"<b>Topic 0</b><br>Words: prezydent, w\\u0119gla, w\\u0119giel, jest, pis\",\"<b>Topic 0</b><br>Words: z\\u0142, ceny, w\\u0119gla, w\\u0119giel, pis\",\"<b>Topic 0</b><br>Words: w\\u0119gla, rz\\u0105d, dla, ceny, pis\",\"<b>Topic 0</b><br>Words: jest, w\\u0119gla, energii, ceny, w\\u0119giel\",\"<b>Topic 0</b><br>Words: w\\u0119gla, pis, z\\u0142, ceny, w\\u0119giel\",\"<b>Topic 0</b><br>Words: 17, w\\u0119gla, inflacja, dla, wrze\\u015bniu\",\"<b>Topic 0</b><br>Words: pis, inflacja, jest, w\\u0119gla, ceny\",\"<b>Topic 0</b><br>Words: pis, cen, w\\u0119gla, od, wzrost\",\"<b>Topic 0</b><br>Words: pis, w\\u0119gla, inflacji, dla, ropy\",\"<b>Topic 0</b><br>Words: pis, w\\u0119gla, mln, platforma_org, ton\",\"<b>Topic 0</b><br>Words: w\\u0119giel, pis, w\\u0119gla, tym, kt\\u00f3ry\",\"<b>Topic 0</b><br>Words: pis, w\\u0119giel, jest, w\\u0119gla, od\",\"<b>Topic 0</b><br>Words: jest, w\\u0119gla, w\\u0119giel, gazu, gaz\",\"<b>Topic 0</b><br>Words: kilka, w\\u0119giel, w\\u0119gla, ju\\u017c, jest\",\"<b>Topic 0</b><br>Words: w\\u0119gla, w\\u0119giel, 2015, kt\\u00f3ry, jest\",\"<b>Topic 0</b><br>Words: ceny, w\\u0119giel, w\\u0119gla, jest, polsce\",\"<b>Topic 0</b><br>Words: ton, w\\u0119gla, w\\u0119giel, pis, go\",\"<b>Topic 0</b><br>Words: pis, ceny, w\\u0119giel, polak\\u00f3w, dla\",\"<b>Topic 0</b><br>Words: w\\u0119gla, w\\u0119giel, inflacja, cen, energii\",\"<b>Topic 0</b><br>Words: pod, t\\u0105, jedn\\u0105, w\\u0119gla, ogromne\",\"<b>Topic 0</b><br>Words: polsce, pis, roku, ju\\u017c, od\",\"<b>Topic 0</b><br>Words: tymczasem, pl, jej, firmy, jest\",\"<b>Topic 0</b><br>Words: 17, inflacja, pa\\u017adzierniku, polsce, pis\",\"<b>Topic 0</b><br>Words: inflacja, ceny, polsce, jest, pis\",\"<b>Topic 0</b><br>Words: pis, jest, przez, 500, od\",\"<b>Topic 0</b><br>Words: jest, ju\\u017c, pis, dla, polsce\",\"<b>Topic 0</b><br>Words: dla, pis, pod, jest, gazu\",\"<b>Topic 0</b><br>Words: jest, polsce, dla, pis, zacz\\u0105\\u0107\",\"<b>Topic 0</b><br>Words: inflacja, w\\u0119gla, polsce, jest, pis\",\"<b>Topic 0</b><br>Words: dla, bob_gedron, inflacja, pis, ceny\",\"<b>Topic 0</b><br>Words: pis, jaros\\u0142aw, dla, podwy\\u017cki, cen\",\"<b>Topic 0</b><br>Words: 10, ceny, z\\u0142, inflacja, jest\",\"<b>Topic 0</b><br>Words: elektrownia, gdzie, prawa, nowe, inflacja\",\"<b>Topic 0</b><br>Words: polski, inflacja, likwidacja, jest, gigantyczne\",\"<b>Topic 0</b><br>Words: sprzed, spad\\u0142y, poni\\u017cej, gazu, wojny\",\"<b>Topic 0</b><br>Words: pis, inflacja, ceny, kaczy\\u0144ski, gazu\",\"<b>Topic 0</b><br>Words: inflacja, inflacji, pis, 12, ceny\",\"<b>Topic 0</b><br>Words: 17, inflacja, elektrownia, gdzie, jest\",\"<b>Topic 0</b><br>Words: ropy, 2023, od, roku, cen\",\"<b>Topic 0</b><br>Words: 2023, \\u015bladu, rop\\u0119, inflacja, dla\",\"<b>Topic 0</b><br>Words: ropy, spadaj\\u0105, szykuj\\u0105, mln, ton\",\"<b>Topic 0</b><br>Words: cena, dla, dobrego, nawet, ceny\",\"<b>Topic 0</b><br>Words: mimo, ka\\u017cdy, ze, tych, tego\",\"<b>Topic 0</b><br>Words: chin, lbalcerowicz, eksport, szczesniaka, gospodark\\u0119\",\"<b>Topic 0</b><br>Words: kraje, popyt, wp\\u0142yw, chiny, strony\"],\"marker\":{\"color\":\"#E69F00\"},\"mode\":\"lines\",\"name\":\"0_w\\u0119gla_pis_jest_w\\u0119giel\",\"x\":[\"2022-09-01T00:00:00\",\"2022-09-02T00:00:00\",\"2022-09-03T00:00:00\",\"2022-09-04T00:00:00\",\"2022-09-05T00:00:00\",\"2022-09-06T00:00:00\",\"2022-09-07T00:00:00\",\"2022-09-08T00:00:00\",\"2022-09-09T00:00:00\",\"2022-09-10T00:00:00\",\"2022-09-11T00:00:00\",\"2022-09-12T00:00:00\",\"2022-09-13T00:00:00\",\"2022-09-14T00:00:00\",\"2022-09-15T00:00:00\",\"2022-09-16T00:00:00\",\"2022-09-17T00:00:00\",\"2022-09-18T00:00:00\",\"2022-09-19T00:00:00\",\"2022-09-20T00:00:00\",\"2022-09-21T00:00:00\",\"2022-09-22T00:00:00\",\"2022-09-23T00:00:00\",\"2022-09-24T00:00:00\",\"2022-09-25T00:00:00\",\"2022-09-26T00:00:00\",\"2022-09-27T00:00:00\",\"2022-09-28T00:00:00\",\"2022-09-29T00:00:00\",\"2022-09-30T00:00:00\",\"2022-10-01T00:00:00\",\"2022-10-02T00:00:00\",\"2022-10-03T00:00:00\",\"2022-10-04T00:00:00\",\"2022-10-05T00:00:00\",\"2022-10-06T00:00:00\",\"2022-10-07T00:00:00\",\"2022-10-08T00:00:00\",\"2022-10-09T00:00:00\",\"2022-10-10T00:00:00\",\"2022-10-11T00:00:00\",\"2022-10-12T00:00:00\",\"2022-10-13T00:00:00\",\"2022-10-14T00:00:00\",\"2022-10-15T00:00:00\",\"2022-10-16T00:00:00\",\"2022-10-17T00:00:00\",\"2022-10-18T00:00:00\",\"2022-10-19T00:00:00\",\"2022-10-20T00:00:00\",\"2022-10-21T00:00:00\",\"2022-10-22T00:00:00\",\"2022-10-23T00:00:00\",\"2022-10-24T00:00:00\",\"2022-10-25T00:00:00\",\"2022-10-26T00:00:00\",\"2022-10-27T00:00:00\",\"2022-10-28T00:00:00\",\"2022-10-29T00:00:00\",\"2022-10-30T00:00:00\",\"2022-10-31T00:00:00\",\"2022-11-01T00:00:00\",\"2022-11-02T00:00:00\",\"2022-11-03T00:00:00\",\"2022-11-04T00:00:00\",\"2022-11-05T00:00:00\",\"2022-11-06T00:00:00\",\"2022-11-07T00:00:00\",\"2022-11-08T00:00:00\",\"2022-11-09T00:00:00\",\"2022-11-10T00:00:00\",\"2022-11-11T00:00:00\",\"2022-11-12T00:00:00\",\"2022-11-13T00:00:00\",\"2022-11-14T00:00:00\",\"2022-11-15T00:00:00\",\"2022-11-16T00:00:00\",\"2022-11-17T00:00:00\",\"2022-11-18T00:00:00\",\"2022-11-19T00:00:00\",\"2022-11-20T00:00:00\",\"2022-11-21T00:00:00\",\"2022-11-22T00:00:00\"],\"y\":[358,279,320,330,470,441,361,477,443,405,760,605,655,650,617,594,494,425,331,603,566,793,619,452,310,415,889,703,530,1200,753,730,582,632,1029,1287,1106,756,665,720,744,586,639,712,383,427,509,886,948,718,540,665,640,685,626,488,646,583,667,464,1244,552,741,759,547,541,419,513,483,596,724,308,241,333,893,925,432,409,284,125,13,2,1],\"type\":\"scatter\"},{\"hoverinfo\":\"text\",\"hovertext\":[\"<b>Topic 1</b><br>Words: wielu, nadchodzi, zim\\u0119, b\\u0119dzie, zabraknie\",\"<b>Topic 1</b><br>Words: zim\\u0119, wielu, wi, nadchodzi, wiosn\\u0119\",\"<b>Topic 1</b><br>Words: zim\\u0119, aferypis, jaja, du\\u017ce, zapasy\",\"<b>Topic 1</b><br>Words: bedzie, beda, grudniu, moze, typu\",\"<b>Topic 1</b><br>Words: zim\\u0105, zim\\u0119, b\\u0119dzie, zabraknie, licz\\u0119\",\"<b>Topic 1</b><br>Words: zim\\u0119, zim\\u0105, zimy, ludzie, b\\u0119d\\u0105\",\"<b>Topic 1</b><br>Words: zim\\u0119, zimy, tam, leszczyna, mo\\u017ce\",\"<b>Topic 1</b><br>Words: prosta, zim\\u0119, zimy, zapas, zim\\u0105\",\"<b>Topic 1</b><br>Words: zimy, zim\\u0119, brakuje, miejskich, zim\\u0105\",\"<b>Topic 1</b><br>Words: zim\\u0119, zimy, tej, w\\u0119gla, bez\",\"<b>Topic 1</b><br>Words: maj\\u0105, zim\\u0119, og\\u00f3le, lepiej, kraju\",\"<b>Topic 1</b><br>Words: grudniu, piotrwiel, b\\u0119dzie, zimy, w\\u0119giel\",\"<b>Topic 1</b><br>Words: centrum, zim\\u0119, zimy, linia, b\\u0119dzie\",\"<b>Topic 1</b><br>Words: zimy, zim\\u0119, jeszcze, zim\\u0105, pisjestzadrogi\",\"<b>Topic 1</b><br>Words: b\\u0119dzie, zim\\u0119, wiosn\\u0119, w\\u0119giel, dost\\u0119pny\",\"<b>Topic 1</b><br>Words: gierka, zim\\u0119, zerowy, weekend, wiosn\\u0119\",\"<b>Topic 1</b><br>Words: zim\\u0105, pr\\u0105d, b\\u0119d\\u0105, zimy, zim\\u0119\",\"<b>Topic 1</b><br>Words: zim\\u0119, brak, wyniku, m\\u00f3j, spokojnie\",\"<b>Topic 1</b><br>Words: zim\\u0119, zimy, masz, zim\\u0105, grudniu\",\"<b>Topic 1</b><br>Words: zim\\u0119, zabraknie, idzie, magazyny, dlatego\",\"<b>Topic 1</b><br>Words: drewna, zimy, wyko\\u0144czy, serii, b\\u0119dzie\",\"<b>Topic 1</b><br>Words: b\\u0119dzie, zim\\u0119, zimie, zimy, dok\\u0142adnie\",\"<b>Topic 1</b><br>Words: zim\\u0119, ani, zimy, b\\u0119dzie, kolejne\",\"<b>Topic 1</b><br>Words: zim\\u0119, zim\\u0105, zimy, w\\u0119gla, prognoza\",\"<b>Topic 1</b><br>Words: zim\\u0119, chc\\u0119, potrzebne, nawet, wolnosco\",\"<b>Topic 1</b><br>Words: zimy, tej, b\\u0119dzie, grudnia, prawdopodobnie\",\"<b>Topic 1</b><br>Words: zimy, wiosn\\u0119, ci\\u0119\\u017ckiej, konkurencja, je\\u015bli\",\"<b>Topic 1</b><br>Words: zim\\u0119, zim\\u0105, \\u017cart, nadchodzi, wiosn\\u0119\",\"<b>Topic 1</b><br>Words: zim\\u0119, zimy, b\\u0119dzie, zabraknie, w\\u0119gla\",\"<b>Topic 1</b><br>Words: zimy, zim\\u0119, b\\u0119dzie, macie, bez\",\"<b>Topic 1</b><br>Words: zim\\u0119, zabraknie, b\\u0119dzie, zim\\u0105, ciekawa\",\"<b>Topic 1</b><br>Words: 25, tam, ja, ten, w\\u0119giel\",\"<b>Topic 1</b><br>Words: ani, poniedzia\\u0142ek, zim\\u0119, by\\u0142o, krzysztofbrejza\",\"<b>Topic 1</b><br>Words: moja, moje, zimy, jako, nadchodzi\",\"<b>Topic 1</b><br>Words: idzie, zim\\u0119, zimy, ni, w\\u0119gla\",\"<b>Topic 1</b><br>Words: zimy, pewno, zabraknie, tej, w\\u0119gla\",\"<b>Topic 1</b><br>Words: pewno, zimy, zim\\u0119, m\\u00f3j, jasne\",\"<b>Topic 1</b><br>Words: bedzie, idzie, zim\\u0119, model, robertbiedron\",\"<b>Topic 1</b><br>Words: ni, zimy, zim\\u0119, b\\u0119dzie, zim\\u0105\",\"<b>Topic 1</b><br>Words: zimie, zim\\u0119, zimy, sie, czas\",\"<b>Topic 1</b><br>Words: nawet, zim\\u0119, tematem, sta\\u0142, uk\",\"<b>Topic 1</b><br>Words: zn\\u00f3w, nadchodzi, nieco, wsz\\u0119dzie, idzie\",\"<b>Topic 1</b><br>Words: zim\\u0119, wystarczy, mog\\u0119, b\\u0119dzie, w\\u0119gla\",\"<b>Topic 1</b><br>Words: zim\\u0119, zimie, wystarczy, news, zosta\\u0107\",\"<b>Topic 1</b><br>Words: ba\\u0107, jutro, 21, zimy, prosz\\u0119\",\"<b>Topic 1</b><br>Words: drogi, trzeba, kupowa\\u0107, by\\u0142a, wi\\u0119c\",\"<b>Topic 1</b><br>Words: zapas, wsp\\u00f3lnie, zim\\u0119, tvn24, braku\",\"<b>Topic 1</b><br>Words: zimy, zim\\u0119, drogi, 89, trzeba\",\"<b>Topic 1</b><br>Words: zim\\u0119, ca\\u0142\\u0105, wystarczy, taki, zimy\",\"<b>Topic 1</b><br>Words: zim\\u0105, ca\\u0142\\u0105, zim\\u0119, wystarczy, taki\",\"<b>Topic 1</b><br>Words: zim\\u0119, zimy, zamiast, najszybciej, czekam\",\"<b>Topic 1</b><br>Words: zimy, zim\\u0119, dobrogowski_, tej, b\\u0119dzie\",\"<b>Topic 1</b><br>Words: troch\\u0119, wiosn\\u0119, zim\\u0119, wydaje, kupuj\\u0105\",\"<b>Topic 1</b><br>Words: zimy, zim\\u0105, lubi, marzn\\u0105\\u0107, grudniu\",\"<b>Topic 1</b><br>Words: zimy, damy, rad\\u0119, krocpokzboj, przysz\\u0142ym\",\"<b>Topic 1</b><br>Words: zimie, bior\\u0105c, byle, \\u017ar\\u00f3d\\u0142o, 26\",\"<b>Topic 1</b><br>Words: zim\\u0119, zabra\\u0107, grudniu, powinni\\u015bmy, obecnej\",\"<b>Topic 1</b><br>Words: zim\\u0105, z\\u0142e, zdecydowanie, wzi\\u0105\\u0107, idzie\",\"<b>Topic 1</b><br>Words: zimy, zim\\u0119, autolikos1, ka\\u017cdemu, ca\\u0142\\u0105\",\"<b>Topic 1</b><br>Words: zimy, b\\u0119dzie, energetyki, czemu, razie\",\"<b>Topic 1</b><br>Words: zim\\u0105, przed, ka\\u017cdego, wpolityce_pl, kt\\u00f3r\\u0105\",\"<b>Topic 1</b><br>Words: pal\\u0105, jakub_moscicki, par\\u0119, zim\\u0105, drogi\",\"<b>Topic 1</b><br>Words: zimy, by\\u0107, tej, problem, czaroit1\",\"<b>Topic 1</b><br>Words: zim\\u0105, zimie, samego, dodatkowo, potrzeba\",\"<b>Topic 1</b><br>Words: zim\\u0119, wp\\u0142ynie, zim\\u0105, transportu, wjakobik\",\"<b>Topic 1</b><br>Words: zabraknie, dost\\u0119pny, zim\\u0119, wiadomoscitvp, magazyny\",\"<b>Topic 1</b><br>Words: poda\\u017c, zimy, zbyt, zim\\u0119, powinna\",\"<b>Topic 1</b><br>Words: zimy, tej, g\\u0142owie, wi\\u0119cej, b\\u0119dziesz\",\"<b>Topic 1</b><br>Words: tej, zimy, domu, wystarczy, wygl\\u0105da\",\"<b>Topic 1</b><br>Words: zim\\u0119, licz\\u0119, miesi\\u0105cach, ostatni, trzech\",\"<b>Topic 1</b><br>Words: potrzeba, piotrwiel, b\\u0119dzie, co2, tyle\",\"<b>Topic 1</b><br>Words: zim\\u0119, by\\u0142o, zimy, du\\u017co, tzn\",\"<b>Topic 1</b><br>Words: wzi\\u0105\\u0107, kilkaset, zim\\u0119, tysi\\u0119cy, sk\\u0105d\",\"<b>Topic 1</b><br>Words: twoja, romekcz, bogdan607, razie, sta\\u0107\",\"<b>Topic 1</b><br>Words: albo, pierwszy, je\\u017celi, mi, kto\\u015b\",\"<b>Topic 1</b><br>Words: nigdy, mnie, mi, ty, tam\"],\"marker\":{\"color\":\"#56B4E9\"},\"mode\":\"lines\",\"name\":\"1_zim\\u0119_zimy_w\\u0119gla_b\\u0119dzie\",\"x\":[\"2022-09-01T00:00:00\",\"2022-09-02T00:00:00\",\"2022-09-03T00:00:00\",\"2022-09-04T00:00:00\",\"2022-09-05T00:00:00\",\"2022-09-06T00:00:00\",\"2022-09-07T00:00:00\",\"2022-09-08T00:00:00\",\"2022-09-09T00:00:00\",\"2022-09-10T00:00:00\",\"2022-09-11T00:00:00\",\"2022-09-12T00:00:00\",\"2022-09-13T00:00:00\",\"2022-09-14T00:00:00\",\"2022-09-15T00:00:00\",\"2022-09-16T00:00:00\",\"2022-09-17T00:00:00\",\"2022-09-18T00:00:00\",\"2022-09-19T00:00:00\",\"2022-09-20T00:00:00\",\"2022-09-21T00:00:00\",\"2022-09-22T00:00:00\",\"2022-09-23T00:00:00\",\"2022-09-24T00:00:00\",\"2022-09-25T00:00:00\",\"2022-09-26T00:00:00\",\"2022-09-27T00:00:00\",\"2022-09-28T00:00:00\",\"2022-09-29T00:00:00\",\"2022-09-30T00:00:00\",\"2022-10-01T00:00:00\",\"2022-10-02T00:00:00\",\"2022-10-03T00:00:00\",\"2022-10-04T00:00:00\",\"2022-10-05T00:00:00\",\"2022-10-06T00:00:00\",\"2022-10-07T00:00:00\",\"2022-10-08T00:00:00\",\"2022-10-09T00:00:00\",\"2022-10-10T00:00:00\",\"2022-10-11T00:00:00\",\"2022-10-12T00:00:00\",\"2022-10-13T00:00:00\",\"2022-10-14T00:00:00\",\"2022-10-15T00:00:00\",\"2022-10-16T00:00:00\",\"2022-10-17T00:00:00\",\"2022-10-18T00:00:00\",\"2022-10-19T00:00:00\",\"2022-10-20T00:00:00\",\"2022-10-21T00:00:00\",\"2022-10-22T00:00:00\",\"2022-10-23T00:00:00\",\"2022-10-24T00:00:00\",\"2022-10-25T00:00:00\",\"2022-10-26T00:00:00\",\"2022-10-27T00:00:00\",\"2022-10-28T00:00:00\",\"2022-10-29T00:00:00\",\"2022-10-30T00:00:00\",\"2022-10-31T00:00:00\",\"2022-11-01T00:00:00\",\"2022-11-02T00:00:00\",\"2022-11-03T00:00:00\",\"2022-11-04T00:00:00\",\"2022-11-05T00:00:00\",\"2022-11-06T00:00:00\",\"2022-11-08T00:00:00\",\"2022-11-09T00:00:00\",\"2022-11-10T00:00:00\",\"2022-11-11T00:00:00\",\"2022-11-14T00:00:00\",\"2022-11-15T00:00:00\",\"2022-11-18T00:00:00\",\"2022-11-19T00:00:00\",\"2022-11-20T00:00:00\"],\"y\":[6,6,9,3,5,7,6,10,6,7,1,9,6,5,6,5,7,2,6,10,5,17,7,8,6,3,6,6,13,8,4,1,4,4,16,12,4,4,7,6,7,3,9,11,3,2,2,4,13,2,4,4,2,4,15,3,3,4,5,3,1,2,5,2,3,1,3,5,3,4,1,6,1,3,1,1],\"type\":\"scatter\"},{\"hoverinfo\":\"text\",\"hovertext\":[\"<b>Topic 2</b><br>Words: wow, podatki, serio, wy\\u017csze, wy\",\"<b>Topic 2</b><br>Words: podatek, masz, raz, ktos, dzieki\",\"<b>Topic 2</b><br>Words: podatki, podatk\\u00f3w, doskonale, akurat, tak\\u0105\",\"<b>Topic 2</b><br>Words: podatk\\u00f3w, popyt, wi\\u0119ksze, faktycznie, nowych\",\"<b>Topic 2</b><br>Words: wysoko\\u015b\\u0107, w\\u00f3wczas, czynnik\\u00f3w, wyniku, modliszka30\",\"<b>Topic 2</b><br>Words: stopy, podatek, podnosi\\u0107, tomaszwyluda, opr\\u00f3cz\",\"<b>Topic 2</b><br>Words: podatek, podatk\\u00f3w, usd, inny, zale\\u017cy\",\"<b>Topic 2</b><br>Words: zlikwidowa\\u0107, wyj\\u015bcia, podatk\\u00f3w, kryzysu, nale\\u017cy\",\"<b>Topic 2</b><br>Words: podatki, deflacja, pan, byli, kosztowa\\u0142\",\"<b>Topic 2</b><br>Words: podatek, ministerstwo, maja, robi, inflacji\",\"<b>Topic 2</b><br>Words: podatkami, idiot\\u00f3w, inflacj\\u0105, pisorgpl, dla\",\"<b>Topic 2</b><br>Words: podatek, podatk\\u00f3w, zawsze, obni\\u017cenia, zysk\\u00f3w\",\"<b>Topic 2</b><br>Words: podatki, podwy\\u017ck\\u0119, rzeczywi\\u015bcie, 35, jednocze\\u015bnie\",\"<b>Topic 2</b><br>Words: zmniejszy\\u0142, drukowanie, prosta, bankructwa, droga\",\"<b>Topic 2</b><br>Words: podatki, oczywiscie, spo\\u0142ecze\\u0144stwa, wydatk\\u00f3w, podaje\",\"<b>Topic 2</b><br>Words: konfederacja_, realne, likwidacja, minimalnej, polityk\\u0119\",\"<b>Topic 2</b><br>Words: podatek, momencie, warto\\u015bci, bardziej, pieni\\u0105dze\",\"<b>Topic 2</b><br>Words: drugi, podatek, opr\\u00f3cz, jeszcze, podatk\\u00f3w\",\"<b>Topic 2</b><br>Words: 50, dzia\\u0142aj\\u0105, tomaszwyluda, 90, brawo\",\"<b>Topic 2</b><br>Words: podatek, morawiecki, inflacji, od, podatk\\u00f3w\",\"<b>Topic 2</b><br>Words: podatek, podatk\\u00f3w, sukces, kedzierskimarc, podatkami\",\"<b>Topic 2</b><br>Words: podatek, podatki, poprzednich, mia\\u0142by, podnosi\\u0107\",\"<b>Topic 2</b><br>Words: si\\u0142\\u0119, walce, pom\\u00f3c, szybko, tomaszwyluda\",\"<b>Topic 2</b><br>Words: podatki, wiecie, podatek, podatk\\u00f3w, niskich\",\"<b>Topic 2</b><br>Words: robertbiedron, komu\\u015b, wi\\u0119c, zna, ekonomii\",\"<b>Topic 2</b><br>Words: statystyki, podnios\\u0105, podatki, rafalhubert, us\\u0142ug\",\"<b>Topic 2</b><br>Words: pieni\\u0105dza, ci\\u0119\\u017ckiej, pracy, podatk\\u00f3w, maksymalne\",\"<b>Topic 2</b><br>Words: gadfluence, podatek, lepszy, zysk\\u00f3w, akurat\",\"<b>Topic 2</b><br>Words: podatki, podatk\\u00f3w, powodu, powoduj\\u0105, obni\\u017cki\",\"<b>Topic 2</b><br>Words: podatk\\u00f3w, troche, nagle, podatki, gadfluence\",\"<b>Topic 2</b><br>Words: podatek, grupy, sa, prostu, latach\",\"<b>Topic 2</b><br>Words: powinny, aby, tej, przy, ile\",\"<b>Topic 2</b><br>Words: obni\\u017cki, drewno, walczy\\u0107, pomys\\u0142, vat\",\"<b>Topic 2</b><br>Words: podatek, podatk\\u00f3w, byc, powie, inflacyjny\",\"<b>Topic 2</b><br>Words: pieni\\u0105dz, gadfluence, ogranicze\\u0144, podatki, fiat_money\",\"<b>Topic 2</b><br>Words: podatek, najwa\\u017cniejsze, stacji, obajtka, mo\\u017cna\",\"<b>Topic 2</b><br>Words: podatki, drukowa\\u0107, poda\\u017c, prawastronaa, popyt\",\"<b>Topic 2</b><br>Words: podatk\\u00f3w, podatki, 42, wszystkiego, nowych\",\"<b>Topic 2</b><br>Words: bud\\u017cetowe, podatk\\u00f3w, podatki, mniejsze, wp\\u0142ywu\",\"<b>Topic 2</b><br>Words: przy, tomaszwyluda, bedzie, szybko, ma\\u0142o\",\"<b>Topic 2</b><br>Words: p\\u0142aca, \\u017cadna, podatki, wp\\u0142ywu, ka\\u017cdego\",\"<b>Topic 2</b><br>Words: akcyza, obni\\u017ca, podatek, wi\\u0119kszy, podatki\",\"<b>Topic 2</b><br>Words: podatek, skupu, g\\u0142\\u00f3wny, wyniesie, poda\\u0142\",\"<b>Topic 2</b><br>Words: podatk\\u00f3w, podwy\\u017ck\\u0119, spo\\u0142ecze\\u0144stwa, spos\\u00f3b, teryasic1\",\"<b>Topic 2</b><br>Words: podatk\\u00f3w, teryasic1, podwy\\u017ck\\u0119, spo\\u0142ecze\\u0144stwa, spos\\u00f3b\",\"<b>Topic 2</b><br>Words: podatek, 20, ktos, zlikwidowa\\u0107, g\\u0142owie\",\"<b>Topic 2</b><br>Words: podatek, tys, 17, grzegor95956376, obliczu\",\"<b>Topic 2</b><br>Words: podatk\\u00f3w, kosmos, opr\\u00f3cz, nowych, mi\",\"<b>Topic 2</b><br>Words: us, pierwszym, kasia_dw, 22, 23\",\"<b>Topic 2</b><br>Words: podatek, widzi, p\\u0142aci, kt\\u00f3rego, nikt\",\"<b>Topic 2</b><br>Words: wy\\u017csze, podatk\\u00f3w, podatki, niestety, hennigkloska\",\"<b>Topic 2</b><br>Words: podatki, wzros\\u0142a, wzros\\u0142y, platforma_org, tyle\",\"<b>Topic 2</b><br>Words: podatk\\u00f3w, podatki, podatek, kryzysu, stosuje\",\"<b>Topic 2</b><br>Words: podatek, tomo9000p, byc, pieni\\u0105dz, rafalmundry\",\"<b>Topic 2</b><br>Words: podatek, mo\\u017cesz, razie, inflacje, piotrmuller\",\"<b>Topic 2</b><br>Words: wi\\u0119ksza, zn\\u00f3w, pieni\\u0105dza, dzi\\u0119ki, takie\",\"<b>Topic 2</b><br>Words: podatek, podatki, vat, zjada, znaczenie\",\"<b>Topic 2</b><br>Words: elektorat, zacz\\u0105\\u0107, \\u015bredniej, walczy\\u0107, podatk\\u00f3w\",\"<b>Topic 2</b><br>Words: podwy\\u017cszenie, podatk\\u00f3w, zacz\\u0105\\u0107, \\u015bredniej, walczy\\u0107\",\"<b>Topic 2</b><br>Words: drukowanie, ko\\u0144cz\\u0105, podatek, postaci, pieni\\u0105dza\",\"<b>Topic 2</b><br>Words: podatek, mblaszczak, publicznych, stan, finans\\u00f3w\"],\"marker\":{\"color\":\"#009E73\"},\"mode\":\"lines\",\"name\":\"2_podatek_podatk\\u00f3w_podatki_inflacji\",\"x\":[\"2022-09-01T00:00:00\",\"2022-09-02T00:00:00\",\"2022-09-04T00:00:00\",\"2022-09-05T00:00:00\",\"2022-09-06T00:00:00\",\"2022-09-07T00:00:00\",\"2022-09-08T00:00:00\",\"2022-09-10T00:00:00\",\"2022-09-11T00:00:00\",\"2022-09-12T00:00:00\",\"2022-09-13T00:00:00\",\"2022-09-15T00:00:00\",\"2022-09-16T00:00:00\",\"2022-09-19T00:00:00\",\"2022-09-20T00:00:00\",\"2022-09-21T00:00:00\",\"2022-09-22T00:00:00\",\"2022-09-24T00:00:00\",\"2022-09-25T00:00:00\",\"2022-09-26T00:00:00\",\"2022-09-27T00:00:00\",\"2022-09-28T00:00:00\",\"2022-09-29T00:00:00\",\"2022-09-30T00:00:00\",\"2022-10-01T00:00:00\",\"2022-10-02T00:00:00\",\"2022-10-03T00:00:00\",\"2022-10-04T00:00:00\",\"2022-10-05T00:00:00\",\"2022-10-07T00:00:00\",\"2022-10-09T00:00:00\",\"2022-10-11T00:00:00\",\"2022-10-13T00:00:00\",\"2022-10-15T00:00:00\",\"2022-10-16T00:00:00\",\"2022-10-17T00:00:00\",\"2022-10-19T00:00:00\",\"2022-10-20T00:00:00\",\"2022-10-21T00:00:00\",\"2022-10-22T00:00:00\",\"2022-10-23T00:00:00\",\"2022-10-24T00:00:00\",\"2022-10-25T00:00:00\",\"2022-10-26T00:00:00\",\"2022-10-27T00:00:00\",\"2022-10-28T00:00:00\",\"2022-10-31T00:00:00\",\"2022-11-01T00:00:00\",\"2022-11-02T00:00:00\",\"2022-11-03T00:00:00\",\"2022-11-04T00:00:00\",\"2022-11-06T00:00:00\",\"2022-11-07T00:00:00\",\"2022-11-08T00:00:00\",\"2022-11-09T00:00:00\",\"2022-11-10T00:00:00\",\"2022-11-13T00:00:00\",\"2022-11-14T00:00:00\",\"2022-11-15T00:00:00\",\"2022-11-16T00:00:00\",\"2022-11-18T00:00:00\"],\"y\":[1,2,2,2,1,3,1,1,1,2,1,4,1,1,3,1,1,1,1,3,5,4,4,4,2,2,3,2,3,4,1,1,3,2,1,1,2,2,2,2,1,3,2,6,5,3,4,1,1,4,4,1,5,2,1,2,5,3,1,1,1],\"type\":\"scatter\"},{\"hoverinfo\":\"text\",\"hovertext\":[\"<b>Topic 3</b><br>Words: turcji, proc, powy\\u017cej, poni\\u017cej, dopiero\",\"<b>Topic 3</b><br>Words: mini, turcji, morzu, okazji, zupe\\u0142nie\",\"<b>Topic 3</b><br>Words: 80, turcji, viii, poprzednio, prognoza\",\"<b>Topic 3</b><br>Words: realne, procentowe, rz\\u0105dy, kaczy\\u0144skiego, stopy\",\"<b>Topic 3</b><br>Words: turcji, 80, olgaewasemeniuk, sprawd\\u017a, kilkaset\",\"<b>Topic 3</b><br>Words: turcji, najwy\\u017cej, 55, kupi, oszcz\\u0119dno\\u015bci\",\"<b>Topic 3</b><br>Words: turcji, latach, btw, mariorebeliant, jakub_moscicki\",\"<b>Topic 3</b><br>Words: turcji, j\\u0105, 80, licz\\u0119, zaledwie\",\"<b>Topic 3</b><br>Words: turcji, podobnie, polityki, 80, w\\u0142asnej\",\"<b>Topic 3</b><br>Words: turcji, 80, inflacja, liczby, bior\\u0105c\",\"<b>Topic 3</b><br>Words: turcji, tymczasem, tak\\u017ce, trafi\\u0142a, lubi\",\"<b>Topic 3</b><br>Words: turcji, dalszy, drodze, inflacj\\u0105, dobrej\",\"<b>Topic 3</b><br>Words: turcji, tymczasem, tak\\u017ce, inflacj\\u0105, ju\\u017c\",\"<b>Topic 3</b><br>Words: turcji, prezydent, kraju, inflacj\\u0105, 80\",\"<b>Topic 3</b><br>Words: turcji, stopy, 80, absolutnie, znaczenie\",\"<b>Topic 3</b><br>Words: turcji, krok, grudniu, 22, idzie\",\"<b>Topic 3</b><br>Words: inflacj\\u0105, tylko, pis, turcji, 80\",\"<b>Topic 3</b><br>Words: statystyki, sam\\u0105, turcji, niekt\\u00f3re, 150\",\"<b>Topic 3</b><br>Words: 1997r, drodze, druga, dobrej, najwy\\u017csza\",\"<b>Topic 3</b><br>Words: turcji, kierunku, 2014, 80, idzie\",\"<b>Topic 3</b><br>Words: turcji, 80, p\\u0142ace, droga, walce\",\"<b>Topic 3</b><br>Words: turcji, ekonomiczne, 80, oficjalnie, dzieje\",\"<b>Topic 3</b><br>Words: turcji, ekonomiczne, oficjalnie, 80, dzieje\",\"<b>Topic 3</b><br>Words: turcji, 80, wakacje, poziom, brawo\",\"<b>Topic 3</b><br>Words: turcji, linia, drukowa\\u0107, dop\\u00f3ki, przysz\\u0142ym\",\"<b>Topic 3</b><br>Words: dolara, wzr\\u00f3s\\u0142, kurs, turcji, ostatnich\",\"<b>Topic 3</b><br>Words: turcji, robi\\u0105, 120, \\u017cy\\u0107, da\",\"<b>Topic 3</b><br>Words: 120, informacja, okazji, latach, kaczy\\u0144ski\",\"<b>Topic 3</b><br>Words: turcji, chinach, s\\u0105, ca\\u0142ym, tez\",\"<b>Topic 3</b><br>Words: turcji, 80, rozumiej\\u0105, stopa, odpowiedzi\",\"<b>Topic 3</b><br>Words: turcji, 80, bank, btw, inflacja\",\"<b>Topic 3</b><br>Words: turcji, prosta, drog\\u0105, realne, procentowe\",\"<b>Topic 3</b><br>Words: piotr_weglarz, 80, turcji, czy\\u017cby, inflacj\\u0105\",\"<b>Topic 3</b><br>Words: druga, co\\u015b, polsce, b\\u0119dzie, inflacja\",\"<b>Topic 3</b><br>Words: ryzyko, wyniku, wysokiej, bud\\u017cetowe, turcji\",\"<b>Topic 3</b><br>Words: realnych, 80, zesz\\u0142ym, turcji, procentowych\",\"<b>Topic 3</b><br>Words: lepszy, ciekawa, jestem, mu, spos\\u00f3b\",\"<b>Topic 3</b><br>Words: turcji, pa\\u017adzierniku, wynios\\u0142a, stosunku, inflacja\",\"<b>Topic 3</b><br>Words: turcji, macronextcom, proc, obni\\u017cy\\u0107, st\\u00f3p\",\"<b>Topic 3</b><br>Words: co\\u015b, 100, polak\\u00f3w, te\\u017c, inflacj\\u0119\",\"<b>Topic 3</b><br>Words: poszed\\u0142, mia\\u0142by, nar\\u00f3d, dzi\\u015b, wielki\",\"<b>Topic 3</b><br>Words: kraje, inne, poziomie, premierrp, maj\\u0105\",\"<b>Topic 3</b><br>Words: turcji, zbyt, hennigkloska, glapi\\u0144skiego, st\\u00f3p\",\"<b>Topic 3</b><br>Words: turcji, inflacja, 80, ekonomiczne, pa\\u017adzierniku\",\"<b>Topic 3</b><br>Words: indie, 10, uk, chiny, 12\",\"<b>Topic 3</b><br>Words: turcji, 80, inflacja, sposoby, dwa\",\"<b>Topic 3</b><br>Words: turcji, 80, prawie, stopach, realnych\",\"<b>Topic 3</b><br>Words: turcji, czwartek, 150, bank, kolejna\"],\"marker\":{\"color\":\"#F0E442\"},\"mode\":\"lines\",\"name\":\"3_turcji_80_inflacja_ekonomiczne\",\"x\":[\"2022-09-01T00:00:00\",\"2022-09-02T00:00:00\",\"2022-09-05T00:00:00\",\"2022-09-07T00:00:00\",\"2022-09-08T00:00:00\",\"2022-09-09T00:00:00\",\"2022-09-12T00:00:00\",\"2022-09-13T00:00:00\",\"2022-09-14T00:00:00\",\"2022-09-15T00:00:00\",\"2022-09-16T00:00:00\",\"2022-09-17T00:00:00\",\"2022-09-18T00:00:00\",\"2022-09-21T00:00:00\",\"2022-09-22T00:00:00\",\"2022-09-25T00:00:00\",\"2022-09-26T00:00:00\",\"2022-09-29T00:00:00\",\"2022-09-30T00:00:00\",\"2022-10-01T00:00:00\",\"2022-10-02T00:00:00\",\"2022-10-03T00:00:00\",\"2022-10-04T00:00:00\",\"2022-10-05T00:00:00\",\"2022-10-06T00:00:00\",\"2022-10-07T00:00:00\",\"2022-10-11T00:00:00\",\"2022-10-14T00:00:00\",\"2022-10-17T00:00:00\",\"2022-10-18T00:00:00\",\"2022-10-20T00:00:00\",\"2022-10-21T00:00:00\",\"2022-10-23T00:00:00\",\"2022-10-24T00:00:00\",\"2022-10-26T00:00:00\",\"2022-10-30T00:00:00\",\"2022-11-01T00:00:00\",\"2022-11-03T00:00:00\",\"2022-11-04T00:00:00\",\"2022-11-06T00:00:00\",\"2022-11-07T00:00:00\",\"2022-11-08T00:00:00\",\"2022-11-10T00:00:00\",\"2022-11-13T00:00:00\",\"2022-11-14T00:00:00\",\"2022-11-15T00:00:00\",\"2022-11-16T00:00:00\",\"2022-11-18T00:00:00\"],\"y\":[2,1,2,1,3,2,4,3,2,2,3,2,1,1,3,2,1,1,1,5,2,15,3,2,1,1,1,1,1,1,5,2,2,1,2,1,1,19,2,2,1,1,1,1,1,4,2,1],\"type\":\"scatter\"},{\"hoverinfo\":\"text\",\"hovertext\":[\"<b>Topic 4</b><br>Words: bezrobocie, proc, fed, zajmuje, 16\",\"<b>Topic 4</b><br>Words: nisk\\u0105, podatkami, utrzymanie, wr\\u0119cz, pracy\",\"<b>Topic 4</b><br>Words: konkurencji, zwi\\u0119kszy, najmu, poziomu, pracy\",\"<b>Topic 4</b><br>Words: stopach, realnych, ciekawe, poziomie, prawie\",\"<b>Topic 4</b><br>Words: bezrobocie, 300politykalive, by\\u0142oby, jakby, glapi\\u0144ski\",\"<b>Topic 4</b><br>Words: bezrobocie, banku, nied\\u0142ugo, potrzebne, drugie\",\"<b>Topic 4</b><br>Words: bezrobocie, zmniejsz\\u0105, nisk\\u0105, lbalcerowicz, kt\\u00f3re\",\"<b>Topic 4</b><br>Words: 30, inflacji, bezrobocie, inflacj\\u0119, 17\",\"<b>Topic 4</b><br>Words: bezrobocie, posz\\u0142o, pekao_analizy, stopa, inflacj\\u0119\",\"<b>Topic 4</b><br>Words: wy\\u017csz\\u0105, pracy, rynek, wzrostu, tyle\",\"<b>Topic 4</b><br>Words: bezrobocie, wjakobik, czyli, b\\u0119dzie, gazu\",\"<b>Topic 4</b><br>Words: rafalmundry, komuny, ps, jednego, bezrobocie\",\"<b>Topic 4</b><br>Words: niskim, ekonomiczne, punkt, du\\u017cych, wzgl\\u0119dem\",\"<b>Topic 4</b><br>Words: bezrobocie, nisk\\u0105, recesj\\u0119, spoko, wyb\\u00f3r\",\"<b>Topic 4</b><br>Words: bezrobocie, gadfluence, recesj\\u0119, lubi, m\\u00f3g\\u0142by\",\"<b>Topic 4</b><br>Words: bezrobocie, 16, 30, bardzo, inflacja\",\"<b>Topic 4</b><br>Words: bezrobocie, johnsmiths74, 17, inflacj\\u0119, marlenamalag\",\"<b>Topic 4</b><br>Words: bezrobocie, johnsmiths74, 17, inflacj\\u0119, takim\",\"<b>Topic 4</b><br>Words: bezrobocie, lewicy, ni\\u017c, wiecie, wy\\u017csze\",\"<b>Topic 4</b><br>Words: bezrobocie, p\\u0142aca, czynnik\\u00f3w, 17, rosn\\u0105cych\",\"<b>Topic 4</b><br>Words: dane, statystyki, gorsze, stopa, bezrobocie\",\"<b>Topic 4</b><br>Words: bezrobocie, chrustu, rz\\u0119du, oj, wiosn\\u0119\",\"<b>Topic 4</b><br>Words: bezrobocie, procentowe, inflacji, 20, 90\",\"<b>Topic 4</b><br>Words: bezrobocie, gosc_radiazet, znacznie, pracy, slawomirmentzen\",\"<b>Topic 4</b><br>Words: 89, skoro, m\\u00f3wi, roku, inflacji\",\"<b>Topic 4</b><br>Words: kasa, inflacyjny, dodatek, naprawd\\u0119, jaki\\u015b\",\"<b>Topic 4</b><br>Words: bezrobocie, andrzejduda, tomo9000p, 17, tempie\",\"<b>Topic 4</b><br>Words: bezrobocie, za\\u0142o\\u017cenie, inflacji, aferypis, bierze\",\"<b>Topic 4</b><br>Words: bezrobocie, rekordy, polskieradio24, zapraszam, w\\u015br\\u00f3d\",\"<b>Topic 4</b><br>Words: bezrobocie, zobaczy\\u0107, rzeczywi\\u015bcie, lbalcerowicz, chcesz\",\"<b>Topic 4</b><br>Words: bezrobocie, miejsca, niskie, moment, m\\u00f3wi\\u0105c\",\"<b>Topic 4</b><br>Words: bezrobocie, dzieki, w\\u0142asnym, dolara, bazowej\",\"<b>Topic 4</b><br>Words: bezrobocie, popieramypmm, mieli, pieni\\u0119dzy, inflacj\\u0119\",\"<b>Topic 4</b><br>Words: bezrobocie, dolara, ropie, warunkach, niskie\",\"<b>Topic 4</b><br>Words: bezrobocie, logika, wzro\\u015bnie, zero, dudslaw\",\"<b>Topic 4</b><br>Words: zrobi, jasne, rzeczpospolita, swoje, stopy\",\"<b>Topic 4</b><br>Words: bezrobocie, nieco, 18, inflacj\\u0119, ponad\",\"<b>Topic 4</b><br>Words: bezrobocie, pracy, fiat_money, miejsca, prowadzi\",\"<b>Topic 4</b><br>Words: bezrobocie, rynek, 18, zdusi\\u0107, wirtualnapolska\",\"<b>Topic 4</b><br>Words: bezrobocie, du\\u017ce, statystyki, warunk\\u00f3w, niskie\",\"<b>Topic 4</b><br>Words: bezrobocie, pa\\u0144stwa, zdro\\u017ca\\u0142o, niskim, olgaewasemeniuk\",\"<b>Topic 4</b><br>Words: bezrobocie, piterson1980, ni\\u017cej, kupuj\\u0119, m\\u00f3wisz\",\"<b>Topic 4</b><br>Words: bezrobocie, przesiedle\\u0144c\\u00f3w, wraca, stycznia, jakie\\u015b\",\"<b>Topic 4</b><br>Words: bezrobocie, historycznie, niskie, g\\u0142\\u00f3wnie, polityki\",\"<b>Topic 4</b><br>Words: bezrobocie, doskonale, mniejsze, utrzymanie, najwa\\u017cniejsze\",\"<b>Topic 4</b><br>Words: punkt, gorsze, bezrobocie, beda, niz\",\"<b>Topic 4</b><br>Words: wy\\u017csze, bezrobocie, 2015, koniunktury, wzro\\u015bcie\"],\"marker\":{\"color\":\"#D55E00\"},\"mode\":\"lines\",\"name\":\"4_bezrobocie_inflacj\\u0119_17_inflacji\",\"x\":[\"2022-09-02T00:00:00\",\"2022-09-05T00:00:00\",\"2022-09-06T00:00:00\",\"2022-09-07T00:00:00\",\"2022-09-08T00:00:00\",\"2022-09-09T00:00:00\",\"2022-09-11T00:00:00\",\"2022-09-12T00:00:00\",\"2022-09-13T00:00:00\",\"2022-09-14T00:00:00\",\"2022-09-15T00:00:00\",\"2022-09-22T00:00:00\",\"2022-09-24T00:00:00\",\"2022-09-25T00:00:00\",\"2022-09-26T00:00:00\",\"2022-09-28T00:00:00\",\"2022-09-30T00:00:00\",\"2022-10-01T00:00:00\",\"2022-10-02T00:00:00\",\"2022-10-03T00:00:00\",\"2022-10-07T00:00:00\",\"2022-10-09T00:00:00\",\"2022-10-15T00:00:00\",\"2022-10-17T00:00:00\",\"2022-10-18T00:00:00\",\"2022-10-19T00:00:00\",\"2022-10-20T00:00:00\",\"2022-10-21T00:00:00\",\"2022-10-22T00:00:00\",\"2022-10-23T00:00:00\",\"2022-10-27T00:00:00\",\"2022-10-29T00:00:00\",\"2022-10-31T00:00:00\",\"2022-11-01T00:00:00\",\"2022-11-02T00:00:00\",\"2022-11-05T00:00:00\",\"2022-11-06T00:00:00\",\"2022-11-07T00:00:00\",\"2022-11-08T00:00:00\",\"2022-11-09T00:00:00\",\"2022-11-10T00:00:00\",\"2022-11-13T00:00:00\",\"2022-11-15T00:00:00\",\"2022-11-16T00:00:00\",\"2022-11-17T00:00:00\",\"2022-11-18T00:00:00\",\"2022-11-19T00:00:00\"],\"y\":[2,1,1,1,1,2,2,1,5,1,1,1,1,1,2,1,16,10,2,2,1,1,9,2,1,1,3,4,2,1,3,2,1,2,2,1,5,3,3,3,4,4,1,1,2,2,1],\"type\":\"scatter\"},{\"hoverinfo\":\"text\",\"hovertext\":[\"<b>Topic 5</b><br>Words: naftowej, dnia, jakby, ropy, by\\u0142a\",\"<b>Topic 5</b><br>Words: naftowej, dnia, jakby, ropy, by\\u0142a\",\"<b>Topic 5</b><br>Words: firarafaa, sukces, jakby, rop\\u0119, od\",\"<b>Topic 5</b><br>Words: ropy, rosja, zdanie, wi\\u0119cej, moje\",\"<b>Topic 5</b><br>Words: oj, wreszcie, wydobycia, ropy, kto\\u015b\",\"<b>Topic 5</b><br>Words: przyj\\u0105\\u0107, fishing_fever69, ci\\u0105gle, ropy, j\\u0105\",\"<b>Topic 5</b><br>Words: ropy, us, ropie, zwi\\u0119kszy\\u0107, liczy\",\"<b>Topic 5</b><br>Words: pozwoli, ropie, \\u015bwiat, dnia, taniej\",\"<b>Topic 5</b><br>Words: du\\u017cych, wraz, rosj\\u0105, wydobycia, ropy\",\"<b>Topic 5</b><br>Words: ropy, usa, wydobycia, opec, naftowej\",\"<b>Topic 5</b><br>Words: ropy, opec, zmniejsz\\u0105, naftowej, mniejsze\",\"<b>Topic 5</b><br>Words: opec, ropy, kraju, w\\u0142asnym, usa\",\"<b>Topic 5</b><br>Words: ropy, zdusi\\u0107, miesi\\u0105cach, rosj\\u0119, atom\",\"<b>Topic 5</b><br>Words: opec, odpowiedzi, bezpiecze\\u0144stwa, ropy, znacznie\",\"<b>Topic 5</b><br>Words: opec, ropy, usa, wydobycia, naftowej\",\"<b>Topic 5</b><br>Words: ropy, opec, naftowej, wydobycia, ekonomiczny\",\"<b>Topic 5</b><br>Words: ropy, usa, prezydent, opec, sprawie\",\"<b>Topic 5</b><br>Words: opec, ropy, decyzji, produkcji, naftowej\",\"<b>Topic 5</b><br>Words: opec, ropy, usa, produkcji, wydobycia\",\"<b>Topic 5</b><br>Words: opec, sposoby, zmniejszenia, ropy, ostatnie\",\"<b>Topic 5</b><br>Words: swoj\\u0105, t\\u0105, niech, ropy, opec\",\"<b>Topic 5</b><br>Words: ropy, kt\\u00f3rym, centrum, czy\\u017cby, przemys\\u0142u\",\"<b>Topic 5</b><br>Words: ropy, przesiedle\\u0144c\\u00f3w, patrz\\u0105c, katastrofy, praktycznie\",\"<b>Topic 5</b><br>Words: ropy, szczesniaka, chiny, zdecydowa\\u0142a, niekt\\u00f3re\",\"<b>Topic 5</b><br>Words: jego, koniec, sie, ropy, tylko\",\"<b>Topic 5</b><br>Words: ropy, szczesniaka, opec, sprawie, w\\u0142asnym\",\"<b>Topic 5</b><br>Words: konsekwencjami, mini, grodzkirobert, samym, ropy\",\"<b>Topic 5</b><br>Words: konsekwencjami, mini, grodzkirobert, samym, ropy\",\"<b>Topic 5</b><br>Words: m\\u00f3g\\u0142by, zacz\\u0119\\u0142a, rop\\u0119, kto\\u015b, ta\",\"<b>Topic 5</b><br>Words: usa, rosj\\u0119, strony, ropy, czym\",\"<b>Topic 5</b><br>Words: naftowej, ropy, opec, usa, wydobycia\",\"<b>Topic 5</b><br>Words: ropy, wbrew, wydobycia, du\\u017cy, kwestii\",\"<b>Topic 5</b><br>Words: ropy, sprzeda\\u017c, zim\\u0105, cenach, dodatek\",\"<b>Topic 5</b><br>Words: naszego, naftowej, rozwoju, grupy, ropy\",\"<b>Topic 5</b><br>Words: naftowej, ropy, opec, historycznie, decyzji\",\"<b>Topic 5</b><br>Words: opec, bloomberg, warunkach, mo\\u017cliwo\\u015b\\u0107, powinny\",\"<b>Topic 5</b><br>Words: absolutnie, gdy, podobnie, ropy, tylko\",\"<b>Topic 5</b><br>Words: el, marcu, jednocze\\u015bnie, 2015, ropy\",\"<b>Topic 5</b><br>Words: ropy, niskich, krajem, zreszt\\u0105, kupujemy\"],\"marker\":{\"color\":\"#0072B2\"},\"mode\":\"lines\",\"name\":\"5_ropy_opec_usa_naftowej\",\"x\":[\"2022-09-08T00:00:00\",\"2022-09-09T00:00:00\",\"2022-09-10T00:00:00\",\"2022-09-13T00:00:00\",\"2022-09-17T00:00:00\",\"2022-09-22T00:00:00\",\"2022-09-30T00:00:00\",\"2022-10-03T00:00:00\",\"2022-10-04T00:00:00\",\"2022-10-05T00:00:00\",\"2022-10-06T00:00:00\",\"2022-10-07T00:00:00\",\"2022-10-09T00:00:00\",\"2022-10-10T00:00:00\",\"2022-10-11T00:00:00\",\"2022-10-12T00:00:00\",\"2022-10-13T00:00:00\",\"2022-10-14T00:00:00\",\"2022-10-15T00:00:00\",\"2022-10-17T00:00:00\",\"2022-10-19T00:00:00\",\"2022-10-21T00:00:00\",\"2022-10-23T00:00:00\",\"2022-10-24T00:00:00\",\"2022-10-25T00:00:00\",\"2022-10-26T00:00:00\",\"2022-10-28T00:00:00\",\"2022-10-29T00:00:00\",\"2022-10-30T00:00:00\",\"2022-11-01T00:00:00\",\"2022-11-02T00:00:00\",\"2022-11-03T00:00:00\",\"2022-11-07T00:00:00\",\"2022-11-08T00:00:00\",\"2022-11-10T00:00:00\",\"2022-11-11T00:00:00\",\"2022-11-12T00:00:00\",\"2022-11-14T00:00:00\",\"2022-11-18T00:00:00\"],\"y\":[1,1,1,2,1,1,2,1,1,10,8,2,1,1,7,16,4,4,6,2,1,5,2,4,1,4,4,1,1,4,1,3,1,2,2,1,1,1,2],\"type\":\"scatter\"},{\"hoverinfo\":\"text\",\"hovertext\":[\"<b>Topic 6</b><br>Words: ci\\u0119\\u017ckiej, pieni\\u0105dz, jaka\\u015b, walka, daje\",\"<b>Topic 6</b><br>Words: obligacje, wykupuj\\u0105, najmu, bra\\u0107, wska\\u017anik\",\"<b>Topic 6</b><br>Words: us, fed, si\\u0142\\u0119, prywatne, d\\u0142ugu\",\"<b>Topic 6</b><br>Words: jmiziolek, realnych, ogromny, kredyt, pieni\\u0105dz\",\"<b>Topic 6</b><br>Words: obligacje, slawomirmentzen, powy\\u017cej, pieni\\u0105dza, inflacji\",\"<b>Topic 6</b><br>Words: fed, prawdopodobnie, walka, bedzie, wydaje\",\"<b>Topic 6</b><br>Words: obligacje, inflacj\\u0105, co\\u015b, niz, banki\",\"<b>Topic 6</b><br>Words: obligacje, inflacj\\u0105, morawieckim, s\\u0105, od\",\"<b>Topic 6</b><br>Words: obligacje, tez\\u0119, kto\\u015b, banki, podaje\",\"<b>Topic 6</b><br>Words: zarabia\\u0107, warunkach, opr\\u00f3cz, trudno, usd\",\"<b>Topic 6</b><br>Words: ktos, obligacje, widz\\u0105, wzrost, natomiast\",\"<b>Topic 6</b><br>Words: obligacje, mn\\u00f3stwo, sjastrzebowski, osoby, \\u015brodk\\u00f3w\",\"<b>Topic 6</b><br>Words: poda\\u017c, rosn\\u0105ca, wyj\\u015b\\u0107, uk, ci\\u0119\\u017cko\",\"<b>Topic 6</b><br>Words: obligacje, krok, generuj\\u0105, kredyt, banki\",\"<b>Topic 6</b><br>Words: obligacje, wzi\\u0105\\u0142, zarabia\\u0107, kredyty, tomeknarkun\",\"<b>Topic 6</b><br>Words: trafi\\u0142a, recesj\\u0119, banki, powoduje, pieni\\u0105dza\",\"<b>Topic 6</b><br>Words: obligacje, nowych, niez\\u0142e, piotr_weglarz, stopach\",\"<b>Topic 6</b><br>Words: nisk\\u0105, banki, amp, kredyt, tomaszwyluda\",\"<b>Topic 6</b><br>Words: dzieki, byly, beda, niz, aby\",\"<b>Topic 6</b><br>Words: banki, doda\\u0107, walce, spo\\u0142ecze\\u0144stwa, procentowych\",\"<b>Topic 6</b><br>Words: utrzymanie, obligacje, skupu, prezes, przecie\\u017c\",\"<b>Topic 6</b><br>Words: obligacje, tanich, skupu, bior\\u0105c, dom\\u00f3w\",\"<b>Topic 6</b><br>Words: dzi\\u0119ki, premierrp, ile, morawieckim, inflacji\",\"<b>Topic 6</b><br>Words: ka\\u017cdy, zmniejsza, konradberkowicz, banku, moje\",\"<b>Topic 6</b><br>Words: zaledwie, 35, dudslaw, wiecie, pln\",\"<b>Topic 6</b><br>Words: tomo9000p, zaledwie, 35, dudslaw, wiecie\",\"<b>Topic 6</b><br>Words: obligacje, kasy, premierrp, lat, rozumiej\\u0105\",\"<b>Topic 6</b><br>Words: spowoduje, obligacje, drukowa\\u0107, fed, pozwoli\",\"<b>Topic 6</b><br>Words: proc, si\\u0142\\u0119, tomaszwyluda, powoduje, jaka\\u015b\",\"<b>Topic 6</b><br>Words: zmniejszy\\u0107, poda\\u017c, mniejsza, wzrosn\\u0105, pomys\\u0142\",\"<b>Topic 6</b><br>Words: mam, wi, kredyty, obni\\u017cenia, wakacje\",\"<b>Topic 6</b><br>Words: realnie, obligacje, licz\\u0105, wyj\\u015bcia, dobrego\",\"<b>Topic 6</b><br>Words: obligacje, niskim, bazowej, wydatk\\u00f3w, wakacje\",\"<b>Topic 6</b><br>Words: kredyt, sie, twoja, tomaszwyluda, decyzje\",\"<b>Topic 6</b><br>Words: obligacje, proc, za\\u0142o\\u017cenie, m\\u00f3wi\\u0105, ani\",\"<b>Topic 6</b><br>Words: fed, wp\\u0142ywa, zna, rynkach, poziom\",\"<b>Topic 6</b><br>Words: dolara, powoduje, znacznie, spad\\u0142a, spadek\",\"<b>Topic 6</b><br>Words: panuje, gdy, poziom, spada, ro\\u015bnie\",\"<b>Topic 6</b><br>Words: obligacje, \\u015brodki, mogli, oszcz\\u0119dno\\u015bci, naszych\",\"<b>Topic 6</b><br>Words: obligacje, brawo, piotrmuller, wed\\u0142ug, morawieckiego\",\"<b>Topic 6</b><br>Words: obligacje, podstawowych, ca\\u0142ego, problem\\u00f3w, wirtualnapolska\",\"<b>Topic 6</b><br>Words: dro\\u017cyznapis, premierrp, inflacj\\u0105, ile, 17\",\"<b>Topic 6</b><br>Words: regulacji, doda\\u0107, c\\u00f3\\u017c, racj\\u0119, kraj\",\"<b>Topic 6</b><br>Words: obligacje, dolara, ryzyko, z\\u0142oty, nasza\",\"<b>Topic 6</b><br>Words: grzegor95956376, pieni\\u0105dze, d\\u0142ug, rmf24pl, potrzebne\",\"<b>Topic 6</b><br>Words: d\\u0142ugu, lkwarzecha, inflacj\\u0119, tylko, obligacje\",\"<b>Topic 6</b><br>Words: w\\u0142asnym, rafalhirsch, etc, p\\u0142aci, swojej\",\"<b>Topic 6</b><br>Words: bank, obligacje, tomo9000p, fiat_money, kredyt\",\"<b>Topic 6</b><br>Words: obligacje, inflacj\\u0105, akurat, bym, sprzedaje\",\"<b>Topic 6</b><br>Words: poziom, jaka, by\\u0142a, oraz, inflacja\",\"<b>Topic 6</b><br>Words: konkurencja, konkurencji, zera, ryzyko, rezerwy\",\"<b>Topic 6</b><br>Words: powiem, spadku, kolejnych, tez, kraje\",\"<b>Topic 6</b><br>Words: obligacje, liczy, kosmos, nawet, zyski\",\"<b>Topic 6</b><br>Words: lkwarzecha, piechocinski, obligacje, kredyt\\u00f3w, rynku\",\"<b>Topic 6</b><br>Words: pieni\\u0105dze, mocno, wci\\u0105\\u017c, prawda, du\\u017co\",\"<b>Topic 6</b><br>Words: mia\\u0142by, kredyt, kupi\\u0142em, moje, wzrosn\\u0105\"],\"marker\":{\"color\":\"#CC79A7\"},\"mode\":\"lines\",\"name\":\"6_obligacje_inflacji_inflacj\\u0105_kredyt\",\"x\":[\"2022-09-06T00:00:00\",\"2022-09-07T00:00:00\",\"2022-09-08T00:00:00\",\"2022-09-12T00:00:00\",\"2022-09-13T00:00:00\",\"2022-09-14T00:00:00\",\"2022-09-15T00:00:00\",\"2022-09-16T00:00:00\",\"2022-09-17T00:00:00\",\"2022-09-18T00:00:00\",\"2022-09-19T00:00:00\",\"2022-09-22T00:00:00\",\"2022-09-23T00:00:00\",\"2022-09-24T00:00:00\",\"2022-09-25T00:00:00\",\"2022-09-26T00:00:00\",\"2022-09-30T00:00:00\",\"2022-10-01T00:00:00\",\"2022-10-04T00:00:00\",\"2022-10-05T00:00:00\",\"2022-10-06T00:00:00\",\"2022-10-07T00:00:00\",\"2022-10-09T00:00:00\",\"2022-10-10T00:00:00\",\"2022-10-11T00:00:00\",\"2022-10-12T00:00:00\",\"2022-10-14T00:00:00\",\"2022-10-15T00:00:00\",\"2022-10-16T00:00:00\",\"2022-10-17T00:00:00\",\"2022-10-18T00:00:00\",\"2022-10-20T00:00:00\",\"2022-10-21T00:00:00\",\"2022-10-22T00:00:00\",\"2022-10-23T00:00:00\",\"2022-10-24T00:00:00\",\"2022-10-25T00:00:00\",\"2022-10-27T00:00:00\",\"2022-10-28T00:00:00\",\"2022-10-29T00:00:00\",\"2022-10-31T00:00:00\",\"2022-11-02T00:00:00\",\"2022-11-03T00:00:00\",\"2022-11-04T00:00:00\",\"2022-11-05T00:00:00\",\"2022-11-06T00:00:00\",\"2022-11-07T00:00:00\",\"2022-11-08T00:00:00\",\"2022-11-09T00:00:00\",\"2022-11-10T00:00:00\",\"2022-11-11T00:00:00\",\"2022-11-12T00:00:00\",\"2022-11-13T00:00:00\",\"2022-11-14T00:00:00\",\"2022-11-16T00:00:00\",\"2022-11-18T00:00:00\"],\"y\":[2,2,1,2,4,2,4,1,3,1,1,3,2,3,3,2,3,2,1,1,3,4,1,1,1,2,3,1,2,1,3,3,4,2,3,1,1,1,1,1,5,1,1,1,3,1,2,2,2,1,1,1,2,5,1,1],\"type\":\"scatter\"},{\"hoverinfo\":\"text\",\"hovertext\":[\"<b>Topic 7</b><br>Words: ma\\u0142e, wielki, sa, ma\\u0142y, du\\u017ce\",\"<b>Topic 7</b><br>Words: \\u017ar\\u00f3de\\u0142, problemem, samym, tez, dzia\\u0142a\",\"<b>Topic 7</b><br>Words: model, typu, \\u017cadnego, razie, tego\",\"<b>Topic 7</b><br>Words: powiedzia\\u0142, paliwa, pewne, s\\u0105, moskwa_anna\",\"<b>Topic 7</b><br>Words: jakie\\u015b, pani, dlaczego, ma\\u0142e, mefistofelleess\",\"<b>Topic 7</b><br>Words: pani, ma\\u0142y, moja, wyniku, do\\u015b\\u0107\",\"<b>Topic 7</b><br>Words: bezpiecze\\u0144stwa, taki, od, ma\\u0142e, mefistofelleess\",\"<b>Topic 7</b><br>Words: ma\\u0142e, tak, mefistofelleess, mini, rafalhubert\",\"<b>Topic 7</b><br>Words: by\\u0142by, najlepiej, by\\u0142oby, produkcji, leszczyna\",\"<b>Topic 7</b><br>Words: czekuku2, gt, kraj, 50, kt\\u00f3ry\",\"<b>Topic 7</b><br>Words: m\\u00f3g\\u0142by, 150, tys, 10, ton\",\"<b>Topic 7</b><br>Words: 33, jednego, lata, ani, ma\\u0142e\",\"<b>Topic 7</b><br>Words: pieni\\u0105dz, pan, ma\\u0142e, mefistofelleess, mini\",\"<b>Topic 7</b><br>Words: tydzie\\u0144, ma\\u0142e, mefistofelleess, mini, rafalhubert\",\"<b>Topic 7</b><br>Words: t\\u0119, 1972tomek, zawsze, zamiast, nawet\",\"<b>Topic 7</b><br>Words: najwi\\u0119kszych, trzech, atom, kredyt\\u00f3w, produkcji\",\"<b>Topic 7</b><br>Words: bez, musi, ok, rafalhubert, byc\",\"<b>Topic 7</b><br>Words: wod\\u0119, wybuchu, przypadku, innego, podobno\",\"<b>Topic 7</b><br>Words: drodze, rafalhubert, jaki\\u015b, pan, ju\\u017c\",\"<b>Topic 7</b><br>Words: chodzi, nikomu, tymi, raczej, jakby\",\"<b>Topic 7</b><br>Words: spoko, rad\\u0119, jakubwiech, zabraknie, wody\",\"<b>Topic 7</b><br>Words: praktycznie, piotrwiel, niez\\u0142e, wody, by\\u0142y\",\"<b>Topic 7</b><br>Words: pani, wi\\u0119cej, ma\\u0142e, mefistofelleess, mini\",\"<b>Topic 7</b><br>Words: my\\u015bl\\u0119, one, wiele, jestem, bardziej\",\"<b>Topic 7</b><br>Words: zam\\u00f3wi\\u0107, chinach, najszybciej, bogdan607, da\\u0107\",\"<b>Topic 7</b><br>Words: zera, czy\\u017cby, powa\\u017cnie, du\\u017ce, czeka\",\"<b>Topic 7</b><br>Words: ma\\u0142e, autolikos1, najlepsze, morawiecki, te\",\"<b>Topic 7</b><br>Words: wsz\\u0119dzie, skoro, ma\\u0142e, mefistofelleess, mini\",\"<b>Topic 7</b><br>Words: mefistofelleess, mini, p\\u00f3jdzie, ka\\u017cdego, dalej\",\"<b>Topic 7</b><br>Words: ma\\u0142e, zatem, brawo, zosta\\u0107, ka\\u017cdemu\",\"<b>Topic 7</b><br>Words: ma\\u0142e, podobnie, powinny, 100, mld\",\"<b>Topic 7</b><br>Words: zobaczymy, zjednoczonych, el, zapotrzebowanie, produkcj\\u0119\",\"<b>Topic 7</b><br>Words: rafalhubert, pytanie, moskwa_anna, w\\u0142a\\u015bnie, by\\u0142\",\"<b>Topic 7</b><br>Words: ma\\u0142y, zosta\\u0107, nowego, podobno, pytanie\",\"<b>Topic 7</b><br>Words: od, ma\\u0142e, mefistofelleess, mini, rafalhubert\",\"<b>Topic 7</b><br>Words: piotrmuller, ma\\u0142e, mefistofelleess, mini, rafalhubert\",\"<b>Topic 7</b><br>Words: zosta\\u0107, rafalhubert, musi, wszystko, pan\"],\"marker\":{\"color\":\"#E69F00\"},\"mode\":\"lines\",\"name\":\"7_ma\\u0142e_mefistofelleess_mini_rafalhubert\",\"x\":[\"2022-09-05T00:00:00\",\"2022-09-08T00:00:00\",\"2022-09-09T00:00:00\",\"2022-09-12T00:00:00\",\"2022-09-16T00:00:00\",\"2022-09-18T00:00:00\",\"2022-09-19T00:00:00\",\"2022-09-22T00:00:00\",\"2022-09-25T00:00:00\",\"2022-09-26T00:00:00\",\"2022-09-27T00:00:00\",\"2022-09-29T00:00:00\",\"2022-10-05T00:00:00\",\"2022-10-07T00:00:00\",\"2022-10-10T00:00:00\",\"2022-10-14T00:00:00\",\"2022-10-16T00:00:00\",\"2022-10-17T00:00:00\",\"2022-10-19T00:00:00\",\"2022-10-20T00:00:00\",\"2022-10-23T00:00:00\",\"2022-10-24T00:00:00\",\"2022-10-26T00:00:00\",\"2022-10-27T00:00:00\",\"2022-10-29T00:00:00\",\"2022-10-30T00:00:00\",\"2022-10-31T00:00:00\",\"2022-11-01T00:00:00\",\"2022-11-02T00:00:00\",\"2022-11-03T00:00:00\",\"2022-11-04T00:00:00\",\"2022-11-05T00:00:00\",\"2022-11-06T00:00:00\",\"2022-11-09T00:00:00\",\"2022-11-11T00:00:00\",\"2022-11-15T00:00:00\",\"2022-11-16T00:00:00\"],\"y\":[3,1,1,4,1,2,1,1,1,1,1,1,1,1,2,2,3,1,1,2,1,3,1,2,5,3,9,1,10,10,2,3,2,2,1,1,1],\"type\":\"scatter\"},{\"hoverinfo\":\"text\",\"hovertext\":[\"<b>Topic 8</b><br>Words: reparacje, temat, rekordowa, pierwszy, wczoraj\",\"<b>Topic 8</b><br>Words: tvp_info, telewizja, skoro, znaczenie, m\\u00f3wisz\",\"<b>Topic 8</b><br>Words: tvp_info, tvp, telewizja, wyko\\u0144czy, dalszy\",\"<b>Topic 8</b><br>Words: wiadomoscitvp, tvp_info, 16, inflacja, tvp\",\"<b>Topic 8</b><br>Words: tvp_info, us, zapraszam, fed, inflacyjny\",\"<b>Topic 8</b><br>Words: tvp_info, g\\u00f3ry, takim, sklepach, wzrost\",\"<b>Topic 8</b><br>Words: tvp_info, przekaz, dopiero, 18, wy\",\"<b>Topic 8</b><br>Words: tvp_info, sk\\u0105d, dro\\u017cyzna, ta, ten\",\"<b>Topic 8</b><br>Words: tvp_info, jowita_w, tvp, sukces, wam\",\"<b>Topic 8</b><br>Words: ani, tvp_info, tvp, kolejnych, nbppl\",\"<b>Topic 8</b><br>Words: tvp_info, tvp, informacja, tymczasem, inflacji\",\"<b>Topic 8</b><br>Words: tvp_info, procentowe, kredyt\\u00f3w, raty, stopy\",\"<b>Topic 8</b><br>Words: stron\\u0119, energi\\u0105, tvp_info, inflacj\\u0105, tvp\",\"<b>Topic 8</b><br>Words: tvp_info, tvp, damy, realny, tej\",\"<b>Topic 8</b><br>Words: tvp_info, zwi\\u0119kszy\\u0107, kosmos, inflacj\\u0119, walczy\\u0107\",\"<b>Topic 8</b><br>Words: dawa\\u0107, dop\\u0142aty, tvn24, 25, te\",\"<b>Topic 8</b><br>Words: tvp_info, nied\\u0142ugo, zrobi, p\\u00f3\\u0142, powinien\",\"<b>Topic 8</b><br>Words: tvp_info, drukowanie, c\\u00f3\\u017c, jedno, idzie\",\"<b>Topic 8</b><br>Words: tvn, mi, ok, m\\u00f3wi, dlaczego\",\"<b>Topic 8</b><br>Words: tvp_info, tvn24, dop\\u0142at, transportu, wp\\u0142ywu\",\"<b>Topic 8</b><br>Words: tvp_info, nas, inflacja, tvp, inflacji\",\"<b>Topic 8</b><br>Words: tvp_info, ile, inflacja, tvp, inflacji\",\"<b>Topic 8</b><br>Words: gierka, tvp_info, zbli\\u017ca, szybko, dro\\u017cyzna\",\"<b>Topic 8</b><br>Words: tvp_info, spo\\u0142ecze\\u0144stwa, rzecz, zn\\u00f3w, dzia\\u0142a\",\"<b>Topic 8</b><br>Words: tvp_info, wy\\u017csz\\u0105, spokojnie, wysok\\u0105, my\",\"<b>Topic 8</b><br>Words: tvp, swoj\\u0105, pan, mo\\u017ce, inflacji\",\"<b>Topic 8</b><br>Words: doskonale, tvp, g\\u0142owy, polak, tvn\",\"<b>Topic 8</b><br>Words: oczywiscie, tvp_info, wiecej, mbalawelder, 40\",\"<b>Topic 8</b><br>Words: tvp_info, w\\u015br\\u00f3d, rekordowa, likwidacja, jeste\\u015bcie\",\"<b>Topic 8</b><br>Words: tvp_info, walce, kupi, stycznia, procent\",\"<b>Topic 8</b><br>Words: szykuj\\u0105, tvp_info, prognoza, mafia, 24\",\"<b>Topic 8</b><br>Words: tvp_info, najwa\\u017cniejsze, ostatnich, kredyt\\u00f3w, dzieci\",\"<b>Topic 8</b><br>Words: tvp_info, jeste\\u015bmy, czego, ponad, 20\",\"<b>Topic 8</b><br>Words: mog\\u0142y, lewica, pom\\u00f3c, procentowych, tvn\",\"<b>Topic 8</b><br>Words: pewien, tvp, ostatnio, mieszka\\u0144c\\u00f3w, mam\",\"<b>Topic 8</b><br>Words: tvp_info, realnie, rosn\\u0105, w\\u0142a\\u015bciwie, nikomu\",\"<b>Topic 8</b><br>Words: tvp_info, ekonomiczny, podoba, komu\\u015b, 26\",\"<b>Topic 8</b><br>Words: tvp_info, rosn\\u0105ca, sukces, wy, rz\\u0105du\",\"<b>Topic 8</b><br>Words: tvp_info, wska\\u017anik, tvn24, oznacza, jeste\\u015bmy\",\"<b>Topic 8</b><br>Words: dok\\u0142adnie, tvp_info, wszystkich, inflacja, tvp\"],\"marker\":{\"color\":\"#56B4E9\"},\"mode\":\"lines\",\"name\":\"8_tvp_info_tvp_inflacji_inflacja\",\"x\":[\"2022-09-01T00:00:00\",\"2022-09-06T00:00:00\",\"2022-09-15T00:00:00\",\"2022-09-20T00:00:00\",\"2022-09-21T00:00:00\",\"2022-09-22T00:00:00\",\"2022-09-25T00:00:00\",\"2022-09-26T00:00:00\",\"2022-09-27T00:00:00\",\"2022-09-28T00:00:00\",\"2022-09-30T00:00:00\",\"2022-10-01T00:00:00\",\"2022-10-02T00:00:00\",\"2022-10-03T00:00:00\",\"2022-10-04T00:00:00\",\"2022-10-07T00:00:00\",\"2022-10-08T00:00:00\",\"2022-10-14T00:00:00\",\"2022-10-18T00:00:00\",\"2022-10-19T00:00:00\",\"2022-10-20T00:00:00\",\"2022-10-21T00:00:00\",\"2022-10-24T00:00:00\",\"2022-10-26T00:00:00\",\"2022-10-27T00:00:00\",\"2022-10-28T00:00:00\",\"2022-10-30T00:00:00\",\"2022-10-31T00:00:00\",\"2022-11-02T00:00:00\",\"2022-11-03T00:00:00\",\"2022-11-04T00:00:00\",\"2022-11-06T00:00:00\",\"2022-11-08T00:00:00\",\"2022-11-09T00:00:00\",\"2022-11-10T00:00:00\",\"2022-11-13T00:00:00\",\"2022-11-14T00:00:00\",\"2022-11-15T00:00:00\",\"2022-11-17T00:00:00\",\"2022-11-19T00:00:00\"],\"y\":[1,3,4,1,2,1,2,1,2,2,14,1,1,3,2,1,1,2,1,5,1,1,1,2,2,1,1,3,1,1,1,1,2,1,1,2,4,2,2,1],\"type\":\"scatter\"},{\"hoverinfo\":\"text\",\"hovertext\":[\"<b>Topic 9</b><br>Words: ci\\u0119\\u017cko, by\\u0142em, 55, ostatnio, kilka\",\"<b>Topic 9</b><br>Words: vat, zawsze, 15, cenie, mo\\u017cna\",\"<b>Topic 9</b><br>Words: mimo, zobaczy\\u0107, dlaczego, produkcj\\u0119, polak\",\"<b>Topic 9</b><br>Words: kedzierskimarc, brak, minimalnej, ceny, jest\",\"<b>Topic 9</b><br>Words: zapas, samego, ni\\u017csza, wysoka, du\\u017co\",\"<b>Topic 9</b><br>Words: samo, wy, sklepach, raz, wi\\u0119cej\",\"<b>Topic 9</b><br>Words: szkoda, ca\\u0142ym, cen\\u0105, 15, s\\u0105\",\"<b>Topic 9</b><br>Words: bior\\u0105c, wzro\\u015bcie, informacja, uwag\\u0119, pewno\",\"<b>Topic 9</b><br>Words: wska\\u017anik, marlenamalag, te\\u017c, wzrostu, by\\u0142\",\"<b>Topic 9</b><br>Words: warunk\\u00f3w, w\\u0105tek, obecnej, umowy, cen\\u0105\",\"<b>Topic 9</b><br>Words: p\\u00f3\\u0142, przed, cena, roku, tego\",\"<b>Topic 9</b><br>Words: pan, cena, czy, podnie\\u015b\\u0107, ceny\",\"<b>Topic 9</b><br>Words: wykupuj\\u0105, zamiast, czeka\\u0107, codziennie, widzi\",\"<b>Topic 9</b><br>Words: wzros\\u0142a, ciekawe, pan, ile, cena\",\"<b>Topic 9</b><br>Words: 17, dla, polak\\u00f3w, procentowych, podatk\\u00f3w\",\"<b>Topic 9</b><br>Words: tomo9000p, podatkami, rzad, kolejnych, bedzie\",\"<b>Topic 9</b><br>Words: podnie\\u015b\\u0107, zabra\\u0107, licz\\u0105, wyb\\u00f3r, \\u017cy\\u0107\",\"<b>Topic 9</b><br>Words: spos\\u00f3b, pisjestzadrogi, polski\\u0142ad, podwy\\u017cki, nowych\",\"<b>Topic 9</b><br>Words: jowita_w, rzecz, jaka, by\\u0142y, chyba\",\"<b>Topic 9</b><br>Words: ci\\u0119\\u017cko, nied\\u0142ugo, spadaj\\u0105, coolfonpl, rosn\\u0105\",\"<b>Topic 9</b><br>Words: pokaza\\u0107, cena, jest, podnie\\u015b\\u0107, ceny\",\"<b>Topic 9</b><br>Words: news, czym\\u015b, kogo\\u015b, drugim, kto\",\"<b>Topic 9</b><br>Words: slawomirmentzen, jeste\\u015bmy, proces, kolejne, ludzie\",\"<b>Topic 9</b><br>Words: afera, jaka\\u015b, opa\\u0142, jedziemy, chwil\\u0119\",\"<b>Topic 9</b><br>Words: sklepie, 70, oczywi\\u015bcie, wszystko, z\\u0142\",\"<b>Topic 9</b><br>Words: sklepie, 70, oczywi\\u015bcie, wszystko, z\\u0142\",\"<b>Topic 9</b><br>Words: opakowania, praktycznie, kosztem, cz\\u0142owiek, sama\",\"<b>Topic 9</b><br>Words: sklepie, 70, oczywi\\u015bcie, wszystko, z\\u0142\",\"<b>Topic 9</b><br>Words: bbudka, leszczyna, akcyza, platforma_org, m\\u00f3wisz\",\"<b>Topic 9</b><br>Words: galopuj\\u0105ca, kasy, wegiel, 15, z\\u0142\",\"<b>Topic 9</b><br>Words: tanich, tak\\u017ce, zdanie, sklepie, fajnie\",\"<b>Topic 9</b><br>Words: zjada, jasne, kupuj\\u0105, wida\\u0107, mniej\",\"<b>Topic 9</b><br>Words: podnie\\u015b\\u0107, weekend, kobiety, wzro\\u015bnie, dzieci\",\"<b>Topic 9</b><br>Words: polak, walczy\\u0107, np, wy, dlaczego\",\"<b>Topic 9</b><br>Words: kupi\\u0105, liczy, by\\u0142o, rzeczy, podobnie\",\"<b>Topic 9</b><br>Words: podnie\\u015b\\u0107, nale\\u017cy, ogranicze\\u0144, z\\u0142, umie\",\"<b>Topic 9</b><br>Words: sklepu, stronie, wy\\u017csze, koszt, akcyza\",\"<b>Topic 9</b><br>Words: kibic\\u00f3w, zaczn\\u0105, europy, z\\u0142otych, albo\",\"<b>Topic 9</b><br>Words: podnie\\u015b\\u0107, daj\\u0105, decyzji, naszego, jedno\",\"<b>Topic 9</b><br>Words: dost\\u0119pne, rekordowa, kogo, sklepach, tymczasem\",\"<b>Topic 9</b><br>Words: tzn, domy, banki, fakt, by\\u0142oby\",\"<b>Topic 9</b><br>Words: artyku\\u0142\\u00f3w, podstawowych, m\\u00f3wi\\u0105c, \\u015bredniej, \\u015brednio\"],\"marker\":{\"color\":\"#009E73\"},\"mode\":\"lines\",\"name\":\"9_podnie\\u015b\\u0107_ceny_cena_jeste\\u015bmy\",\"x\":[\"2022-09-01T00:00:00\",\"2022-09-05T00:00:00\",\"2022-09-06T00:00:00\",\"2022-09-07T00:00:00\",\"2022-09-08T00:00:00\",\"2022-09-10T00:00:00\",\"2022-09-12T00:00:00\",\"2022-09-13T00:00:00\",\"2022-09-16T00:00:00\",\"2022-09-17T00:00:00\",\"2022-09-20T00:00:00\",\"2022-09-21T00:00:00\",\"2022-09-22T00:00:00\",\"2022-09-27T00:00:00\",\"2022-09-30T00:00:00\",\"2022-10-01T00:00:00\",\"2022-10-02T00:00:00\",\"2022-10-04T00:00:00\",\"2022-10-05T00:00:00\",\"2022-10-13T00:00:00\",\"2022-10-15T00:00:00\",\"2022-10-18T00:00:00\",\"2022-10-19T00:00:00\",\"2022-10-20T00:00:00\",\"2022-10-22T00:00:00\",\"2022-10-23T00:00:00\",\"2022-10-24T00:00:00\",\"2022-10-27T00:00:00\",\"2022-10-31T00:00:00\",\"2022-11-02T00:00:00\",\"2022-11-04T00:00:00\",\"2022-11-05T00:00:00\",\"2022-11-06T00:00:00\",\"2022-11-07T00:00:00\",\"2022-11-08T00:00:00\",\"2022-11-09T00:00:00\",\"2022-11-11T00:00:00\",\"2022-11-12T00:00:00\",\"2022-11-14T00:00:00\",\"2022-11-15T00:00:00\",\"2022-11-17T00:00:00\",\"2022-11-18T00:00:00\"],\"y\":[1,1,2,1,1,1,1,1,1,1,1,1,3,1,2,1,3,3,2,1,1,1,6,1,1,1,1,1,3,2,2,1,8,1,2,4,2,2,2,3,1,1],\"type\":\"scatter\"},{\"hoverinfo\":\"text\",\"hovertext\":[\"<b>Topic 10</b><br>Words: fishing_fever69, wegiel, cenami, chyba, zabraknie\",\"<b>Topic 10</b><br>Words: fishing_fever69, w\\u0119giel, zabraknie, \\u017cywno\\u015b\\u0107, niego\",\"<b>Topic 10</b><br>Words: fishing_fever69, ba\\u0107, rosyjski, gaz, zabraknie\",\"<b>Topic 10</b><br>Words: fishing_fever69, wyko\\u0144czy, stacji, ropa, nas\",\"<b>Topic 10</b><br>Words: fishing_fever69, byly, niz, powiedzieli, historii\",\"<b>Topic 10</b><br>Words: fishing_fever69, zabraknie, gazu, w\\u0119gla, \\u017cywno\\u015b\\u0107\",\"<b>Topic 10</b><br>Words: fishing_fever69, 16, kto\\u015b, inflacji, zabraknie\",\"<b>Topic 10</b><br>Words: fishing_fever69, w\\u0119glu, mo\\u017cna, teraz, zabraknie\",\"<b>Topic 10</b><br>Words: fishing_fever69, kochani, 16, ich, sobie\",\"<b>Topic 10</b><br>Words: fishing_fever69, albo, dalszy, morzu, drugi\",\"<b>Topic 10</b><br>Words: fishing_fever69, by\\u0142, w\\u0119giel, zabraknie, \\u017cywno\\u015b\\u0107\",\"<b>Topic 10</b><br>Words: fishing_fever69, wysokie, on, ceny, zabraknie\",\"<b>Topic 10</b><br>Words: fishing_fever69, 500, takie, mamy, gaz\",\"<b>Topic 10</b><br>Words: fishing_fever69, zgadza, coraz, powodu, s\\u0105\",\"<b>Topic 10</b><br>Words: fishing_fever69, zabraknie, nied\\u0142ugo, mieli, wszystkie\",\"<b>Topic 10</b><br>Words: fishing_fever69, podnosi\\u0107, dobrego, rozwi\\u0105zania, nagle\",\"<b>Topic 10</b><br>Words: fishing_fever69, ka\\u017cdemu, widz\\u0105, dzia\\u0142a, dalej\",\"<b>Topic 10</b><br>Words: 35, braku, fishing_fever69, mo\\u017ce, inflacji\",\"<b>Topic 10</b><br>Words: fishing_fever69, patrz\\u0105c, pewien, by\\u0142em, publicznych\",\"<b>Topic 10</b><br>Words: fishing_fever69, niego, sta\\u0107, zabraknie, tylko\",\"<b>Topic 10</b><br>Words: fishing_fever69, minister, pis, niego, zabraknie\",\"<b>Topic 10</b><br>Words: fishing_fever69, dost\\u0119p, jakim, samym, tym\",\"<b>Topic 10</b><br>Words: fishing_fever69, zabraknie, \\u017cywno\\u015b\\u0107, niego, sta\\u0107\",\"<b>Topic 10</b><br>Words: fishing_fever69, dobra, te, cena, zabraknie\",\"<b>Topic 10</b><br>Words: fishing_fever69, chrustu, zapas, zapraszam, pr\\u0105dem\",\"<b>Topic 10</b><br>Words: fishing_fever69, aby, najszybciej, wysokiej, ropa\",\"<b>Topic 10</b><br>Words: fishing_fever69, ba\\u0107, szykuj\\u0105, wtedy, inflacji\",\"<b>Topic 10</b><br>Words: sporo, zrobi\\u0107, fishing_fever69, trzeba, by\",\"<b>Topic 10</b><br>Words: fishing_fever69, mar\\u017ce, firmy, inflacja, zabraknie\",\"<b>Topic 10</b><br>Words: fishing_fever69, 45, \\u017cywno\\u015b\\u0107, 3000, 80\",\"<b>Topic 10</b><br>Words: fishing_fever69, niekt\\u00f3re, drodze, produkty, \\u017cywno\\u015b\\u0107\",\"<b>Topic 10</b><br>Words: fishing_fever69, gazem, zabraknie, \\u017cywno\\u015b\\u0107, niego\",\"<b>Topic 10</b><br>Words: fishing_fever69, poniedzia\\u0142ek, spadaj\\u0105, dni, prosz\\u0119\",\"<b>Topic 10</b><br>Words: fishing_fever69, wzrosn\\u0105\\u0107, samo, musi, panie\",\"<b>Topic 10</b><br>Words: fishing_fever69, by\\u0142a, cena, zabraknie, \\u017cywno\\u015b\\u0107\"],\"marker\":{\"color\":\"#F0E442\"},\"mode\":\"lines\",\"name\":\"10_fishing_fever69_zabraknie_\\u017cywno\\u015b\\u0107_nie...\",\"x\":[\"2022-09-01T00:00:00\",\"2022-09-02T00:00:00\",\"2022-09-05T00:00:00\",\"2022-09-08T00:00:00\",\"2022-09-09T00:00:00\",\"2022-09-14T00:00:00\",\"2022-09-15T00:00:00\",\"2022-09-16T00:00:00\",\"2022-09-17T00:00:00\",\"2022-09-20T00:00:00\",\"2022-09-22T00:00:00\",\"2022-09-26T00:00:00\",\"2022-09-27T00:00:00\",\"2022-10-02T00:00:00\",\"2022-10-04T00:00:00\",\"2022-10-05T00:00:00\",\"2022-10-06T00:00:00\",\"2022-10-08T00:00:00\",\"2022-10-17T00:00:00\",\"2022-10-18T00:00:00\",\"2022-10-19T00:00:00\",\"2022-10-20T00:00:00\",\"2022-10-21T00:00:00\",\"2022-10-27T00:00:00\",\"2022-10-28T00:00:00\",\"2022-10-30T00:00:00\",\"2022-10-31T00:00:00\",\"2022-11-01T00:00:00\",\"2022-11-02T00:00:00\",\"2022-11-03T00:00:00\",\"2022-11-09T00:00:00\",\"2022-11-10T00:00:00\",\"2022-11-14T00:00:00\",\"2022-11-16T00:00:00\",\"2022-11-17T00:00:00\"],\"y\":[2,1,1,1,1,3,1,1,1,2,1,1,1,1,3,2,2,1,3,7,6,1,1,1,1,1,3,1,1,4,5,1,4,2,1],\"type\":\"scatter\"},{\"hoverinfo\":\"text\",\"hovertext\":[\"<b>Topic 11</b><br>Words: turcji, pr\\u0105dem, taniej, miesi\\u0105c, prezydent\",\"<b>Topic 11</b><br>Words: turcji, pr\\u0105dem, taniej, miesi\\u0105c, gazem\",\"<b>Topic 11</b><br>Words: zasadniczo, drugiej, trudno, zatem, niej\",\"<b>Topic 11</b><br>Words: oszcz\\u0119dza\\u0107, zapraszam, stron\\u0119, moja, drog\\u0105\",\"<b>Topic 11</b><br>Words: pozwoli, zach\\u00f3d, nowego, da, takie\",\"<b>Topic 11</b><br>Words: turcji, zjednoczonych, zwi\\u0119kszy\\u0107, zakupy, powiedzia\\u0142\",\"<b>Topic 11</b><br>Words: turcji, morzu, wok\\u00f3\\u0142, zobaczymy, par\\u0119\",\"<b>Topic 11</b><br>Words: rosj\\u0119, energetycznego, wci\\u0105\\u017c, roku, gaz\",\"<b>Topic 11</b><br>Words: rosj\\u0119, gaz, roku, bloomberg, ekonomiczny\",\"<b>Topic 11</b><br>Words: miesi\\u0105cu, grudniu, ca\\u0142ym, p\\u0142aci\\u0107, cenie\",\"<b>Topic 11</b><br>Words: turcji, agencja, europy, oczywi\\u015bcie, je\\u015bli\",\"<b>Topic 11</b><br>Words: turcji, europy, powiedzia\\u0142, najbardziej, gaz\",\"<b>Topic 11</b><br>Words: turcji, gazu, moskwa, rosji, centrum\",\"<b>Topic 11</b><br>Words: wsp\\u00f3\\u0142prac\\u0119, centrum, rosj\\u0105, razem, dystrybucji\",\"<b>Topic 11</b><br>Words: wsparcie, akurat, robi\\u0107, turcji, zrobi\",\"<b>Topic 11</b><br>Words: turcji, tygodniu, europy, czekuku2, gazu\",\"<b>Topic 11</b><br>Words: zdecydowa\\u0142a, nowym, turcji, pom\\u00f3c, drugie\",\"<b>Topic 11</b><br>Words: sta\\u0142, gosc_radiazet, sam, dlatego, m\\u00f3wi\",\"<b>Topic 11</b><br>Words: rosja, turcji, wbrew, dzia\\u0142aj\\u0105, zachodu\",\"<b>Topic 11</b><br>Words: turcji, wi\\u0119kszych, pozwoli, sprawdzi\\u0107, obni\\u017cenia\",\"<b>Topic 11</b><br>Words: produkty, unii, nale\\u017cy, taka, turcji\",\"<b>Topic 11</b><br>Words: turcji, dost\\u0119p, niskie, du\\u017ce, plus\",\"<b>Topic 11</b><br>Words: turcji, dost\\u0119p, niskie, du\\u017ce, plus\",\"<b>Topic 11</b><br>Words: w\\u0142asne, szczesniaka, europy, spos\\u00f3b, dostawy\",\"<b>Topic 11</b><br>Words: w\\u0142asne, szczesniaka, europy, spos\\u00f3b, dostawy\",\"<b>Topic 11</b><br>Words: turcji, energetyki, minister, rachunki, proces\",\"<b>Topic 11</b><br>Words: turcji, w\\u0142adze, surowca, powiedzia\\u0142, prezydent\",\"<b>Topic 11</b><br>Words: dostaw, jedynym, p\\u0142aci, bezpiecze\\u0144stwa, wysok\\u0105\",\"<b>Topic 11</b><br>Words: rop\\u0119, grudnia, us\\u0142ug, sankcje, a\\u017c\"],\"marker\":{\"color\":\"#D55E00\"},\"mode\":\"lines\",\"name\":\"11_turcji_gazu_europy_gaz\",\"x\":[\"2022-09-04T00:00:00\",\"2022-09-05T00:00:00\",\"2022-09-13T00:00:00\",\"2022-09-18T00:00:00\",\"2022-09-20T00:00:00\",\"2022-09-22T00:00:00\",\"2022-09-27T00:00:00\",\"2022-10-03T00:00:00\",\"2022-10-04T00:00:00\",\"2022-10-09T00:00:00\",\"2022-10-12T00:00:00\",\"2022-10-13T00:00:00\",\"2022-10-14T00:00:00\",\"2022-10-17T00:00:00\",\"2022-10-18T00:00:00\",\"2022-10-19T00:00:00\",\"2022-10-20T00:00:00\",\"2022-10-21T00:00:00\",\"2022-10-23T00:00:00\",\"2022-10-25T00:00:00\",\"2022-10-29T00:00:00\",\"2022-10-30T00:00:00\",\"2022-11-01T00:00:00\",\"2022-11-04T00:00:00\",\"2022-11-05T00:00:00\",\"2022-11-08T00:00:00\",\"2022-11-12T00:00:00\",\"2022-11-14T00:00:00\",\"2022-11-18T00:00:00\"],\"y\":[2,1,1,1,1,1,1,2,2,1,1,5,10,5,2,8,2,1,2,2,1,2,1,2,1,6,1,1,1],\"type\":\"scatter\"},{\"hoverinfo\":\"text\",\"hovertext\":[\"<b>Topic 12</b><br>Words: kosmos, czaroit1, wlasnie, uk, dopiero\",\"<b>Topic 12</b><br>Words: kosmos, pisorgpl, morawieckim, ceny, cena\",\"<b>Topic 12</b><br>Words: kosmos, zbli\\u017ca, sztucznie, powie, xd\",\"<b>Topic 12</b><br>Words: podatkami, fajnie, kredyty, problemy, gazem\",\"<b>Topic 12</b><br>Words: kosmos, bazowej, wi\\u0119kszy, xd, tymi\",\"<b>Topic 12</b><br>Words: dom\\u00f3w, stoi, widz\\u0119, cz\\u0119\\u015b\\u0107, p\\u00f3\\u0142\",\"<b>Topic 12</b><br>Words: byc, wraca, wiec, sumie, oto\",\"<b>Topic 12</b><br>Words: kogo\\u015b, wiadomoscitvp, mar\\u017ce, wystarczy, przeciwko\",\"<b>Topic 12</b><br>Words: kosmos, rzad, idiot\\u00f3w, potrzeba, strony\",\"<b>Topic 12</b><br>Words: kosmos, firarafaa, agencja, b\\u0119d\\u0105, ceny\",\"<b>Topic 12</b><br>Words: olgaewasemeniuk, kosmos, ceny, cena, teraz\",\"<b>Topic 12</b><br>Words: kosmos, nied\\u0142ugo, zostan\\u0105, jaki\\u015b, chyba\",\"<b>Topic 12</b><br>Words: ka\\u017cdemu, te, s\\u0105, ceny, kosmos\",\"<b>Topic 12</b><br>Words: jowita_w, wy, kosmos, surowc\\u00f3w, kapita\\u0142\",\"<b>Topic 12</b><br>Words: kosmos, dok\\u0142adnie, dopiero, cena, teraz\",\"<b>Topic 12</b><br>Words: kosmos, surowce, moment, wszystkie, cenami\",\"<b>Topic 12</b><br>Words: kosmos, musz\\u0105, albo, czeka\\u0107, szykuj\\u0105\",\"<b>Topic 12</b><br>Words: kosmos, poprawnym2, krocpokzboj, cukru, ceny\",\"<b>Topic 12</b><br>Words: kosmos, poszybowa\\u0142y, fishing_fever69, m\\u00f3j, dzi\\u0119ki\",\"<b>Topic 12</b><br>Words: tanio, spo\\u0142ecze\\u0144stwa, kosztem, dro\\u017cej, robi\\u0107\",\"<b>Topic 12</b><br>Words: kosmos, 70, czym, panie, ta\",\"<b>Topic 12</b><br>Words: dotycz\\u0105, szejnfeld, wszystkie, chyba, pa\\u0144stwa\",\"<b>Topic 12</b><br>Words: ani, ktos, serio, sa, niby\",\"<b>Topic 12</b><br>Words: posz\\u0142y, kasa, emisji, inwestycje, prawa\",\"<b>Topic 12</b><br>Words: kosmos, kt\\u00f3re, teraz, s\\u0105, ceny\",\"<b>Topic 12</b><br>Words: kosmos, gadfluence, byc, generalnie, moze\",\"<b>Topic 12</b><br>Words: serio, mamy, ceny, tak, kosmos\",\"<b>Topic 12</b><br>Words: tomeknarkun, szczeg\\u00f3lnie, min, niby, gt\",\"<b>Topic 12</b><br>Words: najmu, zbyt, piterson1980, jako\\u015b, jestem\",\"<b>Topic 12</b><br>Words: piterson1980, dalej, ceny, kosmos, cena\",\"<b>Topic 12</b><br>Words: 3000, ludzie, wi\\u0119cej, ceny, kosmos\",\"<b>Topic 12</b><br>Words: konkurencji, komu\\u015b, troche, regulacji, kosmos\",\"<b>Topic 12</b><br>Words: pewnie, kosmos, zam\\u00f3wi\\u0107, jaki\\u015b, trzeba\",\"<b>Topic 12</b><br>Words: dolara, zl, jedyne, juz, dawno\",\"<b>Topic 12</b><br>Words: kupuj\\u0119, dost\\u0119pny, naszym, zamiast, cena\",\"<b>Topic 12</b><br>Words: mar\\u017ce, \\u015bwiecie, poziomie, kilka, dro\\u017cyznapis\",\"<b>Topic 12</b><br>Words: czekuku2, bez, natomiast, itd, dostaw\",\"<b>Topic 12</b><br>Words: kosmos, zaczn\\u0105, takiej, rz\\u0105dy, mog\\u0105\",\"<b>Topic 12</b><br>Words: pierwszym, ceny, jest, kosmos, cena\",\"<b>Topic 12</b><br>Words: szuka\\u0107, fishing_fever69, ostatnio, same, ceny\",\"<b>Topic 12</b><br>Words: opakowania, kosmos, ceny, cena, teraz\",\"<b>Topic 12</b><br>Words: pytam_tylko, kosmos, wzi\\u0105\\u0142, b\\u0119d\\u0119, mnie\",\"<b>Topic 12</b><br>Words: chyba, tam, tylko, ceny, kosmos\",\"<b>Topic 12</b><br>Words: kosmos, artyku\\u0142\\u00f3w, podstawowych, z\\u0142oty, cz\\u0119\\u015bci\",\"<b>Topic 12</b><br>Words: trafi\\u0142a, kosmos, tych, ceny, cena\",\"<b>Topic 12</b><br>Words: kosmos, kibic\\u00f3w, mn\\u00f3stwo, ps, sporo\"],\"marker\":{\"color\":\"#0072B2\"},\"mode\":\"lines\",\"name\":\"12_kosmos_ceny_cena_teraz\",\"x\":[\"2022-09-01T00:00:00\",\"2022-09-02T00:00:00\",\"2022-09-03T00:00:00\",\"2022-09-05T00:00:00\",\"2022-09-07T00:00:00\",\"2022-09-08T00:00:00\",\"2022-09-14T00:00:00\",\"2022-09-15T00:00:00\",\"2022-09-20T00:00:00\",\"2022-09-21T00:00:00\",\"2022-09-22T00:00:00\",\"2022-09-24T00:00:00\",\"2022-09-25T00:00:00\",\"2022-09-27T00:00:00\",\"2022-09-28T00:00:00\",\"2022-09-29T00:00:00\",\"2022-09-30T00:00:00\",\"2022-10-02T00:00:00\",\"2022-10-05T00:00:00\",\"2022-10-06T00:00:00\",\"2022-10-07T00:00:00\",\"2022-10-08T00:00:00\",\"2022-10-09T00:00:00\",\"2022-10-11T00:00:00\",\"2022-10-12T00:00:00\",\"2022-10-13T00:00:00\",\"2022-10-14T00:00:00\",\"2022-10-15T00:00:00\",\"2022-10-16T00:00:00\",\"2022-10-18T00:00:00\",\"2022-10-20T00:00:00\",\"2022-10-21T00:00:00\",\"2022-10-23T00:00:00\",\"2022-10-24T00:00:00\",\"2022-10-28T00:00:00\",\"2022-10-30T00:00:00\",\"2022-11-06T00:00:00\",\"2022-11-07T00:00:00\",\"2022-11-09T00:00:00\",\"2022-11-10T00:00:00\",\"2022-11-11T00:00:00\",\"2022-11-12T00:00:00\",\"2022-11-13T00:00:00\",\"2022-11-14T00:00:00\",\"2022-11-15T00:00:00\",\"2022-11-18T00:00:00\"],\"y\":[1,1,2,1,3,1,1,1,2,1,1,1,1,2,1,3,3,1,1,1,3,1,2,1,1,1,1,2,1,1,1,2,1,1,1,1,1,1,1,1,1,2,1,2,1,1],\"type\":\"scatter\"},{\"hoverinfo\":\"text\",\"hovertext\":[\"<b>Topic 13</b><br>Words: drewna, razu, dzieje, s\\u0105, pisu\",\"<b>Topic 13</b><br>Words: proste, jak\\u0105, podczas, drewna, chodzi\",\"<b>Topic 13</b><br>Words: drewna, producent\\u00f3w, cen\\u0105, sytuacja, mimo\",\"<b>Topic 13</b><br>Words: drewno, oczach, wiadomo, drewna, dzieje\",\"<b>Topic 13</b><br>Words: oczach, mbalawelder, dzieje, wiadomo, drewna\",\"<b>Topic 13</b><br>Words: drewna, nowy, drewno, wydaje, mocno\",\"<b>Topic 13</b><br>Words: drewna, dotycz\\u0105, nagle, naszych, jaka\",\"<b>Topic 13</b><br>Words: drewna, cena, drewno, ceny, przeciwko\",\"<b>Topic 13</b><br>Words: drewna, dost\\u0119pno\\u015b\\u0107, 150, dni, kilka\",\"<b>Topic 13</b><br>Words: drewna, drewno, ceny, spadaj\\u0105, poszybowa\\u0142y\",\"<b>Topic 13</b><br>Words: drewna, drewno, wzr\\u00f3s\\u0142, popyt, powodu\",\"<b>Topic 13</b><br>Words: drewna, drewno, byly, ceny, polsce\",\"<b>Topic 13</b><br>Words: drewna, drewno, wykupuj\\u0105, wielu, powodu\",\"<b>Topic 13</b><br>Words: drewna, drewno, zesz\\u0142ym, unii, wzros\\u0142y\",\"<b>Topic 13</b><br>Words: przeciwko, rosn\\u0105, wzrost, kt\\u00f3re, drewna\",\"<b>Topic 13</b><br>Words: drewna, rosn\\u0105, sposoby, przeciwko, powoduje\",\"<b>Topic 13</b><br>Words: drewna, drewno, pracuj\\u0105, rekordowa, spadku\",\"<b>Topic 13</b><br>Words: drewna, we, cena, s\\u0105, pis\",\"<b>Topic 13</b><br>Words: drewno, drewna, zapotrzebowanie, ponownie, wraz\",\"<b>Topic 13</b><br>Words: drewno, drewna, 120, zesz\\u0142ym, z\\u0142\",\"<b>Topic 13</b><br>Words: zam\\u00f3wi\\u0107, drewno, ko\\u0144cz\\u0105, prawastronaa, zaczynaj\\u0105\",\"<b>Topic 13</b><br>Words: drewna, podro\\u017ca\\u0142y, 33, rokiem, okresie\",\"<b>Topic 13</b><br>Words: drewna, drewno, zapotrzebowanie, ostatnich, kilku\",\"<b>Topic 13</b><br>Words: drewna, ceny, drewno, pl, zaledwie\",\"<b>Topic 13</b><br>Words: drewna, eksport, widz\\u0119, wysokie, ceny\",\"<b>Topic 13</b><br>Words: granicach, drewna, nawoz\\u00f3w, sytuacj\\u0119, \\u015brodk\\u00f3w\",\"<b>Topic 13</b><br>Words: drewna, producent\\u00f3w, droga, pa\\u0144stwowe, podobnie\",\"<b>Topic 13</b><br>Words: drewno, opa\\u0142, pytam, czeka, sk\\u0105d\"],\"marker\":{\"color\":\"#CC79A7\"},\"mode\":\"lines\",\"name\":\"13_drewna_drewno_ceny_przeciwko\",\"x\":[\"2022-09-02T00:00:00\",\"2022-09-03T00:00:00\",\"2022-09-05T00:00:00\",\"2022-09-06T00:00:00\",\"2022-09-07T00:00:00\",\"2022-09-08T00:00:00\",\"2022-09-18T00:00:00\",\"2022-09-20T00:00:00\",\"2022-10-01T00:00:00\",\"2022-10-02T00:00:00\",\"2022-10-05T00:00:00\",\"2022-10-06T00:00:00\",\"2022-10-07T00:00:00\",\"2022-10-10T00:00:00\",\"2022-10-11T00:00:00\",\"2022-10-12T00:00:00\",\"2022-10-14T00:00:00\",\"2022-10-15T00:00:00\",\"2022-10-16T00:00:00\",\"2022-10-19T00:00:00\",\"2022-10-20T00:00:00\",\"2022-10-25T00:00:00\",\"2022-10-26T00:00:00\",\"2022-10-28T00:00:00\",\"2022-11-02T00:00:00\",\"2022-11-06T00:00:00\",\"2022-11-07T00:00:00\",\"2022-11-10T00:00:00\"],\"y\":[1,1,1,3,1,2,1,1,1,3,3,2,4,1,10,2,7,2,1,1,1,1,1,3,1,1,1,1],\"type\":\"scatter\"},{\"hoverinfo\":\"text\",\"hovertext\":[\"<b>Topic 14</b><br>Words: najmu, ogromne, marlenamalag, gosc_radiazet, pomys\\u0142\",\"<b>Topic 14</b><br>Words: socjal, gdzie, tuska, sprawd\\u017a, polak\",\"<b>Topic 14</b><br>Words: komuny, \\u015brodk\\u00f3w, partia, mosinskijan, kt\\u00f3rych\",\"<b>Topic 14</b><br>Words: zim\\u0119, socjal, miesi\\u0105cu, tam, powinni\\u015bmy\",\"<b>Topic 14</b><br>Words: kraju, w\\u0142asnym, wiosn\\u0119, tak, jeste\\u015bmy\",\"<b>Topic 14</b><br>Words: doda\\u0107, rzeczy, 24, nale\\u017cy, wiele\",\"<b>Topic 14</b><br>Words: kasy, dop\\u0142at, daj\\u0105, 3000, itd\",\"<b>Topic 14</b><br>Words: europa, rosn\\u0105cych, media, ukrainy, powodu\",\"<b>Topic 14</b><br>Words: najmu, w\\u015br\\u00f3d, akurat, mieszka\\u0144, prawda\",\"<b>Topic 14</b><br>Words: koniunktury, najmu, wraz, razie, wida\\u0107\",\"<b>Topic 14</b><br>Words: sam\\u0105, mld, publicznych, wydatki, z\\u0142\",\"<b>Topic 14</b><br>Words: upadku, pomocy, gospodarki, latach, sam\",\"<b>Topic 14</b><br>Words: kt\\u00f3rym, polacy, dost\\u0119p, utrzymanie, kredyty\",\"<b>Topic 14</b><br>Words: konsekwencjami, prowadzi, polityk\\u0119, gdy, tam\",\"<b>Topic 14</b><br>Words: kredyt, gdzie, zostanie, takich, spos\\u00f3b\",\"<b>Topic 14</b><br>Words: socjal, setki, wzrostem, da\\u0107, podatk\\u00f3w\",\"<b>Topic 14</b><br>Words: powoduj\\u0105, zaledwie, prosta, ekspert, w\\u0142asne\",\"<b>Topic 14</b><br>Words: polskieradio24, g\\u0142\\u00f3wny, wybuchu, kolejnych, \\u015brodki\",\"<b>Topic 14</b><br>Words: zdecydowa\\u0142a, \\u015bwiadczenia, pokaza\\u0107, mo\\u017cliwe, cho\\u0107\",\"<b>Topic 14</b><br>Words: cie, ty, wzi\\u0105\\u0107, udzia\\u0142, \\u015brodk\\u00f3w\",\"<b>Topic 14</b><br>Words: narodowym, centrum, trzaskowski_, wpolityce_pl, by\\u0142\",\"<b>Topic 14</b><br>Words: wp\\u0142ywa, zdecydowanie, postaci, popyt, twierdzi\",\"<b>Topic 14</b><br>Words: mia\\u0142by, zamykaj\\u0105, czytam, transportu, wzrostem\",\"<b>Topic 14</b><br>Words: dodatkowo, innymi, spad\\u0142a, mi\\u0119dzy, pocz\\u0105tku\",\"<b>Topic 14</b><br>Words: mld, zdrowia, polityk\\u0119, ustawy, 40\",\"<b>Topic 14</b><br>Words: socjal, ukrainy, mo\\u017cemy, umieraj\\u0105, paliwo\",\"<b>Topic 14</b><br>Words: zosta\\u0107, pekao_analizy, aby, popyt, trzeba\",\"<b>Topic 14</b><br>Words: galopuj\\u0105ca, setki, tysi\\u0119cy, drogi, dro\\u017cyzna\",\"<b>Topic 14</b><br>Words: wraca, rosn\\u0105cych, powodu, galopuj\\u0105ca, setki\",\"<b>Topic 14</b><br>Words: razu, wzgl\\u0119du, ogromne, kryzysu, nigdy\",\"<b>Topic 14</b><br>Words: pomimo, 800, granicy, jako\\u015b, podobno\"],\"marker\":{\"color\":\"#E69F00\"},\"mode\":\"lines\",\"name\":\"14_setki_galopuj\\u0105ca_socjal_ukrainy\",\"x\":[\"2022-09-01T00:00:00\",\"2022-09-04T00:00:00\",\"2022-09-05T00:00:00\",\"2022-09-08T00:00:00\",\"2022-09-09T00:00:00\",\"2022-09-10T00:00:00\",\"2022-09-14T00:00:00\",\"2022-09-15T00:00:00\",\"2022-09-16T00:00:00\",\"2022-09-19T00:00:00\",\"2022-09-25T00:00:00\",\"2022-09-26T00:00:00\",\"2022-09-28T00:00:00\",\"2022-09-30T00:00:00\",\"2022-10-01T00:00:00\",\"2022-10-02T00:00:00\",\"2022-10-03T00:00:00\",\"2022-10-06T00:00:00\",\"2022-10-11T00:00:00\",\"2022-10-12T00:00:00\",\"2022-10-13T00:00:00\",\"2022-10-16T00:00:00\",\"2022-10-19T00:00:00\",\"2022-10-21T00:00:00\",\"2022-11-04T00:00:00\",\"2022-11-08T00:00:00\",\"2022-11-09T00:00:00\",\"2022-11-12T00:00:00\",\"2022-11-13T00:00:00\",\"2022-11-14T00:00:00\",\"2022-11-15T00:00:00\"],\"y\":[1,2,1,1,1,1,1,3,1,1,1,1,1,1,1,1,1,2,1,1,1,5,2,1,1,6,3,6,4,1,1],\"type\":\"scatter\"},{\"hoverinfo\":\"text\",\"hovertext\":[\"<b>Topic 15</b><br>Words: nowe, chin, rz\\u0119du, niekt\\u00f3re, najwi\\u0119kszych\",\"<b>Topic 15</b><br>Words: chiny, indie, zysk\\u00f3w, dodatkowo, drogi\",\"<b>Topic 15</b><br>Words: chiny, chinach, viii, poprzednio, dobrych\",\"<b>Topic 15</b><br>Words: chiny, chin, chinach, p\\u0142ace, niskie\",\"<b>Topic 15</b><br>Words: chiny, zmniejsz\\u0105, zapotrzebowanie, spadek, tysi\\u0119cy\",\"<b>Topic 15</b><br>Words: chiny, indie, dochody, kupuj\\u0105, poni\\u017cej\",\"<b>Topic 15</b><br>Words: chiny, dzieki, chyba, dolara, upadku\",\"<b>Topic 15</b><br>Words: powodu, przemys\\u0142u, zn\\u00f3w, surowc\\u00f3w, t\\u0105\",\"<b>Topic 15</b><br>Words: chinach, spadek, cen, chiny, chin\",\"<b>Topic 15</b><br>Words: pomocy, samo, robi, skoro, przy\",\"<b>Topic 15</b><br>Words: itd, setki, kogo, dane, jakby\",\"<b>Topic 15</b><br>Words: chiny, braku, dolara, rzeczywisto\\u015bci, obajtka\",\"<b>Topic 15</b><br>Words: opec, chiny, wydobycia, ropa, sprawie\",\"<b>Topic 15</b><br>Words: sankcje, chiny, konkurencji, m\\u00f3wi\\u0105c, plan\",\"<b>Topic 15</b><br>Words: chiny, beda, usa, bior\\u0105c, w\\u0142asnej\",\"<b>Topic 15</b><br>Words: chiny, chin, ropy, wojna, wsp\\u00f3\\u0142prac\\u0119\",\"<b>Topic 15</b><br>Words: chiny, posz\\u0142o, samo, cen, tyle\",\"<b>Topic 15</b><br>Words: chiny, 2021, ropy, przez, chin\",\"<b>Topic 15</b><br>Words: chin, dane, usa, ropy, cen\",\"<b>Topic 15</b><br>Words: chiny, chinach, chin, producent\\u00f3w, amp\",\"<b>Topic 15</b><br>Words: chiny, miejskich, kontrola, ropy, posz\\u0142y\",\"<b>Topic 15</b><br>Words: chiny, chin, je\\u015bli, s\\u0105, przemys\\u0142u\",\"<b>Topic 15</b><br>Words: chinach, chiny, zera, poni\\u017cej, poprzednio\",\"<b>Topic 15</b><br>Words: chiny, chin, ropy, podobnie, najwi\\u0119kszych\",\"<b>Topic 15</b><br>Words: ni\\u017cej, chinach, chin, pokazuje, kupuj\\u0105\"],\"marker\":{\"color\":\"#56B4E9\"},\"mode\":\"lines\",\"name\":\"15_chiny_chin_chinach_ropy\",\"x\":[\"2022-09-01T00:00:00\",\"2022-09-03T00:00:00\",\"2022-09-09T00:00:00\",\"2022-09-14T00:00:00\",\"2022-09-15T00:00:00\",\"2022-09-16T00:00:00\",\"2022-09-17T00:00:00\",\"2022-09-19T00:00:00\",\"2022-09-26T00:00:00\",\"2022-10-01T00:00:00\",\"2022-10-03T00:00:00\",\"2022-10-07T00:00:00\",\"2022-10-08T00:00:00\",\"2022-10-16T00:00:00\",\"2022-10-17T00:00:00\",\"2022-10-23T00:00:00\",\"2022-10-24T00:00:00\",\"2022-10-25T00:00:00\",\"2022-10-31T00:00:00\",\"2022-11-03T00:00:00\",\"2022-11-04T00:00:00\",\"2022-11-05T00:00:00\",\"2022-11-09T00:00:00\",\"2022-11-14T00:00:00\",\"2022-11-16T00:00:00\"],\"y\":[1,1,2,7,2,1,1,1,1,1,1,2,1,1,3,3,2,2,1,2,3,3,5,4,1],\"type\":\"scatter\"},{\"hoverinfo\":\"text\",\"hovertext\":[\"<b>Topic 16</b><br>Words: cukier, cukru, pln, cena, komu\\u015b\",\"<b>Topic 16</b><br>Words: cukru, posz\\u0142o, 99, cukier, zr\\u00f3bcie\",\"<b>Topic 16</b><br>Words: obni\\u017ca, potem, cukier, w\\u0142asnej, podnios\\u0105\",\"<b>Topic 16</b><br>Words: kupi\\u0142em, cukier, kg, d\\u0142ugo, dobrej\",\"<b>Topic 16</b><br>Words: cukru, miesi\\u0105c, popytem, cukier, pekao_analizy\",\"<b>Topic 16</b><br>Words: cukru, wraca, wakacje, zapasy, wi\\u0119c\",\"<b>Topic 16</b><br>Words: poszybowa\\u0142y, stumbras997, cukier, nagle, sklepach\",\"<b>Topic 16</b><br>Words: podnie\\u015b\\u0107, 100, wi\\u0119c, trzeba, przy\",\"<b>Topic 16</b><br>Words: cukru, wsz\\u0119dzie, poziomu, rozumiem, 50\",\"<b>Topic 16</b><br>Words: cukru, wsz\\u0119dzie, poziomu, rozumiem, 50\",\"<b>Topic 16</b><br>Words: cukru, kto\\u015b, dlatego, wi\\u0119cej, podwy\\u017cki\",\"<b>Topic 16</b><br>Words: cukru, dobrogowski_, cukier, klasy, powa\\u017cnie\",\"<b>Topic 16</b><br>Words: zr\\u00f3bcie, bank, ni\\u017csza, __lewica, jedn\\u0105\",\"<b>Topic 16</b><br>Words: cukru, ostatnio, sylwiaspurek, 11, lat\",\"<b>Topic 16</b><br>Words: dobrej, woli, jakie, chodzi, chyba\",\"<b>Topic 16</b><br>Words: cukru, zdro\\u017ca\\u0142a, firmy, prywatne, pa\\u0144stwowe\",\"<b>Topic 16</b><br>Words: cukru, za\\u0142o\\u017cenie, cukier, podaje, \\u017cadnej\",\"<b>Topic 16</b><br>Words: cen\\u0105, wy\\u017csz\\u0105, cukier, maja, zosta\\u0142\",\"<b>Topic 16</b><br>Words: cukru, cukier, z\\u0142, wsz\\u0119dzie, by\\u0142em\",\"<b>Topic 16</b><br>Words: wzros\\u0142a, cukru, cena, 150, 50\",\"<b>Topic 16</b><br>Words: wzros\\u0142a, cukru, problemem, cena, cukier\",\"<b>Topic 16</b><br>Words: kosztuje, cukru, 5z\\u0142, miroka30045644, chocia\\u017c\",\"<b>Topic 16</b><br>Words: cukru, cukier, obni\\u017ca, zl, kg\",\"<b>Topic 16</b><br>Words: sierpniu, kupi\\u0142em, zesz\\u0142ym, 50, takiego\",\"<b>Topic 16</b><br>Words: euro, cukru, \\u015bwiadczenia, netto, wynosi\\u0142a\",\"<b>Topic 16</b><br>Words: cukru, ubieg\\u0142ym, kasia_dw, 50, wynosi\",\"<b>Topic 16</b><br>Words: cukru, nbppl, wynosi, obecnie, dzi\\u0119ki\",\"<b>Topic 16</b><br>Words: cukru, 1990, kwestii, stycznia, chwil\\u0119\",\"<b>Topic 16</b><br>Words: model, ko\\u0144cz\\u0105, mojej, codziennie, mo\\u017cesz\",\"<b>Topic 16</b><br>Words: cukier, proc, ponownie, drugim, produkty\",\"<b>Topic 16</b><br>Words: cukru, 5z\\u0142, cukier, kupi\\u0142em, sklepu\",\"<b>Topic 16</b><br>Words: cukru, podwy\\u017cszenie, warunk\\u00f3w, spotkanie, sztucznie\",\"<b>Topic 16</b><br>Words: wyborcza, cukier, opa\\u0142, procent, g\\u00f3r\\u0119\",\"<b>Topic 16</b><br>Words: cukier, poszybowa\\u0142y, wsz\\u0119dzie, cukru, 50\"],\"marker\":{\"color\":\"#009E73\"},\"mode\":\"lines\",\"name\":\"16_cukru_cukier_cena_50\",\"x\":[\"2022-09-07T00:00:00\",\"2022-09-12T00:00:00\",\"2022-09-13T00:00:00\",\"2022-09-14T00:00:00\",\"2022-09-15T00:00:00\",\"2022-09-18T00:00:00\",\"2022-09-19T00:00:00\",\"2022-09-20T00:00:00\",\"2022-09-22T00:00:00\",\"2022-09-23T00:00:00\",\"2022-09-27T00:00:00\",\"2022-09-28T00:00:00\",\"2022-09-30T00:00:00\",\"2022-10-02T00:00:00\",\"2022-10-06T00:00:00\",\"2022-10-07T00:00:00\",\"2022-10-08T00:00:00\",\"2022-10-12T00:00:00\",\"2022-10-13T00:00:00\",\"2022-10-14T00:00:00\",\"2022-10-15T00:00:00\",\"2022-10-17T00:00:00\",\"2022-10-20T00:00:00\",\"2022-10-22T00:00:00\",\"2022-10-25T00:00:00\",\"2022-10-26T00:00:00\",\"2022-10-30T00:00:00\",\"2022-10-31T00:00:00\",\"2022-11-07T00:00:00\",\"2022-11-10T00:00:00\",\"2022-11-11T00:00:00\",\"2022-11-13T00:00:00\",\"2022-11-15T00:00:00\",\"2022-11-17T00:00:00\"],\"y\":[1,3,1,1,1,1,1,1,3,3,1,2,1,2,1,1,2,1,1,3,2,1,3,1,1,2,1,1,1,1,1,2,1,1],\"type\":\"scatter\"},{\"hoverinfo\":\"text\",\"hovertext\":[\"<b>Topic 17</b><br>Words: upadku, zajmuje, zimie, przyk\\u0142ad, dom\\u00f3w\",\"<b>Topic 17</b><br>Words: jmiziolek, panowie, praktycznie, sporo, wsz\\u0119dzie\",\"<b>Topic 17</b><br>Words: cie, dobrogowski_, taki, tzn, twoja\",\"<b>Topic 17</b><br>Words: walcz\\u0105, zamiast, oni, inflacj\\u0105, w\\u0119gla\",\"<b>Topic 17</b><br>Words: powie, zaraz, generuj\\u0105, wp\\u0142ynie, nt\",\"<b>Topic 17</b><br>Words: zmniejszy\\u0142, sjastrzebowski, ca\\u0142y, w\\u0119glowy, by\",\"<b>Topic 17</b><br>Words: ich, ani, dotyka, dzieci, walcz\\u0105\",\"<b>Topic 17</b><br>Words: dost\\u0119pno\\u015b\\u0107, doda\\u0107, batugwojciech, cen\\u0119, co\\u015b\",\"<b>Topic 17</b><br>Words: kobiety, nadchodzi, jedynym, zacz\\u0105\\u0107, problemem\",\"<b>Topic 17</b><br>Words: mar\\u017ce, podczas, paliwo, energi\\u0119, prawie\",\"<b>Topic 17</b><br>Words: wysz\\u0142o, walki, program, inflacj\\u0105, te\\u017c\",\"<b>Topic 17</b><br>Words: ci\\u0105gle, b\\u0119dzie, sta\\u0107, kraj, was\",\"<b>Topic 17</b><br>Words: pani, dzieci, afera, jutro, w\\u0119glem\",\"<b>Topic 17</b><br>Words: wi, news, kraju, bardzo, jest\",\"<b>Topic 17</b><br>Words: wyniku, powiedzie\\u0107, przeciwko, im, trzeba\",\"<b>Topic 17</b><br>Words: powinno, swoje, wiem, potem, ani\",\"<b>Topic 17</b><br>Words: mo\\u017cliwo\\u015b\\u0107, \\u015bwiata, poza, w\\u0119glowy, jego\",\"<b>Topic 17</b><br>Words: umieraj\\u0105, zlikwidowa\\u0107, socjal, osoby, m\\u00f3wi\\u0105c\",\"<b>Topic 17</b><br>Words: dotycz\\u0105, rozwi\\u0105zania, zr\\u00f3bcie, tematem, s\\u0105\",\"<b>Topic 17</b><br>Words: niskim, powie, chcesz, \\u017cycia, siebie\",\"<b>Topic 17</b><br>Words: siebie, ca\\u0142y, czas, kt\\u00f3rzy, tusk\",\"<b>Topic 17</b><br>Words: dzieci, kobiety, czemu, no, chodzi\",\"<b>Topic 17</b><br>Words: kobiety, dzieci, lewicy, drukowanie, niska\",\"<b>Topic 17</b><br>Words: elektorat, dostanie, stycznia, wygl\\u0105da, je\",\"<b>Topic 17</b><br>Words: bro\\u0144, liczby, zdecydowanie, najwa\\u017cniejsze, jedyne\",\"<b>Topic 17</b><br>Words: zupe\\u0142nie, przyk\\u0142ad, ostatnie, jedno, innego\",\"<b>Topic 17</b><br>Words: znaczy, je\\u017celi, by\\u0142y, przecie\\u017c, usa\",\"<b>Topic 17</b><br>Words: typu, krzysztofbrejza, spadnie, wiecie, ma\\u0142o\",\"<b>Topic 17</b><br>Words: dzieci, jmiziolek, zmniejszy\\u0107, in, jakby\"],\"marker\":{\"color\":\"#F0E442\"},\"mode\":\"lines\",\"name\":\"17_dzieci_kobiety_w\\u0119glowy_inflacja\",\"x\":[\"2022-09-01T00:00:00\",\"2022-09-02T00:00:00\",\"2022-09-07T00:00:00\",\"2022-09-08T00:00:00\",\"2022-09-14T00:00:00\",\"2022-09-17T00:00:00\",\"2022-09-20T00:00:00\",\"2022-09-22T00:00:00\",\"2022-09-29T00:00:00\",\"2022-10-02T00:00:00\",\"2022-10-08T00:00:00\",\"2022-10-13T00:00:00\",\"2022-10-14T00:00:00\",\"2022-10-20T00:00:00\",\"2022-10-22T00:00:00\",\"2022-10-25T00:00:00\",\"2022-10-29T00:00:00\",\"2022-11-01T00:00:00\",\"2022-11-02T00:00:00\",\"2022-11-04T00:00:00\",\"2022-11-05T00:00:00\",\"2022-11-06T00:00:00\",\"2022-11-07T00:00:00\",\"2022-11-08T00:00:00\",\"2022-11-10T00:00:00\",\"2022-11-12T00:00:00\",\"2022-11-13T00:00:00\",\"2022-11-15T00:00:00\",\"2022-11-18T00:00:00\"],\"y\":[3,2,2,1,1,1,1,1,2,1,1,1,2,1,1,1,1,1,2,2,1,4,4,1,3,1,1,1,1],\"type\":\"scatter\"},{\"hoverinfo\":\"text\",\"hovertext\":[\"<b>Topic 18</b><br>Words: ze, kupi\\u0105, my\\u015bli, kupuj\\u0105, do\\u015b\\u0107\",\"<b>Topic 18</b><br>Words: narodowym, \\u017cart, dawa\\u0107, 700, jaki\\u015b\",\"<b>Topic 18</b><br>Words: drugiej, daje, wina, jednak, takie\",\"<b>Topic 18</b><br>Words: nt, g\\u0142upoty, kilkaset, transportu, podnie\\u015b\\u0107\",\"<b>Topic 18</b><br>Words: ogromne, podwy\\u017cki, cen, ceny, cena\",\"<b>Topic 18</b><br>Words: drugi, blisko, siebie, jeden, cena\",\"<b>Topic 18</b><br>Words: sta\\u0142o, ma\\u0142o, cenami, ich, dzi\\u015b\",\"<b>Topic 18</b><br>Words: kibic\\u00f3w, tanich, wyborcza, zysk, podwy\\u017cka\",\"<b>Topic 18</b><br>Words: sta\\u0107, powinien, klasy, w\\u00f3wczas, by\\u0107\",\"<b>Topic 18</b><br>Words: raczej, ceny, cen, cena, telewizja\",\"<b>Topic 18</b><br>Words: warto\\u015bci, ceny, cen, cena, telewizja\",\"<b>Topic 18</b><br>Words: pa\\u017adzierniku, ceny, cen, cena, telewizja\",\"<b>Topic 18</b><br>Words: podniesienie, zapowiedzia\\u0142, cen, ceny, cena\",\"<b>Topic 18</b><br>Words: wow, us\\u0142ug, jeszcze, ceny, cen\",\"<b>Topic 18</b><br>Words: zaczynaj\\u0105, os\\u00f3b, sprzeda\\u017c, oko\\u0142o, tysi\\u0119cy\",\"<b>Topic 18</b><br>Words: tanich, wtorek, listopada, ramach, sprzeda\\u017cy\",\"<b>Topic 18</b><br>Words: os\\u00f3b, zastanawia, wsp\\u00f3\\u0142prac\\u0119, posz\\u0142o, nimi\",\"<b>Topic 18</b><br>Words: narodowym, by\\u0142em, ostatni, jestem, mimo\",\"<b>Topic 18</b><br>Words: dost\\u0119pne, s\\u0105, ju\\u017c, ceny, cen\",\"<b>Topic 18</b><br>Words: grzegor95956376, trudno, do\\u015b\\u0107, drogi, tvp_info\",\"<b>Topic 18</b><br>Words: teraz, ceny, cen, cena, telewizja\",\"<b>Topic 18</b><br>Words: troche, zl, 150, stacji, miejsca\",\"<b>Topic 18</b><br>Words: kasa, zostanie, domu, efekt, jakie\\u015b\",\"<b>Topic 18</b><br>Words: \\u015bwiecie, wy, te, cen, ceny\",\"<b>Topic 18</b><br>Words: czekaj, 13, prywatne, listopada, dodatkowo\",\"<b>Topic 18</b><br>Words: auta, liczy, wjakobik, szybciej, akurat\",\"<b>Topic 18</b><br>Words: telewizja, druga, mieszka\\u0144c\\u00f3w, koszt, kt\\u00f3rej\",\"<b>Topic 18</b><br>Words: d\\u0142ugo, tymi, koszt, jestem, b\\u0119dziemy\",\"<b>Topic 18</b><br>Words: ogromny, historii, wzrost, cen, ceny\"],\"marker\":{\"color\":\"#D55E00\"},\"mode\":\"lines\",\"name\":\"18_ceny_cen_cena_telewizja\",\"x\":[\"2022-09-01T00:00:00\",\"2022-09-02T00:00:00\",\"2022-09-05T00:00:00\",\"2022-09-06T00:00:00\",\"2022-09-08T00:00:00\",\"2022-09-12T00:00:00\",\"2022-09-13T00:00:00\",\"2022-09-14T00:00:00\",\"2022-09-15T00:00:00\",\"2022-09-20T00:00:00\",\"2022-09-21T00:00:00\",\"2022-09-23T00:00:00\",\"2022-09-26T00:00:00\",\"2022-09-29T00:00:00\",\"2022-10-01T00:00:00\",\"2022-10-04T00:00:00\",\"2022-10-07T00:00:00\",\"2022-10-10T00:00:00\",\"2022-10-14T00:00:00\",\"2022-10-21T00:00:00\",\"2022-10-26T00:00:00\",\"2022-10-27T00:00:00\",\"2022-10-28T00:00:00\",\"2022-11-01T00:00:00\",\"2022-11-02T00:00:00\",\"2022-11-07T00:00:00\",\"2022-11-09T00:00:00\",\"2022-11-17T00:00:00\",\"2022-11-18T00:00:00\"],\"y\":[1,1,1,2,2,1,1,3,2,1,1,1,1,1,1,1,1,1,1,1,1,2,1,1,2,1,2,2,1],\"type\":\"scatter\"},{\"hoverinfo\":\"text\",\"hovertext\":[\"<b>Topic 19</b><br>Words: mas\\u0142a, albo, sklepie, miroka30045644, innego\",\"<b>Topic 19</b><br>Words: mas\\u0142a, albo, kupowa\\u0107, sklepie, miroka30045644\",\"<b>Topic 19</b><br>Words: mas\\u0142a, albo, sklepie, miroka30045644, innego\",\"<b>Topic 19</b><br>Words: 45, cukier, ceny, mas\\u0142a, albo\",\"<b>Topic 19</b><br>Words: mas\\u0142a, z\\u0142otych, kochani, 10, zobaczy\\u0107\",\"<b>Topic 19</b><br>Words: mas\\u0142a, samej, cen\\u0119, lkwarzecha, opakowania\",\"<b>Topic 19</b><br>Words: mas\\u0142a, poprawnym2, lkwarzecha, ceny, albo\",\"<b>Topic 19</b><br>Words: wasz, popieramypmm, sukces, wczoraj, 18\",\"<b>Topic 19</b><br>Words: firarafaa, sumie, im, wi\\u0119c, cena\",\"<b>Topic 19</b><br>Words: mas\\u0142a, powiem, my\\u015bli, akurat, niemczech\",\"<b>Topic 19</b><br>Words: mas\\u0142a, kaczy\\u0144ski, cena, maj\\u0105, morawieckim\",\"<b>Topic 19</b><br>Words: macie, czytam, sklepach, z\\u0142, mi\",\"<b>Topic 19</b><br>Words: macie, czytam, sklepach, z\\u0142, mi\",\"<b>Topic 19</b><br>Words: mas\\u0142a, tanio, kg, odpowiada, 40\",\"<b>Topic 19</b><br>Words: mas\\u0142a, z\\u0142, samo, tyle, niekt\\u00f3re\",\"<b>Topic 19</b><br>Words: mas\\u0142a, piechocinski, cena, albo, zasadniczo\",\"<b>Topic 19</b><br>Words: mas\\u0142a, 12, pan, z\\u0142, ceny\",\"<b>Topic 19</b><br>Words: mas\\u0142a, patrz\\u0105c, taka, ju\\u017c, ceny\",\"<b>Topic 19</b><br>Words: 89, zdro\\u017ca\\u0142a, mas\\u0142a, mnie, ekonomiczny\",\"<b>Topic 19</b><br>Words: mojego, ta\\u0144sze, \\u017cy\\u0107, ci\\u0119\\u017cko, z\\u0142\",\"<b>Topic 19</b><br>Words: mas\\u0142a, serii, dobrego, jedziemy, maja\",\"<b>Topic 19</b><br>Words: naprawd\\u0119, wynosi, dzisiaj, ile, z\\u0142\",\"<b>Topic 19</b><br>Words: mas\\u0142a, pytam_tylko, kontrola, zl, tej\",\"<b>Topic 19</b><br>Words: mas\\u0142a, wy, cena, bardziej, podro\\u017ca\\u0142y\"],\"marker\":{\"color\":\"#0072B2\"},\"mode\":\"lines\",\"name\":\"19_mas\\u0142a_albo_cena_sklepie\",\"x\":[\"2022-09-07T00:00:00\",\"2022-09-08T00:00:00\",\"2022-09-09T00:00:00\",\"2022-09-12T00:00:00\",\"2022-09-13T00:00:00\",\"2022-09-27T00:00:00\",\"2022-09-28T00:00:00\",\"2022-10-09T00:00:00\",\"2022-10-10T00:00:00\",\"2022-10-16T00:00:00\",\"2022-10-19T00:00:00\",\"2022-10-20T00:00:00\",\"2022-10-21T00:00:00\",\"2022-10-24T00:00:00\",\"2022-10-25T00:00:00\",\"2022-10-28T00:00:00\",\"2022-10-31T00:00:00\",\"2022-11-01T00:00:00\",\"2022-11-06T00:00:00\",\"2022-11-07T00:00:00\",\"2022-11-08T00:00:00\",\"2022-11-10T00:00:00\",\"2022-11-12T00:00:00\",\"2022-11-13T00:00:00\"],\"y\":[5,3,1,1,1,3,1,1,1,1,1,1,1,1,1,3,1,1,3,1,1,1,2,2],\"type\":\"scatter\"},{\"hoverinfo\":\"text\",\"hovertext\":[\"<b>Topic 20</b><br>Words: ropy, rop\\u0119, zyski, kraje, rosji\",\"<b>Topic 20</b><br>Words: ropa, ropy, zapowiedzia\\u0142, kraje, szczesniaka\",\"<b>Topic 20</b><br>Words: ropy, ogranicze\\u0144, maksymalne, rop\\u0119, zmniejszenia\",\"<b>Topic 20</b><br>Words: ogranicze\\u0144, finans\\u00f3w, kraj\\u00f3w, media, ropy\",\"<b>Topic 20</b><br>Words: kraje, powodu, ropy, rosji, ceny\",\"<b>Topic 20</b><br>Words: du\\u017cym, najmniej, ropy, europy, sierpniu\",\"<b>Topic 20</b><br>Words: polskieradio24, minimalnej, rop\\u0119, ceny, ropy\",\"<b>Topic 20</b><br>Words: chin, sprzedaj\\u0105, one, pa\\u0144stw, sprzedaje\",\"<b>Topic 20</b><br>Words: prawdopodobnie, dw\\u00f3ch, ropy, ue, cen\",\"<b>Topic 20</b><br>Words: ropy, kraje, pisze, \\u015bwiecie, chc\\u0105\",\"<b>Topic 20</b><br>Words: kraje, zysk\\u00f3w, praktycznie, eksport, ropy\",\"<b>Topic 20</b><br>Words: opec, ropy, ekonomiczny, usa, ograniczenia\",\"<b>Topic 20</b><br>Words: warunk\\u00f3w, w\\u0142adze, kierunku, rop\\u0119, miesi\\u0119cy\",\"<b>Topic 20</b><br>Words: kraje, rop\\u0119, ropy, rosji, cena\",\"<b>Topic 20</b><br>Words: usa, zach\\u00f3d, pierwszy, ropy, rosja\",\"<b>Topic 20</b><br>Words: ropy, bloomberg, listopada, 23, cen\\u0119\",\"<b>Topic 20</b><br>Words: ropy, listopada, 23, powo\\u0142uj\\u0105c, bloomberg\"],\"marker\":{\"color\":\"#CC79A7\"},\"mode\":\"lines\",\"name\":\"20_ropy_rop\\u0119_kraje_rosja\",\"x\":[\"2022-09-02T00:00:00\",\"2022-09-03T00:00:00\",\"2022-09-05T00:00:00\",\"2022-09-06T00:00:00\",\"2022-09-09T00:00:00\",\"2022-09-13T00:00:00\",\"2022-09-26T00:00:00\",\"2022-09-29T00:00:00\",\"2022-10-05T00:00:00\",\"2022-10-08T00:00:00\",\"2022-10-11T00:00:00\",\"2022-10-14T00:00:00\",\"2022-10-27T00:00:00\",\"2022-11-04T00:00:00\",\"2022-11-05T00:00:00\",\"2022-11-18T00:00:00\",\"2022-11-19T00:00:00\"],\"y\":[5,2,3,2,1,1,1,4,1,1,1,3,1,2,2,3,3],\"type\":\"scatter\"},{\"hoverinfo\":\"text\",\"hovertext\":[\"<b>Topic 21</b><br>Words: gorsze, umie, niskich, oszcz\\u0119dza\\u0107, wi\\u0119ksz\\u0105\",\"<b>Topic 21</b><br>Words: kg, weekend, pomys\\u0142, sprzeda\\u017cy, jeszcze\",\"<b>Topic 21</b><br>Words: 1972tomek, dobrze, chyba, ceny, dla\",\"<b>Topic 21</b><br>Words: dobrych, mo\\u017cesz, rzeczy, produkcji, zrobi\\u0107\",\"<b>Topic 21</b><br>Words: gierka, 30, sam\\u0105, kg, dost\\u0119pny\",\"<b>Topic 21</b><br>Words: mam, gazie, wy\\u017csze, ja, wi\\u0119cej\",\"<b>Topic 21</b><br>Words: nieco, drogie, rynek, ko\\u0144cu, mo\\u017ce\",\"<b>Topic 21</b><br>Words: dro\\u017ceje, piechocinski, sklepach, ceny, cena\",\"<b>Topic 21</b><br>Words: bran\\u017cy, faktycznie, sprzeda\\u0107, piechocinski, grozi\",\"<b>Topic 21</b><br>Words: serii, zawsze, pln, kolejny, cena\",\"<b>Topic 21</b><br>Words: wody, cena, piechocinski, ceny, rynek\",\"<b>Topic 21</b><br>Words: cena, jest, piechocinski, ceny, rynek\",\"<b>Topic 21</b><br>Words: inna, pami\\u0119tam, turcji, ka\\u017cdego, dnia\",\"<b>Topic 21</b><br>Words: akcyza, faktycznie, netto, cena, zyski\",\"<b>Topic 21</b><br>Words: ma\\u0142o, rynek, ceny, jest, piechocinski\",\"<b>Topic 21</b><br>Words: piechocinski, rynek, ma\\u0142o, g\\u00f3r\\u0119, ceny\",\"<b>Topic 21</b><br>Words: mojego, podnios\\u0105, jaja, mniejsza, zamykaj\\u0105\",\"<b>Topic 21</b><br>Words: sylwiaspurek, czerpie, ulicy, etc, du\\u017cy\",\"<b>Topic 21</b><br>Words: nawoz\\u00f3w, wzrost, koszt\\u00f3w, produkcji, kto\\u015b\",\"<b>Topic 21</b><br>Words: artyku\\u0142\\u00f3w, podstawowych, ciekawe, cenami, nich\",\"<b>Topic 21</b><br>Words: dw\\u00f3ch, dobra, cena, dla, piechocinski\",\"<b>Topic 21</b><br>Words: podnie\\u015b\\u0107, wy\\u0142\\u0105cznie, robi, by, tylko\",\"<b>Topic 21</b><br>Words: wp\\u0142yw, kupuj\\u0105, siebie, 18, wszystko\",\"<b>Topic 21</b><br>Words: w\\u0142a\\u015bciwie, ta\\u0144sze, dobra, cukier, wszystko\",\"<b>Topic 21</b><br>Words: zr\\u00f3bcie, wsp\\u00f3lnie, jaja, sobie, robi\\u0105\",\"<b>Topic 21</b><br>Words: poza, sobie, tym, ceny, piechocinski\"],\"marker\":{\"color\":\"#E69F00\"},\"mode\":\"lines\",\"name\":\"21_piechocinski_cena_ceny_rynek\",\"x\":[\"2022-09-04T00:00:00\",\"2022-09-12T00:00:00\",\"2022-09-13T00:00:00\",\"2022-09-14T00:00:00\",\"2022-09-15T00:00:00\",\"2022-09-22T00:00:00\",\"2022-09-24T00:00:00\",\"2022-09-28T00:00:00\",\"2022-09-29T00:00:00\",\"2022-09-30T00:00:00\",\"2022-10-01T00:00:00\",\"2022-10-02T00:00:00\",\"2022-10-10T00:00:00\",\"2022-10-13T00:00:00\",\"2022-10-25T00:00:00\",\"2022-10-26T00:00:00\",\"2022-11-01T00:00:00\",\"2022-11-03T00:00:00\",\"2022-11-07T00:00:00\",\"2022-11-10T00:00:00\",\"2022-11-11T00:00:00\",\"2022-11-13T00:00:00\",\"2022-11-14T00:00:00\",\"2022-11-15T00:00:00\",\"2022-11-16T00:00:00\",\"2022-11-17T00:00:00\"],\"y\":[1,1,1,1,1,1,1,1,2,1,1,1,1,2,1,2,2,2,1,1,1,1,1,1,1,1],\"type\":\"scatter\"},{\"hoverinfo\":\"text\",\"hovertext\":[\"<b>Topic 22</b><br>Words: ile, wp\\u0142ynie, zmniejsza, chinach, surowce\",\"<b>Topic 22</b><br>Words: stosuje, pl_2050, polityk\\u0119, koszt, ci\\u0105gu\",\"<b>Topic 22</b><br>Words: klasy, kompletnie, wydatki, bankructwa, bud\\u017cetu\",\"<b>Topic 22</b><br>Words: pekao_analizy, bazowej, inflacji, recesji, recesj\\u0119\",\"<b>Topic 22</b><br>Words: recesj\\u0119, zdusi\\u0107, kryzys, czeka, inaczej\",\"<b>Topic 22</b><br>Words: podobnie, dopiero, inflacja, recesji, recesj\\u0119\",\"<b>Topic 22</b><br>Words: powo\\u0142uj\\u0105c, wynagrodzenia, p\\u0142aci, poziom, wzros\\u0142y\",\"<b>Topic 22</b><br>Words: recesji, recesj\\u0119, deflacja, grozi, mo\\u017cemy\",\"<b>Topic 22</b><br>Words: recesji, potrzeba, celu, j\\u0105, im\",\"<b>Topic 22</b><br>Words: nadchodzi, wci\\u0105\\u017c, gospodarka, inflacja, recesji\",\"<b>Topic 22</b><br>Words: rz\\u0105du, wydatki, walcz\\u0105, tvn24, razem\",\"<b>Topic 22</b><br>Words: pytanie, taki, czy, takie, chyba\",\"<b>Topic 22</b><br>Words: recesji, pekao_analizy, rafalhirsch, usa, niskie\",\"<b>Topic 22</b><br>Words: recesj\\u0119, du\\u017cej, powinni\\u015bmy, zapowiada, rynkach\",\"<b>Topic 22</b><br>Words: pl_2050, bud\\u017cetowe, pieni\\u0105dze, dochody, realne\",\"<b>Topic 22</b><br>Words: bud\\u017cetowe, dochody, realne, lbalcerowicz, wysokiej\",\"<b>Topic 22</b><br>Words: kwarta\\u0142\\u00f3w, recesji, ci\\u0105gle, kilku, chc\\u0119\",\"<b>Topic 22</b><br>Words: recesji, lepszy, spowoduje, takiej, ma\\u0142o\",\"<b>Topic 22</b><br>Words: konsekwencjami, recesj\\u0119, wr\\u00f3ci\\u0107, proc, gdyby\\u015bmy\",\"<b>Topic 22</b><br>Words: bud\\u017cetowe, dochody, realne, lbalcerowicz, wysokiej\",\"<b>Topic 22</b><br>Words: wydatk\\u00f3w, wr\\u0119cz, d\\u0142ugu, bud\\u017cetu, procentowych\",\"<b>Topic 22</b><br>Words: recesji, ryzyko, mojej, prof, wysok\\u0105\"],\"marker\":{\"color\":\"#56B4E9\"},\"mode\":\"lines\",\"name\":\"22_recesji_recesj\\u0119_kwarta\\u0142\\u00f3w_bud\\u017cetowe\",\"x\":[\"2022-09-05T00:00:00\",\"2022-09-08T00:00:00\",\"2022-09-10T00:00:00\",\"2022-09-14T00:00:00\",\"2022-09-21T00:00:00\",\"2022-10-03T00:00:00\",\"2022-10-04T00:00:00\",\"2022-10-06T00:00:00\",\"2022-10-18T00:00:00\",\"2022-10-25T00:00:00\",\"2022-10-28T00:00:00\",\"2022-10-31T00:00:00\",\"2022-11-02T00:00:00\",\"2022-11-03T00:00:00\",\"2022-11-04T00:00:00\",\"2022-11-05T00:00:00\",\"2022-11-07T00:00:00\",\"2022-11-09T00:00:00\",\"2022-11-10T00:00:00\",\"2022-11-12T00:00:00\",\"2022-11-13T00:00:00\",\"2022-11-16T00:00:00\"],\"y\":[1,2,2,1,1,1,1,2,1,1,1,1,1,2,3,1,3,1,1,1,1,1],\"type\":\"scatter\"},{\"hoverinfo\":\"text\",\"hovertext\":[\"<b>Topic 23</b><br>Words: \\u015bladu, w\\u0119glowego, ile, rmf24pl, m\\u00f3wi\\u0105c\",\"<b>Topic 23</b><br>Words: jaki\\u015b, mieli, my, tam, przy\",\"<b>Topic 23</b><br>Words: ewaltylkopytam, w\\u0119glowy, jaki, m\\u00f3g\\u0142, ciekawe\",\"<b>Topic 23</b><br>Words: jaki, w\\u0119glowy, kto\\u015b, czy, \\u015bladu\",\"<b>Topic 23</b><br>Words: sylwiaspurek, pani, pokaza\\u0107, w\\u0119glowy, jaki\",\"<b>Topic 23</b><br>Words: wychodzi, by\\u0142y, kilka, czym, gdyby\",\"<b>Topic 23</b><br>Words: ma\\u0142e, w\\u0119glowy, 40, \\u015bladu, jaki\",\"<b>Topic 23</b><br>Words: sylwiaspurek, \\u015bladu, ponownie, w\\u0119glowego, g\\u00f3ry\",\"<b>Topic 23</b><br>Words: sylwiaspurek, \\u015bladu, ponownie, w\\u0119glowego, celu\",\"<b>Topic 23</b><br>Words: w\\u0119glowy, sobie, \\u015bladu, jaki, w\\u0119glowego\",\"<b>Topic 23</b><br>Words: w\\u0119glowy, my, jaki, chcemy, jakie\\u015b\",\"<b>Topic 23</b><br>Words: linia, zmniejszy\\u0107, w\\u0119glowy, kiedy\\u015b, taka\",\"<b>Topic 23</b><br>Words: \\u015bladu, w\\u0119glowego, ni, wtedy, oni\",\"<b>Topic 23</b><br>Words: sposoby, zmniejszenia, szczyt, emisji, ponad\",\"<b>Topic 23</b><br>Words: w\\u0119glowy, jaki, szczyt, \\u015bladu, wielki\",\"<b>Topic 23</b><br>Words: w\\u0119glowy, szczyt, jaki, jednego, gosc_radiazet\",\"<b>Topic 23</b><br>Words: zmniejszy\\u0107, in, w\\u0119glowy, \\u015bladu, jaki\",\"<b>Topic 23</b><br>Words: w\\u0119glowy, tzw, jaki, jakubwiech, dlatego\",\"<b>Topic 23</b><br>Words: generuj\\u0105, du\\u017cy, w\\u0119glowy, jednego, bardziej\",\"<b>Topic 23</b><br>Words: oczach, daje, gazem, w\\u0119glowy, \\u015bladu\"],\"marker\":{\"color\":\"#009E73\"},\"mode\":\"lines\",\"name\":\"23_w\\u0119glowy_\\u015bladu_jaki_w\\u0119glowego\",\"x\":[\"2022-09-08T00:00:00\",\"2022-09-17T00:00:00\",\"2022-09-18T00:00:00\",\"2022-09-19T00:00:00\",\"2022-10-03T00:00:00\",\"2022-10-11T00:00:00\",\"2022-10-13T00:00:00\",\"2022-10-16T00:00:00\",\"2022-10-17T00:00:00\",\"2022-10-18T00:00:00\",\"2022-10-20T00:00:00\",\"2022-10-25T00:00:00\",\"2022-11-02T00:00:00\",\"2022-11-04T00:00:00\",\"2022-11-09T00:00:00\",\"2022-11-11T00:00:00\",\"2022-11-12T00:00:00\",\"2022-11-15T00:00:00\",\"2022-11-17T00:00:00\",\"2022-11-18T00:00:00\"],\"y\":[2,1,1,1,1,1,1,1,1,1,1,1,1,2,6,2,1,1,1,1],\"type\":\"scatter\"},{\"hoverinfo\":\"text\",\"hovertext\":[\"<b>Topic 24</b><br>Words: stopa, spada, pytam_tylko, 15, ok\",\"<b>Topic 24</b><br>Words: glapi\\u0144ski, ni\\u017csza, sama, wy\\u017csza, inflacja\",\"<b>Topic 24</b><br>Words: recesji, glapi\\u0144skiego, spokojnie, mo\\u017cemy, gospodarka\",\"<b>Topic 24</b><br>Words: glapi\\u0144ski, wakacje, szczyt, spada\\u0107, zacznie\",\"<b>Topic 24</b><br>Words: glapi\\u0144ski, pytam_tylko, spadnie, okres, punkt\",\"<b>Topic 24</b><br>Words: glapi\\u0144ski, zacznie, wysok\\u0105, kt\\u00f3ra, 2022\",\"<b>Topic 24</b><br>Words: finans\\u00f3w, powinna, koniec, minister, dalej\",\"<b>Topic 24</b><br>Words: glapi\\u0144ski, spadnie, doda\\u0107, zapomnia\\u0142, wakacje\",\"<b>Topic 24</b><br>Words: glapi\\u0144ski, spadnie, wed\\u0142ug, inflacja, przed\",\"<b>Topic 24</b><br>Words: glapi\\u0144ski, powiedzia\\u0142, kiedy, b\\u0119dzie, inflacja\"],\"marker\":{\"color\":\"#F0E442\"},\"mode\":\"lines\",\"name\":\"24_glapi\\u0144ski_spadnie_inflacja_wakacje\",\"x\":[\"2022-09-07T00:00:00\",\"2022-09-08T00:00:00\",\"2022-09-09T00:00:00\",\"2022-09-30T00:00:00\",\"2022-10-01T00:00:00\",\"2022-10-14T00:00:00\",\"2022-10-27T00:00:00\",\"2022-10-31T00:00:00\",\"2022-11-01T00:00:00\",\"2022-11-10T00:00:00\"],\"y\":[2,4,1,3,3,1,1,8,3,1],\"type\":\"scatter\"},{\"hoverinfo\":\"text\",\"hovertext\":[\"<b>Topic 25</b><br>Words: wysokie, zastanawia, sklepu, powodem, przyczyn\\u0105\",\"<b>Topic 25</b><br>Words: podwy\\u017cka, zostanie, 1972tomek, wy\\u017csze, ceny\",\"<b>Topic 25</b><br>Words: wszystkiego, kosmos, tez, jaki\\u015b, je\",\"<b>Topic 25</b><br>Words: zdro\\u017ca\\u0142o, nowym, rok, gus, ceny\",\"<b>Topic 25</b><br>Words: miejscu, tez, inflacje, lkwarzecha, ceny\",\"<b>Topic 25</b><br>Words: sklepie, dobre, ceny, s\\u0105, tak\",\"<b>Topic 25</b><br>Words: podnie\\u015b\\u0107, min, 50, czyli, ceny\",\"<b>Topic 25</b><br>Words: chwil\\u0119, jakie, mie\\u0107, cen, b\\u0119dzie\",\"<b>Topic 25</b><br>Words: leszczyna, sprawie, nikt, tych, go\",\"<b>Topic 25</b><br>Words: sprawd\\u017a, 99, zanim, wszystkiego, b\\u0119d\\u0119\",\"<b>Topic 25</b><br>Words: rosn\\u0105, skupu, p\\u0142ace, ceny, samego\",\"<b>Topic 25</b><br>Words: rosn\\u0105cych, chwil\\u0119, powodu, dzi\\u0119ki, te\",\"<b>Topic 25</b><br>Words: stosuje, zjada, jedyne, cenach, itd\",\"<b>Topic 25</b><br>Words: skupu, ubieg\\u0142ym, miesi\\u0105cu, 2022, \\u015brednia\",\"<b>Topic 25</b><br>Words: roku, 2021, wynosi\\u0142a, kg, rosn\\u0105\",\"<b>Topic 25</b><br>Words: proc, 33, podaje, \\u015brednia, cukru\",\"<b>Topic 25</b><br>Words: przyk\\u0142ad, produkt\\u00f3w, 40, 50, granicach\",\"<b>Topic 25</b><br>Words: gus, tez\\u0119, podro\\u017ca\\u0142y, 30, podaje\",\"<b>Topic 25</b><br>Words: nich, prywatne, jaka\\u015b, ni\\u017csze, cz\\u0119\\u015b\\u0107\",\"<b>Topic 25</b><br>Words: pa\\u017adzierniku, \\u015brednia, \\u015brednio, 2021, z\\u0142\"],\"marker\":{\"color\":\"#D55E00\"},\"mode\":\"lines\",\"name\":\"25_ceny_gus_zdro\\u017ca\\u0142o_\\u015brednia\",\"x\":[\"2022-09-03T00:00:00\",\"2022-09-23T00:00:00\",\"2022-09-24T00:00:00\",\"2022-09-25T00:00:00\",\"2022-09-27T00:00:00\",\"2022-09-30T00:00:00\",\"2022-10-07T00:00:00\",\"2022-10-09T00:00:00\",\"2022-10-13T00:00:00\",\"2022-10-14T00:00:00\",\"2022-10-15T00:00:00\",\"2022-10-16T00:00:00\",\"2022-10-17T00:00:00\",\"2022-10-24T00:00:00\",\"2022-10-25T00:00:00\",\"2022-10-27T00:00:00\",\"2022-10-29T00:00:00\",\"2022-11-06T00:00:00\",\"2022-11-11T00:00:00\",\"2022-11-13T00:00:00\"],\"y\":[1,1,1,5,1,1,1,1,1,1,1,1,1,1,2,1,2,1,1,1],\"type\":\"scatter\"},{\"hoverinfo\":\"text\",\"hovertext\":[\"<b>Topic 26</b><br>Words: viii, poprzednio, prognoza, cpi, inflacja\",\"<b>Topic 26</b><br>Words: akurat, unii, ca\\u0142ej, lata, im\",\"<b>Topic 26</b><br>Words: wzrostem, inflacje, mimo, jej, wynosi\",\"<b>Topic 26</b><br>Words: m\\u00f3wisz, kurs, pomimo, znacznie, najwy\\u017csza\",\"<b>Topic 26</b><br>Words: wynosi, zrobi, morawieckiego, niech, proc\",\"<b>Topic 26</b><br>Words: 1972tomek, wynosi, zrobi, morawieckiego, niech\",\"<b>Topic 26</b><br>Words: przyj\\u0105\\u0107, 1972tomek, wynosi, inflacja, wojn\\u0105\",\"<b>Topic 26</b><br>Words: generuj\\u0105, autolikos1, walczy, same, rz\\u0105dy\",\"<b>Topic 26</b><br>Words: wsz\\u0119dzie, poprzednio, prognoza, cpi, inflacja\",\"<b>Topic 26</b><br>Words: proc, spad\\u0142a, sierpniu, wrze\\u015bniu, we\",\"<b>Topic 26</b><br>Words: stopa, jaka, inflacji, jest, inflacja\",\"<b>Topic 26</b><br>Words: 25, poprzednio, prognoza, 24, we\",\"<b>Topic 26</b><br>Words: cpi, energetyczny, poprzednio, macronextcom, kryzys\",\"<b>Topic 26</b><br>Words: btw, spad\\u0142a, macie, zim\\u0119, te\\u017c\",\"<b>Topic 26</b><br>Words: wzrost, wzrostem, mld, pierwsze, cz\\u0119\\u015b\\u0107\"],\"marker\":{\"color\":\"#0072B2\"},\"mode\":\"lines\",\"name\":\"26_inflacja_poprzednio_proc_wynosi\",\"x\":[\"2022-09-01T00:00:00\",\"2022-09-07T00:00:00\",\"2022-09-14T00:00:00\",\"2022-09-16T00:00:00\",\"2022-09-21T00:00:00\",\"2022-09-22T00:00:00\",\"2022-10-01T00:00:00\",\"2022-10-02T00:00:00\",\"2022-10-03T00:00:00\",\"2022-10-11T00:00:00\",\"2022-10-16T00:00:00\",\"2022-10-17T00:00:00\",\"2022-11-03T00:00:00\",\"2022-11-04T00:00:00\",\"2022-11-07T00:00:00\"],\"y\":[1,1,2,1,2,1,5,1,3,2,1,1,2,1,1],\"type\":\"scatter\"},{\"hoverinfo\":\"text\",\"hovertext\":[\"<b>Topic 27</b><br>Words: mi\\u0119dzy, mia\\u0142, pr\\u0105d, jaka, ko\\u0144ca\",\"<b>Topic 27</b><br>Words: jaka, mi\\u0119dzy, pr\\u0105d, by\\u0142, w\\u0119giel\",\"<b>Topic 27</b><br>Words: mia\\u0142, pr\\u0105d, czym, \\u017cart, polski\",\"<b>Topic 27</b><br>Words: bbudka, pr\\u0105d, by\\u0142, kiedy, w\\u0119giel\",\"<b>Topic 27</b><br>Words: jaka, momencie, mia\\u0142, pr\\u0105d, kiedy\",\"<b>Topic 27</b><br>Words: jaka, momencie, mia\\u0142, pr\\u0105d, kiedy\",\"<b>Topic 27</b><br>Words: \\u017cart, jaka, mi\\u0119dzy, mia\\u0142, pr\\u0105d\",\"<b>Topic 27</b><br>Words: \\u017cart, jaka, mi\\u0119dzy, mia\\u0142, pr\\u0105d\",\"<b>Topic 27</b><br>Words: jaka, mi\\u0119dzy, samego, ko\\u0144ca, efekt\",\"<b>Topic 27</b><br>Words: chocia\\u017c, mieli, w\\u0119giel, pr\\u0105d, mia\\u0142\",\"<b>Topic 27</b><br>Words: katastrofy, pr\\u0105d, ko\\u0144ca, rz\\u0105dy, czym\",\"<b>Topic 27</b><br>Words: mia\\u0142, jaka, mi\\u0119dzy, pr\\u0105d, mariorebeliant\",\"<b>Topic 27</b><br>Words: jaka, mi\\u0119dzy, mia\\u0142, pr\\u0105d, wiecie\",\"<b>Topic 27</b><br>Words: pr\\u0105d, czym\\u015b, wod\\u0119, maj\\u0105c, w\\u0142adzy\",\"<b>Topic 27</b><br>Words: mi\\u0119dzy, ko\\u0144ca, pr\\u0105d, taka, by\\u0142\"],\"marker\":{\"color\":\"#CC79A7\"},\"mode\":\"lines\",\"name\":\"27_pr\\u0105d_mia\\u0142_jaka_mi\\u0119dzy\",\"x\":[\"2022-09-15T00:00:00\",\"2022-09-27T00:00:00\",\"2022-09-29T00:00:00\",\"2022-09-30T00:00:00\",\"2022-10-02T00:00:00\",\"2022-10-03T00:00:00\",\"2022-10-14T00:00:00\",\"2022-10-15T00:00:00\",\"2022-10-16T00:00:00\",\"2022-10-20T00:00:00\",\"2022-10-24T00:00:00\",\"2022-10-25T00:00:00\",\"2022-10-27T00:00:00\",\"2022-11-14T00:00:00\",\"2022-11-15T00:00:00\"],\"y\":[2,1,3,1,3,1,1,1,1,1,1,2,1,1,3],\"type\":\"scatter\"},{\"hoverinfo\":\"text\",\"hovertext\":[\"<b>Topic 28</b><br>Words: ni\\u017c, ten, koszty, jest, w\\u0119gla\",\"<b>Topic 28</b><br>Words: koszty, stosuje, sprawdzi\\u0107, mo\\u017cesz, szybciej\",\"<b>Topic 28</b><br>Words: koszty, ceny, no, stosuje, razy\",\"<b>Topic 28</b><br>Words: koszty, ceny, no, stosuje, razy\",\"<b>Topic 28</b><br>Words: koszty, lepiej, wszyscy, takie, tu\",\"<b>Topic 28</b><br>Words: koszty, razy, oczywiscie, wiecej, no\"],\"marker\":{\"color\":\"#E69F00\"},\"mode\":\"lines\",\"name\":\"28_koszty_ceny_no_stosuje\",\"x\":[\"2022-09-23T00:00:00\",\"2022-10-16T00:00:00\",\"2022-10-22T00:00:00\",\"2022-10-23T00:00:00\",\"2022-10-27T00:00:00\",\"2022-11-04T00:00:00\"],\"y\":[1,1,13,5,1,1],\"type\":\"scatter\"},{\"hoverinfo\":\"text\",\"hovertext\":[\"<b>Topic 29</b><br>Words: powodem, 20, ludzi, energii, ceny\",\"<b>Topic 29</b><br>Words: powodem, 20, ludzi, energii, ceny\"],\"marker\":{\"color\":\"#56B4E9\"},\"mode\":\"lines\",\"name\":\"29_powodem_20_ludzi_energii\",\"x\":[\"2022-10-10T00:00:00\",\"2022-10-11T00:00:00\"],\"y\":[16,3],\"type\":\"scatter\"},{\"hoverinfo\":\"text\",\"hovertext\":[\"<b>Topic 30</b><br>Words: czym\\u015b, groszy, z\\u0142e, par\\u0119, podnie\\u015b\\u0107\",\"<b>Topic 30</b><br>Words: wzrosn\\u0105\\u0107, zmieni\\u0107, \\u017cy\\u0107, wkr\\u00f3tce, 35\",\"<b>Topic 30</b><br>Words: wyborcza, bran\\u017cy, 40, koszty, wzros\\u0142y\",\"<b>Topic 30</b><br>Words: dro\\u017cej, wida\\u0107, tak\\u017ce, dwa, razy\",\"<b>Topic 30</b><br>Words: p\\u00f3jdzie, temu, kupuj\\u0119, z\\u0142, d\\u0142ugo\",\"<b>Topic 30</b><br>Words: najlepsze, jaka\\u015b, problemu, cenami, usa\",\"<b>Topic 30</b><br>Words: ogromne, jednej, przy, ze, cen\",\"<b>Topic 30</b><br>Words: du\\u017ce, 40, sta\\u0107, wysokie, ludzi\",\"<b>Topic 30</b><br>Words: najwi\\u0119ksz\\u0105, podwy\\u017ck\\u0119, znacznie, wy\\u017csze, temu\",\"<b>Topic 30</b><br>Words: zam\\u00f3wi\\u0107, roku, pisjestzadrogi, sta\\u0142, w\\u0142asnych\",\"<b>Topic 30</b><br>Words: kedzierskimarc, tez\\u0119, oko, wyborcza, w\\u015br\\u00f3d\"],\"marker\":{\"color\":\"#009E73\"},\"mode\":\"lines\",\"name\":\"30_najwi\\u0119ksz\\u0105_podwy\\u017ck\\u0119_temu_znacznie\",\"x\":[\"2022-09-19T00:00:00\",\"2022-10-14T00:00:00\",\"2022-10-18T00:00:00\",\"2022-10-20T00:00:00\",\"2022-10-23T00:00:00\",\"2022-10-28T00:00:00\",\"2022-10-29T00:00:00\",\"2022-10-30T00:00:00\",\"2022-10-31T00:00:00\",\"2022-11-01T00:00:00\",\"2022-11-02T00:00:00\"],\"y\":[1,1,2,1,1,1,1,1,3,4,2],\"type\":\"scatter\"},{\"hoverinfo\":\"text\",\"hovertext\":[\"<b>Topic 31</b><br>Words: coolfonpl, robi, pieni\\u0105dza, bardziej, bardzo\",\"<b>Topic 31</b><br>Words: coolfonpl, robi, inflacja, pieni\\u0105dza, bardziej\",\"<b>Topic 31</b><br>Words: coolfonpl, robi, inflacja, pieni\\u0105dza, bardziej\"],\"marker\":{\"color\":\"#F0E442\"},\"mode\":\"lines\",\"name\":\"31_coolfonpl_robi_inflacja_pieni\\u0105dza\",\"x\":[\"2022-09-30T00:00:00\",\"2022-10-13T00:00:00\",\"2022-10-14T00:00:00\"],\"y\":[1,13,1],\"type\":\"scatter\"},{\"hoverinfo\":\"text\",\"hovertext\":[\"<b>Topic 32</b><br>Words: zwi\\u0119kszy, pewien, zaczn\\u0105, popyt, magazyny\",\"<b>Topic 32</b><br>Words: fakt, chocia\\u017c, wiadomo, chodzi, cena\",\"<b>Topic 32</b><br>Words: moment, drogie, zostan\\u0105, t\\u0119, powodu\",\"<b>Topic 32</b><br>Words: poprawnym2, mojej, ps, przypadku, latach\",\"<b>Topic 32</b><br>Words: p\\u00f3j\\u015b\\u0107, kierunku, osoby, ma\\u0142ych, powinno\",\"<b>Topic 32</b><br>Words: 150, \\u015bwiata, wysoka, tys, nawet\",\"<b>Topic 32</b><br>Words: kierunek, 120, ma\\u0142y, powinien, pln\",\"<b>Topic 32</b><br>Words: by\\u0142o, sprzed, podczas, sprzeda\\u017cy, ta\",\"<b>Topic 32</b><br>Words: auta, zanim, sa, zrobi\\u0107, swoje\",\"<b>Topic 32</b><br>Words: lkwarzecha, zdro\\u017ca\\u0142a, zdro\\u017ca\\u0142o, g\\u0142upia, gdy\\u017c\",\"<b>Topic 32</b><br>Words: czerpie, nowego, informacje, \\u017ar\\u00f3de\\u0142, por\\u00f3wnaniu\",\"<b>Topic 32</b><br>Words: posz\\u0142y, pr\\u00f3buje, 35, g\\u00f3ry, raczej\",\"<b>Topic 32</b><br>Words: wzr\\u00f3s\\u0142, rosn\\u0105cych, jednego, rachunek, juz\",\"<b>Topic 32</b><br>Words: czaroit1, jazda, generalnie, nowego, kupi\"],\"marker\":{\"color\":\"#D55E00\"},\"mode\":\"lines\",\"name\":\"32_cena_latach_nowego_30\",\"x\":[\"2022-09-15T00:00:00\",\"2022-09-17T00:00:00\",\"2022-09-19T00:00:00\",\"2022-09-24T00:00:00\",\"2022-09-26T00:00:00\",\"2022-10-12T00:00:00\",\"2022-10-26T00:00:00\",\"2022-10-29T00:00:00\",\"2022-10-30T00:00:00\",\"2022-11-01T00:00:00\",\"2022-11-02T00:00:00\",\"2022-11-03T00:00:00\",\"2022-11-04T00:00:00\",\"2022-11-10T00:00:00\"],\"y\":[1,1,1,1,1,1,1,1,1,2,1,1,1,1],\"type\":\"scatter\"},{\"hoverinfo\":\"text\",\"hovertext\":[\"<b>Topic 33</b><br>Words: sta\\u0107, b\\u0119dzie, ceny, groszy, kg\",\"<b>Topic 33</b><br>Words: groszy, kg, takim, piechocinski, razie\",\"<b>Topic 33</b><br>Words: 5z\\u0142, twoja, zesz\\u0142ym, mo\\u017cesz, skutek\",\"<b>Topic 33</b><br>Words: skupu, wzrosn\\u0105, sklepie, piechocinski, stanie\",\"<b>Topic 33</b><br>Words: ta\\u0144sze, by\\u0142em, sklepach, inne, 60\",\"<b>Topic 33</b><br>Words: skupu, dzieci, spad\\u0142a, zakup, wojn\\u0119\",\"<b>Topic 33</b><br>Words: p\\u0142aca, koszt\\u00f3w, pana, tych, ceny\",\"<b>Topic 33</b><br>Words: groszy, podaje, p\\u0142ac\\u0105, 45, natomiast\",\"<b>Topic 33</b><br>Words: groszy, p\\u0142ac\\u0105, poni\\u017cej, 80, 70\",\"<b>Topic 33</b><br>Words: granicach, kg, 35, one, wy\\u017csze\",\"<b>Topic 33</b><br>Words: koszt\\u00f3w, 50, proc, 2022, nawet\",\"<b>Topic 33</b><br>Words: kg, podwy\\u017cka, dla, z\\u0142, cen\",\"<b>Topic 33</b><br>Words: maksymalne, 35, ko\\u0144czy, sprzeda\\u017c, jaka\"],\"marker\":{\"color\":\"#0072B2\"},\"mode\":\"lines\",\"name\":\"33_groszy_ceny_kg_skupu\",\"x\":[\"2022-09-08T00:00:00\",\"2022-09-24T00:00:00\",\"2022-09-25T00:00:00\",\"2022-09-26T00:00:00\",\"2022-10-06T00:00:00\",\"2022-10-21T00:00:00\",\"2022-10-23T00:00:00\",\"2022-10-26T00:00:00\",\"2022-11-02T00:00:00\",\"2022-11-06T00:00:00\",\"2022-11-10T00:00:00\",\"2022-11-12T00:00:00\",\"2022-11-14T00:00:00\"],\"y\":[1,1,1,1,1,1,1,1,1,1,1,1,1],\"type\":\"scatter\"},{\"hoverinfo\":\"text\",\"hovertext\":[\"<b>Topic 34</b><br>Words: weekend, czy, uwag\\u0119, zaraz, znowu\",\"<b>Topic 34</b><br>Words: czekam, w\\u0119glowy, te\\u017c, czy, ten\",\"<b>Topic 34</b><br>Words: czy, ju\\u017c, w\\u0119giel, jest, weekend\",\"<b>Topic 34</b><br>Words: czy, ju\\u017c, w\\u0119giel, jest, weekend\"],\"marker\":{\"color\":\"#CC79A7\"},\"mode\":\"lines\",\"name\":\"34_czy_ju\\u017c_w\\u0119giel_jest\",\"x\":[\"2022-09-05T00:00:00\",\"2022-09-14T00:00:00\",\"2022-11-14T00:00:00\",\"2022-11-15T00:00:00\"],\"y\":[1,1,8,2],\"type\":\"scatter\"},{\"hoverinfo\":\"text\",\"hovertext\":[\"<b>Topic 35</b><br>Words: kobiety, czasy, w\\u0119gla, , \",\"<b>Topic 35</b><br>Words: kobiety, czasy, w\\u0119gla, , \"],\"marker\":{\"color\":\"#E69F00\"},\"mode\":\"lines\",\"name\":\"35_kobiety_czasy_w\\u0119gla_\",\"x\":[\"2022-09-11T00:00:00\",\"2022-09-12T00:00:00\"],\"y\":[9,2],\"type\":\"scatter\"}],                        {\"template\":{\"data\":{\"barpolar\":[{\"marker\":{\"line\":{\"color\":\"white\",\"width\":0.5},\"pattern\":{\"fillmode\":\"overlay\",\"size\":10,\"solidity\":0.2}},\"type\":\"barpolar\"}],\"bar\":[{\"error_x\":{\"color\":\"rgb(36,36,36)\"},\"error_y\":{\"color\":\"rgb(36,36,36)\"},\"marker\":{\"line\":{\"color\":\"white\",\"width\":0.5},\"pattern\":{\"fillmode\":\"overlay\",\"size\":10,\"solidity\":0.2}},\"type\":\"bar\"}],\"carpet\":[{\"aaxis\":{\"endlinecolor\":\"rgb(36,36,36)\",\"gridcolor\":\"white\",\"linecolor\":\"white\",\"minorgridcolor\":\"white\",\"startlinecolor\":\"rgb(36,36,36)\"},\"baxis\":{\"endlinecolor\":\"rgb(36,36,36)\",\"gridcolor\":\"white\",\"linecolor\":\"white\",\"minorgridcolor\":\"white\",\"startlinecolor\":\"rgb(36,36,36)\"},\"type\":\"carpet\"}],\"choropleth\":[{\"colorbar\":{\"outlinewidth\":1,\"tickcolor\":\"rgb(36,36,36)\",\"ticks\":\"outside\"},\"type\":\"choropleth\"}],\"contourcarpet\":[{\"colorbar\":{\"outlinewidth\":1,\"tickcolor\":\"rgb(36,36,36)\",\"ticks\":\"outside\"},\"type\":\"contourcarpet\"}],\"contour\":[{\"colorbar\":{\"outlinewidth\":1,\"tickcolor\":\"rgb(36,36,36)\",\"ticks\":\"outside\"},\"colorscale\":[[0.0,\"#440154\"],[0.1111111111111111,\"#482878\"],[0.2222222222222222,\"#3e4989\"],[0.3333333333333333,\"#31688e\"],[0.4444444444444444,\"#26828e\"],[0.5555555555555556,\"#1f9e89\"],[0.6666666666666666,\"#35b779\"],[0.7777777777777778,\"#6ece58\"],[0.8888888888888888,\"#b5de2b\"],[1.0,\"#fde725\"]],\"type\":\"contour\"}],\"heatmapgl\":[{\"colorbar\":{\"outlinewidth\":1,\"tickcolor\":\"rgb(36,36,36)\",\"ticks\":\"outside\"},\"colorscale\":[[0.0,\"#440154\"],[0.1111111111111111,\"#482878\"],[0.2222222222222222,\"#3e4989\"],[0.3333333333333333,\"#31688e\"],[0.4444444444444444,\"#26828e\"],[0.5555555555555556,\"#1f9e89\"],[0.6666666666666666,\"#35b779\"],[0.7777777777777778,\"#6ece58\"],[0.8888888888888888,\"#b5de2b\"],[1.0,\"#fde725\"]],\"type\":\"heatmapgl\"}],\"heatmap\":[{\"colorbar\":{\"outlinewidth\":1,\"tickcolor\":\"rgb(36,36,36)\",\"ticks\":\"outside\"},\"colorscale\":[[0.0,\"#440154\"],[0.1111111111111111,\"#482878\"],[0.2222222222222222,\"#3e4989\"],[0.3333333333333333,\"#31688e\"],[0.4444444444444444,\"#26828e\"],[0.5555555555555556,\"#1f9e89\"],[0.6666666666666666,\"#35b779\"],[0.7777777777777778,\"#6ece58\"],[0.8888888888888888,\"#b5de2b\"],[1.0,\"#fde725\"]],\"type\":\"heatmap\"}],\"histogram2dcontour\":[{\"colorbar\":{\"outlinewidth\":1,\"tickcolor\":\"rgb(36,36,36)\",\"ticks\":\"outside\"},\"colorscale\":[[0.0,\"#440154\"],[0.1111111111111111,\"#482878\"],[0.2222222222222222,\"#3e4989\"],[0.3333333333333333,\"#31688e\"],[0.4444444444444444,\"#26828e\"],[0.5555555555555556,\"#1f9e89\"],[0.6666666666666666,\"#35b779\"],[0.7777777777777778,\"#6ece58\"],[0.8888888888888888,\"#b5de2b\"],[1.0,\"#fde725\"]],\"type\":\"histogram2dcontour\"}],\"histogram2d\":[{\"colorbar\":{\"outlinewidth\":1,\"tickcolor\":\"rgb(36,36,36)\",\"ticks\":\"outside\"},\"colorscale\":[[0.0,\"#440154\"],[0.1111111111111111,\"#482878\"],[0.2222222222222222,\"#3e4989\"],[0.3333333333333333,\"#31688e\"],[0.4444444444444444,\"#26828e\"],[0.5555555555555556,\"#1f9e89\"],[0.6666666666666666,\"#35b779\"],[0.7777777777777778,\"#6ece58\"],[0.8888888888888888,\"#b5de2b\"],[1.0,\"#fde725\"]],\"type\":\"histogram2d\"}],\"histogram\":[{\"marker\":{\"line\":{\"color\":\"white\",\"width\":0.6}},\"type\":\"histogram\"}],\"mesh3d\":[{\"colorbar\":{\"outlinewidth\":1,\"tickcolor\":\"rgb(36,36,36)\",\"ticks\":\"outside\"},\"type\":\"mesh3d\"}],\"parcoords\":[{\"line\":{\"colorbar\":{\"outlinewidth\":1,\"tickcolor\":\"rgb(36,36,36)\",\"ticks\":\"outside\"}},\"type\":\"parcoords\"}],\"pie\":[{\"automargin\":true,\"type\":\"pie\"}],\"scatter3d\":[{\"line\":{\"colorbar\":{\"outlinewidth\":1,\"tickcolor\":\"rgb(36,36,36)\",\"ticks\":\"outside\"}},\"marker\":{\"colorbar\":{\"outlinewidth\":1,\"tickcolor\":\"rgb(36,36,36)\",\"ticks\":\"outside\"}},\"type\":\"scatter3d\"}],\"scattercarpet\":[{\"marker\":{\"colorbar\":{\"outlinewidth\":1,\"tickcolor\":\"rgb(36,36,36)\",\"ticks\":\"outside\"}},\"type\":\"scattercarpet\"}],\"scattergeo\":[{\"marker\":{\"colorbar\":{\"outlinewidth\":1,\"tickcolor\":\"rgb(36,36,36)\",\"ticks\":\"outside\"}},\"type\":\"scattergeo\"}],\"scattergl\":[{\"marker\":{\"colorbar\":{\"outlinewidth\":1,\"tickcolor\":\"rgb(36,36,36)\",\"ticks\":\"outside\"}},\"type\":\"scattergl\"}],\"scattermapbox\":[{\"marker\":{\"colorbar\":{\"outlinewidth\":1,\"tickcolor\":\"rgb(36,36,36)\",\"ticks\":\"outside\"}},\"type\":\"scattermapbox\"}],\"scatterpolargl\":[{\"marker\":{\"colorbar\":{\"outlinewidth\":1,\"tickcolor\":\"rgb(36,36,36)\",\"ticks\":\"outside\"}},\"type\":\"scatterpolargl\"}],\"scatterpolar\":[{\"marker\":{\"colorbar\":{\"outlinewidth\":1,\"tickcolor\":\"rgb(36,36,36)\",\"ticks\":\"outside\"}},\"type\":\"scatterpolar\"}],\"scatter\":[{\"fillpattern\":{\"fillmode\":\"overlay\",\"size\":10,\"solidity\":0.2},\"type\":\"scatter\"}],\"scatterternary\":[{\"marker\":{\"colorbar\":{\"outlinewidth\":1,\"tickcolor\":\"rgb(36,36,36)\",\"ticks\":\"outside\"}},\"type\":\"scatterternary\"}],\"surface\":[{\"colorbar\":{\"outlinewidth\":1,\"tickcolor\":\"rgb(36,36,36)\",\"ticks\":\"outside\"},\"colorscale\":[[0.0,\"#440154\"],[0.1111111111111111,\"#482878\"],[0.2222222222222222,\"#3e4989\"],[0.3333333333333333,\"#31688e\"],[0.4444444444444444,\"#26828e\"],[0.5555555555555556,\"#1f9e89\"],[0.6666666666666666,\"#35b779\"],[0.7777777777777778,\"#6ece58\"],[0.8888888888888888,\"#b5de2b\"],[1.0,\"#fde725\"]],\"type\":\"surface\"}],\"table\":[{\"cells\":{\"fill\":{\"color\":\"rgb(237,237,237)\"},\"line\":{\"color\":\"white\"}},\"header\":{\"fill\":{\"color\":\"rgb(217,217,217)\"},\"line\":{\"color\":\"white\"}},\"type\":\"table\"}]},\"layout\":{\"annotationdefaults\":{\"arrowhead\":0,\"arrowwidth\":1},\"autotypenumbers\":\"strict\",\"coloraxis\":{\"colorbar\":{\"outlinewidth\":1,\"tickcolor\":\"rgb(36,36,36)\",\"ticks\":\"outside\"}},\"colorscale\":{\"diverging\":[[0.0,\"rgb(103,0,31)\"],[0.1,\"rgb(178,24,43)\"],[0.2,\"rgb(214,96,77)\"],[0.3,\"rgb(244,165,130)\"],[0.4,\"rgb(253,219,199)\"],[0.5,\"rgb(247,247,247)\"],[0.6,\"rgb(209,229,240)\"],[0.7,\"rgb(146,197,222)\"],[0.8,\"rgb(67,147,195)\"],[0.9,\"rgb(33,102,172)\"],[1.0,\"rgb(5,48,97)\"]],\"sequential\":[[0.0,\"#440154\"],[0.1111111111111111,\"#482878\"],[0.2222222222222222,\"#3e4989\"],[0.3333333333333333,\"#31688e\"],[0.4444444444444444,\"#26828e\"],[0.5555555555555556,\"#1f9e89\"],[0.6666666666666666,\"#35b779\"],[0.7777777777777778,\"#6ece58\"],[0.8888888888888888,\"#b5de2b\"],[1.0,\"#fde725\"]],\"sequentialminus\":[[0.0,\"#440154\"],[0.1111111111111111,\"#482878\"],[0.2222222222222222,\"#3e4989\"],[0.3333333333333333,\"#31688e\"],[0.4444444444444444,\"#26828e\"],[0.5555555555555556,\"#1f9e89\"],[0.6666666666666666,\"#35b779\"],[0.7777777777777778,\"#6ece58\"],[0.8888888888888888,\"#b5de2b\"],[1.0,\"#fde725\"]]},\"colorway\":[\"#1F77B4\",\"#FF7F0E\",\"#2CA02C\",\"#D62728\",\"#9467BD\",\"#8C564B\",\"#E377C2\",\"#7F7F7F\",\"#BCBD22\",\"#17BECF\"],\"font\":{\"color\":\"rgb(36,36,36)\"},\"geo\":{\"bgcolor\":\"white\",\"lakecolor\":\"white\",\"landcolor\":\"white\",\"showlakes\":true,\"showland\":true,\"subunitcolor\":\"white\"},\"hoverlabel\":{\"align\":\"left\"},\"hovermode\":\"closest\",\"mapbox\":{\"style\":\"light\"},\"paper_bgcolor\":\"white\",\"plot_bgcolor\":\"white\",\"polar\":{\"angularaxis\":{\"gridcolor\":\"rgb(232,232,232)\",\"linecolor\":\"rgb(36,36,36)\",\"showgrid\":false,\"showline\":true,\"ticks\":\"outside\"},\"bgcolor\":\"white\",\"radialaxis\":{\"gridcolor\":\"rgb(232,232,232)\",\"linecolor\":\"rgb(36,36,36)\",\"showgrid\":false,\"showline\":true,\"ticks\":\"outside\"}},\"scene\":{\"xaxis\":{\"backgroundcolor\":\"white\",\"gridcolor\":\"rgb(232,232,232)\",\"gridwidth\":2,\"linecolor\":\"rgb(36,36,36)\",\"showbackground\":true,\"showgrid\":false,\"showline\":true,\"ticks\":\"outside\",\"zeroline\":false,\"zerolinecolor\":\"rgb(36,36,36)\"},\"yaxis\":{\"backgroundcolor\":\"white\",\"gridcolor\":\"rgb(232,232,232)\",\"gridwidth\":2,\"linecolor\":\"rgb(36,36,36)\",\"showbackground\":true,\"showgrid\":false,\"showline\":true,\"ticks\":\"outside\",\"zeroline\":false,\"zerolinecolor\":\"rgb(36,36,36)\"},\"zaxis\":{\"backgroundcolor\":\"white\",\"gridcolor\":\"rgb(232,232,232)\",\"gridwidth\":2,\"linecolor\":\"rgb(36,36,36)\",\"showbackground\":true,\"showgrid\":false,\"showline\":true,\"ticks\":\"outside\",\"zeroline\":false,\"zerolinecolor\":\"rgb(36,36,36)\"}},\"shapedefaults\":{\"fillcolor\":\"black\",\"line\":{\"width\":0},\"opacity\":0.3},\"ternary\":{\"aaxis\":{\"gridcolor\":\"rgb(232,232,232)\",\"linecolor\":\"rgb(36,36,36)\",\"showgrid\":false,\"showline\":true,\"ticks\":\"outside\"},\"baxis\":{\"gridcolor\":\"rgb(232,232,232)\",\"linecolor\":\"rgb(36,36,36)\",\"showgrid\":false,\"showline\":true,\"ticks\":\"outside\"},\"bgcolor\":\"white\",\"caxis\":{\"gridcolor\":\"rgb(232,232,232)\",\"linecolor\":\"rgb(36,36,36)\",\"showgrid\":false,\"showline\":true,\"ticks\":\"outside\"}},\"title\":{\"x\":0.05},\"xaxis\":{\"automargin\":true,\"gridcolor\":\"rgb(232,232,232)\",\"linecolor\":\"rgb(36,36,36)\",\"showgrid\":false,\"showline\":true,\"ticks\":\"outside\",\"title\":{\"standoff\":15},\"zeroline\":false,\"zerolinecolor\":\"rgb(36,36,36)\"},\"yaxis\":{\"automargin\":true,\"gridcolor\":\"rgb(232,232,232)\",\"linecolor\":\"rgb(36,36,36)\",\"showgrid\":false,\"showline\":true,\"ticks\":\"outside\",\"title\":{\"standoff\":15},\"zeroline\":false,\"zerolinecolor\":\"rgb(36,36,36)\"}}},\"xaxis\":{\"showgrid\":true},\"yaxis\":{\"showgrid\":true,\"title\":{\"text\":\"Frequency\"}},\"title\":{\"font\":{\"size\":22,\"color\":\"Black\"},\"text\":\"<b>Topics over Time\",\"y\":0.95,\"x\":0.4,\"xanchor\":\"center\",\"yanchor\":\"top\"},\"hoverlabel\":{\"font\":{\"size\":16,\"family\":\"Rockwell\"},\"bgcolor\":\"white\"},\"width\":1250,\"height\":450,\"legend\":{\"title\":{\"text\":\"<b>Global Topic Representation\"}}},                        {\"responsive\": true}                    ).then(function(){\n",
       "                            \n",
       "var gd = document.getElementById('db78c931-a9cb-4621-8bf2-a409061289e9');\n",
       "var x = new MutationObserver(function (mutations, observer) {{\n",
       "        var display = window.getComputedStyle(gd).display;\n",
       "        if (!display || display === 'none') {{\n",
       "            console.log([gd, 'removed!']);\n",
       "            Plotly.purge(gd);\n",
       "            observer.disconnect();\n",
       "        }}\n",
       "}});\n",
       "\n",
       "// Listen for the removal of the full notebook cells\n",
       "var notebookContainer = gd.closest('#notebook-container');\n",
       "if (notebookContainer) {{\n",
       "    x.observe(notebookContainer, {childList: true});\n",
       "}}\n",
       "\n",
       "// Listen for the clearing of the current output cell\n",
       "var outputEl = gd.closest('.output');\n",
       "if (outputEl) {{\n",
       "    x.observe(outputEl, {childList: true});\n",
       "}}\n",
       "\n",
       "                        })                };                });            </script>        </div>"
      ]
     },
     "metadata": {},
     "output_type": "display_data"
    }
   ],
   "source": [
    "timestamps = list(tweets['created_at'].apply(lambda x: x[:10]).values)\n",
    "topics_over_time = model.topics_over_time(docs, timestamps)\n",
    "model.visualize_topics_over_time(topics_over_time)"
   ]
  },
  {
   "cell_type": "code",
   "execution_count": 36,
   "metadata": {},
   "outputs": [
    {
     "data": {
      "application/vnd.plotly.v1+json": {
       "config": {
        "plotlyServerURL": "https://plot.ly"
       },
       "data": [
        {
         "hovertext": "<b>Topic -1</b>:węgla_jest_węgiel_od_inflacja_tak_",
         "line": {
          "color": "black",
          "width": 1.5
         },
         "mode": "lines+lines",
         "name": "",
         "opacity": 0.1,
         "type": "scatter",
         "x": [
          1,
          2,
          3,
          4,
          5,
          6,
          7,
          8,
          9,
          10
         ],
         "y": [
          0.018346557538090325,
          0.018250797457389736,
          0.01811975157988566,
          0.014833542178266835,
          0.013703298327860424,
          0.013503722595797563,
          0.013086443687726292,
          0.01299587445062171,
          0.012611465165461386,
          0.0122384953885686
         ]
        },
        {
         "hovertext": "<b>Topic 0</b>:węgla_pis_jest_węgiel_dla_inflacja_",
         "line": {
          "color": "black",
          "width": 1.5
         },
         "mode": "lines+lines",
         "name": "",
         "opacity": 0.1,
         "type": "scatter",
         "x": [
          1,
          2,
          3,
          4,
          5,
          6,
          7,
          8,
          9,
          10
         ],
         "y": [
          0.019248160656274396,
          0.018057810036926053,
          0.016832226472532227,
          0.015731737297177046,
          0.015364439214188709,
          0.015285331316183445,
          0.015027468125025163,
          0.015020151262549417,
          0.013958075631508178,
          0.013681599394084906
         ]
        },
        {
         "hovertext": "<b>Topic 1</b>:zimę_zimy_węgla_będzie_zimą_tej_węg",
         "line": {
          "color": "black",
          "width": 1.5
         },
         "mode": "lines+lines",
         "name": "",
         "opacity": 0.1,
         "type": "scatter",
         "x": [
          1,
          2,
          3,
          4,
          5,
          6,
          7,
          8,
          9,
          10
         ],
         "y": [
          0.09498556742441493,
          0.0830499543877448,
          0.05027354371118152,
          0.04811332547569233,
          0.0455852193556046,
          0.03701984653516934,
          0.02823693696159698,
          0.026747538326449785,
          0.022772536108717337,
          0.022315990899399615
         ]
        },
        {
         "hovertext": "<b>Topic 2</b>:podatek_podatków_podatki_inflacji_i",
         "line": {
          "color": "black",
          "width": 1.5
         },
         "mode": "lines+lines",
         "name": "",
         "opacity": 0.1,
         "type": "scatter",
         "x": [
          1,
          2,
          3,
          4,
          5,
          6,
          7,
          8,
          9,
          10
         ],
         "y": [
          0.11968116858467451,
          0.08595408472795882,
          0.07808933882577526,
          0.03623217502767412,
          0.0304080256736749,
          0.02645826521617926,
          0.0260958671301027,
          0.023819710961117086,
          0.023273069874113747,
          0.022097452533674216
         ]
        },
        {
         "hovertext": "<b>Topic 3</b>:turcji_80_inflacja_ekonomiczne_paźd",
         "line": {
          "color": "black",
          "width": 1.5
         },
         "mode": "lines+lines",
         "name": "",
         "opacity": 0.1,
         "type": "scatter",
         "x": [
          1,
          2,
          3,
          4,
          5,
          6,
          7,
          8,
          9,
          10
         ],
         "y": [
          0.269991079197247,
          0.09490391626676777,
          0.07024539996459209,
          0.0531588891234142,
          0.04798307739570853,
          0.04451555794007047,
          0.04209589074459662,
          0.037148238835850306,
          0.0366366052335735,
          0.03596744917264199
         ]
        },
        {
         "hovertext": "<b>Topic 4</b>:bezrobocie_inflację_17_inflacji_joh",
         "line": {
          "color": "black",
          "width": 1.5
         },
         "mode": "lines+lines",
         "name": "",
         "opacity": 0.1,
         "type": "scatter",
         "x": [
          1,
          2,
          3,
          4,
          5,
          6,
          7,
          8,
          9,
          10
         ],
         "y": [
          0.29917987118552236,
          0.046031964170231074,
          0.045358466549278956,
          0.044820358046944175,
          0.044483685870187216,
          0.036029624160242656,
          0.03269900618718313,
          0.02604036081886165,
          0.025616418798326827,
          0.024850342473516307
         ]
        },
        {
         "hovertext": "<b>Topic 5</b>:ropy_opec_usa_naftowej_wydobycia_ro",
         "line": {
          "color": "black",
          "width": 1.5
         },
         "mode": "lines+lines",
         "name": "",
         "opacity": 0.1,
         "type": "scatter",
         "x": [
          1,
          2,
          3,
          4,
          5,
          6,
          7,
          8,
          9,
          10
         ],
         "y": [
          0.19306296683573834,
          0.12868774427296903,
          0.08922319366663749,
          0.065193107951588,
          0.05991075860022664,
          0.033997665735074005,
          0.03279960309545103,
          0.03184711854568388,
          0.03146565660733315,
          0.030180799762196613
         ]
        },
        {
         "hovertext": "<b>Topic 6</b>:obligacje_inflacji_inflacją_kredyt_",
         "line": {
          "color": "black",
          "width": 1.5
         },
         "mode": "lines+lines",
         "name": "",
         "opacity": 0.1,
         "type": "scatter",
         "x": [
          1,
          2,
          3,
          4,
          5,
          6,
          7,
          8,
          9,
          10
         ],
         "y": [
          0.10980262149894167,
          0.03943611050217339,
          0.03722973603350623,
          0.03591106641634307,
          0.026188112365549677,
          0.024954316019764455,
          0.024127822108033006,
          0.023937298426628607,
          0.022819994883891873,
          0.022201081200919084
         ]
        },
        {
         "hovertext": "<b>Topic 7</b>:małe_mefistofelleess_mini_rafalhube",
         "line": {
          "color": "black",
          "width": 1.5
         },
         "mode": "lines+lines",
         "name": "",
         "opacity": 0.1,
         "type": "scatter",
         "x": [
          1,
          2,
          3,
          4,
          5,
          6,
          7,
          8,
          9,
          10
         ],
         "y": [
          0.06797883086682069,
          0.05863823791252559,
          0.056461311555124745,
          0.0390005124430129,
          0.03573367466187146,
          0.032156756053596275,
          0.03190456286934825,
          0.031662319022315935,
          0.03164140933232732,
          0.030816051422284052
         ]
        },
        {
         "hovertext": "<b>Topic 8</b>:tvp_info_tvp_inflacji_inflacja_infl",
         "line": {
          "color": "black",
          "width": 1.5
         },
         "mode": "lines+lines",
         "name": "",
         "opacity": 0.1,
         "type": "scatter",
         "x": [
          1,
          2,
          3,
          4,
          5,
          6,
          7,
          8,
          9,
          10
         ],
         "y": [
          0.25375045175572314,
          0.10081344041470701,
          0.06728772673617066,
          0.06032286167344291,
          0.03319163293249566,
          0.032719306771592745,
          0.031557731060279155,
          0.02888462369392501,
          0.025420559152225995,
          0.02493891741228192
         ]
        },
        {
         "hovertext": "<b>Topic 9</b>:podnieść_ceny_cena_jesteśmy_slawomi",
         "line": {
          "color": "black",
          "width": 1.5
         },
         "mode": "lines+lines",
         "name": "",
         "opacity": 0.1,
         "type": "scatter",
         "x": [
          1,
          2,
          3,
          4,
          5,
          6,
          7,
          8,
          9,
          10
         ],
         "y": [
          0.03959552000922256,
          0.037768507750046,
          0.033624627413767115,
          0.03086927222791339,
          0.02951548378746391,
          0.02591594521008649,
          0.02445450850968299,
          0.02428304815996381,
          0.022669441432408226,
          0.022496913033644768
         ]
        },
        {
         "hovertext": "<b>Topic 10</b>:fishing_fever69_zabraknie_żywność_",
         "line": {
          "color": "black",
          "width": 1.5
         },
         "mode": "lines+lines",
         "name": "",
         "opacity": 0.1,
         "type": "scatter",
         "x": [
          1,
          2,
          3,
          4,
          5,
          6,
          7,
          8,
          9,
          10
         ],
         "y": [
          0.641973857481957,
          0.08143960118767239,
          0.0679519504755164,
          0.05826129947710786,
          0.05481855287763056,
          0.04593074052605901,
          0.043218556398512256,
          0.04307157091253811,
          0.040750774076491615,
          0.039495346879789464
         ]
        },
        {
         "hovertext": "<b>Topic 11</b>:turcji_gazu_europy_gaz_centrum_wsp",
         "line": {
          "color": "black",
          "width": 1.5
         },
         "mode": "lines+lines",
         "name": "",
         "opacity": 0.1,
         "type": "scatter",
         "x": [
          1,
          2,
          3,
          4,
          5,
          6,
          7,
          8,
          9,
          10
         ],
         "y": [
          0.23441982305681766,
          0.07765112000225698,
          0.057772519827515384,
          0.053526618357690126,
          0.052312676753871384,
          0.04875172271580389,
          0.04404245707326969,
          0.04034232324678721,
          0.03947818853707645,
          0.03586767729448432
         ]
        },
        {
         "hovertext": "<b>Topic 12</b>:kosmos_ceny_cena_teraz_ta_sa_xd_ze",
         "line": {
          "color": "black",
          "width": 1.5
         },
         "mode": "lines+lines",
         "name": "",
         "opacity": 0.1,
         "type": "scatter",
         "x": [
          1,
          2,
          3,
          4,
          5,
          6,
          7,
          8,
          9,
          10
         ],
         "y": [
          0.21262066400752966,
          0.09004308351900481,
          0.04847110339227161,
          0.026485642062135325,
          0.024369169465988088,
          0.0241394209177081,
          0.02394217580134504,
          0.021983205824181996,
          0.021867661957011685,
          0.02122853969152693
         ]
        },
        {
         "hovertext": "<b>Topic 13</b>:drewna_drewno_ceny_przeciwko_rosną",
         "line": {
          "color": "black",
          "width": 1.5
         },
         "mode": "lines+lines",
         "name": "",
         "opacity": 0.1,
         "type": "scatter",
         "x": [
          1,
          2,
          3,
          4,
          5,
          6,
          7,
          8,
          9,
          10
         ],
         "y": [
          0.3060358579540767,
          0.14902998712382917,
          0.0808720020460989,
          0.05210461655137478,
          0.05137779854347105,
          0.049763504227186256,
          0.04449339305155066,
          0.03849012550463309,
          0.03687311818064656,
          0.030030379805686416
         ]
        },
        {
         "hovertext": "<b>Topic 14</b>:setki_galopująca_socjal_ukrainy_wo",
         "line": {
          "color": "black",
          "width": 1.5
         },
         "mode": "lines+lines",
         "name": "",
         "opacity": 0.1,
         "type": "scatter",
         "x": [
          1,
          2,
          3,
          4,
          5,
          6,
          7,
          8,
          9,
          10
         ],
         "y": [
          0.0476384387128913,
          0.04713595469132402,
          0.04501400236204975,
          0.04395359358449276,
          0.042163041857028405,
          0.03485836583078557,
          0.033554235769613264,
          0.031776708134035804,
          0.031109397082044986,
          0.030705290769178283
         ]
        },
        {
         "hovertext": "<b>Topic 15</b>:chiny_chin_chinach_ropy_są_od_zera",
         "line": {
          "color": "black",
          "width": 1.5
         },
         "mode": "lines+lines",
         "name": "",
         "opacity": 0.1,
         "type": "scatter",
         "x": [
          1,
          2,
          3,
          4,
          5,
          6,
          7,
          8,
          9,
          10
         ],
         "y": [
          0.2086192943855255,
          0.1077529868424322,
          0.1009634910225453,
          0.05902358357259836,
          0.033889134149119926,
          0.030641501007466338,
          0.02704686917369844,
          0.025240872755636325,
          0.024482449704055727,
          0.02386845640699249
         ]
        },
        {
         "hovertext": "<b>Topic 16</b>:cukru_cukier_cena_50_wzrosła_wszęd",
         "line": {
          "color": "black",
          "width": 1.5
         },
         "mode": "lines+lines",
         "name": "",
         "opacity": 0.1,
         "type": "scatter",
         "x": [
          1,
          2,
          3,
          4,
          5,
          6,
          7,
          8,
          9,
          10
         ],
         "y": [
          0.20559857251144723,
          0.11161806618588392,
          0.0795814964004918,
          0.06308533456867932,
          0.052549928916111335,
          0.042641726966013406,
          0.04125649645343354,
          0.0407094749596719,
          0.03343651567094038,
          0.031619654659917465
         ]
        },
        {
         "hovertext": "<b>Topic 17</b>:dzieci_kobiety_węglowy_inflacja_br",
         "line": {
          "color": "black",
          "width": 1.5
         },
         "mode": "lines+lines",
         "name": "",
         "opacity": 0.1,
         "type": "scatter",
         "x": [
          1,
          2,
          3,
          4,
          5,
          6,
          7,
          8,
          9,
          10
         ],
         "y": [
          0.0620148971504549,
          0.03994672384077791,
          0.03444311820397465,
          0.0302442481565815,
          0.027636101052496413,
          0.02747961179596213,
          0.02612862301877162,
          0.024669142689076454,
          0.02363741523277431,
          0.023294225241402622
         ]
        },
        {
         "hovertext": "<b>Topic 18</b>:ceny_cen_cena_telewizja_tanich_osó",
         "line": {
          "color": "black",
          "width": 1.5
         },
         "mode": "lines+lines",
         "name": "",
         "opacity": 0.1,
         "type": "scatter",
         "x": [
          1,
          2,
          3,
          4,
          5,
          6,
          7,
          8,
          9,
          10
         ],
         "y": [
          0.06749304966678893,
          0.05522826560895051,
          0.04339678475589318,
          0.04175831555134933,
          0.04076551247362087,
          0.040750059582170414,
          0.040408812810813696,
          0.03990935643578563,
          0.038002651660825934,
          0.03643150179051015
         ]
        },
        {
         "hovertext": "<b>Topic 19</b>:masła_albo_cena_sklepie_miroka3004",
         "line": {
          "color": "black",
          "width": 1.5
         },
         "mode": "lines+lines",
         "name": "",
         "opacity": 0.1,
         "type": "scatter",
         "x": [
          1,
          2,
          3,
          4,
          5,
          6,
          7,
          8,
          9,
          10
         ],
         "y": [
          0.30347115702893007,
          0.10777623094582836,
          0.08845204536233005,
          0.08577250118470552,
          0.08325337937210825,
          0.07633271816697638,
          0.07287731968930512,
          0.06840730951177153,
          0.06742713337269499,
          0.0662595846538188
         ]
        },
        {
         "hovertext": "<b>Topic 20</b>:ropy_ropę_kraje_rosja_chin_cenę_sp",
         "line": {
          "color": "black",
          "width": 1.5
         },
         "mode": "lines+lines",
         "name": "",
         "opacity": 0.1,
         "type": "scatter",
         "x": [
          1,
          2,
          3,
          4,
          5,
          6,
          7,
          8,
          9,
          10
         ],
         "y": [
          0.2043017216728273,
          0.10763379334256802,
          0.10349487697329791,
          0.08843756617751444,
          0.06469915605571973,
          0.06336963244368501,
          0.06120509633543691,
          0.058864982206949405,
          0.058864982206949405,
          0.058678660117376234
         ]
        },
        {
         "hovertext": "<b>Topic 21</b>:piechocinski_cena_ceny_rynek_kg_ty",
         "line": {
          "color": "black",
          "width": 1.5
         },
         "mode": "lines+lines",
         "name": "",
         "opacity": 0.1,
         "type": "scatter",
         "x": [
          1,
          2,
          3,
          4,
          5,
          6,
          7,
          8,
          9,
          10
         ],
         "y": [
          0.06803133840988258,
          0.06353977635839977,
          0.05978032078039034,
          0.05534594589607829,
          0.049833497377188014,
          0.045452107986670674,
          0.03947450952024348,
          0.03584774744760661,
          0.03435715928149953,
          0.03426174158955148
         ]
        },
        {
         "hovertext": "<b>Topic 22</b>:recesji_recesję_kwartałów_budżetow",
         "line": {
          "color": "black",
          "width": 1.5
         },
         "mode": "lines+lines",
         "name": "",
         "opacity": 0.1,
         "type": "scatter",
         "x": [
          1,
          2,
          3,
          4,
          5,
          6,
          7,
          8,
          9,
          10
         ],
         "y": [
          0.13011886069773854,
          0.09063240973283954,
          0.06710484500214556,
          0.061436472453633734,
          0.05821201827410384,
          0.05582886704093046,
          0.05529027275334145,
          0.05017232403791469,
          0.04640570816239248,
          0.045092877077937826
         ]
        },
        {
         "hovertext": "<b>Topic 23</b>:węglowy_śladu_jaki_węglowego_szczy",
         "line": {
          "color": "black",
          "width": 1.5
         },
         "mode": "lines+lines",
         "name": "",
         "opacity": 0.1,
         "type": "scatter",
         "x": [
          1,
          2,
          3,
          4,
          5,
          6,
          7,
          8,
          9,
          10
         ],
         "y": [
          0.29067904302445274,
          0.18569293935467154,
          0.17368015641395443,
          0.14896408870834518,
          0.12899270566720855,
          0.12783330828653783,
          0.07440942356388514,
          0.07145808008787051,
          0.07097485643662499,
          0.06352016407513993
         ]
        },
        {
         "hovertext": "<b>Topic 24</b>:glapiński_spadnie_inflacja_wakacje",
         "line": {
          "color": "black",
          "width": 1.5
         },
         "mode": "lines+lines",
         "name": "",
         "opacity": 0.1,
         "type": "scatter",
         "x": [
          1,
          2,
          3,
          4,
          5,
          6,
          7,
          8,
          9,
          10
         ],
         "y": [
          0.28109519211792056,
          0.1414613356300403,
          0.11413310449333262,
          0.10769901203478047,
          0.07283009123505596,
          0.07250546622886618,
          0.06651114340723548,
          0.06526393519369342,
          0.0636162245572587,
          0.06144576916534987
         ]
        },
        {
         "hovertext": "<b>Topic 25</b>:ceny_gus_zdrożało_średnia_rosną_50",
         "line": {
          "color": "black",
          "width": 1.5
         },
         "mode": "lines+lines",
         "name": "",
         "opacity": 0.1,
         "type": "scatter",
         "x": [
          1,
          2,
          3,
          4,
          5,
          6,
          7,
          8,
          9,
          10
         ],
         "y": [
          0.08862723693618747,
          0.06698000608691754,
          0.06200689134718968,
          0.051780291991997955,
          0.048233031432210034,
          0.04811359651326285,
          0.04486547786413658,
          0.04406479049564698,
          0.0422068855405903,
          0.040963237965356364
         ]
        },
        {
         "hovertext": "<b>Topic 26</b>:inflacja_poprzednio_proc_wynosi_pr",
         "line": {
          "color": "black",
          "width": 1.5
         },
         "mode": "lines+lines",
         "name": "",
         "opacity": 0.1,
         "type": "scatter",
         "x": [
          1,
          2,
          3,
          4,
          5,
          6,
          7,
          8,
          9,
          10
         ],
         "y": [
          0.11230697482143931,
          0.10261616721487862,
          0.10089498702978632,
          0.0988810973533866,
          0.0941676309074471,
          0.09095794394897633,
          0.08783762370050868,
          0.06454758818989889,
          0.06286010544882668,
          0.06145860309334045
         ]
        },
        {
         "hovertext": "<b>Topic 27</b>:prąd_miał_jaka_między_końca_węgiel",
         "line": {
          "color": "black",
          "width": 1.5
         },
         "mode": "lines+lines",
         "name": "",
         "opacity": 0.1,
         "type": "scatter",
         "x": [
          1,
          2,
          3,
          4,
          5,
          6,
          7,
          8,
          9,
          10
         ],
         "y": [
          0.26664083969000285,
          0.23815320276995502,
          0.238024574835092,
          0.21887382437355943,
          0.13565553206221795,
          0.11044115344231033,
          0.10559534961459313,
          0.1036200167287745,
          0.10164020949070883,
          0.0741605384040457
         ]
        },
        {
         "hovertext": "<b>Topic 28</b>:koszty_ceny_no_stosuje_razy_oczywi",
         "line": {
          "color": "black",
          "width": 1.5
         },
         "mode": "lines+lines",
         "name": "",
         "opacity": 0.1,
         "type": "scatter",
         "x": [
          1,
          2,
          3,
          4,
          5,
          6,
          7,
          8,
          9,
          10
         ],
         "y": [
          0.7826369976559284,
          0.25409148109849944,
          0.08632562902151918,
          0.08420916177506499,
          0.08041364978622424,
          0.07542857986793745,
          0.06968138828909261,
          0.06544213288033321,
          0.06260021779607552,
          0.06056382408618854
         ]
        },
        {
         "hovertext": "<b>Topic 29</b>:powodem_20_ludzi_energii_ceny_____",
         "line": {
          "color": "black",
          "width": 1.5
         },
         "mode": "lines+lines",
         "name": "",
         "opacity": 0.1,
         "type": "scatter",
         "x": [
          1,
          2,
          3,
          4,
          5,
          6,
          7,
          8,
          9,
          10
         ],
         "y": [
          1.0546774661634077,
          0.5119935557923876,
          0.49607088800932386,
          0.31735857308989196,
          0.2399752877041384,
          1e-05,
          1e-05,
          1e-05,
          1e-05,
          1e-05
         ]
        },
        {
         "hovertext": "<b>Topic 30</b>:największą_podwyżkę_temu_znacznie_",
         "line": {
          "color": "black",
          "width": 1.5
         },
         "mode": "lines+lines",
         "name": "",
         "opacity": 0.1,
         "type": "scatter",
         "x": [
          1,
          2,
          3,
          4,
          5,
          6,
          7,
          8,
          9,
          10
         ],
         "y": [
          0.07610970573105053,
          0.06687222908340641,
          0.06680523285389098,
          0.05965005122330376,
          0.05514409325970952,
          0.054876603148996096,
          0.049815842150684145,
          0.04935175555747207,
          0.048643639399487515,
          0.046438181292811236
         ]
        },
        {
         "hovertext": "<b>Topic 31</b>:coolfonpl_robi_inflacja_pieniądza_",
         "line": {
          "color": "black",
          "width": 1.5
         },
         "mode": "lines+lines",
         "name": "",
         "opacity": 0.1,
         "type": "scatter",
         "x": [
          1,
          2,
          3,
          4,
          5,
          6,
          7,
          8,
          9,
          10
         ],
         "y": [
          1.0913078413003074,
          0.9664074976869085,
          0.32087707091839796,
          0.08302399885284865,
          0.06822098754546439,
          0.05698130851299223,
          0.053163225834422616,
          0.043805951561494125,
          0.04287817070667296,
          0.01654959624931283
         ]
        },
        {
         "hovertext": "<b>Topic 32</b>:cena_latach_nowego_30_koszt_lkwarz",
         "line": {
          "color": "black",
          "width": 1.5
         },
         "mode": "lines+lines",
         "name": "",
         "opacity": 0.1,
         "type": "scatter",
         "x": [
          1,
          2,
          3,
          4,
          5,
          6,
          7,
          8,
          9,
          10
         ],
         "y": [
          0.06774132254578448,
          0.05379643432954452,
          0.04562757243799538,
          0.04550111691455514,
          0.03954747489907089,
          0.038112002405085964,
          0.037781557221025955,
          0.035490123177578485,
          0.03331501218496641,
          0.03328218632096399
         ]
        },
        {
         "hovertext": "<b>Topic 33</b>:groszy_ceny_kg_skupu_tańsze_35_pła",
         "line": {
          "color": "black",
          "width": 1.5
         },
         "mode": "lines+lines",
         "name": "",
         "opacity": 0.1,
         "type": "scatter",
         "x": [
          1,
          2,
          3,
          4,
          5,
          6,
          7,
          8,
          9,
          10
         ],
         "y": [
          0.20049775956678728,
          0.10358645512408851,
          0.1007425378632362,
          0.09187765510396691,
          0.08086597376232178,
          0.07036164435068812,
          0.06597630608454078,
          0.060255218504121,
          0.05501239163504174,
          0.04885763183924585
         ]
        },
        {
         "hovertext": "<b>Topic 34</b>:czy_już_węgiel_jest_weekend_czekam",
         "line": {
          "color": "black",
          "width": 1.5
         },
         "mode": "lines+lines",
         "name": "",
         "opacity": 0.1,
         "type": "scatter",
         "x": [
          1,
          2,
          3,
          4,
          5,
          6,
          7,
          8,
          9,
          10
         ],
         "y": [
          0.32298170275717364,
          0.295203501995813,
          0.17267972988053537,
          0.15594811850314017,
          0.12380873666603626,
          0.10077882237549161,
          0.08384214009269167,
          0.07687458439492902,
          0.07524427269724747,
          0.07516441827327844
         ]
        }
       ],
       "layout": {
        "height": 500,
        "hoverlabel": {
         "bgcolor": "white",
         "font": {
          "family": "Rockwell",
          "size": 16
         }
        },
        "showlegend": false,
        "template": {
         "data": {
          "bar": [
           {
            "error_x": {
             "color": "#2a3f5f"
            },
            "error_y": {
             "color": "#2a3f5f"
            },
            "marker": {
             "line": {
              "color": "white",
              "width": 0.5
             },
             "pattern": {
              "fillmode": "overlay",
              "size": 10,
              "solidity": 0.2
             }
            },
            "type": "bar"
           }
          ],
          "barpolar": [
           {
            "marker": {
             "line": {
              "color": "white",
              "width": 0.5
             },
             "pattern": {
              "fillmode": "overlay",
              "size": 10,
              "solidity": 0.2
             }
            },
            "type": "barpolar"
           }
          ],
          "carpet": [
           {
            "aaxis": {
             "endlinecolor": "#2a3f5f",
             "gridcolor": "#C8D4E3",
             "linecolor": "#C8D4E3",
             "minorgridcolor": "#C8D4E3",
             "startlinecolor": "#2a3f5f"
            },
            "baxis": {
             "endlinecolor": "#2a3f5f",
             "gridcolor": "#C8D4E3",
             "linecolor": "#C8D4E3",
             "minorgridcolor": "#C8D4E3",
             "startlinecolor": "#2a3f5f"
            },
            "type": "carpet"
           }
          ],
          "choropleth": [
           {
            "colorbar": {
             "outlinewidth": 0,
             "ticks": ""
            },
            "type": "choropleth"
           }
          ],
          "contour": [
           {
            "colorbar": {
             "outlinewidth": 0,
             "ticks": ""
            },
            "colorscale": [
             [
              0,
              "#0d0887"
             ],
             [
              0.1111111111111111,
              "#46039f"
             ],
             [
              0.2222222222222222,
              "#7201a8"
             ],
             [
              0.3333333333333333,
              "#9c179e"
             ],
             [
              0.4444444444444444,
              "#bd3786"
             ],
             [
              0.5555555555555556,
              "#d8576b"
             ],
             [
              0.6666666666666666,
              "#ed7953"
             ],
             [
              0.7777777777777778,
              "#fb9f3a"
             ],
             [
              0.8888888888888888,
              "#fdca26"
             ],
             [
              1,
              "#f0f921"
             ]
            ],
            "type": "contour"
           }
          ],
          "contourcarpet": [
           {
            "colorbar": {
             "outlinewidth": 0,
             "ticks": ""
            },
            "type": "contourcarpet"
           }
          ],
          "heatmap": [
           {
            "colorbar": {
             "outlinewidth": 0,
             "ticks": ""
            },
            "colorscale": [
             [
              0,
              "#0d0887"
             ],
             [
              0.1111111111111111,
              "#46039f"
             ],
             [
              0.2222222222222222,
              "#7201a8"
             ],
             [
              0.3333333333333333,
              "#9c179e"
             ],
             [
              0.4444444444444444,
              "#bd3786"
             ],
             [
              0.5555555555555556,
              "#d8576b"
             ],
             [
              0.6666666666666666,
              "#ed7953"
             ],
             [
              0.7777777777777778,
              "#fb9f3a"
             ],
             [
              0.8888888888888888,
              "#fdca26"
             ],
             [
              1,
              "#f0f921"
             ]
            ],
            "type": "heatmap"
           }
          ],
          "heatmapgl": [
           {
            "colorbar": {
             "outlinewidth": 0,
             "ticks": ""
            },
            "colorscale": [
             [
              0,
              "#0d0887"
             ],
             [
              0.1111111111111111,
              "#46039f"
             ],
             [
              0.2222222222222222,
              "#7201a8"
             ],
             [
              0.3333333333333333,
              "#9c179e"
             ],
             [
              0.4444444444444444,
              "#bd3786"
             ],
             [
              0.5555555555555556,
              "#d8576b"
             ],
             [
              0.6666666666666666,
              "#ed7953"
             ],
             [
              0.7777777777777778,
              "#fb9f3a"
             ],
             [
              0.8888888888888888,
              "#fdca26"
             ],
             [
              1,
              "#f0f921"
             ]
            ],
            "type": "heatmapgl"
           }
          ],
          "histogram": [
           {
            "marker": {
             "pattern": {
              "fillmode": "overlay",
              "size": 10,
              "solidity": 0.2
             }
            },
            "type": "histogram"
           }
          ],
          "histogram2d": [
           {
            "colorbar": {
             "outlinewidth": 0,
             "ticks": ""
            },
            "colorscale": [
             [
              0,
              "#0d0887"
             ],
             [
              0.1111111111111111,
              "#46039f"
             ],
             [
              0.2222222222222222,
              "#7201a8"
             ],
             [
              0.3333333333333333,
              "#9c179e"
             ],
             [
              0.4444444444444444,
              "#bd3786"
             ],
             [
              0.5555555555555556,
              "#d8576b"
             ],
             [
              0.6666666666666666,
              "#ed7953"
             ],
             [
              0.7777777777777778,
              "#fb9f3a"
             ],
             [
              0.8888888888888888,
              "#fdca26"
             ],
             [
              1,
              "#f0f921"
             ]
            ],
            "type": "histogram2d"
           }
          ],
          "histogram2dcontour": [
           {
            "colorbar": {
             "outlinewidth": 0,
             "ticks": ""
            },
            "colorscale": [
             [
              0,
              "#0d0887"
             ],
             [
              0.1111111111111111,
              "#46039f"
             ],
             [
              0.2222222222222222,
              "#7201a8"
             ],
             [
              0.3333333333333333,
              "#9c179e"
             ],
             [
              0.4444444444444444,
              "#bd3786"
             ],
             [
              0.5555555555555556,
              "#d8576b"
             ],
             [
              0.6666666666666666,
              "#ed7953"
             ],
             [
              0.7777777777777778,
              "#fb9f3a"
             ],
             [
              0.8888888888888888,
              "#fdca26"
             ],
             [
              1,
              "#f0f921"
             ]
            ],
            "type": "histogram2dcontour"
           }
          ],
          "mesh3d": [
           {
            "colorbar": {
             "outlinewidth": 0,
             "ticks": ""
            },
            "type": "mesh3d"
           }
          ],
          "parcoords": [
           {
            "line": {
             "colorbar": {
              "outlinewidth": 0,
              "ticks": ""
             }
            },
            "type": "parcoords"
           }
          ],
          "pie": [
           {
            "automargin": true,
            "type": "pie"
           }
          ],
          "scatter": [
           {
            "fillpattern": {
             "fillmode": "overlay",
             "size": 10,
             "solidity": 0.2
            },
            "type": "scatter"
           }
          ],
          "scatter3d": [
           {
            "line": {
             "colorbar": {
              "outlinewidth": 0,
              "ticks": ""
             }
            },
            "marker": {
             "colorbar": {
              "outlinewidth": 0,
              "ticks": ""
             }
            },
            "type": "scatter3d"
           }
          ],
          "scattercarpet": [
           {
            "marker": {
             "colorbar": {
              "outlinewidth": 0,
              "ticks": ""
             }
            },
            "type": "scattercarpet"
           }
          ],
          "scattergeo": [
           {
            "marker": {
             "colorbar": {
              "outlinewidth": 0,
              "ticks": ""
             }
            },
            "type": "scattergeo"
           }
          ],
          "scattergl": [
           {
            "marker": {
             "colorbar": {
              "outlinewidth": 0,
              "ticks": ""
             }
            },
            "type": "scattergl"
           }
          ],
          "scattermapbox": [
           {
            "marker": {
             "colorbar": {
              "outlinewidth": 0,
              "ticks": ""
             }
            },
            "type": "scattermapbox"
           }
          ],
          "scatterpolar": [
           {
            "marker": {
             "colorbar": {
              "outlinewidth": 0,
              "ticks": ""
             }
            },
            "type": "scatterpolar"
           }
          ],
          "scatterpolargl": [
           {
            "marker": {
             "colorbar": {
              "outlinewidth": 0,
              "ticks": ""
             }
            },
            "type": "scatterpolargl"
           }
          ],
          "scatterternary": [
           {
            "marker": {
             "colorbar": {
              "outlinewidth": 0,
              "ticks": ""
             }
            },
            "type": "scatterternary"
           }
          ],
          "surface": [
           {
            "colorbar": {
             "outlinewidth": 0,
             "ticks": ""
            },
            "colorscale": [
             [
              0,
              "#0d0887"
             ],
             [
              0.1111111111111111,
              "#46039f"
             ],
             [
              0.2222222222222222,
              "#7201a8"
             ],
             [
              0.3333333333333333,
              "#9c179e"
             ],
             [
              0.4444444444444444,
              "#bd3786"
             ],
             [
              0.5555555555555556,
              "#d8576b"
             ],
             [
              0.6666666666666666,
              "#ed7953"
             ],
             [
              0.7777777777777778,
              "#fb9f3a"
             ],
             [
              0.8888888888888888,
              "#fdca26"
             ],
             [
              1,
              "#f0f921"
             ]
            ],
            "type": "surface"
           }
          ],
          "table": [
           {
            "cells": {
             "fill": {
              "color": "#EBF0F8"
             },
             "line": {
              "color": "white"
             }
            },
            "header": {
             "fill": {
              "color": "#C8D4E3"
             },
             "line": {
              "color": "white"
             }
            },
            "type": "table"
           }
          ]
         },
         "layout": {
          "annotationdefaults": {
           "arrowcolor": "#2a3f5f",
           "arrowhead": 0,
           "arrowwidth": 1
          },
          "autotypenumbers": "strict",
          "coloraxis": {
           "colorbar": {
            "outlinewidth": 0,
            "ticks": ""
           }
          },
          "colorscale": {
           "diverging": [
            [
             0,
             "#8e0152"
            ],
            [
             0.1,
             "#c51b7d"
            ],
            [
             0.2,
             "#de77ae"
            ],
            [
             0.3,
             "#f1b6da"
            ],
            [
             0.4,
             "#fde0ef"
            ],
            [
             0.5,
             "#f7f7f7"
            ],
            [
             0.6,
             "#e6f5d0"
            ],
            [
             0.7,
             "#b8e186"
            ],
            [
             0.8,
             "#7fbc41"
            ],
            [
             0.9,
             "#4d9221"
            ],
            [
             1,
             "#276419"
            ]
           ],
           "sequential": [
            [
             0,
             "#0d0887"
            ],
            [
             0.1111111111111111,
             "#46039f"
            ],
            [
             0.2222222222222222,
             "#7201a8"
            ],
            [
             0.3333333333333333,
             "#9c179e"
            ],
            [
             0.4444444444444444,
             "#bd3786"
            ],
            [
             0.5555555555555556,
             "#d8576b"
            ],
            [
             0.6666666666666666,
             "#ed7953"
            ],
            [
             0.7777777777777778,
             "#fb9f3a"
            ],
            [
             0.8888888888888888,
             "#fdca26"
            ],
            [
             1,
             "#f0f921"
            ]
           ],
           "sequentialminus": [
            [
             0,
             "#0d0887"
            ],
            [
             0.1111111111111111,
             "#46039f"
            ],
            [
             0.2222222222222222,
             "#7201a8"
            ],
            [
             0.3333333333333333,
             "#9c179e"
            ],
            [
             0.4444444444444444,
             "#bd3786"
            ],
            [
             0.5555555555555556,
             "#d8576b"
            ],
            [
             0.6666666666666666,
             "#ed7953"
            ],
            [
             0.7777777777777778,
             "#fb9f3a"
            ],
            [
             0.8888888888888888,
             "#fdca26"
            ],
            [
             1,
             "#f0f921"
            ]
           ]
          },
          "colorway": [
           "#636efa",
           "#EF553B",
           "#00cc96",
           "#ab63fa",
           "#FFA15A",
           "#19d3f3",
           "#FF6692",
           "#B6E880",
           "#FF97FF",
           "#FECB52"
          ],
          "font": {
           "color": "#2a3f5f"
          },
          "geo": {
           "bgcolor": "white",
           "lakecolor": "white",
           "landcolor": "white",
           "showlakes": true,
           "showland": true,
           "subunitcolor": "#C8D4E3"
          },
          "hoverlabel": {
           "align": "left"
          },
          "hovermode": "closest",
          "mapbox": {
           "style": "light"
          },
          "paper_bgcolor": "white",
          "plot_bgcolor": "white",
          "polar": {
           "angularaxis": {
            "gridcolor": "#EBF0F8",
            "linecolor": "#EBF0F8",
            "ticks": ""
           },
           "bgcolor": "white",
           "radialaxis": {
            "gridcolor": "#EBF0F8",
            "linecolor": "#EBF0F8",
            "ticks": ""
           }
          },
          "scene": {
           "xaxis": {
            "backgroundcolor": "white",
            "gridcolor": "#DFE8F3",
            "gridwidth": 2,
            "linecolor": "#EBF0F8",
            "showbackground": true,
            "ticks": "",
            "zerolinecolor": "#EBF0F8"
           },
           "yaxis": {
            "backgroundcolor": "white",
            "gridcolor": "#DFE8F3",
            "gridwidth": 2,
            "linecolor": "#EBF0F8",
            "showbackground": true,
            "ticks": "",
            "zerolinecolor": "#EBF0F8"
           },
           "zaxis": {
            "backgroundcolor": "white",
            "gridcolor": "#DFE8F3",
            "gridwidth": 2,
            "linecolor": "#EBF0F8",
            "showbackground": true,
            "ticks": "",
            "zerolinecolor": "#EBF0F8"
           }
          },
          "shapedefaults": {
           "line": {
            "color": "#2a3f5f"
           }
          },
          "ternary": {
           "aaxis": {
            "gridcolor": "#DFE8F3",
            "linecolor": "#A2B1C6",
            "ticks": ""
           },
           "baxis": {
            "gridcolor": "#DFE8F3",
            "linecolor": "#A2B1C6",
            "ticks": ""
           },
           "bgcolor": "white",
           "caxis": {
            "gridcolor": "#DFE8F3",
            "linecolor": "#A2B1C6",
            "ticks": ""
           }
          },
          "title": {
           "x": 0.05
          },
          "xaxis": {
           "automargin": true,
           "gridcolor": "#EBF0F8",
           "linecolor": "#EBF0F8",
           "ticks": "",
           "title": {
            "standoff": 15
           },
           "zerolinecolor": "#EBF0F8",
           "zerolinewidth": 2
          },
          "yaxis": {
           "automargin": true,
           "gridcolor": "#EBF0F8",
           "linecolor": "#EBF0F8",
           "ticks": "",
           "title": {
            "standoff": 15
           },
           "zerolinecolor": "#EBF0F8",
           "zerolinewidth": 2
          }
         }
        },
        "title": {
         "font": {
          "color": "Black",
          "size": 22
         },
         "text": "<b>Term score decline per Topic</b>",
         "x": 0.5,
         "xanchor": "center",
         "y": 0.9,
         "yanchor": "top"
        },
        "width": 800,
        "xaxis": {
         "dtick": 2,
         "range": [
          0,
          10
         ],
         "tick0": 1,
         "title": {
          "text": "Term Rank"
         }
        },
        "yaxis": {
         "title": {
          "text": "c-TF-IDF score"
         }
        }
       }
      },
      "text/html": [
       "<div>                            <div id=\"2005ee0c-2cd3-4b6e-b449-bb9f7f7ae55f\" class=\"plotly-graph-div\" style=\"height:500px; width:800px;\"></div>            <script type=\"text/javascript\">                require([\"plotly\"], function(Plotly) {                    window.PLOTLYENV=window.PLOTLYENV || {};                                    if (document.getElementById(\"2005ee0c-2cd3-4b6e-b449-bb9f7f7ae55f\")) {                    Plotly.newPlot(                        \"2005ee0c-2cd3-4b6e-b449-bb9f7f7ae55f\",                        [{\"hovertext\":\"<b>Topic -1</b>:w\\u0119gla_jest_w\\u0119giel_od_inflacja_tak_\",\"line\":{\"color\":\"black\",\"width\":1.5},\"mode\":\"lines+lines\",\"name\":\"\",\"opacity\":0.1,\"x\":[1,2,3,4,5,6,7,8,9,10],\"y\":[0.018346557538090325,0.018250797457389736,0.01811975157988566,0.014833542178266835,0.013703298327860424,0.013503722595797563,0.013086443687726292,0.01299587445062171,0.012611465165461386,0.0122384953885686],\"type\":\"scatter\"},{\"hovertext\":\"<b>Topic 0</b>:w\\u0119gla_pis_jest_w\\u0119giel_dla_inflacja_\",\"line\":{\"color\":\"black\",\"width\":1.5},\"mode\":\"lines+lines\",\"name\":\"\",\"opacity\":0.1,\"x\":[1,2,3,4,5,6,7,8,9,10],\"y\":[0.019248160656274396,0.018057810036926053,0.016832226472532227,0.015731737297177046,0.015364439214188709,0.015285331316183445,0.015027468125025163,0.015020151262549417,0.013958075631508178,0.013681599394084906],\"type\":\"scatter\"},{\"hovertext\":\"<b>Topic 1</b>:zim\\u0119_zimy_w\\u0119gla_b\\u0119dzie_zim\\u0105_tej_w\\u0119g\",\"line\":{\"color\":\"black\",\"width\":1.5},\"mode\":\"lines+lines\",\"name\":\"\",\"opacity\":0.1,\"x\":[1,2,3,4,5,6,7,8,9,10],\"y\":[0.09498556742441493,0.0830499543877448,0.05027354371118152,0.04811332547569233,0.0455852193556046,0.03701984653516934,0.02823693696159698,0.026747538326449785,0.022772536108717337,0.022315990899399615],\"type\":\"scatter\"},{\"hovertext\":\"<b>Topic 2</b>:podatek_podatk\\u00f3w_podatki_inflacji_i\",\"line\":{\"color\":\"black\",\"width\":1.5},\"mode\":\"lines+lines\",\"name\":\"\",\"opacity\":0.1,\"x\":[1,2,3,4,5,6,7,8,9,10],\"y\":[0.11968116858467451,0.08595408472795882,0.07808933882577526,0.03623217502767412,0.0304080256736749,0.02645826521617926,0.0260958671301027,0.023819710961117086,0.023273069874113747,0.022097452533674216],\"type\":\"scatter\"},{\"hovertext\":\"<b>Topic 3</b>:turcji_80_inflacja_ekonomiczne_pa\\u017ad\",\"line\":{\"color\":\"black\",\"width\":1.5},\"mode\":\"lines+lines\",\"name\":\"\",\"opacity\":0.1,\"x\":[1,2,3,4,5,6,7,8,9,10],\"y\":[0.269991079197247,0.09490391626676777,0.07024539996459209,0.0531588891234142,0.04798307739570853,0.04451555794007047,0.04209589074459662,0.037148238835850306,0.0366366052335735,0.03596744917264199],\"type\":\"scatter\"},{\"hovertext\":\"<b>Topic 4</b>:bezrobocie_inflacj\\u0119_17_inflacji_joh\",\"line\":{\"color\":\"black\",\"width\":1.5},\"mode\":\"lines+lines\",\"name\":\"\",\"opacity\":0.1,\"x\":[1,2,3,4,5,6,7,8,9,10],\"y\":[0.29917987118552236,0.046031964170231074,0.045358466549278956,0.044820358046944175,0.044483685870187216,0.036029624160242656,0.03269900618718313,0.02604036081886165,0.025616418798326827,0.024850342473516307],\"type\":\"scatter\"},{\"hovertext\":\"<b>Topic 5</b>:ropy_opec_usa_naftowej_wydobycia_ro\",\"line\":{\"color\":\"black\",\"width\":1.5},\"mode\":\"lines+lines\",\"name\":\"\",\"opacity\":0.1,\"x\":[1,2,3,4,5,6,7,8,9,10],\"y\":[0.19306296683573834,0.12868774427296903,0.08922319366663749,0.065193107951588,0.05991075860022664,0.033997665735074005,0.03279960309545103,0.03184711854568388,0.03146565660733315,0.030180799762196613],\"type\":\"scatter\"},{\"hovertext\":\"<b>Topic 6</b>:obligacje_inflacji_inflacj\\u0105_kredyt_\",\"line\":{\"color\":\"black\",\"width\":1.5},\"mode\":\"lines+lines\",\"name\":\"\",\"opacity\":0.1,\"x\":[1,2,3,4,5,6,7,8,9,10],\"y\":[0.10980262149894167,0.03943611050217339,0.03722973603350623,0.03591106641634307,0.026188112365549677,0.024954316019764455,0.024127822108033006,0.023937298426628607,0.022819994883891873,0.022201081200919084],\"type\":\"scatter\"},{\"hovertext\":\"<b>Topic 7</b>:ma\\u0142e_mefistofelleess_mini_rafalhube\",\"line\":{\"color\":\"black\",\"width\":1.5},\"mode\":\"lines+lines\",\"name\":\"\",\"opacity\":0.1,\"x\":[1,2,3,4,5,6,7,8,9,10],\"y\":[0.06797883086682069,0.05863823791252559,0.056461311555124745,0.0390005124430129,0.03573367466187146,0.032156756053596275,0.03190456286934825,0.031662319022315935,0.03164140933232732,0.030816051422284052],\"type\":\"scatter\"},{\"hovertext\":\"<b>Topic 8</b>:tvp_info_tvp_inflacji_inflacja_infl\",\"line\":{\"color\":\"black\",\"width\":1.5},\"mode\":\"lines+lines\",\"name\":\"\",\"opacity\":0.1,\"x\":[1,2,3,4,5,6,7,8,9,10],\"y\":[0.25375045175572314,0.10081344041470701,0.06728772673617066,0.06032286167344291,0.03319163293249566,0.032719306771592745,0.031557731060279155,0.02888462369392501,0.025420559152225995,0.02493891741228192],\"type\":\"scatter\"},{\"hovertext\":\"<b>Topic 9</b>:podnie\\u015b\\u0107_ceny_cena_jeste\\u015bmy_slawomi\",\"line\":{\"color\":\"black\",\"width\":1.5},\"mode\":\"lines+lines\",\"name\":\"\",\"opacity\":0.1,\"x\":[1,2,3,4,5,6,7,8,9,10],\"y\":[0.03959552000922256,0.037768507750046,0.033624627413767115,0.03086927222791339,0.02951548378746391,0.02591594521008649,0.02445450850968299,0.02428304815996381,0.022669441432408226,0.022496913033644768],\"type\":\"scatter\"},{\"hovertext\":\"<b>Topic 10</b>:fishing_fever69_zabraknie_\\u017cywno\\u015b\\u0107_\",\"line\":{\"color\":\"black\",\"width\":1.5},\"mode\":\"lines+lines\",\"name\":\"\",\"opacity\":0.1,\"x\":[1,2,3,4,5,6,7,8,9,10],\"y\":[0.641973857481957,0.08143960118767239,0.0679519504755164,0.05826129947710786,0.05481855287763056,0.04593074052605901,0.043218556398512256,0.04307157091253811,0.040750774076491615,0.039495346879789464],\"type\":\"scatter\"},{\"hovertext\":\"<b>Topic 11</b>:turcji_gazu_europy_gaz_centrum_wsp\",\"line\":{\"color\":\"black\",\"width\":1.5},\"mode\":\"lines+lines\",\"name\":\"\",\"opacity\":0.1,\"x\":[1,2,3,4,5,6,7,8,9,10],\"y\":[0.23441982305681766,0.07765112000225698,0.057772519827515384,0.053526618357690126,0.052312676753871384,0.04875172271580389,0.04404245707326969,0.04034232324678721,0.03947818853707645,0.03586767729448432],\"type\":\"scatter\"},{\"hovertext\":\"<b>Topic 12</b>:kosmos_ceny_cena_teraz_ta_sa_xd_ze\",\"line\":{\"color\":\"black\",\"width\":1.5},\"mode\":\"lines+lines\",\"name\":\"\",\"opacity\":0.1,\"x\":[1,2,3,4,5,6,7,8,9,10],\"y\":[0.21262066400752966,0.09004308351900481,0.04847110339227161,0.026485642062135325,0.024369169465988088,0.0241394209177081,0.02394217580134504,0.021983205824181996,0.021867661957011685,0.02122853969152693],\"type\":\"scatter\"},{\"hovertext\":\"<b>Topic 13</b>:drewna_drewno_ceny_przeciwko_rosn\\u0105\",\"line\":{\"color\":\"black\",\"width\":1.5},\"mode\":\"lines+lines\",\"name\":\"\",\"opacity\":0.1,\"x\":[1,2,3,4,5,6,7,8,9,10],\"y\":[0.3060358579540767,0.14902998712382917,0.0808720020460989,0.05210461655137478,0.05137779854347105,0.049763504227186256,0.04449339305155066,0.03849012550463309,0.03687311818064656,0.030030379805686416],\"type\":\"scatter\"},{\"hovertext\":\"<b>Topic 14</b>:setki_galopuj\\u0105ca_socjal_ukrainy_wo\",\"line\":{\"color\":\"black\",\"width\":1.5},\"mode\":\"lines+lines\",\"name\":\"\",\"opacity\":0.1,\"x\":[1,2,3,4,5,6,7,8,9,10],\"y\":[0.0476384387128913,0.04713595469132402,0.04501400236204975,0.04395359358449276,0.042163041857028405,0.03485836583078557,0.033554235769613264,0.031776708134035804,0.031109397082044986,0.030705290769178283],\"type\":\"scatter\"},{\"hovertext\":\"<b>Topic 15</b>:chiny_chin_chinach_ropy_s\\u0105_od_zera\",\"line\":{\"color\":\"black\",\"width\":1.5},\"mode\":\"lines+lines\",\"name\":\"\",\"opacity\":0.1,\"x\":[1,2,3,4,5,6,7,8,9,10],\"y\":[0.2086192943855255,0.1077529868424322,0.1009634910225453,0.05902358357259836,0.033889134149119926,0.030641501007466338,0.02704686917369844,0.025240872755636325,0.024482449704055727,0.02386845640699249],\"type\":\"scatter\"},{\"hovertext\":\"<b>Topic 16</b>:cukru_cukier_cena_50_wzros\\u0142a_wsz\\u0119d\",\"line\":{\"color\":\"black\",\"width\":1.5},\"mode\":\"lines+lines\",\"name\":\"\",\"opacity\":0.1,\"x\":[1,2,3,4,5,6,7,8,9,10],\"y\":[0.20559857251144723,0.11161806618588392,0.0795814964004918,0.06308533456867932,0.052549928916111335,0.042641726966013406,0.04125649645343354,0.0407094749596719,0.03343651567094038,0.031619654659917465],\"type\":\"scatter\"},{\"hovertext\":\"<b>Topic 17</b>:dzieci_kobiety_w\\u0119glowy_inflacja_br\",\"line\":{\"color\":\"black\",\"width\":1.5},\"mode\":\"lines+lines\",\"name\":\"\",\"opacity\":0.1,\"x\":[1,2,3,4,5,6,7,8,9,10],\"y\":[0.0620148971504549,0.03994672384077791,0.03444311820397465,0.0302442481565815,0.027636101052496413,0.02747961179596213,0.02612862301877162,0.024669142689076454,0.02363741523277431,0.023294225241402622],\"type\":\"scatter\"},{\"hovertext\":\"<b>Topic 18</b>:ceny_cen_cena_telewizja_tanich_os\\u00f3\",\"line\":{\"color\":\"black\",\"width\":1.5},\"mode\":\"lines+lines\",\"name\":\"\",\"opacity\":0.1,\"x\":[1,2,3,4,5,6,7,8,9,10],\"y\":[0.06749304966678893,0.05522826560895051,0.04339678475589318,0.04175831555134933,0.04076551247362087,0.040750059582170414,0.040408812810813696,0.03990935643578563,0.038002651660825934,0.03643150179051015],\"type\":\"scatter\"},{\"hovertext\":\"<b>Topic 19</b>:mas\\u0142a_albo_cena_sklepie_miroka3004\",\"line\":{\"color\":\"black\",\"width\":1.5},\"mode\":\"lines+lines\",\"name\":\"\",\"opacity\":0.1,\"x\":[1,2,3,4,5,6,7,8,9,10],\"y\":[0.30347115702893007,0.10777623094582836,0.08845204536233005,0.08577250118470552,0.08325337937210825,0.07633271816697638,0.07287731968930512,0.06840730951177153,0.06742713337269499,0.0662595846538188],\"type\":\"scatter\"},{\"hovertext\":\"<b>Topic 20</b>:ropy_rop\\u0119_kraje_rosja_chin_cen\\u0119_sp\",\"line\":{\"color\":\"black\",\"width\":1.5},\"mode\":\"lines+lines\",\"name\":\"\",\"opacity\":0.1,\"x\":[1,2,3,4,5,6,7,8,9,10],\"y\":[0.2043017216728273,0.10763379334256802,0.10349487697329791,0.08843756617751444,0.06469915605571973,0.06336963244368501,0.06120509633543691,0.058864982206949405,0.058864982206949405,0.058678660117376234],\"type\":\"scatter\"},{\"hovertext\":\"<b>Topic 21</b>:piechocinski_cena_ceny_rynek_kg_ty\",\"line\":{\"color\":\"black\",\"width\":1.5},\"mode\":\"lines+lines\",\"name\":\"\",\"opacity\":0.1,\"x\":[1,2,3,4,5,6,7,8,9,10],\"y\":[0.06803133840988258,0.06353977635839977,0.05978032078039034,0.05534594589607829,0.049833497377188014,0.045452107986670674,0.03947450952024348,0.03584774744760661,0.03435715928149953,0.03426174158955148],\"type\":\"scatter\"},{\"hovertext\":\"<b>Topic 22</b>:recesji_recesj\\u0119_kwarta\\u0142\\u00f3w_bud\\u017cetow\",\"line\":{\"color\":\"black\",\"width\":1.5},\"mode\":\"lines+lines\",\"name\":\"\",\"opacity\":0.1,\"x\":[1,2,3,4,5,6,7,8,9,10],\"y\":[0.13011886069773854,0.09063240973283954,0.06710484500214556,0.061436472453633734,0.05821201827410384,0.05582886704093046,0.05529027275334145,0.05017232403791469,0.04640570816239248,0.045092877077937826],\"type\":\"scatter\"},{\"hovertext\":\"<b>Topic 23</b>:w\\u0119glowy_\\u015bladu_jaki_w\\u0119glowego_szczy\",\"line\":{\"color\":\"black\",\"width\":1.5},\"mode\":\"lines+lines\",\"name\":\"\",\"opacity\":0.1,\"x\":[1,2,3,4,5,6,7,8,9,10],\"y\":[0.29067904302445274,0.18569293935467154,0.17368015641395443,0.14896408870834518,0.12899270566720855,0.12783330828653783,0.07440942356388514,0.07145808008787051,0.07097485643662499,0.06352016407513993],\"type\":\"scatter\"},{\"hovertext\":\"<b>Topic 24</b>:glapi\\u0144ski_spadnie_inflacja_wakacje\",\"line\":{\"color\":\"black\",\"width\":1.5},\"mode\":\"lines+lines\",\"name\":\"\",\"opacity\":0.1,\"x\":[1,2,3,4,5,6,7,8,9,10],\"y\":[0.28109519211792056,0.1414613356300403,0.11413310449333262,0.10769901203478047,0.07283009123505596,0.07250546622886618,0.06651114340723548,0.06526393519369342,0.0636162245572587,0.06144576916534987],\"type\":\"scatter\"},{\"hovertext\":\"<b>Topic 25</b>:ceny_gus_zdro\\u017ca\\u0142o_\\u015brednia_rosn\\u0105_50\",\"line\":{\"color\":\"black\",\"width\":1.5},\"mode\":\"lines+lines\",\"name\":\"\",\"opacity\":0.1,\"x\":[1,2,3,4,5,6,7,8,9,10],\"y\":[0.08862723693618747,0.06698000608691754,0.06200689134718968,0.051780291991997955,0.048233031432210034,0.04811359651326285,0.04486547786413658,0.04406479049564698,0.0422068855405903,0.040963237965356364],\"type\":\"scatter\"},{\"hovertext\":\"<b>Topic 26</b>:inflacja_poprzednio_proc_wynosi_pr\",\"line\":{\"color\":\"black\",\"width\":1.5},\"mode\":\"lines+lines\",\"name\":\"\",\"opacity\":0.1,\"x\":[1,2,3,4,5,6,7,8,9,10],\"y\":[0.11230697482143931,0.10261616721487862,0.10089498702978632,0.0988810973533866,0.0941676309074471,0.09095794394897633,0.08783762370050868,0.06454758818989889,0.06286010544882668,0.06145860309334045],\"type\":\"scatter\"},{\"hovertext\":\"<b>Topic 27</b>:pr\\u0105d_mia\\u0142_jaka_mi\\u0119dzy_ko\\u0144ca_w\\u0119giel\",\"line\":{\"color\":\"black\",\"width\":1.5},\"mode\":\"lines+lines\",\"name\":\"\",\"opacity\":0.1,\"x\":[1,2,3,4,5,6,7,8,9,10],\"y\":[0.26664083969000285,0.23815320276995502,0.238024574835092,0.21887382437355943,0.13565553206221795,0.11044115344231033,0.10559534961459313,0.1036200167287745,0.10164020949070883,0.0741605384040457],\"type\":\"scatter\"},{\"hovertext\":\"<b>Topic 28</b>:koszty_ceny_no_stosuje_razy_oczywi\",\"line\":{\"color\":\"black\",\"width\":1.5},\"mode\":\"lines+lines\",\"name\":\"\",\"opacity\":0.1,\"x\":[1,2,3,4,5,6,7,8,9,10],\"y\":[0.7826369976559284,0.25409148109849944,0.08632562902151918,0.08420916177506499,0.08041364978622424,0.07542857986793745,0.06968138828909261,0.06544213288033321,0.06260021779607552,0.06056382408618854],\"type\":\"scatter\"},{\"hovertext\":\"<b>Topic 29</b>:powodem_20_ludzi_energii_ceny_____\",\"line\":{\"color\":\"black\",\"width\":1.5},\"mode\":\"lines+lines\",\"name\":\"\",\"opacity\":0.1,\"x\":[1,2,3,4,5,6,7,8,9,10],\"y\":[1.0546774661634077,0.5119935557923876,0.49607088800932386,0.31735857308989196,0.2399752877041384,1e-05,1e-05,1e-05,1e-05,1e-05],\"type\":\"scatter\"},{\"hovertext\":\"<b>Topic 30</b>:najwi\\u0119ksz\\u0105_podwy\\u017ck\\u0119_temu_znacznie_\",\"line\":{\"color\":\"black\",\"width\":1.5},\"mode\":\"lines+lines\",\"name\":\"\",\"opacity\":0.1,\"x\":[1,2,3,4,5,6,7,8,9,10],\"y\":[0.07610970573105053,0.06687222908340641,0.06680523285389098,0.05965005122330376,0.05514409325970952,0.054876603148996096,0.049815842150684145,0.04935175555747207,0.048643639399487515,0.046438181292811236],\"type\":\"scatter\"},{\"hovertext\":\"<b>Topic 31</b>:coolfonpl_robi_inflacja_pieni\\u0105dza_\",\"line\":{\"color\":\"black\",\"width\":1.5},\"mode\":\"lines+lines\",\"name\":\"\",\"opacity\":0.1,\"x\":[1,2,3,4,5,6,7,8,9,10],\"y\":[1.0913078413003074,0.9664074976869085,0.32087707091839796,0.08302399885284865,0.06822098754546439,0.05698130851299223,0.053163225834422616,0.043805951561494125,0.04287817070667296,0.01654959624931283],\"type\":\"scatter\"},{\"hovertext\":\"<b>Topic 32</b>:cena_latach_nowego_30_koszt_lkwarz\",\"line\":{\"color\":\"black\",\"width\":1.5},\"mode\":\"lines+lines\",\"name\":\"\",\"opacity\":0.1,\"x\":[1,2,3,4,5,6,7,8,9,10],\"y\":[0.06774132254578448,0.05379643432954452,0.04562757243799538,0.04550111691455514,0.03954747489907089,0.038112002405085964,0.037781557221025955,0.035490123177578485,0.03331501218496641,0.03328218632096399],\"type\":\"scatter\"},{\"hovertext\":\"<b>Topic 33</b>:groszy_ceny_kg_skupu_ta\\u0144sze_35_p\\u0142a\",\"line\":{\"color\":\"black\",\"width\":1.5},\"mode\":\"lines+lines\",\"name\":\"\",\"opacity\":0.1,\"x\":[1,2,3,4,5,6,7,8,9,10],\"y\":[0.20049775956678728,0.10358645512408851,0.1007425378632362,0.09187765510396691,0.08086597376232178,0.07036164435068812,0.06597630608454078,0.060255218504121,0.05501239163504174,0.04885763183924585],\"type\":\"scatter\"},{\"hovertext\":\"<b>Topic 34</b>:czy_ju\\u017c_w\\u0119giel_jest_weekend_czekam\",\"line\":{\"color\":\"black\",\"width\":1.5},\"mode\":\"lines+lines\",\"name\":\"\",\"opacity\":0.1,\"x\":[1,2,3,4,5,6,7,8,9,10],\"y\":[0.32298170275717364,0.295203501995813,0.17267972988053537,0.15594811850314017,0.12380873666603626,0.10077882237549161,0.08384214009269167,0.07687458439492902,0.07524427269724747,0.07516441827327844],\"type\":\"scatter\"}],                        {\"template\":{\"data\":{\"barpolar\":[{\"marker\":{\"line\":{\"color\":\"white\",\"width\":0.5},\"pattern\":{\"fillmode\":\"overlay\",\"size\":10,\"solidity\":0.2}},\"type\":\"barpolar\"}],\"bar\":[{\"error_x\":{\"color\":\"#2a3f5f\"},\"error_y\":{\"color\":\"#2a3f5f\"},\"marker\":{\"line\":{\"color\":\"white\",\"width\":0.5},\"pattern\":{\"fillmode\":\"overlay\",\"size\":10,\"solidity\":0.2}},\"type\":\"bar\"}],\"carpet\":[{\"aaxis\":{\"endlinecolor\":\"#2a3f5f\",\"gridcolor\":\"#C8D4E3\",\"linecolor\":\"#C8D4E3\",\"minorgridcolor\":\"#C8D4E3\",\"startlinecolor\":\"#2a3f5f\"},\"baxis\":{\"endlinecolor\":\"#2a3f5f\",\"gridcolor\":\"#C8D4E3\",\"linecolor\":\"#C8D4E3\",\"minorgridcolor\":\"#C8D4E3\",\"startlinecolor\":\"#2a3f5f\"},\"type\":\"carpet\"}],\"choropleth\":[{\"colorbar\":{\"outlinewidth\":0,\"ticks\":\"\"},\"type\":\"choropleth\"}],\"contourcarpet\":[{\"colorbar\":{\"outlinewidth\":0,\"ticks\":\"\"},\"type\":\"contourcarpet\"}],\"contour\":[{\"colorbar\":{\"outlinewidth\":0,\"ticks\":\"\"},\"colorscale\":[[0.0,\"#0d0887\"],[0.1111111111111111,\"#46039f\"],[0.2222222222222222,\"#7201a8\"],[0.3333333333333333,\"#9c179e\"],[0.4444444444444444,\"#bd3786\"],[0.5555555555555556,\"#d8576b\"],[0.6666666666666666,\"#ed7953\"],[0.7777777777777778,\"#fb9f3a\"],[0.8888888888888888,\"#fdca26\"],[1.0,\"#f0f921\"]],\"type\":\"contour\"}],\"heatmapgl\":[{\"colorbar\":{\"outlinewidth\":0,\"ticks\":\"\"},\"colorscale\":[[0.0,\"#0d0887\"],[0.1111111111111111,\"#46039f\"],[0.2222222222222222,\"#7201a8\"],[0.3333333333333333,\"#9c179e\"],[0.4444444444444444,\"#bd3786\"],[0.5555555555555556,\"#d8576b\"],[0.6666666666666666,\"#ed7953\"],[0.7777777777777778,\"#fb9f3a\"],[0.8888888888888888,\"#fdca26\"],[1.0,\"#f0f921\"]],\"type\":\"heatmapgl\"}],\"heatmap\":[{\"colorbar\":{\"outlinewidth\":0,\"ticks\":\"\"},\"colorscale\":[[0.0,\"#0d0887\"],[0.1111111111111111,\"#46039f\"],[0.2222222222222222,\"#7201a8\"],[0.3333333333333333,\"#9c179e\"],[0.4444444444444444,\"#bd3786\"],[0.5555555555555556,\"#d8576b\"],[0.6666666666666666,\"#ed7953\"],[0.7777777777777778,\"#fb9f3a\"],[0.8888888888888888,\"#fdca26\"],[1.0,\"#f0f921\"]],\"type\":\"heatmap\"}],\"histogram2dcontour\":[{\"colorbar\":{\"outlinewidth\":0,\"ticks\":\"\"},\"colorscale\":[[0.0,\"#0d0887\"],[0.1111111111111111,\"#46039f\"],[0.2222222222222222,\"#7201a8\"],[0.3333333333333333,\"#9c179e\"],[0.4444444444444444,\"#bd3786\"],[0.5555555555555556,\"#d8576b\"],[0.6666666666666666,\"#ed7953\"],[0.7777777777777778,\"#fb9f3a\"],[0.8888888888888888,\"#fdca26\"],[1.0,\"#f0f921\"]],\"type\":\"histogram2dcontour\"}],\"histogram2d\":[{\"colorbar\":{\"outlinewidth\":0,\"ticks\":\"\"},\"colorscale\":[[0.0,\"#0d0887\"],[0.1111111111111111,\"#46039f\"],[0.2222222222222222,\"#7201a8\"],[0.3333333333333333,\"#9c179e\"],[0.4444444444444444,\"#bd3786\"],[0.5555555555555556,\"#d8576b\"],[0.6666666666666666,\"#ed7953\"],[0.7777777777777778,\"#fb9f3a\"],[0.8888888888888888,\"#fdca26\"],[1.0,\"#f0f921\"]],\"type\":\"histogram2d\"}],\"histogram\":[{\"marker\":{\"pattern\":{\"fillmode\":\"overlay\",\"size\":10,\"solidity\":0.2}},\"type\":\"histogram\"}],\"mesh3d\":[{\"colorbar\":{\"outlinewidth\":0,\"ticks\":\"\"},\"type\":\"mesh3d\"}],\"parcoords\":[{\"line\":{\"colorbar\":{\"outlinewidth\":0,\"ticks\":\"\"}},\"type\":\"parcoords\"}],\"pie\":[{\"automargin\":true,\"type\":\"pie\"}],\"scatter3d\":[{\"line\":{\"colorbar\":{\"outlinewidth\":0,\"ticks\":\"\"}},\"marker\":{\"colorbar\":{\"outlinewidth\":0,\"ticks\":\"\"}},\"type\":\"scatter3d\"}],\"scattercarpet\":[{\"marker\":{\"colorbar\":{\"outlinewidth\":0,\"ticks\":\"\"}},\"type\":\"scattercarpet\"}],\"scattergeo\":[{\"marker\":{\"colorbar\":{\"outlinewidth\":0,\"ticks\":\"\"}},\"type\":\"scattergeo\"}],\"scattergl\":[{\"marker\":{\"colorbar\":{\"outlinewidth\":0,\"ticks\":\"\"}},\"type\":\"scattergl\"}],\"scattermapbox\":[{\"marker\":{\"colorbar\":{\"outlinewidth\":0,\"ticks\":\"\"}},\"type\":\"scattermapbox\"}],\"scatterpolargl\":[{\"marker\":{\"colorbar\":{\"outlinewidth\":0,\"ticks\":\"\"}},\"type\":\"scatterpolargl\"}],\"scatterpolar\":[{\"marker\":{\"colorbar\":{\"outlinewidth\":0,\"ticks\":\"\"}},\"type\":\"scatterpolar\"}],\"scatter\":[{\"fillpattern\":{\"fillmode\":\"overlay\",\"size\":10,\"solidity\":0.2},\"type\":\"scatter\"}],\"scatterternary\":[{\"marker\":{\"colorbar\":{\"outlinewidth\":0,\"ticks\":\"\"}},\"type\":\"scatterternary\"}],\"surface\":[{\"colorbar\":{\"outlinewidth\":0,\"ticks\":\"\"},\"colorscale\":[[0.0,\"#0d0887\"],[0.1111111111111111,\"#46039f\"],[0.2222222222222222,\"#7201a8\"],[0.3333333333333333,\"#9c179e\"],[0.4444444444444444,\"#bd3786\"],[0.5555555555555556,\"#d8576b\"],[0.6666666666666666,\"#ed7953\"],[0.7777777777777778,\"#fb9f3a\"],[0.8888888888888888,\"#fdca26\"],[1.0,\"#f0f921\"]],\"type\":\"surface\"}],\"table\":[{\"cells\":{\"fill\":{\"color\":\"#EBF0F8\"},\"line\":{\"color\":\"white\"}},\"header\":{\"fill\":{\"color\":\"#C8D4E3\"},\"line\":{\"color\":\"white\"}},\"type\":\"table\"}]},\"layout\":{\"annotationdefaults\":{\"arrowcolor\":\"#2a3f5f\",\"arrowhead\":0,\"arrowwidth\":1},\"autotypenumbers\":\"strict\",\"coloraxis\":{\"colorbar\":{\"outlinewidth\":0,\"ticks\":\"\"}},\"colorscale\":{\"diverging\":[[0,\"#8e0152\"],[0.1,\"#c51b7d\"],[0.2,\"#de77ae\"],[0.3,\"#f1b6da\"],[0.4,\"#fde0ef\"],[0.5,\"#f7f7f7\"],[0.6,\"#e6f5d0\"],[0.7,\"#b8e186\"],[0.8,\"#7fbc41\"],[0.9,\"#4d9221\"],[1,\"#276419\"]],\"sequential\":[[0.0,\"#0d0887\"],[0.1111111111111111,\"#46039f\"],[0.2222222222222222,\"#7201a8\"],[0.3333333333333333,\"#9c179e\"],[0.4444444444444444,\"#bd3786\"],[0.5555555555555556,\"#d8576b\"],[0.6666666666666666,\"#ed7953\"],[0.7777777777777778,\"#fb9f3a\"],[0.8888888888888888,\"#fdca26\"],[1.0,\"#f0f921\"]],\"sequentialminus\":[[0.0,\"#0d0887\"],[0.1111111111111111,\"#46039f\"],[0.2222222222222222,\"#7201a8\"],[0.3333333333333333,\"#9c179e\"],[0.4444444444444444,\"#bd3786\"],[0.5555555555555556,\"#d8576b\"],[0.6666666666666666,\"#ed7953\"],[0.7777777777777778,\"#fb9f3a\"],[0.8888888888888888,\"#fdca26\"],[1.0,\"#f0f921\"]]},\"colorway\":[\"#636efa\",\"#EF553B\",\"#00cc96\",\"#ab63fa\",\"#FFA15A\",\"#19d3f3\",\"#FF6692\",\"#B6E880\",\"#FF97FF\",\"#FECB52\"],\"font\":{\"color\":\"#2a3f5f\"},\"geo\":{\"bgcolor\":\"white\",\"lakecolor\":\"white\",\"landcolor\":\"white\",\"showlakes\":true,\"showland\":true,\"subunitcolor\":\"#C8D4E3\"},\"hoverlabel\":{\"align\":\"left\"},\"hovermode\":\"closest\",\"mapbox\":{\"style\":\"light\"},\"paper_bgcolor\":\"white\",\"plot_bgcolor\":\"white\",\"polar\":{\"angularaxis\":{\"gridcolor\":\"#EBF0F8\",\"linecolor\":\"#EBF0F8\",\"ticks\":\"\"},\"bgcolor\":\"white\",\"radialaxis\":{\"gridcolor\":\"#EBF0F8\",\"linecolor\":\"#EBF0F8\",\"ticks\":\"\"}},\"scene\":{\"xaxis\":{\"backgroundcolor\":\"white\",\"gridcolor\":\"#DFE8F3\",\"gridwidth\":2,\"linecolor\":\"#EBF0F8\",\"showbackground\":true,\"ticks\":\"\",\"zerolinecolor\":\"#EBF0F8\"},\"yaxis\":{\"backgroundcolor\":\"white\",\"gridcolor\":\"#DFE8F3\",\"gridwidth\":2,\"linecolor\":\"#EBF0F8\",\"showbackground\":true,\"ticks\":\"\",\"zerolinecolor\":\"#EBF0F8\"},\"zaxis\":{\"backgroundcolor\":\"white\",\"gridcolor\":\"#DFE8F3\",\"gridwidth\":2,\"linecolor\":\"#EBF0F8\",\"showbackground\":true,\"ticks\":\"\",\"zerolinecolor\":\"#EBF0F8\"}},\"shapedefaults\":{\"line\":{\"color\":\"#2a3f5f\"}},\"ternary\":{\"aaxis\":{\"gridcolor\":\"#DFE8F3\",\"linecolor\":\"#A2B1C6\",\"ticks\":\"\"},\"baxis\":{\"gridcolor\":\"#DFE8F3\",\"linecolor\":\"#A2B1C6\",\"ticks\":\"\"},\"bgcolor\":\"white\",\"caxis\":{\"gridcolor\":\"#DFE8F3\",\"linecolor\":\"#A2B1C6\",\"ticks\":\"\"}},\"title\":{\"x\":0.05},\"xaxis\":{\"automargin\":true,\"gridcolor\":\"#EBF0F8\",\"linecolor\":\"#EBF0F8\",\"ticks\":\"\",\"title\":{\"standoff\":15},\"zerolinecolor\":\"#EBF0F8\",\"zerolinewidth\":2},\"yaxis\":{\"automargin\":true,\"gridcolor\":\"#EBF0F8\",\"linecolor\":\"#EBF0F8\",\"ticks\":\"\",\"title\":{\"standoff\":15},\"zerolinecolor\":\"#EBF0F8\",\"zerolinewidth\":2}}},\"xaxis\":{\"range\":[0,10],\"tick0\":1,\"dtick\":2,\"title\":{\"text\":\"Term Rank\"}},\"title\":{\"font\":{\"size\":22,\"color\":\"Black\"},\"text\":\"<b>Term score decline per Topic</b>\",\"y\":0.9,\"x\":0.5,\"xanchor\":\"center\",\"yanchor\":\"top\"},\"hoverlabel\":{\"font\":{\"size\":16,\"family\":\"Rockwell\"},\"bgcolor\":\"white\"},\"showlegend\":false,\"width\":800,\"height\":500,\"yaxis\":{\"title\":{\"text\":\"c-TF-IDF score\"}}},                        {\"responsive\": true}                    ).then(function(){\n",
       "                            \n",
       "var gd = document.getElementById('2005ee0c-2cd3-4b6e-b449-bb9f7f7ae55f');\n",
       "var x = new MutationObserver(function (mutations, observer) {{\n",
       "        var display = window.getComputedStyle(gd).display;\n",
       "        if (!display || display === 'none') {{\n",
       "            console.log([gd, 'removed!']);\n",
       "            Plotly.purge(gd);\n",
       "            observer.disconnect();\n",
       "        }}\n",
       "}});\n",
       "\n",
       "// Listen for the removal of the full notebook cells\n",
       "var notebookContainer = gd.closest('#notebook-container');\n",
       "if (notebookContainer) {{\n",
       "    x.observe(notebookContainer, {childList: true});\n",
       "}}\n",
       "\n",
       "// Listen for the clearing of the current output cell\n",
       "var outputEl = gd.closest('.output');\n",
       "if (outputEl) {{\n",
       "    x.observe(outputEl, {childList: true});\n",
       "}}\n",
       "\n",
       "                        })                };                });            </script>        </div>"
      ]
     },
     "metadata": {},
     "output_type": "display_data"
    }
   ],
   "source": [
    "model.visualize_term_rank()\n",
    "# Each topic is represented by a set of words. These words, however,\n",
    "#     do not all equally represent the topic. This visualization shows\n",
    "#     how many words are needed to represent a topic and at which point\n",
    "#     the beneficial effect of adding words starts to decline."
   ]
  },
  {
   "cell_type": "code",
   "execution_count": null,
   "metadata": {},
   "outputs": [],
   "source": []
  }
 ],
 "metadata": {
  "kernelspec": {
   "display_name": "tweets-analysis",
   "language": "python",
   "name": "tweets-analysis"
  },
  "language_info": {
   "codemirror_mode": {
    "name": "ipython",
    "version": 3
   },
   "file_extension": ".py",
   "mimetype": "text/x-python",
   "name": "python",
   "nbconvert_exporter": "python",
   "pygments_lexer": "ipython3",
   "version": "3.10.9"
  }
 },
 "nbformat": 4,
 "nbformat_minor": 4
}
